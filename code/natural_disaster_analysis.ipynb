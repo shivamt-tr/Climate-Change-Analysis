{
 "cells": [
  {
   "cell_type": "markdown",
   "id": "34d246ba",
   "metadata": {},
   "source": [
    "# Analysis of Natural Disasters and Affects Due to Climate Change"
   ]
  },
  {
   "cell_type": "markdown",
   "id": "2874988f",
   "metadata": {},
   "source": [
    "## Importing the necessary libraries"
   ]
  },
  {
   "cell_type": "code",
   "execution_count": 4,
   "id": "e4da41a5",
   "metadata": {},
   "outputs": [],
   "source": [
    "import pandas as pd\n",
    "import plotly.graph_objects as go\n",
    "import plotly.express as px\n",
    "import matplotlib.pyplot as plt\n",
    "import seaborn as sns\n",
    "from plotly.graph_objs import *\n",
    "import plotly.graph_objects as go"
   ]
  },
  {
   "cell_type": "markdown",
   "metadata": {},
   "source": [
    "## Load data"
   ]
  },
  {
   "cell_type": "code",
   "execution_count": 5,
   "metadata": {},
   "outputs": [
    {
     "data": {
      "text/html": [
       "<div>\n",
       "<style scoped>\n",
       "    .dataframe tbody tr th:only-of-type {\n",
       "        vertical-align: middle;\n",
       "    }\n",
       "\n",
       "    .dataframe tbody tr th {\n",
       "        vertical-align: top;\n",
       "    }\n",
       "\n",
       "    .dataframe thead th {\n",
       "        text-align: right;\n",
       "    }\n",
       "</style>\n",
       "<table border=\"1\" class=\"dataframe\">\n",
       "  <thead>\n",
       "    <tr style=\"text-align: right;\">\n",
       "      <th></th>\n",
       "      <th>Country Name</th>\n",
       "      <th>Country Code</th>\n",
       "      <th>Indicator Name</th>\n",
       "      <th>Indicator Code</th>\n",
       "      <th>1960</th>\n",
       "      <th>1961</th>\n",
       "      <th>1962</th>\n",
       "      <th>1963</th>\n",
       "      <th>1964</th>\n",
       "      <th>1965</th>\n",
       "      <th>...</th>\n",
       "      <th>2011</th>\n",
       "      <th>2012</th>\n",
       "      <th>2013</th>\n",
       "      <th>2014</th>\n",
       "      <th>2015</th>\n",
       "      <th>2016</th>\n",
       "      <th>2017</th>\n",
       "      <th>2018</th>\n",
       "      <th>2019</th>\n",
       "      <th>2020</th>\n",
       "    </tr>\n",
       "  </thead>\n",
       "  <tbody>\n",
       "    <tr>\n",
       "      <th>0</th>\n",
       "      <td>Aruba</td>\n",
       "      <td>ABW</td>\n",
       "      <td>Population, total</td>\n",
       "      <td>SP.POP.TOTL</td>\n",
       "      <td>54208</td>\n",
       "      <td>55434</td>\n",
       "      <td>56234</td>\n",
       "      <td>56699</td>\n",
       "      <td>57029</td>\n",
       "      <td>57357</td>\n",
       "      <td>...</td>\n",
       "      <td>102050</td>\n",
       "      <td>102565</td>\n",
       "      <td>103165</td>\n",
       "      <td>103776</td>\n",
       "      <td>104339</td>\n",
       "      <td>104865</td>\n",
       "      <td>105361</td>\n",
       "      <td>105846</td>\n",
       "      <td>106310</td>\n",
       "      <td>106766</td>\n",
       "    </tr>\n",
       "    <tr>\n",
       "      <th>1</th>\n",
       "      <td>Africa Eastern and Southern</td>\n",
       "      <td>AFE</td>\n",
       "      <td>Population, total</td>\n",
       "      <td>SP.POP.TOTL</td>\n",
       "      <td>130836765</td>\n",
       "      <td>134159786</td>\n",
       "      <td>137614644</td>\n",
       "      <td>141202036</td>\n",
       "      <td>144920186</td>\n",
       "      <td>148769974</td>\n",
       "      <td>...</td>\n",
       "      <td>532760424</td>\n",
       "      <td>547482863</td>\n",
       "      <td>562601578</td>\n",
       "      <td>578075373</td>\n",
       "      <td>593871847</td>\n",
       "      <td>609978946</td>\n",
       "      <td>626392880</td>\n",
       "      <td>643090131</td>\n",
       "      <td>660046272</td>\n",
       "      <td>677243299</td>\n",
       "    </tr>\n",
       "    <tr>\n",
       "      <th>2</th>\n",
       "      <td>Afghanistan</td>\n",
       "      <td>AFG</td>\n",
       "      <td>Population, total</td>\n",
       "      <td>SP.POP.TOTL</td>\n",
       "      <td>8996967</td>\n",
       "      <td>9169406</td>\n",
       "      <td>9351442</td>\n",
       "      <td>9543200</td>\n",
       "      <td>9744772</td>\n",
       "      <td>9956318</td>\n",
       "      <td>...</td>\n",
       "      <td>30117411</td>\n",
       "      <td>31161378</td>\n",
       "      <td>32269592</td>\n",
       "      <td>33370804</td>\n",
       "      <td>34413603</td>\n",
       "      <td>35383028</td>\n",
       "      <td>36296111</td>\n",
       "      <td>37171922</td>\n",
       "      <td>38041757</td>\n",
       "      <td>38928341</td>\n",
       "    </tr>\n",
       "    <tr>\n",
       "      <th>3</th>\n",
       "      <td>Africa Western and Central</td>\n",
       "      <td>AFW</td>\n",
       "      <td>Population, total</td>\n",
       "      <td>SP.POP.TOTL</td>\n",
       "      <td>96396419</td>\n",
       "      <td>98407221</td>\n",
       "      <td>100506960</td>\n",
       "      <td>102691339</td>\n",
       "      <td>104953470</td>\n",
       "      <td>107289875</td>\n",
       "      <td>...</td>\n",
       "      <td>360285439</td>\n",
       "      <td>370243017</td>\n",
       "      <td>380437896</td>\n",
       "      <td>390882979</td>\n",
       "      <td>401586651</td>\n",
       "      <td>412551299</td>\n",
       "      <td>423769930</td>\n",
       "      <td>435229381</td>\n",
       "      <td>446911598</td>\n",
       "      <td>458803476</td>\n",
       "    </tr>\n",
       "    <tr>\n",
       "      <th>4</th>\n",
       "      <td>Angola</td>\n",
       "      <td>AGO</td>\n",
       "      <td>Population, total</td>\n",
       "      <td>SP.POP.TOTL</td>\n",
       "      <td>5454938</td>\n",
       "      <td>5531451</td>\n",
       "      <td>5608499</td>\n",
       "      <td>5679409</td>\n",
       "      <td>5734995</td>\n",
       "      <td>5770573</td>\n",
       "      <td>...</td>\n",
       "      <td>24220660</td>\n",
       "      <td>25107925</td>\n",
       "      <td>26015786</td>\n",
       "      <td>26941773</td>\n",
       "      <td>27884380</td>\n",
       "      <td>28842482</td>\n",
       "      <td>29816769</td>\n",
       "      <td>30809787</td>\n",
       "      <td>31825299</td>\n",
       "      <td>32866268</td>\n",
       "    </tr>\n",
       "  </tbody>\n",
       "</table>\n",
       "<p>5 rows × 65 columns</p>\n",
       "</div>"
      ],
      "text/plain": [
       "                  Country Name Country Code     Indicator Name Indicator Code  \\\n",
       "0                        Aruba          ABW  Population, total    SP.POP.TOTL   \n",
       "1  Africa Eastern and Southern          AFE  Population, total    SP.POP.TOTL   \n",
       "2                  Afghanistan          AFG  Population, total    SP.POP.TOTL   \n",
       "3   Africa Western and Central          AFW  Population, total    SP.POP.TOTL   \n",
       "4                       Angola          AGO  Population, total    SP.POP.TOTL   \n",
       "\n",
       "        1960       1961       1962       1963       1964       1965  ...  \\\n",
       "0      54208      55434      56234      56699      57029      57357  ...   \n",
       "1  130836765  134159786  137614644  141202036  144920186  148769974  ...   \n",
       "2    8996967    9169406    9351442    9543200    9744772    9956318  ...   \n",
       "3   96396419   98407221  100506960  102691339  104953470  107289875  ...   \n",
       "4    5454938    5531451    5608499    5679409    5734995    5770573  ...   \n",
       "\n",
       "        2011       2012       2013       2014       2015       2016  \\\n",
       "0     102050     102565     103165     103776     104339     104865   \n",
       "1  532760424  547482863  562601578  578075373  593871847  609978946   \n",
       "2   30117411   31161378   32269592   33370804   34413603   35383028   \n",
       "3  360285439  370243017  380437896  390882979  401586651  412551299   \n",
       "4   24220660   25107925   26015786   26941773   27884380   28842482   \n",
       "\n",
       "        2017       2018       2019       2020  \n",
       "0     105361     105846     106310     106766  \n",
       "1  626392880  643090131  660046272  677243299  \n",
       "2   36296111   37171922   38041757   38928341  \n",
       "3  423769930  435229381  446911598  458803476  \n",
       "4   29816769   30809787   31825299   32866268  \n",
       "\n",
       "[5 rows x 65 columns]"
      ]
     },
     "execution_count": 5,
     "metadata": {},
     "output_type": "execute_result"
    }
   ],
   "source": [
    "world_census_data = pd.read_csv('./../datasets/raw-datasets/world_census_data.csv', dtype='string')\n",
    "world_census_data.head()"
   ]
  },
  {
   "cell_type": "code",
   "execution_count": 7,
   "metadata": {},
   "outputs": [
    {
     "data": {
      "text/html": [
       "<div>\n",
       "<style scoped>\n",
       "    .dataframe tbody tr th:only-of-type {\n",
       "        vertical-align: middle;\n",
       "    }\n",
       "\n",
       "    .dataframe tbody tr th {\n",
       "        vertical-align: top;\n",
       "    }\n",
       "\n",
       "    .dataframe thead th {\n",
       "        text-align: right;\n",
       "    }\n",
       "</style>\n",
       "<table border=\"1\" class=\"dataframe\">\n",
       "  <thead>\n",
       "    <tr style=\"text-align: right;\">\n",
       "      <th></th>\n",
       "      <th>Entity</th>\n",
       "      <th>Year</th>\n",
       "      <th>Number of disasters (EMDAT (2020))</th>\n",
       "    </tr>\n",
       "  </thead>\n",
       "  <tbody>\n",
       "    <tr>\n",
       "      <th>0</th>\n",
       "      <td>All natural disasters</td>\n",
       "      <td>1900</td>\n",
       "      <td>5</td>\n",
       "    </tr>\n",
       "    <tr>\n",
       "      <th>1</th>\n",
       "      <td>All natural disasters</td>\n",
       "      <td>1901</td>\n",
       "      <td>2</td>\n",
       "    </tr>\n",
       "    <tr>\n",
       "      <th>2</th>\n",
       "      <td>All natural disasters</td>\n",
       "      <td>1902</td>\n",
       "      <td>9</td>\n",
       "    </tr>\n",
       "    <tr>\n",
       "      <th>3</th>\n",
       "      <td>All natural disasters</td>\n",
       "      <td>1903</td>\n",
       "      <td>8</td>\n",
       "    </tr>\n",
       "    <tr>\n",
       "      <th>4</th>\n",
       "      <td>All natural disasters</td>\n",
       "      <td>1904</td>\n",
       "      <td>2</td>\n",
       "    </tr>\n",
       "  </tbody>\n",
       "</table>\n",
       "</div>"
      ],
      "text/plain": [
       "                  Entity  Year  Number of disasters (EMDAT (2020))\n",
       "0  All natural disasters  1900                                   5\n",
       "1  All natural disasters  1901                                   2\n",
       "2  All natural disasters  1902                                   9\n",
       "3  All natural disasters  1903                                   8\n",
       "4  All natural disasters  1904                                   2"
      ]
     },
     "execution_count": 7,
     "metadata": {},
     "output_type": "execute_result"
    }
   ],
   "source": [
    "# Load the data for occurance of natural disasters by type\n",
    "natural_disaster_by_type = pd.read_csv('./../datasets/raw-datasets/natural-disasters-by-type.csv')\n",
    "\n",
    "# Drop the 'code' column\n",
    "natural_disaster_by_type.drop(['Code'], axis=1, inplace=True)\n",
    "natural_disaster_by_type.head()"
   ]
  },
  {
   "cell_type": "code",
   "execution_count": 8,
   "metadata": {},
   "outputs": [
    {
     "name": "stdout",
     "output_type": "stream",
     "text": [
      "There are  10 natural disasters recorded between year 1900 to 2019:  ['Drought', 'Earthquake', 'Extreme temperature', 'Extreme weather', 'Flood', 'Impact', 'Landslide', 'Mass movement (dry)', 'Volcanic activity', 'Wildfire']\n"
     ]
    }
   ],
   "source": [
    "# Find the types of unique natural disasters recorded\n",
    "natural_disasters_list = natural_disaster_by_type['Entity'].dropna().unique().tolist()\n",
    "\n",
    "# Remove the overall entity 'All natural disasters'\n",
    "natural_disasters_list.remove('All natural disasters')\n",
    "\n",
    "print('There are ', str(len(natural_disasters_list)), 'natural disasters recorded between year 1900 to 2019: ', natural_disasters_list)"
   ]
  },
  {
   "cell_type": "markdown",
   "metadata": {},
   "source": [
    "# Plot a bubble chart depicting the number of natural disasters over the time period (1900-2019)"
   ]
  },
  {
   "cell_type": "code",
   "execution_count": 9,
   "metadata": {},
   "outputs": [
    {
     "data": {
      "application/vnd.plotly.v1+json": {
       "config": {
        "plotlyServerURL": "https://plot.ly"
       },
       "data": [
        {
         "marker": {
          "line": {
           "width": 2
          },
          "size": [
           9,
           1,
           1,
           1,
           1,
           1,
           1,
           1,
           7,
           7,
           9,
           5,
           7,
           10,
           2,
           7,
           7,
           2,
           4,
           1,
           6,
           16,
           9,
           11,
           14,
           13,
           13,
           32,
           8,
           3,
           4,
           15,
           17,
           7,
           12,
           18,
           12,
           9,
           13,
           6,
           6,
           18,
           20,
           23,
           27,
           22,
           25,
           14,
           11,
           20,
           9,
           11,
           16,
           18,
           17,
           17,
           21,
           9,
           18,
           28,
           15,
           7,
           13,
           15
          ],
          "sizemode": "area",
          "sizeref": 0.10666666666666667
         },
         "mode": "markers",
         "name": "Drought",
         "text": [
          9,
          1,
          1,
          1,
          1,
          1,
          1,
          1,
          7,
          7,
          9,
          5,
          7,
          10,
          2,
          7,
          7,
          2,
          4,
          1,
          6,
          16,
          9,
          11,
          14,
          13,
          13,
          32,
          8,
          3,
          4,
          15,
          17,
          7,
          12,
          18,
          12,
          9,
          13,
          6,
          6,
          18,
          20,
          23,
          27,
          22,
          25,
          14,
          11,
          20,
          9,
          11,
          16,
          18,
          17,
          17,
          21,
          9,
          18,
          28,
          15,
          7,
          13,
          15
         ],
         "type": "scatter",
         "x": [
          1940,
          1942,
          1943,
          1946,
          1947,
          1960,
          1961,
          1963,
          1964,
          1965,
          1966,
          1967,
          1968,
          1969,
          1970,
          1971,
          1972,
          1973,
          1974,
          1975,
          1976,
          1977,
          1978,
          1979,
          1980,
          1981,
          1982,
          1983,
          1984,
          1985,
          1986,
          1987,
          1988,
          1989,
          1990,
          1991,
          1992,
          1993,
          1994,
          1995,
          1996,
          1997,
          1998,
          1999,
          2000,
          2001,
          2002,
          2003,
          2004,
          2005,
          2006,
          2007,
          2008,
          2009,
          2010,
          2011,
          2012,
          2013,
          2014,
          2015,
          2016,
          2017,
          2018,
          2019
         ],
         "y": [
          "Drought",
          "Drought",
          "Drought",
          "Drought",
          "Drought",
          "Drought",
          "Drought",
          "Drought",
          "Drought",
          "Drought",
          "Drought",
          "Drought",
          "Drought",
          "Drought",
          "Drought",
          "Drought",
          "Drought",
          "Drought",
          "Drought",
          "Drought",
          "Drought",
          "Drought",
          "Drought",
          "Drought",
          "Drought",
          "Drought",
          "Drought",
          "Drought",
          "Drought",
          "Drought",
          "Drought",
          "Drought",
          "Drought",
          "Drought",
          "Drought",
          "Drought",
          "Drought",
          "Drought",
          "Drought",
          "Drought",
          "Drought",
          "Drought",
          "Drought",
          "Drought",
          "Drought",
          "Drought",
          "Drought",
          "Drought",
          "Drought",
          "Drought",
          "Drought",
          "Drought",
          "Drought",
          "Drought",
          "Drought",
          "Drought",
          "Drought",
          "Drought",
          "Drought",
          "Drought",
          "Drought",
          "Drought",
          "Drought",
          "Drought"
         ]
        },
        {
         "marker": {
          "line": {
           "width": 2
          },
          "size": [
           4,
           2,
           5,
           5,
           4,
           4,
           8,
           2,
           5,
           6,
           4,
           3,
           8,
           7,
           5,
           4,
           6,
           8,
           4,
           3,
           9,
           2,
           3,
           3,
           7,
           7,
           11,
           10,
           14,
           8,
           11,
           5,
           5,
           4,
           4,
           4,
           20,
           14,
           9,
           25,
           24,
           17,
           18,
           25,
           13,
           22,
           21,
           19,
           18,
           19,
           43,
           29,
           25,
           20,
           25,
           26,
           13,
           23,
           30,
           33,
           30,
           25,
           37,
           40,
           42,
           25,
           24,
           21,
           23,
           22,
           24,
           30,
           27,
           29,
           26,
           23,
           30,
           19,
           20,
           32
          ],
          "sizemode": "area",
          "sizeref": 0.10666666666666667
         },
         "mode": "markers",
         "name": "Earthquake",
         "text": [
          4,
          2,
          5,
          5,
          4,
          4,
          8,
          2,
          5,
          6,
          4,
          3,
          8,
          7,
          5,
          4,
          6,
          8,
          4,
          3,
          9,
          2,
          3,
          3,
          7,
          7,
          11,
          10,
          14,
          8,
          11,
          5,
          5,
          4,
          4,
          4,
          20,
          14,
          9,
          25,
          24,
          17,
          18,
          25,
          13,
          22,
          21,
          19,
          18,
          19,
          43,
          29,
          25,
          20,
          25,
          26,
          13,
          23,
          30,
          33,
          30,
          25,
          37,
          40,
          42,
          25,
          24,
          21,
          23,
          22,
          24,
          30,
          27,
          29,
          26,
          23,
          30,
          19,
          20,
          32
         ],
         "type": "scatter",
         "x": [
          1940,
          1941,
          1942,
          1943,
          1944,
          1945,
          1946,
          1947,
          1948,
          1949,
          1950,
          1951,
          1952,
          1953,
          1954,
          1955,
          1956,
          1957,
          1958,
          1959,
          1960,
          1961,
          1962,
          1963,
          1964,
          1965,
          1966,
          1967,
          1968,
          1969,
          1970,
          1971,
          1972,
          1973,
          1974,
          1975,
          1976,
          1977,
          1978,
          1979,
          1980,
          1981,
          1982,
          1983,
          1984,
          1985,
          1986,
          1987,
          1988,
          1989,
          1990,
          1991,
          1992,
          1993,
          1994,
          1995,
          1996,
          1997,
          1998,
          1999,
          2000,
          2001,
          2002,
          2003,
          2004,
          2005,
          2006,
          2007,
          2008,
          2009,
          2010,
          2011,
          2012,
          2013,
          2014,
          2015,
          2016,
          2017,
          2018,
          2019
         ],
         "y": [
          "Earthquake",
          "Earthquake",
          "Earthquake",
          "Earthquake",
          "Earthquake",
          "Earthquake",
          "Earthquake",
          "Earthquake",
          "Earthquake",
          "Earthquake",
          "Earthquake",
          "Earthquake",
          "Earthquake",
          "Earthquake",
          "Earthquake",
          "Earthquake",
          "Earthquake",
          "Earthquake",
          "Earthquake",
          "Earthquake",
          "Earthquake",
          "Earthquake",
          "Earthquake",
          "Earthquake",
          "Earthquake",
          "Earthquake",
          "Earthquake",
          "Earthquake",
          "Earthquake",
          "Earthquake",
          "Earthquake",
          "Earthquake",
          "Earthquake",
          "Earthquake",
          "Earthquake",
          "Earthquake",
          "Earthquake",
          "Earthquake",
          "Earthquake",
          "Earthquake",
          "Earthquake",
          "Earthquake",
          "Earthquake",
          "Earthquake",
          "Earthquake",
          "Earthquake",
          "Earthquake",
          "Earthquake",
          "Earthquake",
          "Earthquake",
          "Earthquake",
          "Earthquake",
          "Earthquake",
          "Earthquake",
          "Earthquake",
          "Earthquake",
          "Earthquake",
          "Earthquake",
          "Earthquake",
          "Earthquake",
          "Earthquake",
          "Earthquake",
          "Earthquake",
          "Earthquake",
          "Earthquake",
          "Earthquake",
          "Earthquake",
          "Earthquake",
          "Earthquake",
          "Earthquake",
          "Earthquake",
          "Earthquake",
          "Earthquake",
          "Earthquake",
          "Earthquake",
          "Earthquake",
          "Earthquake",
          "Earthquake",
          "Earthquake",
          "Earthquake"
         ]
        },
        {
         "marker": {
          "line": {
           "width": 2
          },
          "size": [
           2,
           3,
           1,
           2,
           1,
           1,
           2,
           1,
           2,
           2,
           1,
           2,
           3,
           3,
           1,
           1,
           4,
           3,
           2,
           3,
           2,
           1,
           8,
           2,
           6,
           6,
           5,
           13,
           8,
           7,
           4,
           9,
           13,
           5,
           13,
           12,
           8,
           31,
           23,
           15,
           25,
           16,
           30,
           24,
           25,
           10,
           25,
           29,
           16,
           51,
           14,
           17,
           12,
           12,
           11,
           25,
           20
          ],
          "sizemode": "area",
          "sizeref": 0.10666666666666667
         },
         "mode": "markers",
         "name": "Extreme temperature",
         "text": [
          2,
          3,
          1,
          2,
          1,
          1,
          2,
          1,
          2,
          2,
          1,
          2,
          3,
          3,
          1,
          1,
          4,
          3,
          2,
          3,
          2,
          1,
          8,
          2,
          6,
          6,
          5,
          13,
          8,
          7,
          4,
          9,
          13,
          5,
          13,
          12,
          8,
          31,
          23,
          15,
          25,
          16,
          30,
          24,
          25,
          10,
          25,
          29,
          16,
          51,
          14,
          17,
          12,
          12,
          11,
          25,
          20
         ],
         "type": "scatter",
         "x": [
          1951,
          1953,
          1955,
          1958,
          1961,
          1962,
          1963,
          1965,
          1966,
          1968,
          1971,
          1972,
          1973,
          1975,
          1977,
          1978,
          1979,
          1980,
          1981,
          1982,
          1983,
          1984,
          1985,
          1986,
          1987,
          1988,
          1989,
          1990,
          1991,
          1992,
          1993,
          1994,
          1995,
          1996,
          1997,
          1998,
          1999,
          2000,
          2001,
          2002,
          2003,
          2004,
          2005,
          2006,
          2007,
          2008,
          2009,
          2010,
          2011,
          2012,
          2013,
          2014,
          2015,
          2016,
          2017,
          2018,
          2019
         ],
         "y": [
          "Extreme temperature",
          "Extreme temperature",
          "Extreme temperature",
          "Extreme temperature",
          "Extreme temperature",
          "Extreme temperature",
          "Extreme temperature",
          "Extreme temperature",
          "Extreme temperature",
          "Extreme temperature",
          "Extreme temperature",
          "Extreme temperature",
          "Extreme temperature",
          "Extreme temperature",
          "Extreme temperature",
          "Extreme temperature",
          "Extreme temperature",
          "Extreme temperature",
          "Extreme temperature",
          "Extreme temperature",
          "Extreme temperature",
          "Extreme temperature",
          "Extreme temperature",
          "Extreme temperature",
          "Extreme temperature",
          "Extreme temperature",
          "Extreme temperature",
          "Extreme temperature",
          "Extreme temperature",
          "Extreme temperature",
          "Extreme temperature",
          "Extreme temperature",
          "Extreme temperature",
          "Extreme temperature",
          "Extreme temperature",
          "Extreme temperature",
          "Extreme temperature",
          "Extreme temperature",
          "Extreme temperature",
          "Extreme temperature",
          "Extreme temperature",
          "Extreme temperature",
          "Extreme temperature",
          "Extreme temperature",
          "Extreme temperature",
          "Extreme temperature",
          "Extreme temperature",
          "Extreme temperature",
          "Extreme temperature",
          "Extreme temperature",
          "Extreme temperature",
          "Extreme temperature",
          "Extreme temperature",
          "Extreme temperature",
          "Extreme temperature",
          "Extreme temperature",
          "Extreme temperature"
         ]
        },
        {
         "marker": {
          "line": {
           "width": 2
          },
          "size": [
           3,
           2,
           3,
           3,
           5,
           7,
           5,
           7,
           10,
           8,
           7,
           11,
           10,
           11,
           10,
           19,
           14,
           9,
           13,
           16,
           20,
           14,
           13,
           21,
           22,
           19,
           28,
           25,
           25,
           25,
           24,
           22,
           26,
           22,
           28,
           28,
           36,
           32,
           42,
           31,
           42,
           50,
           52,
           59,
           57,
           51,
           56,
           58,
           60,
           73,
           137,
           66,
           76,
           108,
           81,
           81,
           77,
           79,
           88,
           106,
           102,
           105,
           122,
           86,
           124,
           130,
           76,
           105,
           111,
           87,
           94,
           84,
           90,
           105,
           99,
           118,
           84,
           85,
           84,
           85
          ],
          "sizemode": "area",
          "sizeref": 0.10666666666666667
         },
         "mode": "markers",
         "name": "Extreme weather",
         "text": [
          3,
          2,
          3,
          3,
          5,
          7,
          5,
          7,
          10,
          8,
          7,
          11,
          10,
          11,
          10,
          19,
          14,
          9,
          13,
          16,
          20,
          14,
          13,
          21,
          22,
          19,
          28,
          25,
          25,
          25,
          24,
          22,
          26,
          22,
          28,
          28,
          36,
          32,
          42,
          31,
          42,
          50,
          52,
          59,
          57,
          51,
          56,
          58,
          60,
          73,
          137,
          66,
          76,
          108,
          81,
          81,
          77,
          79,
          88,
          106,
          102,
          105,
          122,
          86,
          124,
          130,
          76,
          105,
          111,
          87,
          94,
          84,
          90,
          105,
          99,
          118,
          84,
          85,
          84,
          85
         ],
         "type": "scatter",
         "x": [
          1940,
          1941,
          1942,
          1943,
          1944,
          1945,
          1946,
          1947,
          1948,
          1949,
          1950,
          1951,
          1952,
          1953,
          1954,
          1955,
          1956,
          1957,
          1958,
          1959,
          1960,
          1961,
          1962,
          1963,
          1964,
          1965,
          1966,
          1967,
          1968,
          1969,
          1970,
          1971,
          1972,
          1973,
          1974,
          1975,
          1976,
          1977,
          1978,
          1979,
          1980,
          1981,
          1982,
          1983,
          1984,
          1985,
          1986,
          1987,
          1988,
          1989,
          1990,
          1991,
          1992,
          1993,
          1994,
          1995,
          1996,
          1997,
          1998,
          1999,
          2000,
          2001,
          2002,
          2003,
          2004,
          2005,
          2006,
          2007,
          2008,
          2009,
          2010,
          2011,
          2012,
          2013,
          2014,
          2015,
          2016,
          2017,
          2018,
          2019
         ],
         "y": [
          "Extreme weather",
          "Extreme weather",
          "Extreme weather",
          "Extreme weather",
          "Extreme weather",
          "Extreme weather",
          "Extreme weather",
          "Extreme weather",
          "Extreme weather",
          "Extreme weather",
          "Extreme weather",
          "Extreme weather",
          "Extreme weather",
          "Extreme weather",
          "Extreme weather",
          "Extreme weather",
          "Extreme weather",
          "Extreme weather",
          "Extreme weather",
          "Extreme weather",
          "Extreme weather",
          "Extreme weather",
          "Extreme weather",
          "Extreme weather",
          "Extreme weather",
          "Extreme weather",
          "Extreme weather",
          "Extreme weather",
          "Extreme weather",
          "Extreme weather",
          "Extreme weather",
          "Extreme weather",
          "Extreme weather",
          "Extreme weather",
          "Extreme weather",
          "Extreme weather",
          "Extreme weather",
          "Extreme weather",
          "Extreme weather",
          "Extreme weather",
          "Extreme weather",
          "Extreme weather",
          "Extreme weather",
          "Extreme weather",
          "Extreme weather",
          "Extreme weather",
          "Extreme weather",
          "Extreme weather",
          "Extreme weather",
          "Extreme weather",
          "Extreme weather",
          "Extreme weather",
          "Extreme weather",
          "Extreme weather",
          "Extreme weather",
          "Extreme weather",
          "Extreme weather",
          "Extreme weather",
          "Extreme weather",
          "Extreme weather",
          "Extreme weather",
          "Extreme weather",
          "Extreme weather",
          "Extreme weather",
          "Extreme weather",
          "Extreme weather",
          "Extreme weather",
          "Extreme weather",
          "Extreme weather",
          "Extreme weather",
          "Extreme weather",
          "Extreme weather",
          "Extreme weather",
          "Extreme weather",
          "Extreme weather",
          "Extreme weather",
          "Extreme weather",
          "Extreme weather",
          "Extreme weather",
          "Extreme weather"
         ]
        },
        {
         "marker": {
          "line": {
           "width": 2
          },
          "size": [
           1,
           2,
           1,
           5,
           2,
           10,
           7,
           4,
           12,
           9,
           3,
           9,
           11,
           3,
           13,
           7,
           8,
           8,
           8,
           22,
           19,
           23,
           26,
           20,
           14,
           31,
           15,
           15,
           20,
           19,
           17,
           17,
           48,
           47,
           34,
           39,
           43,
           48,
           49,
           47,
           58,
           50,
           68,
           76,
           46,
           60,
           77,
           59,
           84,
           88,
           94,
           92,
           95,
           94,
           122,
           157,
           157,
           172,
           158,
           128,
           193,
           226,
           218,
           165,
           151,
           184,
           156,
           136,
           149,
           135,
           160,
           161,
           114,
           109,
           170
          ],
          "sizemode": "area",
          "sizeref": 0.10666666666666667
         },
         "mode": "markers",
         "name": "Flood",
         "text": [
          1,
          2,
          1,
          5,
          2,
          10,
          7,
          4,
          12,
          9,
          3,
          9,
          11,
          3,
          13,
          7,
          8,
          8,
          8,
          22,
          19,
          23,
          26,
          20,
          14,
          31,
          15,
          15,
          20,
          19,
          17,
          17,
          48,
          47,
          34,
          39,
          43,
          48,
          49,
          47,
          58,
          50,
          68,
          76,
          46,
          60,
          77,
          59,
          84,
          88,
          94,
          92,
          95,
          94,
          122,
          157,
          157,
          172,
          158,
          128,
          193,
          226,
          218,
          165,
          151,
          184,
          156,
          136,
          149,
          135,
          160,
          161,
          114,
          109,
          170
         ],
         "type": "scatter",
         "x": [
          1940,
          1943,
          1947,
          1948,
          1949,
          1950,
          1951,
          1952,
          1953,
          1954,
          1955,
          1956,
          1957,
          1958,
          1959,
          1960,
          1961,
          1962,
          1963,
          1964,
          1965,
          1966,
          1967,
          1968,
          1969,
          1970,
          1971,
          1972,
          1973,
          1974,
          1975,
          1976,
          1977,
          1978,
          1979,
          1980,
          1981,
          1982,
          1983,
          1984,
          1985,
          1986,
          1987,
          1988,
          1989,
          1990,
          1991,
          1992,
          1993,
          1994,
          1995,
          1996,
          1997,
          1998,
          1999,
          2000,
          2001,
          2002,
          2003,
          2004,
          2005,
          2006,
          2007,
          2008,
          2009,
          2010,
          2011,
          2012,
          2013,
          2014,
          2015,
          2016,
          2017,
          2018,
          2019
         ],
         "y": [
          "Flood",
          "Flood",
          "Flood",
          "Flood",
          "Flood",
          "Flood",
          "Flood",
          "Flood",
          "Flood",
          "Flood",
          "Flood",
          "Flood",
          "Flood",
          "Flood",
          "Flood",
          "Flood",
          "Flood",
          "Flood",
          "Flood",
          "Flood",
          "Flood",
          "Flood",
          "Flood",
          "Flood",
          "Flood",
          "Flood",
          "Flood",
          "Flood",
          "Flood",
          "Flood",
          "Flood",
          "Flood",
          "Flood",
          "Flood",
          "Flood",
          "Flood",
          "Flood",
          "Flood",
          "Flood",
          "Flood",
          "Flood",
          "Flood",
          "Flood",
          "Flood",
          "Flood",
          "Flood",
          "Flood",
          "Flood",
          "Flood",
          "Flood",
          "Flood",
          "Flood",
          "Flood",
          "Flood",
          "Flood",
          "Flood",
          "Flood",
          "Flood",
          "Flood",
          "Flood",
          "Flood",
          "Flood",
          "Flood",
          "Flood",
          "Flood",
          "Flood",
          "Flood",
          "Flood",
          "Flood",
          "Flood",
          "Flood",
          "Flood",
          "Flood",
          "Flood",
          "Flood"
         ]
        },
        {
         "marker": {
          "line": {
           "width": 2
          },
          "size": [
           1
          ],
          "sizemode": "area",
          "sizeref": 0.10666666666666667
         },
         "mode": "markers",
         "name": "Impact",
         "text": [
          1
         ],
         "type": "scatter",
         "x": [
          2013
         ],
         "y": [
          "Impact"
         ]
        },
        {
         "marker": {
          "line": {
           "width": 2
          },
          "size": [
           1,
           2,
           1,
           1,
           1,
           1,
           8,
           2,
           5,
           1,
           1,
           2,
           2,
           2,
           2,
           1,
           5,
           4,
           2,
           4,
           1,
           5,
           5,
           5,
           5,
           10,
           5,
           6,
           3,
           2,
           7,
           4,
           8,
           11,
           15,
           6,
           6,
           9,
           13,
           15,
           15,
           4,
           9,
           7,
           22,
           11,
           16,
           24,
           13,
           22,
           18,
           28,
           24,
           20,
           21,
           15,
           13,
           20,
           10,
           12,
           29,
           32,
           17,
           13,
           11,
           15,
           20,
           13,
           25,
           13,
           22
          ],
          "sizemode": "area",
          "sizeref": 0.10666666666666667
         },
         "mode": "markers",
         "name": "Landslide",
         "text": [
          1,
          2,
          1,
          1,
          1,
          1,
          8,
          2,
          5,
          1,
          1,
          2,
          2,
          2,
          2,
          1,
          5,
          4,
          2,
          4,
          1,
          5,
          5,
          5,
          5,
          10,
          5,
          6,
          3,
          2,
          7,
          4,
          8,
          11,
          15,
          6,
          6,
          9,
          13,
          15,
          15,
          4,
          9,
          7,
          22,
          11,
          16,
          24,
          13,
          22,
          18,
          28,
          24,
          20,
          21,
          15,
          13,
          20,
          10,
          12,
          29,
          32,
          17,
          13,
          11,
          15,
          20,
          13,
          25,
          13,
          22
         ],
         "type": "scatter",
         "x": [
          1941,
          1948,
          1949,
          1950,
          1951,
          1952,
          1954,
          1955,
          1956,
          1958,
          1959,
          1960,
          1961,
          1962,
          1963,
          1964,
          1965,
          1966,
          1967,
          1968,
          1969,
          1970,
          1971,
          1972,
          1973,
          1974,
          1975,
          1976,
          1977,
          1978,
          1979,
          1980,
          1981,
          1982,
          1983,
          1984,
          1985,
          1986,
          1987,
          1988,
          1989,
          1990,
          1991,
          1992,
          1993,
          1994,
          1995,
          1996,
          1997,
          1998,
          1999,
          2000,
          2001,
          2002,
          2003,
          2004,
          2005,
          2006,
          2007,
          2008,
          2009,
          2010,
          2011,
          2012,
          2013,
          2014,
          2015,
          2016,
          2017,
          2018,
          2019
         ],
         "y": [
          "Landslide",
          "Landslide",
          "Landslide",
          "Landslide",
          "Landslide",
          "Landslide",
          "Landslide",
          "Landslide",
          "Landslide",
          "Landslide",
          "Landslide",
          "Landslide",
          "Landslide",
          "Landslide",
          "Landslide",
          "Landslide",
          "Landslide",
          "Landslide",
          "Landslide",
          "Landslide",
          "Landslide",
          "Landslide",
          "Landslide",
          "Landslide",
          "Landslide",
          "Landslide",
          "Landslide",
          "Landslide",
          "Landslide",
          "Landslide",
          "Landslide",
          "Landslide",
          "Landslide",
          "Landslide",
          "Landslide",
          "Landslide",
          "Landslide",
          "Landslide",
          "Landslide",
          "Landslide",
          "Landslide",
          "Landslide",
          "Landslide",
          "Landslide",
          "Landslide",
          "Landslide",
          "Landslide",
          "Landslide",
          "Landslide",
          "Landslide",
          "Landslide",
          "Landslide",
          "Landslide",
          "Landslide",
          "Landslide",
          "Landslide",
          "Landslide",
          "Landslide",
          "Landslide",
          "Landslide",
          "Landslide",
          "Landslide",
          "Landslide",
          "Landslide",
          "Landslide",
          "Landslide",
          "Landslide",
          "Landslide",
          "Landslide",
          "Landslide",
          "Landslide"
         ]
        },
        {
         "marker": {
          "line": {
           "width": 2
          },
          "size": [
           1,
           1,
           1,
           1,
           1,
           1,
           1,
           2,
           4,
           2,
           2,
           3,
           3,
           3,
           3,
           5,
           5,
           1,
           1,
           1,
           1,
           3,
           1,
           1,
           1,
           1,
           1
          ],
          "sizemode": "area",
          "sizeref": 0.10666666666666667
         },
         "mode": "markers",
         "name": "Mass movement (dry)",
         "text": [
          1,
          1,
          1,
          1,
          1,
          1,
          1,
          2,
          4,
          2,
          2,
          3,
          3,
          3,
          3,
          5,
          5,
          1,
          1,
          1,
          1,
          3,
          1,
          1,
          1,
          1,
          1
         ],
         "type": "scatter",
         "x": [
          1955,
          1962,
          1963,
          1965,
          1970,
          1971,
          1980,
          1982,
          1983,
          1985,
          1987,
          1988,
          1989,
          1990,
          1991,
          1992,
          1993,
          2000,
          2002,
          2004,
          2006,
          2008,
          2009,
          2012,
          2013,
          2015,
          2018
         ],
         "y": [
          "Mass movement (dry)",
          "Mass movement (dry)",
          "Mass movement (dry)",
          "Mass movement (dry)",
          "Mass movement (dry)",
          "Mass movement (dry)",
          "Mass movement (dry)",
          "Mass movement (dry)",
          "Mass movement (dry)",
          "Mass movement (dry)",
          "Mass movement (dry)",
          "Mass movement (dry)",
          "Mass movement (dry)",
          "Mass movement (dry)",
          "Mass movement (dry)",
          "Mass movement (dry)",
          "Mass movement (dry)",
          "Mass movement (dry)",
          "Mass movement (dry)",
          "Mass movement (dry)",
          "Mass movement (dry)",
          "Mass movement (dry)",
          "Mass movement (dry)",
          "Mass movement (dry)",
          "Mass movement (dry)",
          "Mass movement (dry)",
          "Mass movement (dry)"
         ]
        },
        {
         "marker": {
          "line": {
           "width": 2
          },
          "size": [
           1,
           1,
           1,
           1,
           1,
           2,
           1,
           3,
           1,
           1,
           1,
           1,
           1,
           1,
           3,
           1,
           1,
           2,
           2,
           2,
           3,
           1,
           3,
           5,
           5,
           2,
           4,
           2,
           1,
           3,
           7,
           7,
           2,
           2,
           2,
           5,
           1,
           2,
           10,
           5,
           6,
           6,
           5,
           5,
           4,
           4,
           5,
           5,
           6,
           7,
           2,
           5,
           8,
           12,
           6,
           7,
           2,
           6,
           6,
           1,
           3,
           6,
           6,
           2,
           7,
           4
          ],
          "sizemode": "area",
          "sizeref": 0.10666666666666667
         },
         "mode": "markers",
         "name": "Volcanic activity",
         "text": [
          1,
          1,
          1,
          1,
          1,
          2,
          1,
          3,
          1,
          1,
          1,
          1,
          1,
          1,
          3,
          1,
          1,
          2,
          2,
          2,
          3,
          1,
          3,
          5,
          5,
          2,
          4,
          2,
          1,
          3,
          7,
          7,
          2,
          2,
          2,
          5,
          1,
          2,
          10,
          5,
          6,
          6,
          5,
          5,
          4,
          4,
          5,
          5,
          6,
          7,
          2,
          5,
          8,
          12,
          6,
          7,
          2,
          6,
          6,
          1,
          3,
          6,
          6,
          2,
          7,
          4
         ],
         "type": "scatter",
         "x": [
          1943,
          1944,
          1945,
          1946,
          1948,
          1949,
          1950,
          1951,
          1952,
          1953,
          1954,
          1956,
          1957,
          1960,
          1963,
          1964,
          1965,
          1966,
          1968,
          1969,
          1971,
          1973,
          1975,
          1976,
          1977,
          1978,
          1979,
          1980,
          1981,
          1982,
          1983,
          1984,
          1985,
          1986,
          1987,
          1988,
          1989,
          1990,
          1991,
          1992,
          1993,
          1994,
          1995,
          1996,
          1997,
          1998,
          1999,
          2000,
          2001,
          2002,
          2003,
          2004,
          2005,
          2006,
          2007,
          2008,
          2009,
          2010,
          2011,
          2012,
          2013,
          2014,
          2015,
          2017,
          2018,
          2019
         ],
         "y": [
          "Volcanic activity",
          "Volcanic activity",
          "Volcanic activity",
          "Volcanic activity",
          "Volcanic activity",
          "Volcanic activity",
          "Volcanic activity",
          "Volcanic activity",
          "Volcanic activity",
          "Volcanic activity",
          "Volcanic activity",
          "Volcanic activity",
          "Volcanic activity",
          "Volcanic activity",
          "Volcanic activity",
          "Volcanic activity",
          "Volcanic activity",
          "Volcanic activity",
          "Volcanic activity",
          "Volcanic activity",
          "Volcanic activity",
          "Volcanic activity",
          "Volcanic activity",
          "Volcanic activity",
          "Volcanic activity",
          "Volcanic activity",
          "Volcanic activity",
          "Volcanic activity",
          "Volcanic activity",
          "Volcanic activity",
          "Volcanic activity",
          "Volcanic activity",
          "Volcanic activity",
          "Volcanic activity",
          "Volcanic activity",
          "Volcanic activity",
          "Volcanic activity",
          "Volcanic activity",
          "Volcanic activity",
          "Volcanic activity",
          "Volcanic activity",
          "Volcanic activity",
          "Volcanic activity",
          "Volcanic activity",
          "Volcanic activity",
          "Volcanic activity",
          "Volcanic activity",
          "Volcanic activity",
          "Volcanic activity",
          "Volcanic activity",
          "Volcanic activity",
          "Volcanic activity",
          "Volcanic activity",
          "Volcanic activity",
          "Volcanic activity",
          "Volcanic activity",
          "Volcanic activity",
          "Volcanic activity",
          "Volcanic activity",
          "Volcanic activity",
          "Volcanic activity",
          "Volcanic activity",
          "Volcanic activity",
          "Volcanic activity",
          "Volcanic activity",
          "Volcanic activity"
         ]
        },
        {
         "marker": {
          "line": {
           "width": 2
          },
          "size": [
           2,
           1,
           1,
           1,
           1,
           1,
           2,
           3,
           2,
           3,
           2,
           3,
           3,
           3,
           2,
           1,
           2,
           3,
           4,
           4,
           4,
           3,
           12,
           7,
           13,
           6,
           8,
           3,
           4,
           8,
           8,
           2,
           13,
           7,
           5,
           16,
           18,
           22,
           30,
           14,
           22,
           14,
           8,
           13,
           9,
           18,
           5,
           9,
           7,
           8,
           6,
           10,
           4,
           12,
           10,
           13,
           10,
           13
          ],
          "sizemode": "area",
          "sizeref": 0.10666666666666667
         },
         "mode": "markers",
         "name": "Wildfire",
         "text": [
          2,
          1,
          1,
          1,
          1,
          1,
          2,
          3,
          2,
          3,
          2,
          3,
          3,
          3,
          2,
          1,
          2,
          3,
          4,
          4,
          4,
          3,
          12,
          7,
          13,
          6,
          8,
          3,
          4,
          8,
          8,
          2,
          13,
          7,
          5,
          16,
          18,
          22,
          30,
          14,
          22,
          14,
          8,
          13,
          9,
          18,
          5,
          9,
          7,
          8,
          6,
          10,
          4,
          12,
          10,
          13,
          10,
          13
         ],
         "type": "scatter",
         "x": [
          1944,
          1947,
          1949,
          1956,
          1965,
          1966,
          1967,
          1968,
          1969,
          1970,
          1971,
          1972,
          1973,
          1974,
          1975,
          1976,
          1977,
          1978,
          1979,
          1980,
          1981,
          1982,
          1983,
          1984,
          1985,
          1986,
          1987,
          1989,
          1990,
          1991,
          1992,
          1993,
          1994,
          1995,
          1996,
          1997,
          1998,
          1999,
          2000,
          2001,
          2002,
          2003,
          2004,
          2005,
          2006,
          2007,
          2008,
          2009,
          2010,
          2011,
          2012,
          2013,
          2014,
          2015,
          2016,
          2017,
          2018,
          2019
         ],
         "y": [
          "Wildfire",
          "Wildfire",
          "Wildfire",
          "Wildfire",
          "Wildfire",
          "Wildfire",
          "Wildfire",
          "Wildfire",
          "Wildfire",
          "Wildfire",
          "Wildfire",
          "Wildfire",
          "Wildfire",
          "Wildfire",
          "Wildfire",
          "Wildfire",
          "Wildfire",
          "Wildfire",
          "Wildfire",
          "Wildfire",
          "Wildfire",
          "Wildfire",
          "Wildfire",
          "Wildfire",
          "Wildfire",
          "Wildfire",
          "Wildfire",
          "Wildfire",
          "Wildfire",
          "Wildfire",
          "Wildfire",
          "Wildfire",
          "Wildfire",
          "Wildfire",
          "Wildfire",
          "Wildfire",
          "Wildfire",
          "Wildfire",
          "Wildfire",
          "Wildfire",
          "Wildfire",
          "Wildfire",
          "Wildfire",
          "Wildfire",
          "Wildfire",
          "Wildfire",
          "Wildfire",
          "Wildfire",
          "Wildfire",
          "Wildfire",
          "Wildfire",
          "Wildfire",
          "Wildfire",
          "Wildfire",
          "Wildfire",
          "Wildfire",
          "Wildfire",
          "Wildfire"
         ]
        }
       ],
       "layout": {
        "paper_bgcolor": "rgb(243, 243, 243)",
        "plot_bgcolor": "rgb(243, 243, 243)",
        "showlegend": false,
        "template": {
         "data": {
          "bar": [
           {
            "error_x": {
             "color": "#2a3f5f"
            },
            "error_y": {
             "color": "#2a3f5f"
            },
            "marker": {
             "line": {
              "color": "#E5ECF6",
              "width": 0.5
             },
             "pattern": {
              "fillmode": "overlay",
              "size": 10,
              "solidity": 0.2
             }
            },
            "type": "bar"
           }
          ],
          "barpolar": [
           {
            "marker": {
             "line": {
              "color": "#E5ECF6",
              "width": 0.5
             },
             "pattern": {
              "fillmode": "overlay",
              "size": 10,
              "solidity": 0.2
             }
            },
            "type": "barpolar"
           }
          ],
          "carpet": [
           {
            "aaxis": {
             "endlinecolor": "#2a3f5f",
             "gridcolor": "white",
             "linecolor": "white",
             "minorgridcolor": "white",
             "startlinecolor": "#2a3f5f"
            },
            "baxis": {
             "endlinecolor": "#2a3f5f",
             "gridcolor": "white",
             "linecolor": "white",
             "minorgridcolor": "white",
             "startlinecolor": "#2a3f5f"
            },
            "type": "carpet"
           }
          ],
          "choropleth": [
           {
            "colorbar": {
             "outlinewidth": 0,
             "ticks": ""
            },
            "type": "choropleth"
           }
          ],
          "contour": [
           {
            "colorbar": {
             "outlinewidth": 0,
             "ticks": ""
            },
            "colorscale": [
             [
              0,
              "#0d0887"
             ],
             [
              0.1111111111111111,
              "#46039f"
             ],
             [
              0.2222222222222222,
              "#7201a8"
             ],
             [
              0.3333333333333333,
              "#9c179e"
             ],
             [
              0.4444444444444444,
              "#bd3786"
             ],
             [
              0.5555555555555556,
              "#d8576b"
             ],
             [
              0.6666666666666666,
              "#ed7953"
             ],
             [
              0.7777777777777778,
              "#fb9f3a"
             ],
             [
              0.8888888888888888,
              "#fdca26"
             ],
             [
              1,
              "#f0f921"
             ]
            ],
            "type": "contour"
           }
          ],
          "contourcarpet": [
           {
            "colorbar": {
             "outlinewidth": 0,
             "ticks": ""
            },
            "type": "contourcarpet"
           }
          ],
          "heatmap": [
           {
            "colorbar": {
             "outlinewidth": 0,
             "ticks": ""
            },
            "colorscale": [
             [
              0,
              "#0d0887"
             ],
             [
              0.1111111111111111,
              "#46039f"
             ],
             [
              0.2222222222222222,
              "#7201a8"
             ],
             [
              0.3333333333333333,
              "#9c179e"
             ],
             [
              0.4444444444444444,
              "#bd3786"
             ],
             [
              0.5555555555555556,
              "#d8576b"
             ],
             [
              0.6666666666666666,
              "#ed7953"
             ],
             [
              0.7777777777777778,
              "#fb9f3a"
             ],
             [
              0.8888888888888888,
              "#fdca26"
             ],
             [
              1,
              "#f0f921"
             ]
            ],
            "type": "heatmap"
           }
          ],
          "heatmapgl": [
           {
            "colorbar": {
             "outlinewidth": 0,
             "ticks": ""
            },
            "colorscale": [
             [
              0,
              "#0d0887"
             ],
             [
              0.1111111111111111,
              "#46039f"
             ],
             [
              0.2222222222222222,
              "#7201a8"
             ],
             [
              0.3333333333333333,
              "#9c179e"
             ],
             [
              0.4444444444444444,
              "#bd3786"
             ],
             [
              0.5555555555555556,
              "#d8576b"
             ],
             [
              0.6666666666666666,
              "#ed7953"
             ],
             [
              0.7777777777777778,
              "#fb9f3a"
             ],
             [
              0.8888888888888888,
              "#fdca26"
             ],
             [
              1,
              "#f0f921"
             ]
            ],
            "type": "heatmapgl"
           }
          ],
          "histogram": [
           {
            "marker": {
             "pattern": {
              "fillmode": "overlay",
              "size": 10,
              "solidity": 0.2
             }
            },
            "type": "histogram"
           }
          ],
          "histogram2d": [
           {
            "colorbar": {
             "outlinewidth": 0,
             "ticks": ""
            },
            "colorscale": [
             [
              0,
              "#0d0887"
             ],
             [
              0.1111111111111111,
              "#46039f"
             ],
             [
              0.2222222222222222,
              "#7201a8"
             ],
             [
              0.3333333333333333,
              "#9c179e"
             ],
             [
              0.4444444444444444,
              "#bd3786"
             ],
             [
              0.5555555555555556,
              "#d8576b"
             ],
             [
              0.6666666666666666,
              "#ed7953"
             ],
             [
              0.7777777777777778,
              "#fb9f3a"
             ],
             [
              0.8888888888888888,
              "#fdca26"
             ],
             [
              1,
              "#f0f921"
             ]
            ],
            "type": "histogram2d"
           }
          ],
          "histogram2dcontour": [
           {
            "colorbar": {
             "outlinewidth": 0,
             "ticks": ""
            },
            "colorscale": [
             [
              0,
              "#0d0887"
             ],
             [
              0.1111111111111111,
              "#46039f"
             ],
             [
              0.2222222222222222,
              "#7201a8"
             ],
             [
              0.3333333333333333,
              "#9c179e"
             ],
             [
              0.4444444444444444,
              "#bd3786"
             ],
             [
              0.5555555555555556,
              "#d8576b"
             ],
             [
              0.6666666666666666,
              "#ed7953"
             ],
             [
              0.7777777777777778,
              "#fb9f3a"
             ],
             [
              0.8888888888888888,
              "#fdca26"
             ],
             [
              1,
              "#f0f921"
             ]
            ],
            "type": "histogram2dcontour"
           }
          ],
          "mesh3d": [
           {
            "colorbar": {
             "outlinewidth": 0,
             "ticks": ""
            },
            "type": "mesh3d"
           }
          ],
          "parcoords": [
           {
            "line": {
             "colorbar": {
              "outlinewidth": 0,
              "ticks": ""
             }
            },
            "type": "parcoords"
           }
          ],
          "pie": [
           {
            "automargin": true,
            "type": "pie"
           }
          ],
          "scatter": [
           {
            "marker": {
             "colorbar": {
              "outlinewidth": 0,
              "ticks": ""
             }
            },
            "type": "scatter"
           }
          ],
          "scatter3d": [
           {
            "line": {
             "colorbar": {
              "outlinewidth": 0,
              "ticks": ""
             }
            },
            "marker": {
             "colorbar": {
              "outlinewidth": 0,
              "ticks": ""
             }
            },
            "type": "scatter3d"
           }
          ],
          "scattercarpet": [
           {
            "marker": {
             "colorbar": {
              "outlinewidth": 0,
              "ticks": ""
             }
            },
            "type": "scattercarpet"
           }
          ],
          "scattergeo": [
           {
            "marker": {
             "colorbar": {
              "outlinewidth": 0,
              "ticks": ""
             }
            },
            "type": "scattergeo"
           }
          ],
          "scattergl": [
           {
            "marker": {
             "colorbar": {
              "outlinewidth": 0,
              "ticks": ""
             }
            },
            "type": "scattergl"
           }
          ],
          "scattermapbox": [
           {
            "marker": {
             "colorbar": {
              "outlinewidth": 0,
              "ticks": ""
             }
            },
            "type": "scattermapbox"
           }
          ],
          "scatterpolar": [
           {
            "marker": {
             "colorbar": {
              "outlinewidth": 0,
              "ticks": ""
             }
            },
            "type": "scatterpolar"
           }
          ],
          "scatterpolargl": [
           {
            "marker": {
             "colorbar": {
              "outlinewidth": 0,
              "ticks": ""
             }
            },
            "type": "scatterpolargl"
           }
          ],
          "scatterternary": [
           {
            "marker": {
             "colorbar": {
              "outlinewidth": 0,
              "ticks": ""
             }
            },
            "type": "scatterternary"
           }
          ],
          "surface": [
           {
            "colorbar": {
             "outlinewidth": 0,
             "ticks": ""
            },
            "colorscale": [
             [
              0,
              "#0d0887"
             ],
             [
              0.1111111111111111,
              "#46039f"
             ],
             [
              0.2222222222222222,
              "#7201a8"
             ],
             [
              0.3333333333333333,
              "#9c179e"
             ],
             [
              0.4444444444444444,
              "#bd3786"
             ],
             [
              0.5555555555555556,
              "#d8576b"
             ],
             [
              0.6666666666666666,
              "#ed7953"
             ],
             [
              0.7777777777777778,
              "#fb9f3a"
             ],
             [
              0.8888888888888888,
              "#fdca26"
             ],
             [
              1,
              "#f0f921"
             ]
            ],
            "type": "surface"
           }
          ],
          "table": [
           {
            "cells": {
             "fill": {
              "color": "#EBF0F8"
             },
             "line": {
              "color": "white"
             }
            },
            "header": {
             "fill": {
              "color": "#C8D4E3"
             },
             "line": {
              "color": "white"
             }
            },
            "type": "table"
           }
          ]
         },
         "layout": {
          "annotationdefaults": {
           "arrowcolor": "#2a3f5f",
           "arrowhead": 0,
           "arrowwidth": 1
          },
          "autotypenumbers": "strict",
          "coloraxis": {
           "colorbar": {
            "outlinewidth": 0,
            "ticks": ""
           }
          },
          "colorscale": {
           "diverging": [
            [
             0,
             "#8e0152"
            ],
            [
             0.1,
             "#c51b7d"
            ],
            [
             0.2,
             "#de77ae"
            ],
            [
             0.3,
             "#f1b6da"
            ],
            [
             0.4,
             "#fde0ef"
            ],
            [
             0.5,
             "#f7f7f7"
            ],
            [
             0.6,
             "#e6f5d0"
            ],
            [
             0.7,
             "#b8e186"
            ],
            [
             0.8,
             "#7fbc41"
            ],
            [
             0.9,
             "#4d9221"
            ],
            [
             1,
             "#276419"
            ]
           ],
           "sequential": [
            [
             0,
             "#0d0887"
            ],
            [
             0.1111111111111111,
             "#46039f"
            ],
            [
             0.2222222222222222,
             "#7201a8"
            ],
            [
             0.3333333333333333,
             "#9c179e"
            ],
            [
             0.4444444444444444,
             "#bd3786"
            ],
            [
             0.5555555555555556,
             "#d8576b"
            ],
            [
             0.6666666666666666,
             "#ed7953"
            ],
            [
             0.7777777777777778,
             "#fb9f3a"
            ],
            [
             0.8888888888888888,
             "#fdca26"
            ],
            [
             1,
             "#f0f921"
            ]
           ],
           "sequentialminus": [
            [
             0,
             "#0d0887"
            ],
            [
             0.1111111111111111,
             "#46039f"
            ],
            [
             0.2222222222222222,
             "#7201a8"
            ],
            [
             0.3333333333333333,
             "#9c179e"
            ],
            [
             0.4444444444444444,
             "#bd3786"
            ],
            [
             0.5555555555555556,
             "#d8576b"
            ],
            [
             0.6666666666666666,
             "#ed7953"
            ],
            [
             0.7777777777777778,
             "#fb9f3a"
            ],
            [
             0.8888888888888888,
             "#fdca26"
            ],
            [
             1,
             "#f0f921"
            ]
           ]
          },
          "colorway": [
           "#636efa",
           "#EF553B",
           "#00cc96",
           "#ab63fa",
           "#FFA15A",
           "#19d3f3",
           "#FF6692",
           "#B6E880",
           "#FF97FF",
           "#FECB52"
          ],
          "font": {
           "color": "#2a3f5f"
          },
          "geo": {
           "bgcolor": "white",
           "lakecolor": "white",
           "landcolor": "#E5ECF6",
           "showlakes": true,
           "showland": true,
           "subunitcolor": "white"
          },
          "hoverlabel": {
           "align": "left"
          },
          "hovermode": "closest",
          "mapbox": {
           "style": "light"
          },
          "paper_bgcolor": "white",
          "plot_bgcolor": "#E5ECF6",
          "polar": {
           "angularaxis": {
            "gridcolor": "white",
            "linecolor": "white",
            "ticks": ""
           },
           "bgcolor": "#E5ECF6",
           "radialaxis": {
            "gridcolor": "white",
            "linecolor": "white",
            "ticks": ""
           }
          },
          "scene": {
           "xaxis": {
            "backgroundcolor": "#E5ECF6",
            "gridcolor": "white",
            "gridwidth": 2,
            "linecolor": "white",
            "showbackground": true,
            "ticks": "",
            "zerolinecolor": "white"
           },
           "yaxis": {
            "backgroundcolor": "#E5ECF6",
            "gridcolor": "white",
            "gridwidth": 2,
            "linecolor": "white",
            "showbackground": true,
            "ticks": "",
            "zerolinecolor": "white"
           },
           "zaxis": {
            "backgroundcolor": "#E5ECF6",
            "gridcolor": "white",
            "gridwidth": 2,
            "linecolor": "white",
            "showbackground": true,
            "ticks": "",
            "zerolinecolor": "white"
           }
          },
          "shapedefaults": {
           "line": {
            "color": "#2a3f5f"
           }
          },
          "ternary": {
           "aaxis": {
            "gridcolor": "white",
            "linecolor": "white",
            "ticks": ""
           },
           "baxis": {
            "gridcolor": "white",
            "linecolor": "white",
            "ticks": ""
           },
           "bgcolor": "#E5ECF6",
           "caxis": {
            "gridcolor": "white",
            "linecolor": "white",
            "ticks": ""
           }
          },
          "title": {
           "x": 0.05
          },
          "xaxis": {
           "automargin": true,
           "gridcolor": "white",
           "linecolor": "white",
           "ticks": "",
           "title": {
            "standoff": 15
           },
           "zerolinecolor": "white",
           "zerolinewidth": 2
          },
          "yaxis": {
           "automargin": true,
           "gridcolor": "white",
           "linecolor": "white",
           "ticks": "",
           "title": {
            "standoff": 15
           },
           "zerolinecolor": "white",
           "zerolinewidth": 2
          }
         }
        },
        "title": {
         "text": "Number of Disasters"
        },
        "xaxis": {
         "gridcolor": "white",
         "gridwidth": 2,
         "title": {
          "text": "Year (1940 - 2019)"
         },
         "type": "log"
        },
        "yaxis": {
         "gridcolor": "white",
         "gridwidth": 2,
         "title": {
          "text": "Natural Disaster"
         }
        }
       }
      }
     },
     "metadata": {},
     "output_type": "display_data"
    }
   ],
   "source": [
    "fig = go.Figure()\n",
    "\n",
    "for natural_disaster in natural_disasters_list:\n",
    "\n",
    "    # Extract the data for the natural disaster\n",
    "    data_natural_disaster = natural_disaster_by_type[natural_disaster_by_type['Entity'] == natural_disaster]\n",
    "\n",
    "    # Extract the data for past few decades\n",
    "    data_natural_disaster = data_natural_disaster[(data_natural_disaster['Year'] >= 1940) & (data_natural_disaster['Year'] <= 2019)]\n",
    "\n",
    "    # Add the line chart for the current natural disaster\n",
    "    fig.add_trace(go.Scatter(\n",
    "        x=data_natural_disaster['Year'], y=data_natural_disaster['Entity'],\n",
    "        name=natural_disaster, text=data_natural_disaster['Number of disasters (EMDAT (2020))'],\n",
    "        marker_size=data_natural_disaster['Number of disasters (EMDAT (2020))'],\n",
    "        ))\n",
    "\n",
    "# Tune marker appearance and layout\n",
    "fig.update_traces(mode='markers',\n",
    "                  marker=dict(sizemode='area',\n",
    "                  sizeref=2.*max(natural_disaster_by_type['Number of disasters (EMDAT (2020))'])/(90**2),\n",
    "                  line_width=2))\n",
    "\n",
    "fig.update_layout(\n",
    "    title='Number of Disasters',\n",
    "    xaxis=dict(\n",
    "        title='Year (1940 - 2019)',\n",
    "        gridcolor='white',\n",
    "        type='log',\n",
    "        gridwidth=2,\n",
    "    ),\n",
    "    yaxis=dict(\n",
    "        title='Natural Disaster',\n",
    "        gridcolor='white',\n",
    "        gridwidth=2,\n",
    "    ),\n",
    "    paper_bgcolor='rgb(243, 243, 243)',\n",
    "    plot_bgcolor='rgb(243, 243, 243)',\n",
    ")\n",
    "\n",
    "fig.update_layout(showlegend=False)\n",
    "fig.show()"
   ]
  },
  {
   "cell_type": "markdown",
   "metadata": {},
   "source": [
    "# Load the data for the number of deaths from natural disasters"
   ]
  },
  {
   "cell_type": "code",
   "execution_count": 10,
   "metadata": {},
   "outputs": [
    {
     "data": {
      "text/html": [
       "<div>\n",
       "<style scoped>\n",
       "    .dataframe tbody tr th:only-of-type {\n",
       "        vertical-align: middle;\n",
       "    }\n",
       "\n",
       "    .dataframe tbody tr th {\n",
       "        vertical-align: top;\n",
       "    }\n",
       "\n",
       "    .dataframe thead th {\n",
       "        text-align: right;\n",
       "    }\n",
       "</style>\n",
       "<table border=\"1\" class=\"dataframe\">\n",
       "  <thead>\n",
       "    <tr style=\"text-align: right;\">\n",
       "      <th></th>\n",
       "      <th>Entity</th>\n",
       "      <th>Year</th>\n",
       "      <th>Total deaths (EMDAT (2020))</th>\n",
       "    </tr>\n",
       "  </thead>\n",
       "  <tbody>\n",
       "    <tr>\n",
       "      <th>0</th>\n",
       "      <td>All natural disasters</td>\n",
       "      <td>1900</td>\n",
       "      <td>1267330</td>\n",
       "    </tr>\n",
       "    <tr>\n",
       "      <th>1</th>\n",
       "      <td>All natural disasters</td>\n",
       "      <td>1901</td>\n",
       "      <td>18</td>\n",
       "    </tr>\n",
       "    <tr>\n",
       "      <th>2</th>\n",
       "      <td>All natural disasters</td>\n",
       "      <td>1902</td>\n",
       "      <td>46037</td>\n",
       "    </tr>\n",
       "    <tr>\n",
       "      <th>3</th>\n",
       "      <td>All natural disasters</td>\n",
       "      <td>1903</td>\n",
       "      <td>6506</td>\n",
       "    </tr>\n",
       "    <tr>\n",
       "      <th>4</th>\n",
       "      <td>All natural disasters</td>\n",
       "      <td>1904</td>\n",
       "      <td>0</td>\n",
       "    </tr>\n",
       "  </tbody>\n",
       "</table>\n",
       "</div>"
      ],
      "text/plain": [
       "                  Entity  Year  Total deaths (EMDAT (2020))\n",
       "0  All natural disasters  1900                      1267330\n",
       "1  All natural disasters  1901                           18\n",
       "2  All natural disasters  1902                        46037\n",
       "3  All natural disasters  1903                         6506\n",
       "4  All natural disasters  1904                            0"
      ]
     },
     "execution_count": 10,
     "metadata": {},
     "output_type": "execute_result"
    }
   ],
   "source": [
    "# Load the data for number of deaths from natural disasters\n",
    "deaths_from_natural_disasters = pd.read_csv('./../datasets/raw-datasets/number-of-deaths-from-natural-disasters.csv')\n",
    "# Drop the 'code' column\n",
    "deaths_from_natural_disasters.drop(['Code'], axis=1, inplace=True)\n",
    "deaths_from_natural_disasters.head()"
   ]
  },
  {
   "cell_type": "markdown",
   "metadata": {},
   "source": [
    "# Total number of deaths from each natural disaster over the past 100 years"
   ]
  },
  {
   "cell_type": "code",
   "execution_count": 11,
   "metadata": {},
   "outputs": [
    {
     "data": {
      "application/vnd.plotly.v1+json": {
       "config": {
        "plotlyServerURL": "https://plot.ly"
       },
       "data": [
        {
         "marker": {
          "line": {
           "width": 2
          },
          "size": [
           1261000,
           85000,
           524000,
           1200000,
           3000000,
           20000,
           1500000,
           1900000,
           30000,
           50,
           1502000,
           8000,
           600,
           100000,
           19000,
           63,
           18,
           103000,
           280,
           450520,
           230,
           84,
           1317,
           1600,
           237,
           2000,
           732,
           20,
           361,
           80,
           99,
           588,
           9,
           80,
           149,
           134,
           8,
           20000,
           35,
           0,
           0,
           77
          ],
          "sizemode": "area",
          "sizeref": 741.2454
         },
         "mode": "markers",
         "name": "Drought",
         "text": [
          1261000,
          85000,
          524000,
          1200000,
          3000000,
          20000,
          1500000,
          1900000,
          30000,
          50,
          1502000,
          8000,
          600,
          100000,
          19000,
          63,
          18,
          103000,
          280,
          450520,
          230,
          84,
          1317,
          1600,
          237,
          2000,
          732,
          20,
          361,
          80,
          99,
          588,
          9,
          80,
          149,
          134,
          8,
          20000,
          35,
          0,
          0,
          77
         ],
         "type": "scatter",
         "x": [
          1900,
          1910,
          1920,
          1921,
          1928,
          1940,
          1942,
          1943,
          1946,
          1964,
          1965,
          1966,
          1967,
          1973,
          1974,
          1978,
          1979,
          1981,
          1982,
          1983,
          1984,
          1986,
          1987,
          1988,
          1989,
          1991,
          1997,
          1998,
          1999,
          2000,
          2001,
          2002,
          2003,
          2004,
          2005,
          2006,
          2008,
          2010,
          2015,
          2017,
          2018,
          2019
         ],
         "y": [
          "Drought",
          "Drought",
          "Drought",
          "Drought",
          "Drought",
          "Drought",
          "Drought",
          "Drought",
          "Drought",
          "Drought",
          "Drought",
          "Drought",
          "Drought",
          "Drought",
          "Drought",
          "Drought",
          "Drought",
          "Drought",
          "Drought",
          "Drought",
          "Drought",
          "Drought",
          "Drought",
          "Drought",
          "Drought",
          "Drought",
          "Drought",
          "Drought",
          "Drought",
          "Drought",
          "Drought",
          "Drought",
          "Drought",
          "Drought",
          "Drought",
          "Drought",
          "Drought",
          "Drought",
          "Drought",
          "Drought",
          "Drought",
          "Drought"
         ]
        },
        {
         "marker": {
          "line": {
           "width": 2
          },
          "size": [
           18,
           6747,
           6000,
           22500,
           31966,
           25641,
           75000,
           5146,
           1762,
           923,
           150,
           149,
           29986,
           19450,
           10379,
           180000,
           1100,
           152362,
           767,
           5013,
           12,
           206142,
           635,
           3317,
           5081,
           1537,
           70006,
           16180,
           15496,
           66110,
           26,
           166,
           63094,
           1275,
           189,
           7235,
           4332,
           14984,
           5961,
           5153,
           633,
           115618,
           6486,
           1833,
           1554,
           2432,
           2717,
           3344,
           959,
           763,
           6993,
           227,
           103,
           19395,
           60,
           12209,
           1700,
           335,
           683,
           2752,
           1013,
           10858,
           3353,
           78599,
           1107,
           15170,
           552,
           24808,
           12632,
           276994,
           3098,
           25162,
           2100,
           7730,
           4206,
           2120,
           2148,
           57,
           9853,
           1181,
           5160,
           27049,
           650,
           42853,
           2454,
           4033,
           10088,
           1242,
           7739,
           576,
           3159,
           9573,
           21869,
           217,
           21348,
           1639,
           29617,
           227290,
           76241,
           6692,
           780,
           87918,
           1893,
           226733,
           20946,
           711,
           1120,
           774,
           9550,
           1311,
           861,
           4321,
           259
          ],
          "sizemode": "area",
          "sizeref": 741.2454
         },
         "mode": "markers",
         "name": "Earthquake",
         "text": [
          18,
          6747,
          6000,
          22500,
          31966,
          25641,
          75000,
          5146,
          1762,
          923,
          150,
          149,
          29986,
          19450,
          10379,
          180000,
          1100,
          152362,
          767,
          5013,
          12,
          206142,
          635,
          3317,
          5081,
          1537,
          70006,
          16180,
          15496,
          66110,
          26,
          166,
          63094,
          1275,
          189,
          7235,
          4332,
          14984,
          5961,
          5153,
          633,
          115618,
          6486,
          1833,
          1554,
          2432,
          2717,
          3344,
          959,
          763,
          6993,
          227,
          103,
          19395,
          60,
          12209,
          1700,
          335,
          683,
          2752,
          1013,
          10858,
          3353,
          78599,
          1107,
          15170,
          552,
          24808,
          12632,
          276994,
          3098,
          25162,
          2100,
          7730,
          4206,
          2120,
          2148,
          57,
          9853,
          1181,
          5160,
          27049,
          650,
          42853,
          2454,
          4033,
          10088,
          1242,
          7739,
          576,
          3159,
          9573,
          21869,
          217,
          21348,
          1639,
          29617,
          227290,
          76241,
          6692,
          780,
          87918,
          1893,
          226733,
          20946,
          711,
          1120,
          774,
          9550,
          1311,
          861,
          4321,
          259
         ],
         "type": "scatter",
         "x": [
          1901,
          1902,
          1903,
          1905,
          1906,
          1907,
          1908,
          1909,
          1910,
          1912,
          1913,
          1914,
          1915,
          1917,
          1918,
          1920,
          1922,
          1923,
          1924,
          1925,
          1926,
          1927,
          1928,
          1929,
          1930,
          1931,
          1932,
          1933,
          1934,
          1935,
          1936,
          1938,
          1939,
          1940,
          1941,
          1942,
          1943,
          1944,
          1945,
          1946,
          1947,
          1948,
          1949,
          1950,
          1951,
          1952,
          1953,
          1954,
          1955,
          1956,
          1957,
          1958,
          1959,
          1960,
          1961,
          1962,
          1963,
          1964,
          1965,
          1966,
          1967,
          1968,
          1969,
          1970,
          1971,
          1972,
          1973,
          1974,
          1975,
          1976,
          1977,
          1978,
          1979,
          1980,
          1981,
          1982,
          1983,
          1984,
          1985,
          1986,
          1987,
          1988,
          1989,
          1990,
          1991,
          1992,
          1993,
          1994,
          1995,
          1996,
          1997,
          1998,
          1999,
          2000,
          2001,
          2002,
          2003,
          2004,
          2005,
          2006,
          2007,
          2008,
          2009,
          2010,
          2011,
          2012,
          2013,
          2014,
          2015,
          2016,
          2017,
          2018,
          2019
         ],
         "y": [
          "Earthquake",
          "Earthquake",
          "Earthquake",
          "Earthquake",
          "Earthquake",
          "Earthquake",
          "Earthquake",
          "Earthquake",
          "Earthquake",
          "Earthquake",
          "Earthquake",
          "Earthquake",
          "Earthquake",
          "Earthquake",
          "Earthquake",
          "Earthquake",
          "Earthquake",
          "Earthquake",
          "Earthquake",
          "Earthquake",
          "Earthquake",
          "Earthquake",
          "Earthquake",
          "Earthquake",
          "Earthquake",
          "Earthquake",
          "Earthquake",
          "Earthquake",
          "Earthquake",
          "Earthquake",
          "Earthquake",
          "Earthquake",
          "Earthquake",
          "Earthquake",
          "Earthquake",
          "Earthquake",
          "Earthquake",
          "Earthquake",
          "Earthquake",
          "Earthquake",
          "Earthquake",
          "Earthquake",
          "Earthquake",
          "Earthquake",
          "Earthquake",
          "Earthquake",
          "Earthquake",
          "Earthquake",
          "Earthquake",
          "Earthquake",
          "Earthquake",
          "Earthquake",
          "Earthquake",
          "Earthquake",
          "Earthquake",
          "Earthquake",
          "Earthquake",
          "Earthquake",
          "Earthquake",
          "Earthquake",
          "Earthquake",
          "Earthquake",
          "Earthquake",
          "Earthquake",
          "Earthquake",
          "Earthquake",
          "Earthquake",
          "Earthquake",
          "Earthquake",
          "Earthquake",
          "Earthquake",
          "Earthquake",
          "Earthquake",
          "Earthquake",
          "Earthquake",
          "Earthquake",
          "Earthquake",
          "Earthquake",
          "Earthquake",
          "Earthquake",
          "Earthquake",
          "Earthquake",
          "Earthquake",
          "Earthquake",
          "Earthquake",
          "Earthquake",
          "Earthquake",
          "Earthquake",
          "Earthquake",
          "Earthquake",
          "Earthquake",
          "Earthquake",
          "Earthquake",
          "Earthquake",
          "Earthquake",
          "Earthquake",
          "Earthquake",
          "Earthquake",
          "Earthquake",
          "Earthquake",
          "Earthquake",
          "Earthquake",
          "Earthquake",
          "Earthquake",
          "Earthquake",
          "Earthquake",
          "Earthquake",
          "Earthquake",
          "Earthquake",
          "Earthquake",
          "Earthquake",
          "Earthquake",
          "Earthquake"
         ]
        },
        {
         "marker": {
          "line": {
           "width": 2
          },
          "size": [
           1693,
           69,
           669,
           107,
           651,
           400,
           50,
           162,
           100,
           262,
           153,
           400,
           110,
           283,
           140,
           150,
           470,
           1389,
           300,
           400,
           205,
           290,
           456,
           50,
           1220,
           644,
           381,
           979,
           835,
           388,
           106,
           341,
           1730,
           300,
           604,
           3269,
           771,
           941,
           1787,
           3369,
           74698,
           255,
           1550,
           4826,
           1086,
           1688,
           1386,
           57188,
           435,
           1834,
           1821,
           1168,
           7425,
           490,
           133,
           536,
           2908
          ],
          "sizemode": "area",
          "sizeref": 741.2454
         },
         "mode": "markers",
         "name": "Extreme temperature",
         "text": [
          1693,
          69,
          669,
          107,
          651,
          400,
          50,
          162,
          100,
          262,
          153,
          400,
          110,
          283,
          140,
          150,
          470,
          1389,
          300,
          400,
          205,
          290,
          456,
          50,
          1220,
          644,
          381,
          979,
          835,
          388,
          106,
          341,
          1730,
          300,
          604,
          3269,
          771,
          941,
          1787,
          3369,
          74698,
          255,
          1550,
          4826,
          1086,
          1688,
          1386,
          57188,
          435,
          1834,
          1821,
          1168,
          7425,
          490,
          133,
          536,
          2908
         ],
         "type": "scatter",
         "x": [
          1936,
          1951,
          1953,
          1955,
          1958,
          1961,
          1962,
          1963,
          1965,
          1966,
          1968,
          1971,
          1972,
          1973,
          1975,
          1978,
          1979,
          1980,
          1981,
          1982,
          1983,
          1984,
          1985,
          1986,
          1987,
          1988,
          1989,
          1990,
          1991,
          1992,
          1993,
          1994,
          1995,
          1996,
          1997,
          1998,
          1999,
          2000,
          2001,
          2002,
          2003,
          2004,
          2005,
          2006,
          2007,
          2008,
          2009,
          2010,
          2011,
          2012,
          2013,
          2014,
          2015,
          2016,
          2017,
          2018,
          2019
         ],
         "y": [
          "Extreme temperature",
          "Extreme temperature",
          "Extreme temperature",
          "Extreme temperature",
          "Extreme temperature",
          "Extreme temperature",
          "Extreme temperature",
          "Extreme temperature",
          "Extreme temperature",
          "Extreme temperature",
          "Extreme temperature",
          "Extreme temperature",
          "Extreme temperature",
          "Extreme temperature",
          "Extreme temperature",
          "Extreme temperature",
          "Extreme temperature",
          "Extreme temperature",
          "Extreme temperature",
          "Extreme temperature",
          "Extreme temperature",
          "Extreme temperature",
          "Extreme temperature",
          "Extreme temperature",
          "Extreme temperature",
          "Extreme temperature",
          "Extreme temperature",
          "Extreme temperature",
          "Extreme temperature",
          "Extreme temperature",
          "Extreme temperature",
          "Extreme temperature",
          "Extreme temperature",
          "Extreme temperature",
          "Extreme temperature",
          "Extreme temperature",
          "Extreme temperature",
          "Extreme temperature",
          "Extreme temperature",
          "Extreme temperature",
          "Extreme temperature",
          "Extreme temperature",
          "Extreme temperature",
          "Extreme temperature",
          "Extreme temperature",
          "Extreme temperature",
          "Extreme temperature",
          "Extreme temperature",
          "Extreme temperature",
          "Extreme temperature",
          "Extreme temperature",
          "Extreme temperature",
          "Extreme temperature",
          "Extreme temperature",
          "Extreme temperature",
          "Extreme temperature",
          "Extreme temperature"
         ]
        },
        {
         "marker": {
          "line": {
           "width": 2
          },
          "size": [
           6000,
           600,
           163,
           240,
           10298,
           713,
           30,
           1000,
           51170,
           732,
           2125,
           300,
           4057,
           34,
           500,
           224,
           100000,
           3139,
           2242,
           819,
           3568,
           5772,
           4224,
           4082,
           3200,
           3244,
           63,
           5091,
           62707,
           3309,
           11231,
           905,
           3,
           123,
           5006,
           101000,
           5000,
           726,
           4415,
           337,
           4738,
           2971,
           2804,
           873,
           2861,
           6277,
           1814,
           2969,
           3895,
           3114,
           1139,
           2620,
           9695,
           9164,
           12852,
           1860,
           29965,
           10655,
           59932,
           2327,
           2255,
           1669,
           3252,
           304495,
           10811,
           1427,
           4344,
           11861,
           1041,
           1763,
           15298,
           3676,
           2623,
           1379,
           3790,
           2782,
           3656,
           5468,
           17165,
           1939,
           2900,
           3335,
           4256,
           4604,
           146297,
           1342,
           2965,
           4239,
           3763,
           4581,
           6150,
           24935,
           12270,
           1354,
           1911,
           1382,
           1049,
           6547,
           5251,
           4329,
           6035,
           140985,
           3287,
           1564,
           3103,
           3105,
           8603,
           1424,
           1270,
           1760,
           1014,
           1666,
           2519
          ],
          "sizemode": "area",
          "sizeref": 741.2454
         },
         "mode": "markers",
         "name": "Extreme weather",
         "text": [
          6000,
          600,
          163,
          240,
          10298,
          713,
          30,
          1000,
          51170,
          732,
          2125,
          300,
          4057,
          34,
          500,
          224,
          100000,
          3139,
          2242,
          819,
          3568,
          5772,
          4224,
          4082,
          3200,
          3244,
          63,
          5091,
          62707,
          3309,
          11231,
          905,
          3,
          123,
          5006,
          101000,
          5000,
          726,
          4415,
          337,
          4738,
          2971,
          2804,
          873,
          2861,
          6277,
          1814,
          2969,
          3895,
          3114,
          1139,
          2620,
          9695,
          9164,
          12852,
          1860,
          29965,
          10655,
          59932,
          2327,
          2255,
          1669,
          3252,
          304495,
          10811,
          1427,
          4344,
          11861,
          1041,
          1763,
          15298,
          3676,
          2623,
          1379,
          3790,
          2782,
          3656,
          5468,
          17165,
          1939,
          2900,
          3335,
          4256,
          4604,
          146297,
          1342,
          2965,
          4239,
          3763,
          4581,
          6150,
          24935,
          12270,
          1354,
          1911,
          1382,
          1049,
          6547,
          5251,
          4329,
          6035,
          140985,
          3287,
          1564,
          3103,
          3105,
          8603,
          1424,
          1270,
          1760,
          1014,
          1666,
          2519
         ],
         "type": "scatter",
         "x": [
          1900,
          1902,
          1903,
          1905,
          1906,
          1909,
          1910,
          1911,
          1912,
          1913,
          1915,
          1916,
          1917,
          1918,
          1919,
          1920,
          1922,
          1923,
          1924,
          1925,
          1926,
          1927,
          1928,
          1930,
          1931,
          1932,
          1933,
          1934,
          1935,
          1936,
          1937,
          1938,
          1939,
          1940,
          1941,
          1942,
          1943,
          1944,
          1945,
          1946,
          1947,
          1948,
          1949,
          1950,
          1951,
          1952,
          1953,
          1954,
          1955,
          1956,
          1957,
          1958,
          1959,
          1960,
          1961,
          1962,
          1963,
          1964,
          1965,
          1966,
          1967,
          1968,
          1969,
          1970,
          1971,
          1972,
          1973,
          1974,
          1975,
          1976,
          1977,
          1978,
          1979,
          1980,
          1981,
          1982,
          1983,
          1984,
          1985,
          1986,
          1987,
          1988,
          1989,
          1990,
          1991,
          1992,
          1993,
          1994,
          1995,
          1996,
          1997,
          1998,
          1999,
          2000,
          2001,
          2002,
          2003,
          2004,
          2005,
          2006,
          2007,
          2008,
          2009,
          2010,
          2011,
          2012,
          2013,
          2014,
          2015,
          2016,
          2017,
          2018,
          2019
         ],
         "y": [
          "Extreme weather",
          "Extreme weather",
          "Extreme weather",
          "Extreme weather",
          "Extreme weather",
          "Extreme weather",
          "Extreme weather",
          "Extreme weather",
          "Extreme weather",
          "Extreme weather",
          "Extreme weather",
          "Extreme weather",
          "Extreme weather",
          "Extreme weather",
          "Extreme weather",
          "Extreme weather",
          "Extreme weather",
          "Extreme weather",
          "Extreme weather",
          "Extreme weather",
          "Extreme weather",
          "Extreme weather",
          "Extreme weather",
          "Extreme weather",
          "Extreme weather",
          "Extreme weather",
          "Extreme weather",
          "Extreme weather",
          "Extreme weather",
          "Extreme weather",
          "Extreme weather",
          "Extreme weather",
          "Extreme weather",
          "Extreme weather",
          "Extreme weather",
          "Extreme weather",
          "Extreme weather",
          "Extreme weather",
          "Extreme weather",
          "Extreme weather",
          "Extreme weather",
          "Extreme weather",
          "Extreme weather",
          "Extreme weather",
          "Extreme weather",
          "Extreme weather",
          "Extreme weather",
          "Extreme weather",
          "Extreme weather",
          "Extreme weather",
          "Extreme weather",
          "Extreme weather",
          "Extreme weather",
          "Extreme weather",
          "Extreme weather",
          "Extreme weather",
          "Extreme weather",
          "Extreme weather",
          "Extreme weather",
          "Extreme weather",
          "Extreme weather",
          "Extreme weather",
          "Extreme weather",
          "Extreme weather",
          "Extreme weather",
          "Extreme weather",
          "Extreme weather",
          "Extreme weather",
          "Extreme weather",
          "Extreme weather",
          "Extreme weather",
          "Extreme weather",
          "Extreme weather",
          "Extreme weather",
          "Extreme weather",
          "Extreme weather",
          "Extreme weather",
          "Extreme weather",
          "Extreme weather",
          "Extreme weather",
          "Extreme weather",
          "Extreme weather",
          "Extreme weather",
          "Extreme weather",
          "Extreme weather",
          "Extreme weather",
          "Extreme weather",
          "Extreme weather",
          "Extreme weather",
          "Extreme weather",
          "Extreme weather",
          "Extreme weather",
          "Extreme weather",
          "Extreme weather",
          "Extreme weather",
          "Extreme weather",
          "Extreme weather",
          "Extreme weather",
          "Extreme weather",
          "Extreme weather",
          "Extreme weather",
          "Extreme weather",
          "Extreme weather",
          "Extreme weather",
          "Extreme weather",
          "Extreme weather",
          "Extreme weather",
          "Extreme weather",
          "Extreme weather",
          "Extreme weather",
          "Extreme weather",
          "Extreme weather",
          "Extreme weather"
         ]
        },
        {
         "marker": {
          "line": {
           "width": 2
          },
          "size": [
           300,
           250,
           6,
           72,
           1379,
           100000,
           1000,
           3246,
           36,
           3700000,
           18053,
           142000,
           200,
           248,
           954,
           500010,
           125,
           990,
           2000,
           917,
           97000,
           3808,
           5666,
           199,
           7125,
           34436,
           584,
           3613,
           2471,
           400,
           2003396,
           10577,
           3863,
           1180,
           1031,
           1123,
           1401,
           1923,
           2446,
           7306,
           1544,
           3246,
           2404,
           2548,
           1835,
           29431,
           848,
           960,
           2568,
           5897,
           1038,
           10466,
           5283,
           4648,
           2082,
           2930,
           4376,
           1782,
           6766,
           8504,
           4716,
           2251,
           5852,
           5315,
           6150,
           6771,
           7956,
           8047,
           7685,
           10653,
           34807,
           6025,
           5014,
           4236,
           3910,
           6982,
           5754,
           5843,
           8607,
           4007,
           3627,
           8356,
           6163,
           3544,
           9836,
           3532,
           3495,
           4720,
           3086,
           2869,
           5100
          ],
          "sizemode": "area",
          "sizeref": 741.2454
         },
         "mode": "markers",
         "name": "Flood",
         "text": [
          300,
          250,
          6,
          72,
          1379,
          100000,
          1000,
          3246,
          36,
          3700000,
          18053,
          142000,
          200,
          248,
          954,
          500010,
          125,
          990,
          2000,
          917,
          97000,
          3808,
          5666,
          199,
          7125,
          34436,
          584,
          3613,
          2471,
          400,
          2003396,
          10577,
          3863,
          1180,
          1031,
          1123,
          1401,
          1923,
          2446,
          7306,
          1544,
          3246,
          2404,
          2548,
          1835,
          29431,
          848,
          960,
          2568,
          5897,
          1038,
          10466,
          5283,
          4648,
          2082,
          2930,
          4376,
          1782,
          6766,
          8504,
          4716,
          2251,
          5852,
          5315,
          6150,
          6771,
          7956,
          8047,
          7685,
          10653,
          34807,
          6025,
          5014,
          4236,
          3910,
          6982,
          5754,
          5843,
          8607,
          4007,
          3627,
          8356,
          6163,
          3544,
          9836,
          3532,
          3495,
          4720,
          3086,
          2869,
          5100
         ],
         "type": "scatter",
         "x": [
          1900,
          1903,
          1906,
          1909,
          1910,
          1911,
          1926,
          1927,
          1928,
          1931,
          1933,
          1935,
          1936,
          1937,
          1938,
          1939,
          1940,
          1943,
          1947,
          1948,
          1949,
          1950,
          1951,
          1952,
          1953,
          1954,
          1955,
          1956,
          1957,
          1958,
          1959,
          1960,
          1961,
          1962,
          1963,
          1964,
          1965,
          1966,
          1967,
          1968,
          1969,
          1970,
          1971,
          1972,
          1973,
          1974,
          1975,
          1976,
          1977,
          1978,
          1979,
          1980,
          1981,
          1982,
          1983,
          1984,
          1985,
          1986,
          1987,
          1988,
          1989,
          1990,
          1991,
          1992,
          1993,
          1994,
          1995,
          1996,
          1997,
          1998,
          1999,
          2000,
          2001,
          2002,
          2003,
          2004,
          2005,
          2006,
          2007,
          2008,
          2009,
          2010,
          2011,
          2012,
          2013,
          2014,
          2015,
          2016,
          2017,
          2018,
          2019
         ],
         "y": [
          "Flood",
          "Flood",
          "Flood",
          "Flood",
          "Flood",
          "Flood",
          "Flood",
          "Flood",
          "Flood",
          "Flood",
          "Flood",
          "Flood",
          "Flood",
          "Flood",
          "Flood",
          "Flood",
          "Flood",
          "Flood",
          "Flood",
          "Flood",
          "Flood",
          "Flood",
          "Flood",
          "Flood",
          "Flood",
          "Flood",
          "Flood",
          "Flood",
          "Flood",
          "Flood",
          "Flood",
          "Flood",
          "Flood",
          "Flood",
          "Flood",
          "Flood",
          "Flood",
          "Flood",
          "Flood",
          "Flood",
          "Flood",
          "Flood",
          "Flood",
          "Flood",
          "Flood",
          "Flood",
          "Flood",
          "Flood",
          "Flood",
          "Flood",
          "Flood",
          "Flood",
          "Flood",
          "Flood",
          "Flood",
          "Flood",
          "Flood",
          "Flood",
          "Flood",
          "Flood",
          "Flood",
          "Flood",
          "Flood",
          "Flood",
          "Flood",
          "Flood",
          "Flood",
          "Flood",
          "Flood",
          "Flood",
          "Flood",
          "Flood",
          "Flood",
          "Flood",
          "Flood",
          "Flood",
          "Flood",
          "Flood",
          "Flood",
          "Flood",
          "Flood",
          "Flood",
          "Flood",
          "Flood",
          "Flood",
          "Flood",
          "Flood",
          "Flood",
          "Flood",
          "Flood",
          "Flood"
         ]
        },
        {
         "marker": {
          "line": {
           "width": 2
          },
          "size": [],
          "sizemode": "area",
          "sizeref": 741.2454
         },
         "mode": "markers",
         "name": "Impact",
         "text": [],
         "type": "scatter",
         "x": [],
         "y": []
        },
        {
         "marker": {
          "line": {
           "width": 2
          },
          "size": [
           53,
           100,
           200,
           128,
           40,
           190,
           30,
           500,
           73,
           200,
           5000,
           525,
           12000,
           130,
           92,
           28,
           1086,
           478,
           236,
           52,
           48,
           52,
           166,
           71,
           2033,
           108,
           204,
           604,
           590,
           1196,
           18,
           186,
           1020,
           755,
           3541,
           904,
           195,
           315,
           40,
           86,
           338,
           300,
           421,
           640,
           1159,
           228,
           377,
           501,
           1204,
           952,
           445,
           98,
           728,
           712,
           1418,
           307,
           1521,
           1155,
           801,
           1141,
           445,
           1012,
           786,
           1100,
           706,
           313,
           664,
           1638,
           271,
           504,
           723,
           3427,
           309,
           501,
           235,
           943,
           1006,
           361,
           2080,
           275,
           719
          ],
          "sizemode": "area",
          "sizeref": 741.2454
         },
         "mode": "markers",
         "name": "Landslide",
         "text": [
          53,
          100,
          200,
          128,
          40,
          190,
          30,
          500,
          73,
          200,
          5000,
          525,
          12000,
          130,
          92,
          28,
          1086,
          478,
          236,
          52,
          48,
          52,
          166,
          71,
          2033,
          108,
          204,
          604,
          590,
          1196,
          18,
          186,
          1020,
          755,
          3541,
          904,
          195,
          315,
          40,
          86,
          338,
          300,
          421,
          640,
          1159,
          228,
          377,
          501,
          1204,
          952,
          445,
          98,
          728,
          712,
          1418,
          307,
          1521,
          1155,
          801,
          1141,
          445,
          1012,
          786,
          1100,
          706,
          313,
          664,
          1638,
          271,
          504,
          723,
          3427,
          309,
          501,
          235,
          943,
          1006,
          361,
          2080,
          275,
          719
         ],
         "type": "scatter",
         "x": [
          1909,
          1922,
          1923,
          1926,
          1930,
          1931,
          1932,
          1934,
          1936,
          1938,
          1941,
          1948,
          1949,
          1950,
          1951,
          1952,
          1954,
          1955,
          1956,
          1958,
          1959,
          1960,
          1961,
          1962,
          1963,
          1964,
          1965,
          1966,
          1967,
          1968,
          1969,
          1970,
          1971,
          1972,
          1973,
          1974,
          1975,
          1976,
          1977,
          1978,
          1979,
          1980,
          1981,
          1982,
          1983,
          1984,
          1985,
          1986,
          1987,
          1988,
          1989,
          1990,
          1991,
          1992,
          1993,
          1994,
          1995,
          1996,
          1997,
          1998,
          1999,
          2000,
          2001,
          2002,
          2003,
          2004,
          2005,
          2006,
          2007,
          2008,
          2009,
          2010,
          2011,
          2012,
          2013,
          2014,
          2015,
          2016,
          2017,
          2018,
          2019
         ],
         "y": [
          "Landslide",
          "Landslide",
          "Landslide",
          "Landslide",
          "Landslide",
          "Landslide",
          "Landslide",
          "Landslide",
          "Landslide",
          "Landslide",
          "Landslide",
          "Landslide",
          "Landslide",
          "Landslide",
          "Landslide",
          "Landslide",
          "Landslide",
          "Landslide",
          "Landslide",
          "Landslide",
          "Landslide",
          "Landslide",
          "Landslide",
          "Landslide",
          "Landslide",
          "Landslide",
          "Landslide",
          "Landslide",
          "Landslide",
          "Landslide",
          "Landslide",
          "Landslide",
          "Landslide",
          "Landslide",
          "Landslide",
          "Landslide",
          "Landslide",
          "Landslide",
          "Landslide",
          "Landslide",
          "Landslide",
          "Landslide",
          "Landslide",
          "Landslide",
          "Landslide",
          "Landslide",
          "Landslide",
          "Landslide",
          "Landslide",
          "Landslide",
          "Landslide",
          "Landslide",
          "Landslide",
          "Landslide",
          "Landslide",
          "Landslide",
          "Landslide",
          "Landslide",
          "Landslide",
          "Landslide",
          "Landslide",
          "Landslide",
          "Landslide",
          "Landslide",
          "Landslide",
          "Landslide",
          "Landslide",
          "Landslide",
          "Landslide",
          "Landslide",
          "Landslide",
          "Landslide",
          "Landslide",
          "Landslide",
          "Landslide",
          "Landslide",
          "Landslide",
          "Landslide",
          "Landslide",
          "Landslide",
          "Landslide"
         ]
        },
        {
         "marker": {
          "line": {
           "width": 2
          },
          "size": [
           76,
           18,
           33,
           62,
           56,
           40,
           3,
           2000,
           150,
           26,
           42,
           31,
           50,
           59,
           466,
           300,
           183,
           157,
           55,
           116,
           86,
           323,
           341,
           11,
           60,
           44,
           11,
           120,
           36,
           16,
           46,
           13,
           17
          ],
          "sizemode": "area",
          "sizeref": 741.2454
         },
         "mode": "markers",
         "name": "Mass movement (dry)",
         "text": [
          76,
          18,
          33,
          62,
          56,
          40,
          3,
          2000,
          150,
          26,
          42,
          31,
          50,
          59,
          466,
          300,
          183,
          157,
          55,
          116,
          86,
          323,
          341,
          11,
          60,
          44,
          11,
          120,
          36,
          16,
          46,
          13,
          17
         ],
         "type": "scatter",
         "x": [
          1903,
          1905,
          1908,
          1910,
          1915,
          1937,
          1955,
          1962,
          1963,
          1965,
          1970,
          1971,
          1980,
          1982,
          1983,
          1985,
          1987,
          1988,
          1989,
          1990,
          1991,
          1992,
          1993,
          2000,
          2002,
          2004,
          2006,
          2008,
          2009,
          2012,
          2013,
          2015,
          2018
         ],
         "y": [
          "Mass movement (dry)",
          "Mass movement (dry)",
          "Mass movement (dry)",
          "Mass movement (dry)",
          "Mass movement (dry)",
          "Mass movement (dry)",
          "Mass movement (dry)",
          "Mass movement (dry)",
          "Mass movement (dry)",
          "Mass movement (dry)",
          "Mass movement (dry)",
          "Mass movement (dry)",
          "Mass movement (dry)",
          "Mass movement (dry)",
          "Mass movement (dry)",
          "Mass movement (dry)",
          "Mass movement (dry)",
          "Mass movement (dry)",
          "Mass movement (dry)",
          "Mass movement (dry)",
          "Mass movement (dry)",
          "Mass movement (dry)",
          "Mass movement (dry)",
          "Mass movement (dry)",
          "Mass movement (dry)",
          "Mass movement (dry)",
          "Mass movement (dry)",
          "Mass movement (dry)",
          "Mass movement (dry)",
          "Mass movement (dry)",
          "Mass movement (dry)",
          "Mass movement (dry)",
          "Mass movement (dry)"
         ]
        },
        {
         "marker": {
          "line": {
           "width": 2
          },
          "size": [
           30,
           38690,
           17,
           700,
           5500,
           1335,
           140,
           5000,
           144,
           5000,
           1369,
           1300,
           506,
           26,
           100,
           2000,
           84,
           4800,
           29,
           150,
           37,
           1705,
           4,
           355,
           1088,
           90,
           2,
           41,
           215,
           268,
           90,
           192,
           130,
           37,
           21800,
           1746,
           7,
           33,
           683,
           1,
           99,
           101,
           4,
           53,
           200,
           2,
           3,
           5,
           11,
           16,
           323,
           3,
           102,
           0,
           878,
           21
          ],
          "sizemode": "area",
          "sizeref": 741.2454
         },
         "mode": "markers",
         "name": "Volcanic activity",
         "text": [
          30,
          38690,
          17,
          700,
          5500,
          1335,
          140,
          5000,
          144,
          5000,
          1369,
          1300,
          506,
          26,
          100,
          2000,
          84,
          4800,
          29,
          150,
          37,
          1705,
          4,
          355,
          1088,
          90,
          2,
          41,
          215,
          268,
          90,
          192,
          130,
          37,
          21800,
          1746,
          7,
          33,
          683,
          1,
          99,
          101,
          4,
          53,
          200,
          2,
          3,
          5,
          11,
          16,
          323,
          3,
          102,
          0,
          878,
          21
         ],
         "type": "scatter",
         "x": [
          1900,
          1902,
          1903,
          1906,
          1909,
          1911,
          1914,
          1919,
          1926,
          1929,
          1930,
          1931,
          1937,
          1944,
          1948,
          1949,
          1950,
          1951,
          1952,
          1953,
          1954,
          1963,
          1964,
          1965,
          1966,
          1968,
          1975,
          1976,
          1977,
          1979,
          1980,
          1981,
          1982,
          1984,
          1985,
          1986,
          1988,
          1990,
          1991,
          1992,
          1993,
          1994,
          1996,
          1997,
          2002,
          2004,
          2005,
          2006,
          2007,
          2008,
          2010,
          2011,
          2014,
          2017,
          2018,
          2019
         ],
         "y": [
          "Volcanic activity",
          "Volcanic activity",
          "Volcanic activity",
          "Volcanic activity",
          "Volcanic activity",
          "Volcanic activity",
          "Volcanic activity",
          "Volcanic activity",
          "Volcanic activity",
          "Volcanic activity",
          "Volcanic activity",
          "Volcanic activity",
          "Volcanic activity",
          "Volcanic activity",
          "Volcanic activity",
          "Volcanic activity",
          "Volcanic activity",
          "Volcanic activity",
          "Volcanic activity",
          "Volcanic activity",
          "Volcanic activity",
          "Volcanic activity",
          "Volcanic activity",
          "Volcanic activity",
          "Volcanic activity",
          "Volcanic activity",
          "Volcanic activity",
          "Volcanic activity",
          "Volcanic activity",
          "Volcanic activity",
          "Volcanic activity",
          "Volcanic activity",
          "Volcanic activity",
          "Volcanic activity",
          "Volcanic activity",
          "Volcanic activity",
          "Volcanic activity",
          "Volcanic activity",
          "Volcanic activity",
          "Volcanic activity",
          "Volcanic activity",
          "Volcanic activity",
          "Volcanic activity",
          "Volcanic activity",
          "Volcanic activity",
          "Volcanic activity",
          "Volcanic activity",
          "Volcanic activity",
          "Volcanic activity",
          "Volcanic activity",
          "Volcanic activity",
          "Volcanic activity",
          "Volcanic activity",
          "Volcanic activity",
          "Volcanic activity",
          "Volcanic activity"
         ]
        },
        {
         "marker": {
          "line": {
           "width": 2
          },
          "size": [
           73,
           1000,
           43,
           60,
           71,
           170,
           80,
           11,
           25,
           62,
           12,
           3,
           2,
           8,
           2,
           106,
           17,
           51,
           20,
           191,
           1,
           90,
           122,
           3,
           84,
           29,
           45,
           266,
           150,
           70,
           47,
           33,
           6,
           47,
           14,
           45,
           13,
           148,
           86,
           190,
           166,
           10,
           21,
           35,
           16,
           67,
           39,
           167,
           247,
           116
          ],
          "sizemode": "area",
          "sizeref": 741.2454
         },
         "mode": "markers",
         "name": "Wildfire",
         "text": [
          73,
          1000,
          43,
          60,
          71,
          170,
          80,
          11,
          25,
          62,
          12,
          3,
          2,
          8,
          2,
          106,
          17,
          51,
          20,
          191,
          1,
          90,
          122,
          3,
          84,
          29,
          45,
          266,
          150,
          70,
          47,
          33,
          6,
          47,
          14,
          45,
          13,
          148,
          86,
          190,
          166,
          10,
          21,
          35,
          16,
          67,
          39,
          167,
          247,
          116
         ],
         "type": "scatter",
         "x": [
          1911,
          1918,
          1922,
          1929,
          1939,
          1944,
          1949,
          1956,
          1966,
          1967,
          1968,
          1977,
          1978,
          1981,
          1982,
          1983,
          1984,
          1985,
          1986,
          1987,
          1989,
          1991,
          1992,
          1993,
          1994,
          1995,
          1996,
          1997,
          1998,
          1999,
          2000,
          2001,
          2002,
          2003,
          2004,
          2005,
          2006,
          2007,
          2008,
          2009,
          2010,
          2011,
          2012,
          2013,
          2014,
          2015,
          2016,
          2017,
          2018,
          2019
         ],
         "y": [
          "Wildfire",
          "Wildfire",
          "Wildfire",
          "Wildfire",
          "Wildfire",
          "Wildfire",
          "Wildfire",
          "Wildfire",
          "Wildfire",
          "Wildfire",
          "Wildfire",
          "Wildfire",
          "Wildfire",
          "Wildfire",
          "Wildfire",
          "Wildfire",
          "Wildfire",
          "Wildfire",
          "Wildfire",
          "Wildfire",
          "Wildfire",
          "Wildfire",
          "Wildfire",
          "Wildfire",
          "Wildfire",
          "Wildfire",
          "Wildfire",
          "Wildfire",
          "Wildfire",
          "Wildfire",
          "Wildfire",
          "Wildfire",
          "Wildfire",
          "Wildfire",
          "Wildfire",
          "Wildfire",
          "Wildfire",
          "Wildfire",
          "Wildfire",
          "Wildfire",
          "Wildfire",
          "Wildfire",
          "Wildfire",
          "Wildfire",
          "Wildfire",
          "Wildfire",
          "Wildfire",
          "Wildfire",
          "Wildfire",
          "Wildfire"
         ]
        }
       ],
       "layout": {
        "paper_bgcolor": "rgb(243, 243, 243)",
        "plot_bgcolor": "rgb(243, 243, 243)",
        "showlegend": false,
        "template": {
         "data": {
          "bar": [
           {
            "error_x": {
             "color": "#2a3f5f"
            },
            "error_y": {
             "color": "#2a3f5f"
            },
            "marker": {
             "line": {
              "color": "#E5ECF6",
              "width": 0.5
             },
             "pattern": {
              "fillmode": "overlay",
              "size": 10,
              "solidity": 0.2
             }
            },
            "type": "bar"
           }
          ],
          "barpolar": [
           {
            "marker": {
             "line": {
              "color": "#E5ECF6",
              "width": 0.5
             },
             "pattern": {
              "fillmode": "overlay",
              "size": 10,
              "solidity": 0.2
             }
            },
            "type": "barpolar"
           }
          ],
          "carpet": [
           {
            "aaxis": {
             "endlinecolor": "#2a3f5f",
             "gridcolor": "white",
             "linecolor": "white",
             "minorgridcolor": "white",
             "startlinecolor": "#2a3f5f"
            },
            "baxis": {
             "endlinecolor": "#2a3f5f",
             "gridcolor": "white",
             "linecolor": "white",
             "minorgridcolor": "white",
             "startlinecolor": "#2a3f5f"
            },
            "type": "carpet"
           }
          ],
          "choropleth": [
           {
            "colorbar": {
             "outlinewidth": 0,
             "ticks": ""
            },
            "type": "choropleth"
           }
          ],
          "contour": [
           {
            "colorbar": {
             "outlinewidth": 0,
             "ticks": ""
            },
            "colorscale": [
             [
              0,
              "#0d0887"
             ],
             [
              0.1111111111111111,
              "#46039f"
             ],
             [
              0.2222222222222222,
              "#7201a8"
             ],
             [
              0.3333333333333333,
              "#9c179e"
             ],
             [
              0.4444444444444444,
              "#bd3786"
             ],
             [
              0.5555555555555556,
              "#d8576b"
             ],
             [
              0.6666666666666666,
              "#ed7953"
             ],
             [
              0.7777777777777778,
              "#fb9f3a"
             ],
             [
              0.8888888888888888,
              "#fdca26"
             ],
             [
              1,
              "#f0f921"
             ]
            ],
            "type": "contour"
           }
          ],
          "contourcarpet": [
           {
            "colorbar": {
             "outlinewidth": 0,
             "ticks": ""
            },
            "type": "contourcarpet"
           }
          ],
          "heatmap": [
           {
            "colorbar": {
             "outlinewidth": 0,
             "ticks": ""
            },
            "colorscale": [
             [
              0,
              "#0d0887"
             ],
             [
              0.1111111111111111,
              "#46039f"
             ],
             [
              0.2222222222222222,
              "#7201a8"
             ],
             [
              0.3333333333333333,
              "#9c179e"
             ],
             [
              0.4444444444444444,
              "#bd3786"
             ],
             [
              0.5555555555555556,
              "#d8576b"
             ],
             [
              0.6666666666666666,
              "#ed7953"
             ],
             [
              0.7777777777777778,
              "#fb9f3a"
             ],
             [
              0.8888888888888888,
              "#fdca26"
             ],
             [
              1,
              "#f0f921"
             ]
            ],
            "type": "heatmap"
           }
          ],
          "heatmapgl": [
           {
            "colorbar": {
             "outlinewidth": 0,
             "ticks": ""
            },
            "colorscale": [
             [
              0,
              "#0d0887"
             ],
             [
              0.1111111111111111,
              "#46039f"
             ],
             [
              0.2222222222222222,
              "#7201a8"
             ],
             [
              0.3333333333333333,
              "#9c179e"
             ],
             [
              0.4444444444444444,
              "#bd3786"
             ],
             [
              0.5555555555555556,
              "#d8576b"
             ],
             [
              0.6666666666666666,
              "#ed7953"
             ],
             [
              0.7777777777777778,
              "#fb9f3a"
             ],
             [
              0.8888888888888888,
              "#fdca26"
             ],
             [
              1,
              "#f0f921"
             ]
            ],
            "type": "heatmapgl"
           }
          ],
          "histogram": [
           {
            "marker": {
             "pattern": {
              "fillmode": "overlay",
              "size": 10,
              "solidity": 0.2
             }
            },
            "type": "histogram"
           }
          ],
          "histogram2d": [
           {
            "colorbar": {
             "outlinewidth": 0,
             "ticks": ""
            },
            "colorscale": [
             [
              0,
              "#0d0887"
             ],
             [
              0.1111111111111111,
              "#46039f"
             ],
             [
              0.2222222222222222,
              "#7201a8"
             ],
             [
              0.3333333333333333,
              "#9c179e"
             ],
             [
              0.4444444444444444,
              "#bd3786"
             ],
             [
              0.5555555555555556,
              "#d8576b"
             ],
             [
              0.6666666666666666,
              "#ed7953"
             ],
             [
              0.7777777777777778,
              "#fb9f3a"
             ],
             [
              0.8888888888888888,
              "#fdca26"
             ],
             [
              1,
              "#f0f921"
             ]
            ],
            "type": "histogram2d"
           }
          ],
          "histogram2dcontour": [
           {
            "colorbar": {
             "outlinewidth": 0,
             "ticks": ""
            },
            "colorscale": [
             [
              0,
              "#0d0887"
             ],
             [
              0.1111111111111111,
              "#46039f"
             ],
             [
              0.2222222222222222,
              "#7201a8"
             ],
             [
              0.3333333333333333,
              "#9c179e"
             ],
             [
              0.4444444444444444,
              "#bd3786"
             ],
             [
              0.5555555555555556,
              "#d8576b"
             ],
             [
              0.6666666666666666,
              "#ed7953"
             ],
             [
              0.7777777777777778,
              "#fb9f3a"
             ],
             [
              0.8888888888888888,
              "#fdca26"
             ],
             [
              1,
              "#f0f921"
             ]
            ],
            "type": "histogram2dcontour"
           }
          ],
          "mesh3d": [
           {
            "colorbar": {
             "outlinewidth": 0,
             "ticks": ""
            },
            "type": "mesh3d"
           }
          ],
          "parcoords": [
           {
            "line": {
             "colorbar": {
              "outlinewidth": 0,
              "ticks": ""
             }
            },
            "type": "parcoords"
           }
          ],
          "pie": [
           {
            "automargin": true,
            "type": "pie"
           }
          ],
          "scatter": [
           {
            "marker": {
             "colorbar": {
              "outlinewidth": 0,
              "ticks": ""
             }
            },
            "type": "scatter"
           }
          ],
          "scatter3d": [
           {
            "line": {
             "colorbar": {
              "outlinewidth": 0,
              "ticks": ""
             }
            },
            "marker": {
             "colorbar": {
              "outlinewidth": 0,
              "ticks": ""
             }
            },
            "type": "scatter3d"
           }
          ],
          "scattercarpet": [
           {
            "marker": {
             "colorbar": {
              "outlinewidth": 0,
              "ticks": ""
             }
            },
            "type": "scattercarpet"
           }
          ],
          "scattergeo": [
           {
            "marker": {
             "colorbar": {
              "outlinewidth": 0,
              "ticks": ""
             }
            },
            "type": "scattergeo"
           }
          ],
          "scattergl": [
           {
            "marker": {
             "colorbar": {
              "outlinewidth": 0,
              "ticks": ""
             }
            },
            "type": "scattergl"
           }
          ],
          "scattermapbox": [
           {
            "marker": {
             "colorbar": {
              "outlinewidth": 0,
              "ticks": ""
             }
            },
            "type": "scattermapbox"
           }
          ],
          "scatterpolar": [
           {
            "marker": {
             "colorbar": {
              "outlinewidth": 0,
              "ticks": ""
             }
            },
            "type": "scatterpolar"
           }
          ],
          "scatterpolargl": [
           {
            "marker": {
             "colorbar": {
              "outlinewidth": 0,
              "ticks": ""
             }
            },
            "type": "scatterpolargl"
           }
          ],
          "scatterternary": [
           {
            "marker": {
             "colorbar": {
              "outlinewidth": 0,
              "ticks": ""
             }
            },
            "type": "scatterternary"
           }
          ],
          "surface": [
           {
            "colorbar": {
             "outlinewidth": 0,
             "ticks": ""
            },
            "colorscale": [
             [
              0,
              "#0d0887"
             ],
             [
              0.1111111111111111,
              "#46039f"
             ],
             [
              0.2222222222222222,
              "#7201a8"
             ],
             [
              0.3333333333333333,
              "#9c179e"
             ],
             [
              0.4444444444444444,
              "#bd3786"
             ],
             [
              0.5555555555555556,
              "#d8576b"
             ],
             [
              0.6666666666666666,
              "#ed7953"
             ],
             [
              0.7777777777777778,
              "#fb9f3a"
             ],
             [
              0.8888888888888888,
              "#fdca26"
             ],
             [
              1,
              "#f0f921"
             ]
            ],
            "type": "surface"
           }
          ],
          "table": [
           {
            "cells": {
             "fill": {
              "color": "#EBF0F8"
             },
             "line": {
              "color": "white"
             }
            },
            "header": {
             "fill": {
              "color": "#C8D4E3"
             },
             "line": {
              "color": "white"
             }
            },
            "type": "table"
           }
          ]
         },
         "layout": {
          "annotationdefaults": {
           "arrowcolor": "#2a3f5f",
           "arrowhead": 0,
           "arrowwidth": 1
          },
          "autotypenumbers": "strict",
          "coloraxis": {
           "colorbar": {
            "outlinewidth": 0,
            "ticks": ""
           }
          },
          "colorscale": {
           "diverging": [
            [
             0,
             "#8e0152"
            ],
            [
             0.1,
             "#c51b7d"
            ],
            [
             0.2,
             "#de77ae"
            ],
            [
             0.3,
             "#f1b6da"
            ],
            [
             0.4,
             "#fde0ef"
            ],
            [
             0.5,
             "#f7f7f7"
            ],
            [
             0.6,
             "#e6f5d0"
            ],
            [
             0.7,
             "#b8e186"
            ],
            [
             0.8,
             "#7fbc41"
            ],
            [
             0.9,
             "#4d9221"
            ],
            [
             1,
             "#276419"
            ]
           ],
           "sequential": [
            [
             0,
             "#0d0887"
            ],
            [
             0.1111111111111111,
             "#46039f"
            ],
            [
             0.2222222222222222,
             "#7201a8"
            ],
            [
             0.3333333333333333,
             "#9c179e"
            ],
            [
             0.4444444444444444,
             "#bd3786"
            ],
            [
             0.5555555555555556,
             "#d8576b"
            ],
            [
             0.6666666666666666,
             "#ed7953"
            ],
            [
             0.7777777777777778,
             "#fb9f3a"
            ],
            [
             0.8888888888888888,
             "#fdca26"
            ],
            [
             1,
             "#f0f921"
            ]
           ],
           "sequentialminus": [
            [
             0,
             "#0d0887"
            ],
            [
             0.1111111111111111,
             "#46039f"
            ],
            [
             0.2222222222222222,
             "#7201a8"
            ],
            [
             0.3333333333333333,
             "#9c179e"
            ],
            [
             0.4444444444444444,
             "#bd3786"
            ],
            [
             0.5555555555555556,
             "#d8576b"
            ],
            [
             0.6666666666666666,
             "#ed7953"
            ],
            [
             0.7777777777777778,
             "#fb9f3a"
            ],
            [
             0.8888888888888888,
             "#fdca26"
            ],
            [
             1,
             "#f0f921"
            ]
           ]
          },
          "colorway": [
           "#636efa",
           "#EF553B",
           "#00cc96",
           "#ab63fa",
           "#FFA15A",
           "#19d3f3",
           "#FF6692",
           "#B6E880",
           "#FF97FF",
           "#FECB52"
          ],
          "font": {
           "color": "#2a3f5f"
          },
          "geo": {
           "bgcolor": "white",
           "lakecolor": "white",
           "landcolor": "#E5ECF6",
           "showlakes": true,
           "showland": true,
           "subunitcolor": "white"
          },
          "hoverlabel": {
           "align": "left"
          },
          "hovermode": "closest",
          "mapbox": {
           "style": "light"
          },
          "paper_bgcolor": "white",
          "plot_bgcolor": "#E5ECF6",
          "polar": {
           "angularaxis": {
            "gridcolor": "white",
            "linecolor": "white",
            "ticks": ""
           },
           "bgcolor": "#E5ECF6",
           "radialaxis": {
            "gridcolor": "white",
            "linecolor": "white",
            "ticks": ""
           }
          },
          "scene": {
           "xaxis": {
            "backgroundcolor": "#E5ECF6",
            "gridcolor": "white",
            "gridwidth": 2,
            "linecolor": "white",
            "showbackground": true,
            "ticks": "",
            "zerolinecolor": "white"
           },
           "yaxis": {
            "backgroundcolor": "#E5ECF6",
            "gridcolor": "white",
            "gridwidth": 2,
            "linecolor": "white",
            "showbackground": true,
            "ticks": "",
            "zerolinecolor": "white"
           },
           "zaxis": {
            "backgroundcolor": "#E5ECF6",
            "gridcolor": "white",
            "gridwidth": 2,
            "linecolor": "white",
            "showbackground": true,
            "ticks": "",
            "zerolinecolor": "white"
           }
          },
          "shapedefaults": {
           "line": {
            "color": "#2a3f5f"
           }
          },
          "ternary": {
           "aaxis": {
            "gridcolor": "white",
            "linecolor": "white",
            "ticks": ""
           },
           "baxis": {
            "gridcolor": "white",
            "linecolor": "white",
            "ticks": ""
           },
           "bgcolor": "#E5ECF6",
           "caxis": {
            "gridcolor": "white",
            "linecolor": "white",
            "ticks": ""
           }
          },
          "title": {
           "x": 0.05
          },
          "xaxis": {
           "automargin": true,
           "gridcolor": "white",
           "linecolor": "white",
           "ticks": "",
           "title": {
            "standoff": 15
           },
           "zerolinecolor": "white",
           "zerolinewidth": 2
          },
          "yaxis": {
           "automargin": true,
           "gridcolor": "white",
           "linecolor": "white",
           "ticks": "",
           "title": {
            "standoff": 15
           },
           "zerolinecolor": "white",
           "zerolinewidth": 2
          }
         }
        },
        "title": {
         "text": "Deaths from Natural Disasters"
        },
        "xaxis": {
         "gridcolor": "white",
         "gridwidth": 2,
         "title": {
          "text": "Year (1900 - 2019)"
         },
         "type": "log"
        },
        "yaxis": {
         "gridcolor": "white",
         "gridwidth": 2,
         "title": {
          "text": "Natural Disaster"
         }
        }
       }
      }
     },
     "metadata": {},
     "output_type": "display_data"
    }
   ],
   "source": [
    "# Create figure\n",
    "fig = go.Figure()\n",
    "\n",
    "for natural_disaster in natural_disasters_list:\n",
    "\n",
    "    # Extract the data for this natural disaster\n",
    "    deaths_natural_disaster = deaths_from_natural_disasters[deaths_from_natural_disasters['Entity'] == natural_disaster]\n",
    "\n",
    "    # Extract the data for past few decades\n",
    "    # deaths_natural_disaster = deaths_natural_disaster[(deaths_natural_disaster['Year'] >= 1940) & (deaths_natural_disaster['Year'] <= 2019)]\n",
    "\n",
    "    fig.add_trace(go.Scatter(\n",
    "        x=deaths_natural_disaster['Year'], y=deaths_natural_disaster['Entity'],\n",
    "        name=natural_disaster, text=deaths_natural_disaster['Total deaths (EMDAT (2020))'],\n",
    "        marker_size=deaths_natural_disaster['Total deaths (EMDAT (2020))'],\n",
    "        ))\n",
    "\n",
    "# Tune marker appearance and layout\n",
    "fig.update_traces(mode='markers',\n",
    "                  marker=dict(sizemode='area',\n",
    "                  sizeref=2.*max(deaths_from_natural_disasters['Total deaths (EMDAT (2020))'])/(100**2),\n",
    "                  line_width=2))\n",
    "\n",
    "fig.update_layout(\n",
    "    title='Deaths from Natural Disasters',\n",
    "    xaxis=dict(\n",
    "        title='Year (1900 - 2019)',\n",
    "        gridcolor='white',\n",
    "        type='log',\n",
    "        gridwidth=2,\n",
    "    ),\n",
    "    yaxis=dict(\n",
    "        title='Natural Disaster',\n",
    "        gridcolor='white',\n",
    "        gridwidth=2,\n",
    "    ),\n",
    "    paper_bgcolor='rgb(243, 243, 243)',\n",
    "    plot_bgcolor='rgb(243, 243, 243)',\n",
    "    showlegend=False\n",
    ")\n",
    "\n",
    "fig.update_layout()\n",
    "fig.show()"
   ]
  },
  {
   "cell_type": "markdown",
   "metadata": {},
   "source": [
    "# Prepare a file to evaluate the total number of deaths due to each natural disaster over the last 100 years"
   ]
  },
  {
   "cell_type": "code",
   "execution_count": 13,
   "metadata": {},
   "outputs": [
    {
     "data": {
      "text/html": [
       "<div>\n",
       "<style scoped>\n",
       "    .dataframe tbody tr th:only-of-type {\n",
       "        vertical-align: middle;\n",
       "    }\n",
       "\n",
       "    .dataframe tbody tr th {\n",
       "        vertical-align: top;\n",
       "    }\n",
       "\n",
       "    .dataframe thead th {\n",
       "        text-align: right;\n",
       "    }\n",
       "</style>\n",
       "<table border=\"1\" class=\"dataframe\">\n",
       "  <thead>\n",
       "    <tr style=\"text-align: right;\">\n",
       "      <th></th>\n",
       "      <th>Entity</th>\n",
       "      <th>Total Deaths</th>\n",
       "    </tr>\n",
       "  </thead>\n",
       "  <tbody>\n",
       "    <tr>\n",
       "      <th>9</th>\n",
       "      <td>Drought</td>\n",
       "      <td>11731371</td>\n",
       "    </tr>\n",
       "    <tr>\n",
       "      <th>8</th>\n",
       "      <td>Earthquake</td>\n",
       "      <td>2582193</td>\n",
       "    </tr>\n",
       "    <tr>\n",
       "      <th>7</th>\n",
       "      <td>Extreme temperature</td>\n",
       "      <td>186051</td>\n",
       "    </tr>\n",
       "    <tr>\n",
       "      <th>6</th>\n",
       "      <td>Extreme weather</td>\n",
       "      <td>1401406</td>\n",
       "    </tr>\n",
       "    <tr>\n",
       "      <th>5</th>\n",
       "      <td>Flood</td>\n",
       "      <td>6965399</td>\n",
       "    </tr>\n",
       "  </tbody>\n",
       "</table>\n",
       "</div>"
      ],
      "text/plain": [
       "                Entity Total Deaths\n",
       "9              Drought     11731371\n",
       "8           Earthquake      2582193\n",
       "7  Extreme temperature       186051\n",
       "6      Extreme weather      1401406\n",
       "5                Flood      6965399"
      ]
     },
     "execution_count": 13,
     "metadata": {},
     "output_type": "execute_result"
    }
   ],
   "source": [
    "# Create an empty dataframe to store the data\n",
    "total_deaths_natural_disaster = pd.DataFrame(columns=['Entity', 'Total Deaths'])\n",
    "\n",
    "for natural_disaster in natural_disasters_list:\n",
    "\n",
    "    # Calculate the total number of deaths due to this natural disaster\n",
    "    total_deaths = sum(deaths_from_natural_disasters[deaths_from_natural_disasters['Entity']==natural_disaster]['Total deaths (EMDAT (2020))'].values)\n",
    "\n",
    "    # Add the row to dataframe\n",
    "    total_deaths_natural_disaster.loc[-1] = [natural_disaster, total_deaths]\n",
    "    total_deaths_natural_disaster.index += 1\n",
    "\n",
    "# dump data to csv files\n",
    "total_deaths_natural_disaster.to_csv('./../datasets/cleaned-datasets/total_deaths_natural_disaster.csv', index=False)\n",
    "total_deaths_natural_disaster.head()"
   ]
  },
  {
   "cell_type": "markdown",
   "metadata": {},
   "source": [
    "# Plot a bar chart depicting the global deaths from each natural disaster over the past years"
   ]
  },
  {
   "cell_type": "code",
   "execution_count": 14,
   "metadata": {},
   "outputs": [
    {
     "data": {
      "application/vnd.plotly.v1+json": {
       "config": {
        "plotlyServerURL": "https://plot.ly"
       },
       "data": [
        {
         "alignmentgroup": "True",
         "hovertemplate": "Entity=%{x}<br>Total Deaths=%{y}<extra></extra>",
         "legendgroup": "Drought",
         "marker": {
          "color": "#636efa",
          "pattern": {
           "shape": ""
          }
         },
         "name": "Drought",
         "offsetgroup": "Drought",
         "orientation": "v",
         "showlegend": true,
         "textposition": "auto",
         "type": "bar",
         "x": [
          "Drought"
         ],
         "xaxis": "x",
         "y": [
          11731371
         ],
         "yaxis": "y"
        },
        {
         "alignmentgroup": "True",
         "hovertemplate": "Entity=%{x}<br>Total Deaths=%{y}<extra></extra>",
         "legendgroup": "Earthquake",
         "marker": {
          "color": "#EF553B",
          "pattern": {
           "shape": ""
          }
         },
         "name": "Earthquake",
         "offsetgroup": "Earthquake",
         "orientation": "v",
         "showlegend": true,
         "textposition": "auto",
         "type": "bar",
         "x": [
          "Earthquake"
         ],
         "xaxis": "x",
         "y": [
          2582193
         ],
         "yaxis": "y"
        },
        {
         "alignmentgroup": "True",
         "hovertemplate": "Entity=%{x}<br>Total Deaths=%{y}<extra></extra>",
         "legendgroup": "Extreme temperature",
         "marker": {
          "color": "#00cc96",
          "pattern": {
           "shape": ""
          }
         },
         "name": "Extreme temperature",
         "offsetgroup": "Extreme temperature",
         "orientation": "v",
         "showlegend": true,
         "textposition": "auto",
         "type": "bar",
         "x": [
          "Extreme temperature"
         ],
         "xaxis": "x",
         "y": [
          186051
         ],
         "yaxis": "y"
        },
        {
         "alignmentgroup": "True",
         "hovertemplate": "Entity=%{x}<br>Total Deaths=%{y}<extra></extra>",
         "legendgroup": "Extreme weather",
         "marker": {
          "color": "#ab63fa",
          "pattern": {
           "shape": ""
          }
         },
         "name": "Extreme weather",
         "offsetgroup": "Extreme weather",
         "orientation": "v",
         "showlegend": true,
         "textposition": "auto",
         "type": "bar",
         "x": [
          "Extreme weather"
         ],
         "xaxis": "x",
         "y": [
          1401406
         ],
         "yaxis": "y"
        },
        {
         "alignmentgroup": "True",
         "hovertemplate": "Entity=%{x}<br>Total Deaths=%{y}<extra></extra>",
         "legendgroup": "Flood",
         "marker": {
          "color": "#FFA15A",
          "pattern": {
           "shape": ""
          }
         },
         "name": "Flood",
         "offsetgroup": "Flood",
         "orientation": "v",
         "showlegend": true,
         "textposition": "auto",
         "type": "bar",
         "x": [
          "Flood"
         ],
         "xaxis": "x",
         "y": [
          6965399
         ],
         "yaxis": "y"
        },
        {
         "alignmentgroup": "True",
         "hovertemplate": "Entity=%{x}<br>Total Deaths=%{y}<extra></extra>",
         "legendgroup": "Impact",
         "marker": {
          "color": "#19d3f3",
          "pattern": {
           "shape": ""
          }
         },
         "name": "Impact",
         "offsetgroup": "Impact",
         "orientation": "v",
         "showlegend": true,
         "textposition": "auto",
         "type": "bar",
         "x": [
          "Impact"
         ],
         "xaxis": "x",
         "y": [
          0
         ],
         "yaxis": "y"
        },
        {
         "alignmentgroup": "True",
         "hovertemplate": "Entity=%{x}<br>Total Deaths=%{y}<extra></extra>",
         "legendgroup": "Landslide",
         "marker": {
          "color": "#FF6692",
          "pattern": {
           "shape": ""
          }
         },
         "name": "Landslide",
         "offsetgroup": "Landslide",
         "orientation": "v",
         "showlegend": true,
         "textposition": "auto",
         "type": "bar",
         "x": [
          "Landslide"
         ],
         "xaxis": "x",
         "y": [
          65737
         ],
         "yaxis": "y"
        },
        {
         "alignmentgroup": "True",
         "hovertemplate": "Entity=%{x}<br>Total Deaths=%{y}<extra></extra>",
         "legendgroup": "Mass movement (dry)",
         "marker": {
          "color": "#B6E880",
          "pattern": {
           "shape": ""
          }
         },
         "name": "Mass movement (dry)",
         "offsetgroup": "Mass movement (dry)",
         "orientation": "v",
         "showlegend": true,
         "textposition": "auto",
         "type": "bar",
         "x": [
          "Mass movement (dry)"
         ],
         "xaxis": "x",
         "y": [
          5047
         ],
         "yaxis": "y"
        },
        {
         "alignmentgroup": "True",
         "hovertemplate": "Entity=%{x}<br>Total Deaths=%{y}<extra></extra>",
         "legendgroup": "Volcanic activity",
         "marker": {
          "color": "#FF97FF",
          "pattern": {
           "shape": ""
          }
         },
         "name": "Volcanic activity",
         "offsetgroup": "Volcanic activity",
         "orientation": "v",
         "showlegend": true,
         "textposition": "auto",
         "type": "bar",
         "x": [
          "Volcanic activity"
         ],
         "xaxis": "x",
         "y": [
          97265
         ],
         "yaxis": "y"
        },
        {
         "alignmentgroup": "True",
         "hovertemplate": "Entity=%{x}<br>Total Deaths=%{y}<extra></extra>",
         "legendgroup": "Wildfire",
         "marker": {
          "color": "#FECB52",
          "pattern": {
           "shape": ""
          }
         },
         "name": "Wildfire",
         "offsetgroup": "Wildfire",
         "orientation": "v",
         "showlegend": true,
         "textposition": "auto",
         "type": "bar",
         "x": [
          "Wildfire"
         ],
         "xaxis": "x",
         "y": [
          4380
         ],
         "yaxis": "y"
        }
       ],
       "layout": {
        "barmode": "relative",
        "height": 600,
        "legend": {
         "title": {
          "text": "Entity"
         },
         "tracegroupgap": 0
        },
        "margin": {
         "t": 60
        },
        "showlegend": false,
        "template": {
         "data": {
          "bar": [
           {
            "error_x": {
             "color": "#2a3f5f"
            },
            "error_y": {
             "color": "#2a3f5f"
            },
            "marker": {
             "line": {
              "color": "#E5ECF6",
              "width": 0.5
             },
             "pattern": {
              "fillmode": "overlay",
              "size": 10,
              "solidity": 0.2
             }
            },
            "type": "bar"
           }
          ],
          "barpolar": [
           {
            "marker": {
             "line": {
              "color": "#E5ECF6",
              "width": 0.5
             },
             "pattern": {
              "fillmode": "overlay",
              "size": 10,
              "solidity": 0.2
             }
            },
            "type": "barpolar"
           }
          ],
          "carpet": [
           {
            "aaxis": {
             "endlinecolor": "#2a3f5f",
             "gridcolor": "white",
             "linecolor": "white",
             "minorgridcolor": "white",
             "startlinecolor": "#2a3f5f"
            },
            "baxis": {
             "endlinecolor": "#2a3f5f",
             "gridcolor": "white",
             "linecolor": "white",
             "minorgridcolor": "white",
             "startlinecolor": "#2a3f5f"
            },
            "type": "carpet"
           }
          ],
          "choropleth": [
           {
            "colorbar": {
             "outlinewidth": 0,
             "ticks": ""
            },
            "type": "choropleth"
           }
          ],
          "contour": [
           {
            "colorbar": {
             "outlinewidth": 0,
             "ticks": ""
            },
            "colorscale": [
             [
              0,
              "#0d0887"
             ],
             [
              0.1111111111111111,
              "#46039f"
             ],
             [
              0.2222222222222222,
              "#7201a8"
             ],
             [
              0.3333333333333333,
              "#9c179e"
             ],
             [
              0.4444444444444444,
              "#bd3786"
             ],
             [
              0.5555555555555556,
              "#d8576b"
             ],
             [
              0.6666666666666666,
              "#ed7953"
             ],
             [
              0.7777777777777778,
              "#fb9f3a"
             ],
             [
              0.8888888888888888,
              "#fdca26"
             ],
             [
              1,
              "#f0f921"
             ]
            ],
            "type": "contour"
           }
          ],
          "contourcarpet": [
           {
            "colorbar": {
             "outlinewidth": 0,
             "ticks": ""
            },
            "type": "contourcarpet"
           }
          ],
          "heatmap": [
           {
            "colorbar": {
             "outlinewidth": 0,
             "ticks": ""
            },
            "colorscale": [
             [
              0,
              "#0d0887"
             ],
             [
              0.1111111111111111,
              "#46039f"
             ],
             [
              0.2222222222222222,
              "#7201a8"
             ],
             [
              0.3333333333333333,
              "#9c179e"
             ],
             [
              0.4444444444444444,
              "#bd3786"
             ],
             [
              0.5555555555555556,
              "#d8576b"
             ],
             [
              0.6666666666666666,
              "#ed7953"
             ],
             [
              0.7777777777777778,
              "#fb9f3a"
             ],
             [
              0.8888888888888888,
              "#fdca26"
             ],
             [
              1,
              "#f0f921"
             ]
            ],
            "type": "heatmap"
           }
          ],
          "heatmapgl": [
           {
            "colorbar": {
             "outlinewidth": 0,
             "ticks": ""
            },
            "colorscale": [
             [
              0,
              "#0d0887"
             ],
             [
              0.1111111111111111,
              "#46039f"
             ],
             [
              0.2222222222222222,
              "#7201a8"
             ],
             [
              0.3333333333333333,
              "#9c179e"
             ],
             [
              0.4444444444444444,
              "#bd3786"
             ],
             [
              0.5555555555555556,
              "#d8576b"
             ],
             [
              0.6666666666666666,
              "#ed7953"
             ],
             [
              0.7777777777777778,
              "#fb9f3a"
             ],
             [
              0.8888888888888888,
              "#fdca26"
             ],
             [
              1,
              "#f0f921"
             ]
            ],
            "type": "heatmapgl"
           }
          ],
          "histogram": [
           {
            "marker": {
             "pattern": {
              "fillmode": "overlay",
              "size": 10,
              "solidity": 0.2
             }
            },
            "type": "histogram"
           }
          ],
          "histogram2d": [
           {
            "colorbar": {
             "outlinewidth": 0,
             "ticks": ""
            },
            "colorscale": [
             [
              0,
              "#0d0887"
             ],
             [
              0.1111111111111111,
              "#46039f"
             ],
             [
              0.2222222222222222,
              "#7201a8"
             ],
             [
              0.3333333333333333,
              "#9c179e"
             ],
             [
              0.4444444444444444,
              "#bd3786"
             ],
             [
              0.5555555555555556,
              "#d8576b"
             ],
             [
              0.6666666666666666,
              "#ed7953"
             ],
             [
              0.7777777777777778,
              "#fb9f3a"
             ],
             [
              0.8888888888888888,
              "#fdca26"
             ],
             [
              1,
              "#f0f921"
             ]
            ],
            "type": "histogram2d"
           }
          ],
          "histogram2dcontour": [
           {
            "colorbar": {
             "outlinewidth": 0,
             "ticks": ""
            },
            "colorscale": [
             [
              0,
              "#0d0887"
             ],
             [
              0.1111111111111111,
              "#46039f"
             ],
             [
              0.2222222222222222,
              "#7201a8"
             ],
             [
              0.3333333333333333,
              "#9c179e"
             ],
             [
              0.4444444444444444,
              "#bd3786"
             ],
             [
              0.5555555555555556,
              "#d8576b"
             ],
             [
              0.6666666666666666,
              "#ed7953"
             ],
             [
              0.7777777777777778,
              "#fb9f3a"
             ],
             [
              0.8888888888888888,
              "#fdca26"
             ],
             [
              1,
              "#f0f921"
             ]
            ],
            "type": "histogram2dcontour"
           }
          ],
          "mesh3d": [
           {
            "colorbar": {
             "outlinewidth": 0,
             "ticks": ""
            },
            "type": "mesh3d"
           }
          ],
          "parcoords": [
           {
            "line": {
             "colorbar": {
              "outlinewidth": 0,
              "ticks": ""
             }
            },
            "type": "parcoords"
           }
          ],
          "pie": [
           {
            "automargin": true,
            "type": "pie"
           }
          ],
          "scatter": [
           {
            "marker": {
             "colorbar": {
              "outlinewidth": 0,
              "ticks": ""
             }
            },
            "type": "scatter"
           }
          ],
          "scatter3d": [
           {
            "line": {
             "colorbar": {
              "outlinewidth": 0,
              "ticks": ""
             }
            },
            "marker": {
             "colorbar": {
              "outlinewidth": 0,
              "ticks": ""
             }
            },
            "type": "scatter3d"
           }
          ],
          "scattercarpet": [
           {
            "marker": {
             "colorbar": {
              "outlinewidth": 0,
              "ticks": ""
             }
            },
            "type": "scattercarpet"
           }
          ],
          "scattergeo": [
           {
            "marker": {
             "colorbar": {
              "outlinewidth": 0,
              "ticks": ""
             }
            },
            "type": "scattergeo"
           }
          ],
          "scattergl": [
           {
            "marker": {
             "colorbar": {
              "outlinewidth": 0,
              "ticks": ""
             }
            },
            "type": "scattergl"
           }
          ],
          "scattermapbox": [
           {
            "marker": {
             "colorbar": {
              "outlinewidth": 0,
              "ticks": ""
             }
            },
            "type": "scattermapbox"
           }
          ],
          "scatterpolar": [
           {
            "marker": {
             "colorbar": {
              "outlinewidth": 0,
              "ticks": ""
             }
            },
            "type": "scatterpolar"
           }
          ],
          "scatterpolargl": [
           {
            "marker": {
             "colorbar": {
              "outlinewidth": 0,
              "ticks": ""
             }
            },
            "type": "scatterpolargl"
           }
          ],
          "scatterternary": [
           {
            "marker": {
             "colorbar": {
              "outlinewidth": 0,
              "ticks": ""
             }
            },
            "type": "scatterternary"
           }
          ],
          "surface": [
           {
            "colorbar": {
             "outlinewidth": 0,
             "ticks": ""
            },
            "colorscale": [
             [
              0,
              "#0d0887"
             ],
             [
              0.1111111111111111,
              "#46039f"
             ],
             [
              0.2222222222222222,
              "#7201a8"
             ],
             [
              0.3333333333333333,
              "#9c179e"
             ],
             [
              0.4444444444444444,
              "#bd3786"
             ],
             [
              0.5555555555555556,
              "#d8576b"
             ],
             [
              0.6666666666666666,
              "#ed7953"
             ],
             [
              0.7777777777777778,
              "#fb9f3a"
             ],
             [
              0.8888888888888888,
              "#fdca26"
             ],
             [
              1,
              "#f0f921"
             ]
            ],
            "type": "surface"
           }
          ],
          "table": [
           {
            "cells": {
             "fill": {
              "color": "#EBF0F8"
             },
             "line": {
              "color": "white"
             }
            },
            "header": {
             "fill": {
              "color": "#C8D4E3"
             },
             "line": {
              "color": "white"
             }
            },
            "type": "table"
           }
          ]
         },
         "layout": {
          "annotationdefaults": {
           "arrowcolor": "#2a3f5f",
           "arrowhead": 0,
           "arrowwidth": 1
          },
          "autotypenumbers": "strict",
          "coloraxis": {
           "colorbar": {
            "outlinewidth": 0,
            "ticks": ""
           }
          },
          "colorscale": {
           "diverging": [
            [
             0,
             "#8e0152"
            ],
            [
             0.1,
             "#c51b7d"
            ],
            [
             0.2,
             "#de77ae"
            ],
            [
             0.3,
             "#f1b6da"
            ],
            [
             0.4,
             "#fde0ef"
            ],
            [
             0.5,
             "#f7f7f7"
            ],
            [
             0.6,
             "#e6f5d0"
            ],
            [
             0.7,
             "#b8e186"
            ],
            [
             0.8,
             "#7fbc41"
            ],
            [
             0.9,
             "#4d9221"
            ],
            [
             1,
             "#276419"
            ]
           ],
           "sequential": [
            [
             0,
             "#0d0887"
            ],
            [
             0.1111111111111111,
             "#46039f"
            ],
            [
             0.2222222222222222,
             "#7201a8"
            ],
            [
             0.3333333333333333,
             "#9c179e"
            ],
            [
             0.4444444444444444,
             "#bd3786"
            ],
            [
             0.5555555555555556,
             "#d8576b"
            ],
            [
             0.6666666666666666,
             "#ed7953"
            ],
            [
             0.7777777777777778,
             "#fb9f3a"
            ],
            [
             0.8888888888888888,
             "#fdca26"
            ],
            [
             1,
             "#f0f921"
            ]
           ],
           "sequentialminus": [
            [
             0,
             "#0d0887"
            ],
            [
             0.1111111111111111,
             "#46039f"
            ],
            [
             0.2222222222222222,
             "#7201a8"
            ],
            [
             0.3333333333333333,
             "#9c179e"
            ],
            [
             0.4444444444444444,
             "#bd3786"
            ],
            [
             0.5555555555555556,
             "#d8576b"
            ],
            [
             0.6666666666666666,
             "#ed7953"
            ],
            [
             0.7777777777777778,
             "#fb9f3a"
            ],
            [
             0.8888888888888888,
             "#fdca26"
            ],
            [
             1,
             "#f0f921"
            ]
           ]
          },
          "colorway": [
           "#636efa",
           "#EF553B",
           "#00cc96",
           "#ab63fa",
           "#FFA15A",
           "#19d3f3",
           "#FF6692",
           "#B6E880",
           "#FF97FF",
           "#FECB52"
          ],
          "font": {
           "color": "#2a3f5f"
          },
          "geo": {
           "bgcolor": "white",
           "lakecolor": "white",
           "landcolor": "#E5ECF6",
           "showlakes": true,
           "showland": true,
           "subunitcolor": "white"
          },
          "hoverlabel": {
           "align": "left"
          },
          "hovermode": "closest",
          "mapbox": {
           "style": "light"
          },
          "paper_bgcolor": "white",
          "plot_bgcolor": "#E5ECF6",
          "polar": {
           "angularaxis": {
            "gridcolor": "white",
            "linecolor": "white",
            "ticks": ""
           },
           "bgcolor": "#E5ECF6",
           "radialaxis": {
            "gridcolor": "white",
            "linecolor": "white",
            "ticks": ""
           }
          },
          "scene": {
           "xaxis": {
            "backgroundcolor": "#E5ECF6",
            "gridcolor": "white",
            "gridwidth": 2,
            "linecolor": "white",
            "showbackground": true,
            "ticks": "",
            "zerolinecolor": "white"
           },
           "yaxis": {
            "backgroundcolor": "#E5ECF6",
            "gridcolor": "white",
            "gridwidth": 2,
            "linecolor": "white",
            "showbackground": true,
            "ticks": "",
            "zerolinecolor": "white"
           },
           "zaxis": {
            "backgroundcolor": "#E5ECF6",
            "gridcolor": "white",
            "gridwidth": 2,
            "linecolor": "white",
            "showbackground": true,
            "ticks": "",
            "zerolinecolor": "white"
           }
          },
          "shapedefaults": {
           "line": {
            "color": "#2a3f5f"
           }
          },
          "ternary": {
           "aaxis": {
            "gridcolor": "white",
            "linecolor": "white",
            "ticks": ""
           },
           "baxis": {
            "gridcolor": "white",
            "linecolor": "white",
            "ticks": ""
           },
           "bgcolor": "#E5ECF6",
           "caxis": {
            "gridcolor": "white",
            "linecolor": "white",
            "ticks": ""
           }
          },
          "title": {
           "x": 0.05
          },
          "xaxis": {
           "automargin": true,
           "gridcolor": "white",
           "linecolor": "white",
           "ticks": "",
           "title": {
            "standoff": 15
           },
           "zerolinecolor": "white",
           "zerolinewidth": 2
          },
          "yaxis": {
           "automargin": true,
           "gridcolor": "white",
           "linecolor": "white",
           "ticks": "",
           "title": {
            "standoff": 15
           },
           "zerolinecolor": "white",
           "zerolinewidth": 2
          }
         }
        },
        "title": {
         "text": "Global Deaths from Natural Disasters"
        },
        "width": 800,
        "xaxis": {
         "anchor": "y",
         "categoryarray": [
          "Drought",
          "Earthquake",
          "Extreme temperature",
          "Extreme weather",
          "Flood",
          "Impact",
          "Landslide",
          "Mass movement (dry)",
          "Volcanic activity",
          "Wildfire"
         ],
         "categoryorder": "array",
         "domain": [
          0,
          1
         ],
         "title": {
          "text": "Entity"
         }
        },
        "yaxis": {
         "anchor": "x",
         "domain": [
          0,
          1
         ],
         "title": {
          "text": "Total Deaths"
         }
        }
       }
      }
     },
     "metadata": {},
     "output_type": "display_data"
    }
   ],
   "source": [
    "# Plot bar chart from the processed dataframe \n",
    "fig = px.bar(total_deaths_natural_disaster, x='Entity', y='Total Deaths', color='Entity', height=600, width=800)\n",
    "fig.update_layout(title='Global Deaths from Natural Disasters', showlegend=False)\n",
    "fig.show()"
   ]
  },
  {
   "cell_type": "code",
   "execution_count": 22,
   "metadata": {},
   "outputs": [
    {
     "data": {
      "application/vnd.plotly.v1+json": {
       "config": {
        "plotlyServerURL": "https://plot.ly"
       },
       "data": [
        {
         "customdata": [
          [
           11731371
          ],
          [
           2582193
          ],
          [
           186051
          ],
          [
           1401406
          ],
          [
           6965399
          ],
          [
           0
          ],
          [
           65737
          ],
          [
           5047
          ],
          [
           97265
          ],
          [
           4380
          ]
         ],
         "domain": {
          "x": [
           0,
           1
          ],
          "y": [
           0,
           1
          ]
         },
         "hovertemplate": "Total Deaths=%{customdata[0]}<extra></extra>",
         "labels": [
          "Drought",
          "Earthquake",
          "Extreme temperature",
          "Extreme weather",
          "Flood",
          "Impact",
          "Landslide",
          "Mass movement (dry)",
          "Volcanic activity",
          "Wildfire"
         ],
         "legendgroup": "",
         "name": "",
         "showlegend": true,
         "textinfo": "percent+label",
         "textposition": "inside",
         "type": "pie",
         "values": [
          11731371,
          2582193,
          186051,
          1401406,
          6965399,
          0,
          65737,
          5047,
          97265,
          4380
         ]
        }
       ],
       "layout": {
        "autosize": false,
        "height": 500,
        "legend": {
         "tracegroupgap": 0
        },
        "margin": {
         "b": 100,
         "l": 50,
         "pad": 4,
         "r": 50,
         "t": 100
        },
        "paper_bgcolor": "White",
        "template": {
         "data": {
          "bar": [
           {
            "error_x": {
             "color": "#2a3f5f"
            },
            "error_y": {
             "color": "#2a3f5f"
            },
            "marker": {
             "line": {
              "color": "#E5ECF6",
              "width": 0.5
             },
             "pattern": {
              "fillmode": "overlay",
              "size": 10,
              "solidity": 0.2
             }
            },
            "type": "bar"
           }
          ],
          "barpolar": [
           {
            "marker": {
             "line": {
              "color": "#E5ECF6",
              "width": 0.5
             },
             "pattern": {
              "fillmode": "overlay",
              "size": 10,
              "solidity": 0.2
             }
            },
            "type": "barpolar"
           }
          ],
          "carpet": [
           {
            "aaxis": {
             "endlinecolor": "#2a3f5f",
             "gridcolor": "white",
             "linecolor": "white",
             "minorgridcolor": "white",
             "startlinecolor": "#2a3f5f"
            },
            "baxis": {
             "endlinecolor": "#2a3f5f",
             "gridcolor": "white",
             "linecolor": "white",
             "minorgridcolor": "white",
             "startlinecolor": "#2a3f5f"
            },
            "type": "carpet"
           }
          ],
          "choropleth": [
           {
            "colorbar": {
             "outlinewidth": 0,
             "ticks": ""
            },
            "type": "choropleth"
           }
          ],
          "contour": [
           {
            "colorbar": {
             "outlinewidth": 0,
             "ticks": ""
            },
            "colorscale": [
             [
              0,
              "#0d0887"
             ],
             [
              0.1111111111111111,
              "#46039f"
             ],
             [
              0.2222222222222222,
              "#7201a8"
             ],
             [
              0.3333333333333333,
              "#9c179e"
             ],
             [
              0.4444444444444444,
              "#bd3786"
             ],
             [
              0.5555555555555556,
              "#d8576b"
             ],
             [
              0.6666666666666666,
              "#ed7953"
             ],
             [
              0.7777777777777778,
              "#fb9f3a"
             ],
             [
              0.8888888888888888,
              "#fdca26"
             ],
             [
              1,
              "#f0f921"
             ]
            ],
            "type": "contour"
           }
          ],
          "contourcarpet": [
           {
            "colorbar": {
             "outlinewidth": 0,
             "ticks": ""
            },
            "type": "contourcarpet"
           }
          ],
          "heatmap": [
           {
            "colorbar": {
             "outlinewidth": 0,
             "ticks": ""
            },
            "colorscale": [
             [
              0,
              "#0d0887"
             ],
             [
              0.1111111111111111,
              "#46039f"
             ],
             [
              0.2222222222222222,
              "#7201a8"
             ],
             [
              0.3333333333333333,
              "#9c179e"
             ],
             [
              0.4444444444444444,
              "#bd3786"
             ],
             [
              0.5555555555555556,
              "#d8576b"
             ],
             [
              0.6666666666666666,
              "#ed7953"
             ],
             [
              0.7777777777777778,
              "#fb9f3a"
             ],
             [
              0.8888888888888888,
              "#fdca26"
             ],
             [
              1,
              "#f0f921"
             ]
            ],
            "type": "heatmap"
           }
          ],
          "heatmapgl": [
           {
            "colorbar": {
             "outlinewidth": 0,
             "ticks": ""
            },
            "colorscale": [
             [
              0,
              "#0d0887"
             ],
             [
              0.1111111111111111,
              "#46039f"
             ],
             [
              0.2222222222222222,
              "#7201a8"
             ],
             [
              0.3333333333333333,
              "#9c179e"
             ],
             [
              0.4444444444444444,
              "#bd3786"
             ],
             [
              0.5555555555555556,
              "#d8576b"
             ],
             [
              0.6666666666666666,
              "#ed7953"
             ],
             [
              0.7777777777777778,
              "#fb9f3a"
             ],
             [
              0.8888888888888888,
              "#fdca26"
             ],
             [
              1,
              "#f0f921"
             ]
            ],
            "type": "heatmapgl"
           }
          ],
          "histogram": [
           {
            "marker": {
             "pattern": {
              "fillmode": "overlay",
              "size": 10,
              "solidity": 0.2
             }
            },
            "type": "histogram"
           }
          ],
          "histogram2d": [
           {
            "colorbar": {
             "outlinewidth": 0,
             "ticks": ""
            },
            "colorscale": [
             [
              0,
              "#0d0887"
             ],
             [
              0.1111111111111111,
              "#46039f"
             ],
             [
              0.2222222222222222,
              "#7201a8"
             ],
             [
              0.3333333333333333,
              "#9c179e"
             ],
             [
              0.4444444444444444,
              "#bd3786"
             ],
             [
              0.5555555555555556,
              "#d8576b"
             ],
             [
              0.6666666666666666,
              "#ed7953"
             ],
             [
              0.7777777777777778,
              "#fb9f3a"
             ],
             [
              0.8888888888888888,
              "#fdca26"
             ],
             [
              1,
              "#f0f921"
             ]
            ],
            "type": "histogram2d"
           }
          ],
          "histogram2dcontour": [
           {
            "colorbar": {
             "outlinewidth": 0,
             "ticks": ""
            },
            "colorscale": [
             [
              0,
              "#0d0887"
             ],
             [
              0.1111111111111111,
              "#46039f"
             ],
             [
              0.2222222222222222,
              "#7201a8"
             ],
             [
              0.3333333333333333,
              "#9c179e"
             ],
             [
              0.4444444444444444,
              "#bd3786"
             ],
             [
              0.5555555555555556,
              "#d8576b"
             ],
             [
              0.6666666666666666,
              "#ed7953"
             ],
             [
              0.7777777777777778,
              "#fb9f3a"
             ],
             [
              0.8888888888888888,
              "#fdca26"
             ],
             [
              1,
              "#f0f921"
             ]
            ],
            "type": "histogram2dcontour"
           }
          ],
          "mesh3d": [
           {
            "colorbar": {
             "outlinewidth": 0,
             "ticks": ""
            },
            "type": "mesh3d"
           }
          ],
          "parcoords": [
           {
            "line": {
             "colorbar": {
              "outlinewidth": 0,
              "ticks": ""
             }
            },
            "type": "parcoords"
           }
          ],
          "pie": [
           {
            "automargin": true,
            "type": "pie"
           }
          ],
          "scatter": [
           {
            "marker": {
             "colorbar": {
              "outlinewidth": 0,
              "ticks": ""
             }
            },
            "type": "scatter"
           }
          ],
          "scatter3d": [
           {
            "line": {
             "colorbar": {
              "outlinewidth": 0,
              "ticks": ""
             }
            },
            "marker": {
             "colorbar": {
              "outlinewidth": 0,
              "ticks": ""
             }
            },
            "type": "scatter3d"
           }
          ],
          "scattercarpet": [
           {
            "marker": {
             "colorbar": {
              "outlinewidth": 0,
              "ticks": ""
             }
            },
            "type": "scattercarpet"
           }
          ],
          "scattergeo": [
           {
            "marker": {
             "colorbar": {
              "outlinewidth": 0,
              "ticks": ""
             }
            },
            "type": "scattergeo"
           }
          ],
          "scattergl": [
           {
            "marker": {
             "colorbar": {
              "outlinewidth": 0,
              "ticks": ""
             }
            },
            "type": "scattergl"
           }
          ],
          "scattermapbox": [
           {
            "marker": {
             "colorbar": {
              "outlinewidth": 0,
              "ticks": ""
             }
            },
            "type": "scattermapbox"
           }
          ],
          "scatterpolar": [
           {
            "marker": {
             "colorbar": {
              "outlinewidth": 0,
              "ticks": ""
             }
            },
            "type": "scatterpolar"
           }
          ],
          "scatterpolargl": [
           {
            "marker": {
             "colorbar": {
              "outlinewidth": 0,
              "ticks": ""
             }
            },
            "type": "scatterpolargl"
           }
          ],
          "scatterternary": [
           {
            "marker": {
             "colorbar": {
              "outlinewidth": 0,
              "ticks": ""
             }
            },
            "type": "scatterternary"
           }
          ],
          "surface": [
           {
            "colorbar": {
             "outlinewidth": 0,
             "ticks": ""
            },
            "colorscale": [
             [
              0,
              "#0d0887"
             ],
             [
              0.1111111111111111,
              "#46039f"
             ],
             [
              0.2222222222222222,
              "#7201a8"
             ],
             [
              0.3333333333333333,
              "#9c179e"
             ],
             [
              0.4444444444444444,
              "#bd3786"
             ],
             [
              0.5555555555555556,
              "#d8576b"
             ],
             [
              0.6666666666666666,
              "#ed7953"
             ],
             [
              0.7777777777777778,
              "#fb9f3a"
             ],
             [
              0.8888888888888888,
              "#fdca26"
             ],
             [
              1,
              "#f0f921"
             ]
            ],
            "type": "surface"
           }
          ],
          "table": [
           {
            "cells": {
             "fill": {
              "color": "#EBF0F8"
             },
             "line": {
              "color": "white"
             }
            },
            "header": {
             "fill": {
              "color": "#C8D4E3"
             },
             "line": {
              "color": "white"
             }
            },
            "type": "table"
           }
          ]
         },
         "layout": {
          "annotationdefaults": {
           "arrowcolor": "#2a3f5f",
           "arrowhead": 0,
           "arrowwidth": 1
          },
          "autotypenumbers": "strict",
          "coloraxis": {
           "colorbar": {
            "outlinewidth": 0,
            "ticks": ""
           }
          },
          "colorscale": {
           "diverging": [
            [
             0,
             "#8e0152"
            ],
            [
             0.1,
             "#c51b7d"
            ],
            [
             0.2,
             "#de77ae"
            ],
            [
             0.3,
             "#f1b6da"
            ],
            [
             0.4,
             "#fde0ef"
            ],
            [
             0.5,
             "#f7f7f7"
            ],
            [
             0.6,
             "#e6f5d0"
            ],
            [
             0.7,
             "#b8e186"
            ],
            [
             0.8,
             "#7fbc41"
            ],
            [
             0.9,
             "#4d9221"
            ],
            [
             1,
             "#276419"
            ]
           ],
           "sequential": [
            [
             0,
             "#0d0887"
            ],
            [
             0.1111111111111111,
             "#46039f"
            ],
            [
             0.2222222222222222,
             "#7201a8"
            ],
            [
             0.3333333333333333,
             "#9c179e"
            ],
            [
             0.4444444444444444,
             "#bd3786"
            ],
            [
             0.5555555555555556,
             "#d8576b"
            ],
            [
             0.6666666666666666,
             "#ed7953"
            ],
            [
             0.7777777777777778,
             "#fb9f3a"
            ],
            [
             0.8888888888888888,
             "#fdca26"
            ],
            [
             1,
             "#f0f921"
            ]
           ],
           "sequentialminus": [
            [
             0,
             "#0d0887"
            ],
            [
             0.1111111111111111,
             "#46039f"
            ],
            [
             0.2222222222222222,
             "#7201a8"
            ],
            [
             0.3333333333333333,
             "#9c179e"
            ],
            [
             0.4444444444444444,
             "#bd3786"
            ],
            [
             0.5555555555555556,
             "#d8576b"
            ],
            [
             0.6666666666666666,
             "#ed7953"
            ],
            [
             0.7777777777777778,
             "#fb9f3a"
            ],
            [
             0.8888888888888888,
             "#fdca26"
            ],
            [
             1,
             "#f0f921"
            ]
           ]
          },
          "colorway": [
           "#636efa",
           "#EF553B",
           "#00cc96",
           "#ab63fa",
           "#FFA15A",
           "#19d3f3",
           "#FF6692",
           "#B6E880",
           "#FF97FF",
           "#FECB52"
          ],
          "font": {
           "color": "#2a3f5f"
          },
          "geo": {
           "bgcolor": "white",
           "lakecolor": "white",
           "landcolor": "#E5ECF6",
           "showlakes": true,
           "showland": true,
           "subunitcolor": "white"
          },
          "hoverlabel": {
           "align": "left"
          },
          "hovermode": "closest",
          "mapbox": {
           "style": "light"
          },
          "paper_bgcolor": "white",
          "plot_bgcolor": "#E5ECF6",
          "polar": {
           "angularaxis": {
            "gridcolor": "white",
            "linecolor": "white",
            "ticks": ""
           },
           "bgcolor": "#E5ECF6",
           "radialaxis": {
            "gridcolor": "white",
            "linecolor": "white",
            "ticks": ""
           }
          },
          "scene": {
           "xaxis": {
            "backgroundcolor": "#E5ECF6",
            "gridcolor": "white",
            "gridwidth": 2,
            "linecolor": "white",
            "showbackground": true,
            "ticks": "",
            "zerolinecolor": "white"
           },
           "yaxis": {
            "backgroundcolor": "#E5ECF6",
            "gridcolor": "white",
            "gridwidth": 2,
            "linecolor": "white",
            "showbackground": true,
            "ticks": "",
            "zerolinecolor": "white"
           },
           "zaxis": {
            "backgroundcolor": "#E5ECF6",
            "gridcolor": "white",
            "gridwidth": 2,
            "linecolor": "white",
            "showbackground": true,
            "ticks": "",
            "zerolinecolor": "white"
           }
          },
          "shapedefaults": {
           "line": {
            "color": "#2a3f5f"
           }
          },
          "ternary": {
           "aaxis": {
            "gridcolor": "white",
            "linecolor": "white",
            "ticks": ""
           },
           "baxis": {
            "gridcolor": "white",
            "linecolor": "white",
            "ticks": ""
           },
           "bgcolor": "#E5ECF6",
           "caxis": {
            "gridcolor": "white",
            "linecolor": "white",
            "ticks": ""
           }
          },
          "title": {
           "x": 0.05
          },
          "xaxis": {
           "automargin": true,
           "gridcolor": "white",
           "linecolor": "white",
           "ticks": "",
           "title": {
            "standoff": 15
           },
           "zerolinecolor": "white",
           "zerolinewidth": 2
          },
          "yaxis": {
           "automargin": true,
           "gridcolor": "white",
           "linecolor": "white",
           "ticks": "",
           "title": {
            "standoff": 15
           },
           "zerolinecolor": "white",
           "zerolinewidth": 2
          }
         }
        },
        "title": {
         "text": "Contribution of Natural Disaster on Global Deaths"
        },
        "width": 500
       }
      }
     },
     "metadata": {},
     "output_type": "display_data"
    }
   ],
   "source": [
    "fig = px.pie(total_deaths_natural_disaster, values='Total Deaths', names='Entity',\n",
    "             title='Contribution of Natural Disaster on Global Deaths',\n",
    "             hover_data=['Total Deaths'], labels={'Entity':'Total Deaths'})\n",
    "             \n",
    "\n",
    "fig.update_layout(\n",
    "    autosize=False,\n",
    "    width=500,\n",
    "    height=500,\n",
    "    margin=dict(\n",
    "        l=50,\n",
    "        r=50,\n",
    "        b=100,\n",
    "        t=100,\n",
    "        pad=4\n",
    "    ),\n",
    "    paper_bgcolor=\"White\",\n",
    ")\n",
    "\n",
    "fig.update_traces(textposition='inside', textinfo='percent+label')\n",
    "fig.show()"
   ]
  },
  {
   "cell_type": "code",
   "execution_count": null,
   "metadata": {},
   "outputs": [],
   "source": []
  }
 ],
 "metadata": {
  "interpreter": {
   "hash": "8f764b1ce2c93b401f33e75df7812449d8b41ae58038cf416ebcb056fbf386c2"
  },
  "kernelspec": {
   "display_name": "Python 3.9.6 64-bit",
   "name": "python3"
  },
  "language_info": {
   "codemirror_mode": {
    "name": "ipython",
    "version": 3
   },
   "file_extension": ".py",
   "mimetype": "text/x-python",
   "name": "python",
   "nbconvert_exporter": "python",
   "pygments_lexer": "ipython3",
   "version": "3.9.7"
  },
  "orig_nbformat": 4
 },
 "nbformat": 4,
 "nbformat_minor": 2
}
