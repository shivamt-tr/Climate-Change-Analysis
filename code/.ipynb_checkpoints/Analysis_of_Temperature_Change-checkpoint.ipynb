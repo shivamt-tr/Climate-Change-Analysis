{
 "cells": [
  {
   "cell_type": "markdown",
   "id": "040e0f70",
   "metadata": {},
   "source": [
    "### Importing packages that'll be used."
   ]
  },
  {
   "cell_type": "code",
   "execution_count": 1,
   "id": "388c7020",
   "metadata": {},
   "outputs": [],
   "source": [
    "import Package_required_for_temperature_change_analysis as testPKG\n",
    "import numpy as np\n",
    "import pandas as pd\n",
    "import matplotlib.pyplot as plt\n",
    "import warnings \n",
    "warnings.filterwarnings('ignore')\n",
    "import plotly.graph_objects as go\n",
    "from matplotlib.pyplot import figure\n",
    "import matplotlib.ticker as mticker\n",
    "import bar_chart_race as bcr\n",
    "import os\n",
    "import pickle\n",
    "import matplotlib.animation as animation\n",
    "from matplotlib import style\n",
    "import plotly\n",
    "import plotly.express as px\n",
    "import time"
   ]
  },
  {
   "cell_type": "markdown",
   "id": "c14accc6",
   "metadata": {},
   "source": [
    "# Analysis for Temperature Change:- \n",
    "So there are 4 options available, you can choose any and see.. \\\n",
    "\\\n",
    "Note :- All the temperature values are in Fahrenheit.."
   ]
  },
  {
   "cell_type": "code",
   "execution_count": null,
   "id": "4fd7cdf3",
   "metadata": {
    "scrolled": false
   },
   "outputs": [
    {
     "name": "stdout",
     "output_type": "stream",
     "text": [
      "Enter the type of analysis you want :\n",
      "\n",
      "1. Individual country analysis of last 100 years (yearly)\n",
      " \n",
      "2. Individual country analysis of last 100 years (10-10 years average)\n",
      " \n",
      "3. World-wide analysis country wise for last 100 years (yearly)\n",
      " \n",
      "4. World-wide analysis country wise for last 100 years (10-10 years average)\n",
      " \n",
      "5. All of the above\n",
      " \n",
      "6. Press 6 to exit\n",
      "\n",
      "Enter you choice here : 2\n",
      "Enter country name : \n",
      "China\n",
      "\n",
      "Temperature data for last 100 years with 10-10 years time frame  for country  China  is : \n"
     ]
    },
    {
     "data": {
      "text/html": [
       "<div>\n",
       "<style scoped>\n",
       "    .dataframe tbody tr th:only-of-type {\n",
       "        vertical-align: middle;\n",
       "    }\n",
       "\n",
       "    .dataframe tbody tr th {\n",
       "        vertical-align: top;\n",
       "    }\n",
       "\n",
       "    .dataframe thead th {\n",
       "        text-align: right;\n",
       "    }\n",
       "</style>\n",
       "<table border=\"1\" class=\"dataframe\">\n",
       "  <thead>\n",
       "    <tr style=\"text-align: right;\">\n",
       "      <th>Year</th>\n",
       "      <th>1912-1921</th>\n",
       "      <th>1922-1931</th>\n",
       "      <th>1932-1941</th>\n",
       "      <th>1942-1951</th>\n",
       "      <th>1952-1961</th>\n",
       "      <th>1962-1971</th>\n",
       "      <th>1972-1981</th>\n",
       "      <th>1982-1991</th>\n",
       "      <th>1992-2001</th>\n",
       "      <th>2002-2011</th>\n",
       "    </tr>\n",
       "    <tr>\n",
       "      <th>Month/Year</th>\n",
       "      <th></th>\n",
       "      <th></th>\n",
       "      <th></th>\n",
       "      <th></th>\n",
       "      <th></th>\n",
       "      <th></th>\n",
       "      <th></th>\n",
       "      <th></th>\n",
       "      <th></th>\n",
       "      <th></th>\n",
       "    </tr>\n",
       "  </thead>\n",
       "  <tbody>\n",
       "  </tbody>\n",
       "</table>\n",
       "</div>"
      ],
      "text/plain": [
       "Empty DataFrame\n",
       "Columns: [1912-1921, 1922-1931, 1932-1941, 1942-1951, 1952-1961, 1962-1971, 1972-1981, 1982-1991, 1992-2001, 2002-2011]\n",
       "Index: []"
      ]
     },
     "metadata": {},
     "output_type": "display_data"
    },
    {
     "name": "stdout",
     "output_type": "stream",
     "text": [
      "\n",
      "You typed wrong country name..choose from any one of these.. \n",
      "\n",
      " ['Afghanistan', 'Africa', 'Albania', 'Algeria', 'American Samoa', 'Andorra', 'Angola', 'Anguilla', 'Antigua And Barbuda', 'Argentina', 'Armenia', 'Aruba', 'Asia', 'Australia', 'Austria', 'Azerbaijan', 'Bahamas', 'Bahrain', 'Baker Island', 'Bangladesh', 'Barbados', 'Belarus', 'Belgium', 'Belize', 'Benin', 'Bhutan', 'Bolivia', 'Bonaire, Saint Eustatius And Saba', 'Bosnia And Herzegovina', 'Botswana', 'Brazil', 'British Virgin Islands', 'Bulgaria', 'Burkina Faso', 'Burma', 'Burundi', \"Côte D'Ivoire\", 'Cambodia', 'Cameroon', 'Canada', 'Cape Verde', 'Cayman Islands', 'Central African Republic', 'Chad', 'Chile', 'China', 'Christmas Island', 'Colombia', 'Comoros', 'Congo (Democratic Republic Of The)', 'Congo', 'Costa Rica', 'Croatia', 'Cuba', 'Curaçao', 'Cyprus', 'Czech Republic', 'Denmark (Europe)', 'Denmark', 'Djibouti', 'Dominica', 'Dominican Republic', 'Ecuador', 'Egypt', 'El Salvador', 'Equatorial Guinea', 'Eritrea', 'Estonia', 'Ethiopia', 'Europe', 'Falkland Islands (Islas Malvinas)', 'Faroe Islands', 'Federated States Of Micronesia', 'Fiji', 'Finland', 'France (Europe)', 'France', 'French Guiana', 'French Polynesia', 'French Southern And Antarctic Lands', 'Gabon', 'Gambia', 'Gaza Strip', 'Georgia', 'Germany', 'Ghana', 'Greece', 'Greenland', 'Grenada', 'Guadeloupe', 'Guam', 'Guatemala', 'Guernsey', 'Guinea Bissau', 'Guinea', 'Guyana', 'Haiti', 'Heard Island And Mcdonald Islands', 'Honduras', 'Hong Kong', 'Hungary', 'Iceland', 'India', 'Indonesia', 'Iran', 'Iraq', 'Ireland', 'Isle Of Man', 'Israel', 'Italy', 'Jamaica', 'Japan', 'Jersey', 'Jordan', 'Kazakhstan', 'Kenya', 'Kingman Reef', 'Kiribati', 'Kuwait', 'Kyrgyzstan', 'Laos', 'Latvia', 'Lebanon', 'Lesotho', 'Liberia', 'Libya', 'Liechtenstein', 'Lithuania', 'Luxembourg', 'Macau', 'Macedonia', 'Madagascar', 'Malawi', 'Malaysia', 'Mali', 'Malta', 'Martinique', 'Mauritania', 'Mauritius', 'Mayotte', 'Mexico', 'Moldova', 'Monaco', 'Mongolia', 'Montenegro', 'Montserrat', 'Morocco', 'Mozambique', 'Namibia', 'Nepal', 'Netherlands (Europe)', 'Netherlands', 'New Caledonia', 'New Zealand', 'Nicaragua', 'Niger', 'Nigeria', 'Niue', 'North America', 'North Korea', 'Northern Mariana Islands', 'Norway', 'Oceania', 'Oman', 'Pakistan', 'Palau', 'Palestina', 'Palmyra Atoll', 'Panama', 'Papua New Guinea', 'Paraguay', 'Peru', 'Philippines', 'Poland', 'Portugal', 'Puerto Rico', 'Qatar', 'Reunion', 'Romania', 'Russia', 'Rwanda', 'Saint Barthélemy', 'Saint Kitts And Nevis', 'Saint Lucia', 'Saint Martin', 'Saint Pierre And Miquelon', 'Saint Vincent And The Grenadines', 'Samoa', 'San Marino', 'Sao Tome And Principe', 'Saudi Arabia', 'Senegal', 'Serbia', 'Seychelles', 'Sierra Leone', 'Singapore', 'Sint Maarten', 'Slovakia', 'Slovenia', 'Solomon Islands', 'Somalia', 'South Africa', 'South America', 'South Georgia And The South Sandwich Isla', 'South Korea', 'Spain', 'Sri Lanka', 'Sudan', 'Suriname', 'Svalbard And Jan Mayen', 'Swaziland', 'Sweden', 'Switzerland', 'Syria', 'Taiwan', 'Tajikistan', 'Tanzania', 'Thailand', 'Timor Leste', 'Togo', 'Tonga', 'Trinidad And Tobago', 'Tunisia', 'Turkey', 'Turkmenistan', 'Turks And Caicas Islands', 'Uganda', 'Ukraine', 'United Arab Emirates', 'United Kingdom (Europe)', 'United Kingdom', 'United States', 'Uruguay', 'Uzbekistan', 'Venezuela', 'Vietnam', 'Virgin Islands', 'Western Sahara', 'Yemen', 'Zambia', 'Zimbabwe']\n",
      "Enter the type of analysis you want :\n",
      "\n",
      "1. Individual country analysis of last 100 years (yearly)\n",
      " \n",
      "2. Individual country analysis of last 100 years (10-10 years average)\n",
      " \n",
      "3. World-wide analysis country wise for last 100 years (yearly)\n",
      " \n",
      "4. World-wide analysis country wise for last 100 years (10-10 years average)\n",
      " \n",
      "5. All of the above\n",
      " \n",
      "6. Press 6 to exit\n",
      "\n",
      "Enter you choice here : 2\n",
      "Enter country name : \n",
      "India\n",
      "\n",
      "Temperature data for last 100 years with 10-10 years time frame  for country  India  is : \n"
     ]
    },
    {
     "data": {
      "text/html": [
       "<div>\n",
       "<style scoped>\n",
       "    .dataframe tbody tr th:only-of-type {\n",
       "        vertical-align: middle;\n",
       "    }\n",
       "\n",
       "    .dataframe tbody tr th {\n",
       "        vertical-align: top;\n",
       "    }\n",
       "\n",
       "    .dataframe thead th {\n",
       "        text-align: right;\n",
       "    }\n",
       "</style>\n",
       "<table border=\"1\" class=\"dataframe\">\n",
       "  <thead>\n",
       "    <tr style=\"text-align: right;\">\n",
       "      <th>Year</th>\n",
       "      <th>1912-1921</th>\n",
       "      <th>1922-1931</th>\n",
       "      <th>1932-1941</th>\n",
       "      <th>1942-1951</th>\n",
       "      <th>1952-1961</th>\n",
       "      <th>1962-1971</th>\n",
       "      <th>1972-1981</th>\n",
       "      <th>1982-1991</th>\n",
       "      <th>1992-2001</th>\n",
       "      <th>2002-2011</th>\n",
       "    </tr>\n",
       "    <tr>\n",
       "      <th>Month/Year</th>\n",
       "      <th></th>\n",
       "      <th></th>\n",
       "      <th></th>\n",
       "      <th></th>\n",
       "      <th></th>\n",
       "      <th></th>\n",
       "      <th></th>\n",
       "      <th></th>\n",
       "      <th></th>\n",
       "      <th></th>\n",
       "    </tr>\n",
       "  </thead>\n",
       "  <tbody>\n",
       "  </tbody>\n",
       "</table>\n",
       "</div>"
      ],
      "text/plain": [
       "Empty DataFrame\n",
       "Columns: [1912-1921, 1922-1931, 1932-1941, 1942-1951, 1952-1961, 1962-1971, 1972-1981, 1982-1991, 1992-2001, 2002-2011]\n",
       "Index: []"
      ]
     },
     "metadata": {},
     "output_type": "display_data"
    },
    {
     "name": "stdout",
     "output_type": "stream",
     "text": [
      "\n",
      "You typed wrong country name..choose from any one of these.. \n",
      "\n",
      " ['Afghanistan', 'Africa', 'Albania', 'Algeria', 'American Samoa', 'Andorra', 'Angola', 'Anguilla', 'Antigua And Barbuda', 'Argentina', 'Armenia', 'Aruba', 'Asia', 'Australia', 'Austria', 'Azerbaijan', 'Bahamas', 'Bahrain', 'Baker Island', 'Bangladesh', 'Barbados', 'Belarus', 'Belgium', 'Belize', 'Benin', 'Bhutan', 'Bolivia', 'Bonaire, Saint Eustatius And Saba', 'Bosnia And Herzegovina', 'Botswana', 'Brazil', 'British Virgin Islands', 'Bulgaria', 'Burkina Faso', 'Burma', 'Burundi', \"Côte D'Ivoire\", 'Cambodia', 'Cameroon', 'Canada', 'Cape Verde', 'Cayman Islands', 'Central African Republic', 'Chad', 'Chile', 'China', 'Christmas Island', 'Colombia', 'Comoros', 'Congo (Democratic Republic Of The)', 'Congo', 'Costa Rica', 'Croatia', 'Cuba', 'Curaçao', 'Cyprus', 'Czech Republic', 'Denmark (Europe)', 'Denmark', 'Djibouti', 'Dominica', 'Dominican Republic', 'Ecuador', 'Egypt', 'El Salvador', 'Equatorial Guinea', 'Eritrea', 'Estonia', 'Ethiopia', 'Europe', 'Falkland Islands (Islas Malvinas)', 'Faroe Islands', 'Federated States Of Micronesia', 'Fiji', 'Finland', 'France (Europe)', 'France', 'French Guiana', 'French Polynesia', 'French Southern And Antarctic Lands', 'Gabon', 'Gambia', 'Gaza Strip', 'Georgia', 'Germany', 'Ghana', 'Greece', 'Greenland', 'Grenada', 'Guadeloupe', 'Guam', 'Guatemala', 'Guernsey', 'Guinea Bissau', 'Guinea', 'Guyana', 'Haiti', 'Heard Island And Mcdonald Islands', 'Honduras', 'Hong Kong', 'Hungary', 'Iceland', 'India', 'Indonesia', 'Iran', 'Iraq', 'Ireland', 'Isle Of Man', 'Israel', 'Italy', 'Jamaica', 'Japan', 'Jersey', 'Jordan', 'Kazakhstan', 'Kenya', 'Kingman Reef', 'Kiribati', 'Kuwait', 'Kyrgyzstan', 'Laos', 'Latvia', 'Lebanon', 'Lesotho', 'Liberia', 'Libya', 'Liechtenstein', 'Lithuania', 'Luxembourg', 'Macau', 'Macedonia', 'Madagascar', 'Malawi', 'Malaysia', 'Mali', 'Malta', 'Martinique', 'Mauritania', 'Mauritius', 'Mayotte', 'Mexico', 'Moldova', 'Monaco', 'Mongolia', 'Montenegro', 'Montserrat', 'Morocco', 'Mozambique', 'Namibia', 'Nepal', 'Netherlands (Europe)', 'Netherlands', 'New Caledonia', 'New Zealand', 'Nicaragua', 'Niger', 'Nigeria', 'Niue', 'North America', 'North Korea', 'Northern Mariana Islands', 'Norway', 'Oceania', 'Oman', 'Pakistan', 'Palau', 'Palestina', 'Palmyra Atoll', 'Panama', 'Papua New Guinea', 'Paraguay', 'Peru', 'Philippines', 'Poland', 'Portugal', 'Puerto Rico', 'Qatar', 'Reunion', 'Romania', 'Russia', 'Rwanda', 'Saint Barthélemy', 'Saint Kitts And Nevis', 'Saint Lucia', 'Saint Martin', 'Saint Pierre And Miquelon', 'Saint Vincent And The Grenadines', 'Samoa', 'San Marino', 'Sao Tome And Principe', 'Saudi Arabia', 'Senegal', 'Serbia', 'Seychelles', 'Sierra Leone', 'Singapore', 'Sint Maarten', 'Slovakia', 'Slovenia', 'Solomon Islands', 'Somalia', 'South Africa', 'South America', 'South Georgia And The South Sandwich Isla', 'South Korea', 'Spain', 'Sri Lanka', 'Sudan', 'Suriname', 'Svalbard And Jan Mayen', 'Swaziland', 'Sweden', 'Switzerland', 'Syria', 'Taiwan', 'Tajikistan', 'Tanzania', 'Thailand', 'Timor Leste', 'Togo', 'Tonga', 'Trinidad And Tobago', 'Tunisia', 'Turkey', 'Turkmenistan', 'Turks And Caicas Islands', 'Uganda', 'Ukraine', 'United Arab Emirates', 'United Kingdom (Europe)', 'United Kingdom', 'United States', 'Uruguay', 'Uzbekistan', 'Venezuela', 'Vietnam', 'Virgin Islands', 'Western Sahara', 'Yemen', 'Zambia', 'Zimbabwe']\n",
      "Enter the type of analysis you want :\n",
      "\n",
      "1. Individual country analysis of last 100 years (yearly)\n",
      " \n",
      "2. Individual country analysis of last 100 years (10-10 years average)\n",
      " \n",
      "3. World-wide analysis country wise for last 100 years (yearly)\n",
      " \n",
      "4. World-wide analysis country wise for last 100 years (10-10 years average)\n",
      " \n",
      "5. All of the above\n",
      " \n",
      "6. Press 6 to exit\n",
      "\n"
     ]
    }
   ],
   "source": [
    "def Print_options():\n",
    "    print(\"Enter the type of analysis you want :\\n\",flush = True)\n",
    "    print(\"1. Individual country analysis of last 100 years (yearly)\\n\",\n",
    "          \"\\n2. Individual country analysis of last 100 years (10-10 years average)\\n\",\n",
    "          \"\\n3. World-wide analysis country wise for last 100 years (yearly)\\n\",\n",
    "          \"\\n4. World-wide analysis country wise for last 100 years (10-10 years average)\\n\",\n",
    "          \"\\n5. All of the above\\n\",\n",
    "          \"\\n6. Press 6 to exit\\n\",flush = True)\n",
    "    time.sleep(0.05)\n",
    "while True:\n",
    "    Print_options()\n",
    "    a = int(input(\"Enter you choice here : \"))\n",
    "    if(a == 1):\n",
    "        try:\n",
    "            testPKG.Function_1()\n",
    "        except:\n",
    "            testPKG.Country_names()\n",
    "    elif(a == 2):\n",
    "        try:\n",
    "            testPKG.Function_2()\n",
    "        except:\n",
    "            testPKG.Country_names()\n",
    "    elif(a == 3):\n",
    "        testPKG.Function_3()\n",
    "    elif(a == 4):\n",
    "        testPKG.Function_4()\n",
    "    elif(a == 5):\n",
    "        print(\"\\nAlright so showing each and every analysis, please wait it'll take 2-3 minutes for executing\\n\")\n",
    "        testPKG.Run_All()\n",
    "    elif(a == 6):\n",
    "        print(\"\\nThank You\")\n",
    "        break\n",
    "    elif(a > 6):\n",
    "        print(\"\\nInvalid choice entered..\\n\\nTry again.\\n\")"
   ]
  },
  {
   "cell_type": "markdown",
   "id": "92782657",
   "metadata": {},
   "source": [
    "# End of analysis..\n",
    "# Thank You.."
   ]
  }
 ],
 "metadata": {
  "kernelspec": {
   "display_name": "Python 3 (ipykernel)",
   "language": "python",
   "name": "python3"
  },
  "language_info": {
   "codemirror_mode": {
    "name": "ipython",
    "version": 3
   },
   "file_extension": ".py",
   "mimetype": "text/x-python",
   "name": "python",
   "nbconvert_exporter": "python",
   "pygments_lexer": "ipython3",
   "version": "3.9.7"
  }
 },
 "nbformat": 4,
 "nbformat_minor": 5
}
