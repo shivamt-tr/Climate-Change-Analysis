{
 "cells": [
  {
   "cell_type": "markdown",
   "id": "040e0f70",
   "metadata": {},
   "source": [
    "### Importing packages that'll be used."
   ]
  },
  {
   "cell_type": "code",
   "execution_count": 1,
   "id": "388c7020",
   "metadata": {},
   "outputs": [],
   "source": [
    "import Package_required_for_temperature_change_analysis as testPKG\n",
    "import numpy as np\n",
    "import pandas as pd\n",
    "import matplotlib.pyplot as plt\n",
    "import warnings \n",
    "warnings.filterwarnings('ignore')\n",
    "import plotly.graph_objects as go\n",
    "from matplotlib.pyplot import figure\n",
    "import matplotlib.ticker as mticker\n",
    "import bar_chart_race as bcr\n",
    "import os\n",
    "import pickle\n",
    "import matplotlib.animation as animation\n",
    "from matplotlib import style\n",
    "import plotly\n",
    "import plotly.express as px\n",
    "import time"
   ]
  },
  {
   "cell_type": "markdown",
   "id": "c14accc6",
   "metadata": {},
   "source": [
    "# Analysis for Temperature Change:- \n",
    "So there are 4 options available, you can choose any and see.. \\\n",
    "\\\n",
    "Note :- All the temperature values are in Fahrenheit.."
   ]
  },
  {
   "cell_type": "code",
   "execution_count": 2,
   "id": "4fd7cdf3",
   "metadata": {
    "scrolled": false
   },
   "outputs": [
    {
     "name": "stdout",
     "output_type": "stream",
     "text": [
      "Enter the type of analysis you want :\n",
      "\n",
      "1. Individual country analysis of last 100 years (yearly)\n",
      " \n",
      "2. Individual country analysis of last 100 years (10-10 years average)\n",
      " \n",
      "3. World-wide analysis country wise for last 100 years (yearly)\n",
      " \n",
      "4. World-wide analysis country wise for last 100 years (10-10 years average)\n",
      " \n",
      "5. All of the above\n",
      " \n",
      "6. Press 6 to exit\n",
      "\n",
      "\n",
      "Thank You\n"
     ]
    }
   ],
   "source": [
    "def Print_options():\n",
    "    print(\"Enter the type of analysis you want :\\n\",flush = True)\n",
    "    print(\"1. Individual country analysis of last 100 years (yearly)\\n\",\n",
    "          \"\\n2. Individual country analysis of last 100 years (10-10 years average)\\n\",\n",
    "          \"\\n3. World-wide analysis country wise for last 100 years (yearly)\\n\",\n",
    "          \"\\n4. World-wide analysis country wise for last 100 years (10-10 years average)\\n\",\n",
    "          \"\\n5. All of the above\\n\",\n",
    "          \"\\n6. Press 6 to exit\\n\",flush = True)\n",
    "    time.sleep(0.05)\n",
    "while True:\n",
    "    Print_options()\n",
    "    a = int(input(\"Enter you choice here : \"))\n",
    "    if(a == 1):\n",
    "        try:\n",
    "            testPKG.Function_1()\n",
    "        except:\n",
    "            testPKG.Country_names()\n",
    "    elif(a == 2):\n",
    "        testPKG.Function_2()\n",
    "        try:\n",
    "            testPKG.Function_2()\n",
    "        except:\n",
    "            testPKG.Country_names()\n",
    "    elif(a == 3):\n",
    "        testPKG.Function_3()\n",
    "    elif(a == 4):\n",
    "        testPKG.Function_4()\n",
    "    elif(a == 5):\n",
    "        print(\"\\nAlright so showing each and every analysis, please wait it'll take 2-3 minutes for executing\\n\")\n",
    "        testPKG.Run_All()\n",
    "    elif(a == 6):\n",
    "        print(\"\\nThank You\")\n",
    "        break\n",
    "    elif(a > 6):\n",
    "        print(\"\\nInvalid choice entered..\\n\\nTry again.\\n\")"
   ]
  },
  {
   "cell_type": "markdown",
   "id": "92782657",
   "metadata": {},
   "source": [
    "# End of analysis..\n",
    "# Thank You.."
   ]
  }
 ],
 "metadata": {
  "kernelspec": {
   "display_name": "Python 3",
   "language": "python",
   "name": "python3"
  },
  "language_info": {
   "codemirror_mode": {
    "name": "ipython",
    "version": 3
   },
   "file_extension": ".py",
   "mimetype": "text/x-python",
   "name": "python",
   "nbconvert_exporter": "python",
   "pygments_lexer": "ipython3",
   "version": "3.9.7"
  }
 },
 "nbformat": 4,
 "nbformat_minor": 5
}
