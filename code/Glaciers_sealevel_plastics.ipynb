{
 "cells": [
  {
   "cell_type": "code",
   "execution_count": 1,
   "metadata": {},
   "outputs": [],
   "source": [
    "import numpy as np\n",
    "import pandas as pd\n",
    "import matplotlib.pyplot as plt\n",
    "from matplotlib.pyplot import figure\n",
    "import warnings \n",
    "warnings.filterwarnings('ignore')"
   ]
  },
  {
   "cell_type": "markdown",
   "metadata": {},
   "source": [
    "# Melting of Glaciers"
   ]
  },
  {
   "cell_type": "markdown",
   "metadata": {},
   "source": [
    "Glaciers are melting at a very high speed. According to 3D satellite measurements of all the world's mountain sources, we are losing 31% extra snow that we used to lose 15 years back. Scientists across the world are blaming human activities for this high rate. <br>\n",
    "Using recent satellite data, scientists are suggesting that we are losing around 300 billion metric tons of ice and snow since 2015."
   ]
  },
  {
   "cell_type": "markdown",
   "metadata": {},
   "source": [
    "Melting of glaciers is very big threat. With Causing rise in sea level, thier loss will also impact supplies of fresh water. There are many threats that can cause human life :\n",
    "1. In India, we get much of the late-summer river flow volume that rely's on glacier melt water.\n",
    "2. Across the world, Glacier meltdown drives Hydropower plants.\n",
    "3. Throughout centriues, Farmers living in Rhone valley of switzerland have relied on water through glacier meltdown for irrigation of crops. \n",
    "\n",
    "There are hundred of threats that are suggested by scientists over the year. <br>\n"
   ]
  },
  {
   "cell_type": "markdown",
   "metadata": {},
   "source": [
    "We will be using some datasets from this source: https://climate.nasa.gov/vital-signs/ice-sheets/ <br>\n",
    "We'll try to extract some relevant data from the above mentioned datasets"
   ]
  },
  {
   "cell_type": "markdown",
   "metadata": {},
   "source": [
    "Firstly, we are cleaning this dataset.<br>\n",
    "We'll use two datasets here:\n",
    "1. First one is for <b>Antartica glacier</b>.\n",
    "2. Second one is for <b>Greenland glacier</b>."
   ]
  },
  {
   "cell_type": "markdown",
   "metadata": {},
   "source": [
    "We'll be finding that how much mass(snow and ice) we're losing per year since 2002.   "
   ]
  },
  {
   "cell_type": "code",
   "execution_count": 28,
   "metadata": {},
   "outputs": [
    {
     "name": "stderr",
     "output_type": "stream",
     "text": [
      "b'Skipping line 12: expected 1 fields, saw 8\\nSkipping line 13: expected 1 fields, saw 5\\nSkipping line 16: expected 1 fields, saw 7\\nSkipping line 17: expected 1 fields, saw 5\\nSkipping line 24: expected 1 fields, saw 3\\nSkipping line 25: expected 1 fields, saw 4\\nSkipping line 27: expected 1 fields, saw 2\\nSkipping line 29: expected 1 fields, saw 4\\n'\n"
     ]
    },
    {
     "data": {
      "text/html": [
       "<div>\n",
       "<style scoped>\n",
       "    .dataframe tbody tr th:only-of-type {\n",
       "        vertical-align: middle;\n",
       "    }\n",
       "\n",
       "    .dataframe tbody tr th {\n",
       "        vertical-align: top;\n",
       "    }\n",
       "\n",
       "    .dataframe thead th {\n",
       "        text-align: right;\n",
       "    }\n",
       "</style>\n",
       "<table border=\"1\" class=\"dataframe\">\n",
       "  <thead>\n",
       "    <tr style=\"text-align: right;\">\n",
       "      <th></th>\n",
       "      <th>Year</th>\n",
       "      <th>Loss of Mass(billion metric tons per year)</th>\n",
       "    </tr>\n",
       "  </thead>\n",
       "  <tbody>\n",
       "    <tr>\n",
       "      <th>0</th>\n",
       "      <td>2002</td>\n",
       "      <td>2.714286</td>\n",
       "    </tr>\n",
       "    <tr>\n",
       "      <th>1</th>\n",
       "      <td>2003</td>\n",
       "      <td>109.818182</td>\n",
       "    </tr>\n",
       "    <tr>\n",
       "      <th>2</th>\n",
       "      <td>2004</td>\n",
       "      <td>256.333333</td>\n",
       "    </tr>\n",
       "    <tr>\n",
       "      <th>3</th>\n",
       "      <td>2005</td>\n",
       "      <td>223.500000</td>\n",
       "    </tr>\n",
       "    <tr>\n",
       "      <th>4</th>\n",
       "      <td>2006</td>\n",
       "      <td>124.666667</td>\n",
       "    </tr>\n",
       "    <tr>\n",
       "      <th>5</th>\n",
       "      <td>2007</td>\n",
       "      <td>310.833333</td>\n",
       "    </tr>\n",
       "    <tr>\n",
       "      <th>6</th>\n",
       "      <td>2008</td>\n",
       "      <td>581.500000</td>\n",
       "    </tr>\n",
       "    <tr>\n",
       "      <th>7</th>\n",
       "      <td>2009</td>\n",
       "      <td>557.500000</td>\n",
       "    </tr>\n",
       "    <tr>\n",
       "      <th>8</th>\n",
       "      <td>2010</td>\n",
       "      <td>835.833333</td>\n",
       "    </tr>\n",
       "    <tr>\n",
       "      <th>9</th>\n",
       "      <td>2011</td>\n",
       "      <td>932.555556</td>\n",
       "    </tr>\n",
       "    <tr>\n",
       "      <th>10</th>\n",
       "      <td>2012</td>\n",
       "      <td>1066.090909</td>\n",
       "    </tr>\n",
       "    <tr>\n",
       "      <th>11</th>\n",
       "      <td>2013</td>\n",
       "      <td>1275.777778</td>\n",
       "    </tr>\n",
       "    <tr>\n",
       "      <th>12</th>\n",
       "      <td>2014</td>\n",
       "      <td>1485.777778</td>\n",
       "    </tr>\n",
       "    <tr>\n",
       "      <th>13</th>\n",
       "      <td>2015</td>\n",
       "      <td>1837.000000</td>\n",
       "    </tr>\n",
       "    <tr>\n",
       "      <th>14</th>\n",
       "      <td>2016</td>\n",
       "      <td>1758.000000</td>\n",
       "    </tr>\n",
       "    <tr>\n",
       "      <th>15</th>\n",
       "      <td>2017</td>\n",
       "      <td>1790.600000</td>\n",
       "    </tr>\n",
       "    <tr>\n",
       "      <th>16</th>\n",
       "      <td>2018</td>\n",
       "      <td>2137.000000</td>\n",
       "    </tr>\n",
       "    <tr>\n",
       "      <th>17</th>\n",
       "      <td>2019</td>\n",
       "      <td>2258.500000</td>\n",
       "    </tr>\n",
       "    <tr>\n",
       "      <th>18</th>\n",
       "      <td>2020</td>\n",
       "      <td>2527.583333</td>\n",
       "    </tr>\n",
       "    <tr>\n",
       "      <th>19</th>\n",
       "      <td>2021</td>\n",
       "      <td>2664.285714</td>\n",
       "    </tr>\n",
       "  </tbody>\n",
       "</table>\n",
       "</div>"
      ],
      "text/plain": [
       "    Year  Loss of Mass(billion metric tons per year)\n",
       "0   2002                                    2.714286\n",
       "1   2003                                  109.818182\n",
       "2   2004                                  256.333333\n",
       "3   2005                                  223.500000\n",
       "4   2006                                  124.666667\n",
       "5   2007                                  310.833333\n",
       "6   2008                                  581.500000\n",
       "7   2009                                  557.500000\n",
       "8   2010                                  835.833333\n",
       "9   2011                                  932.555556\n",
       "10  2012                                 1066.090909\n",
       "11  2013                                 1275.777778\n",
       "12  2014                                 1485.777778\n",
       "13  2015                                 1837.000000\n",
       "14  2016                                 1758.000000\n",
       "15  2017                                 1790.600000\n",
       "16  2018                                 2137.000000\n",
       "17  2019                                 2258.500000\n",
       "18  2020                                 2527.583333\n",
       "19  2021                                 2664.285714"
      ]
     },
     "execution_count": 28,
     "metadata": {},
     "output_type": "execute_result"
    }
   ],
   "source": [
    "antarctica_glacier = pd.read_csv('../datasets/raw-datasets/antarctica_mass_200204_202108.csv',error_bad_lines=False)\n",
    "antarctica_glacier = antarctica_glacier[22:221]\n",
    "antarctica_glacier[['Year', 'B']] = antarctica_glacier['HDR Antarctica Mass'].str.split(' ', 1, expand=True)\n",
    "antarctica_glacier.drop('HDR Antarctica Mass',axis=1,inplace=True)\n",
    "antarctica_glacier[['Loss of Mass(billion metric tons per year)','c']]=antarctica_glacier['B'].str.split('.', 1, expand=True)\n",
    "antarctica_glacier.drop('B',axis=1,inplace=True)\n",
    "antarctica_glacier.drop('c',axis=1,inplace=True)\n",
    "antarctica_glacier[['Year','c']]=antarctica_glacier['Year'].str.split('.', 1, expand=True)\n",
    "antarctica_glacier.drop('c',axis=1,inplace=True)\n",
    "antarctica_glacier['Loss of Mass(billion metric tons per year)'] = antarctica_glacier['Loss of Mass(billion metric tons per year)'].astype(float)\n",
    "antarctica_glacier = antarctica_glacier.groupby(['Year'], as_index=False).mean()\n",
    "antarctica_glacier['Loss of Mass(billion metric tons per year)'] = -antarctica_glacier['Loss of Mass(billion metric tons per year)']\n",
    "antarctica_glacier.to_csv('../datasets/cleaned-datasets/cleaned_antarctica_mass_200204_202108.csv')\n",
    "antarctica_glacier"
   ]
  },
  {
   "cell_type": "code",
   "execution_count": 29,
   "metadata": {},
   "outputs": [
    {
     "name": "stderr",
     "output_type": "stream",
     "text": [
      "b'Skipping line 12: expected 1 fields, saw 8\\nSkipping line 13: expected 1 fields, saw 5\\nSkipping line 16: expected 1 fields, saw 7\\nSkipping line 17: expected 1 fields, saw 5\\nSkipping line 24: expected 1 fields, saw 3\\nSkipping line 25: expected 1 fields, saw 4\\nSkipping line 27: expected 1 fields, saw 3\\nSkipping line 29: expected 1 fields, saw 4\\n'\n"
     ]
    },
    {
     "data": {
      "text/html": [
       "<div>\n",
       "<style scoped>\n",
       "    .dataframe tbody tr th:only-of-type {\n",
       "        vertical-align: middle;\n",
       "    }\n",
       "\n",
       "    .dataframe tbody tr th {\n",
       "        vertical-align: top;\n",
       "    }\n",
       "\n",
       "    .dataframe thead th {\n",
       "        text-align: right;\n",
       "    }\n",
       "</style>\n",
       "<table border=\"1\" class=\"dataframe\">\n",
       "  <thead>\n",
       "    <tr style=\"text-align: right;\">\n",
       "      <th></th>\n",
       "      <th>Year</th>\n",
       "      <th>Loss of Mass(billion metric tons per year)</th>\n",
       "    </tr>\n",
       "  </thead>\n",
       "  <tbody>\n",
       "    <tr>\n",
       "      <th>0</th>\n",
       "      <td>2002</td>\n",
       "      <td>143.714286</td>\n",
       "    </tr>\n",
       "    <tr>\n",
       "      <th>1</th>\n",
       "      <td>2003</td>\n",
       "      <td>234.818182</td>\n",
       "    </tr>\n",
       "    <tr>\n",
       "      <th>2</th>\n",
       "      <td>2004</td>\n",
       "      <td>451.000000</td>\n",
       "    </tr>\n",
       "    <tr>\n",
       "      <th>3</th>\n",
       "      <td>2005</td>\n",
       "      <td>663.083333</td>\n",
       "    </tr>\n",
       "    <tr>\n",
       "      <th>4</th>\n",
       "      <td>2006</td>\n",
       "      <td>921.916667</td>\n",
       "    </tr>\n",
       "    <tr>\n",
       "      <th>5</th>\n",
       "      <td>2007</td>\n",
       "      <td>1197.083333</td>\n",
       "    </tr>\n",
       "    <tr>\n",
       "      <th>6</th>\n",
       "      <td>2008</td>\n",
       "      <td>1462.500000</td>\n",
       "    </tr>\n",
       "    <tr>\n",
       "      <th>7</th>\n",
       "      <td>2009</td>\n",
       "      <td>1688.750000</td>\n",
       "    </tr>\n",
       "    <tr>\n",
       "      <th>8</th>\n",
       "      <td>2010</td>\n",
       "      <td>2069.916667</td>\n",
       "    </tr>\n",
       "    <tr>\n",
       "      <th>9</th>\n",
       "      <td>2011</td>\n",
       "      <td>2534.222222</td>\n",
       "    </tr>\n",
       "    <tr>\n",
       "      <th>10</th>\n",
       "      <td>2012</td>\n",
       "      <td>2927.000000</td>\n",
       "    </tr>\n",
       "    <tr>\n",
       "      <th>11</th>\n",
       "      <td>2013</td>\n",
       "      <td>3274.333333</td>\n",
       "    </tr>\n",
       "    <tr>\n",
       "      <th>12</th>\n",
       "      <td>2014</td>\n",
       "      <td>3432.000000</td>\n",
       "    </tr>\n",
       "    <tr>\n",
       "      <th>13</th>\n",
       "      <td>2015</td>\n",
       "      <td>3613.000000</td>\n",
       "    </tr>\n",
       "    <tr>\n",
       "      <th>14</th>\n",
       "      <td>2016</td>\n",
       "      <td>3852.111111</td>\n",
       "    </tr>\n",
       "    <tr>\n",
       "      <th>15</th>\n",
       "      <td>2017</td>\n",
       "      <td>3992.200000</td>\n",
       "    </tr>\n",
       "    <tr>\n",
       "      <th>16</th>\n",
       "      <td>2018</td>\n",
       "      <td>4138.800000</td>\n",
       "    </tr>\n",
       "    <tr>\n",
       "      <th>17</th>\n",
       "      <td>2019</td>\n",
       "      <td>4459.666667</td>\n",
       "    </tr>\n",
       "    <tr>\n",
       "      <th>18</th>\n",
       "      <td>2020</td>\n",
       "      <td>4846.250000</td>\n",
       "    </tr>\n",
       "    <tr>\n",
       "      <th>19</th>\n",
       "      <td>2021</td>\n",
       "      <td>4905.000000</td>\n",
       "    </tr>\n",
       "  </tbody>\n",
       "</table>\n",
       "</div>"
      ],
      "text/plain": [
       "    Year  Loss of Mass(billion metric tons per year)\n",
       "0   2002                                  143.714286\n",
       "1   2003                                  234.818182\n",
       "2   2004                                  451.000000\n",
       "3   2005                                  663.083333\n",
       "4   2006                                  921.916667\n",
       "5   2007                                 1197.083333\n",
       "6   2008                                 1462.500000\n",
       "7   2009                                 1688.750000\n",
       "8   2010                                 2069.916667\n",
       "9   2011                                 2534.222222\n",
       "10  2012                                 2927.000000\n",
       "11  2013                                 3274.333333\n",
       "12  2014                                 3432.000000\n",
       "13  2015                                 3613.000000\n",
       "14  2016                                 3852.111111\n",
       "15  2017                                 3992.200000\n",
       "16  2018                                 4138.800000\n",
       "17  2019                                 4459.666667\n",
       "18  2020                                 4846.250000\n",
       "19  2021                                 4905.000000"
      ]
     },
     "execution_count": 29,
     "metadata": {},
     "output_type": "execute_result"
    }
   ],
   "source": [
    "greenland_glacier = pd.read_csv('../datasets/raw-datasets/greenland_mass_200204_202108.csv',error_bad_lines=False)\n",
    "greenland_glacier = greenland_glacier[22:221]\n",
    "greenland_glacier[['Year', 'B']] = greenland_glacier['HDR Greenland Mass'].str.split(' ', 1, expand=True)\n",
    "greenland_glacier.drop('HDR Greenland Mass',axis=1,inplace=True)\n",
    "greenland_glacier[['Loss of Mass(billion metric tons per year)','c']]=greenland_glacier['B'].str.split('.', 1, expand=True)\n",
    "greenland_glacier.drop('B',axis=1,inplace=True)\n",
    "greenland_glacier.drop('c',axis=1,inplace=True)\n",
    "greenland_glacier[['Year','c']]=greenland_glacier['Year'].str.split('.', 1, expand=True)\n",
    "greenland_glacier.drop('c',axis=1,inplace=True)\n",
    "greenland_glacier['Loss of Mass(billion metric tons per year)'] = greenland_glacier['Loss of Mass(billion metric tons per year)'].astype(float)\n",
    "greenland_glacier = greenland_glacier.groupby(['Year'], as_index=False).mean()\n",
    "greenland_glacier['Loss of Mass(billion metric tons per year)'] = -greenland_glacier['Loss of Mass(billion metric tons per year)']\n",
    "greenland_glacier.to_csv('../datasets/cleaned-datasets/cleaned_greenland_mass_200204_202108.csv')\n",
    "greenland_glacier"
   ]
  },
  {
   "cell_type": "code",
   "execution_count": 30,
   "metadata": {},
   "outputs": [
    {
     "data": {
      "image/png": "[encoded data removed]",
      "text/plain": [
       "<Figure size 960x800 with 1 Axes>"
      ]
     },
     "metadata": {
      "needs_background": "light"
     },
     "output_type": "display_data"
    }
   ],
   "source": [
    "figure(figsize=(12, 10), dpi=80)\n",
    "plt.plot(greenland_glacier['Year'], greenland_glacier['Loss of Mass(billion metric tons per year)'],label = \"greenland_glacier\")\n",
    "plt.plot(antarctica_glacier['Year'], antarctica_glacier['Loss of Mass(billion metric tons per year)'],label = \"antarctica_glacier\")\n",
    "plt.legend()\n",
    "plt.xlabel('Year')\n",
    "plt.ylabel('Loss of Mass(billion metric tons per year)')\n",
    "plt.show()"
   ]
  },
  {
   "cell_type": "markdown",
   "metadata": {},
   "source": [
    "We can clearly observe that we are losing much more glaciers at north than south pole. The reason is that North pole's ice is basically ocean covered by sea ice, whereas Antarctica is an elevated continent covered in more permanent snow & ice."
   ]
  },
  {
   "cell_type": "markdown",
   "metadata": {},
   "source": [
    "Now, we'll try to compare the rates at which this loss of mass is occuring yearwise."
   ]
  },
  {
   "cell_type": "code",
   "execution_count": 31,
   "metadata": {},
   "outputs": [
    {
     "data": {
      "text/html": [
       "<div>\n",
       "<style scoped>\n",
       "    .dataframe tbody tr th:only-of-type {\n",
       "        vertical-align: middle;\n",
       "    }\n",
       "\n",
       "    .dataframe tbody tr th {\n",
       "        vertical-align: top;\n",
       "    }\n",
       "\n",
       "    .dataframe thead th {\n",
       "        text-align: right;\n",
       "    }\n",
       "</style>\n",
       "<table border=\"1\" class=\"dataframe\">\n",
       "  <thead>\n",
       "    <tr style=\"text-align: right;\">\n",
       "      <th></th>\n",
       "      <th>Year</th>\n",
       "      <th>Loss of Mass(billion metric tons per year)</th>\n",
       "      <th>Loss per year</th>\n",
       "    </tr>\n",
       "  </thead>\n",
       "  <tbody>\n",
       "    <tr>\n",
       "      <th>0</th>\n",
       "      <td>2002</td>\n",
       "      <td>2.714286</td>\n",
       "      <td>NaN</td>\n",
       "    </tr>\n",
       "    <tr>\n",
       "      <th>1</th>\n",
       "      <td>2003</td>\n",
       "      <td>109.818182</td>\n",
       "      <td>107.103896</td>\n",
       "    </tr>\n",
       "    <tr>\n",
       "      <th>2</th>\n",
       "      <td>2004</td>\n",
       "      <td>256.333333</td>\n",
       "      <td>146.515152</td>\n",
       "    </tr>\n",
       "    <tr>\n",
       "      <th>3</th>\n",
       "      <td>2005</td>\n",
       "      <td>223.500000</td>\n",
       "      <td>-32.833333</td>\n",
       "    </tr>\n",
       "    <tr>\n",
       "      <th>4</th>\n",
       "      <td>2006</td>\n",
       "      <td>124.666667</td>\n",
       "      <td>-98.833333</td>\n",
       "    </tr>\n",
       "    <tr>\n",
       "      <th>5</th>\n",
       "      <td>2007</td>\n",
       "      <td>310.833333</td>\n",
       "      <td>186.166667</td>\n",
       "    </tr>\n",
       "    <tr>\n",
       "      <th>6</th>\n",
       "      <td>2008</td>\n",
       "      <td>581.500000</td>\n",
       "      <td>270.666667</td>\n",
       "    </tr>\n",
       "    <tr>\n",
       "      <th>7</th>\n",
       "      <td>2009</td>\n",
       "      <td>557.500000</td>\n",
       "      <td>-24.000000</td>\n",
       "    </tr>\n",
       "    <tr>\n",
       "      <th>8</th>\n",
       "      <td>2010</td>\n",
       "      <td>835.833333</td>\n",
       "      <td>278.333333</td>\n",
       "    </tr>\n",
       "    <tr>\n",
       "      <th>9</th>\n",
       "      <td>2011</td>\n",
       "      <td>932.555556</td>\n",
       "      <td>96.722222</td>\n",
       "    </tr>\n",
       "    <tr>\n",
       "      <th>10</th>\n",
       "      <td>2012</td>\n",
       "      <td>1066.090909</td>\n",
       "      <td>133.535354</td>\n",
       "    </tr>\n",
       "    <tr>\n",
       "      <th>11</th>\n",
       "      <td>2013</td>\n",
       "      <td>1275.777778</td>\n",
       "      <td>209.686869</td>\n",
       "    </tr>\n",
       "    <tr>\n",
       "      <th>12</th>\n",
       "      <td>2014</td>\n",
       "      <td>1485.777778</td>\n",
       "      <td>210.000000</td>\n",
       "    </tr>\n",
       "    <tr>\n",
       "      <th>13</th>\n",
       "      <td>2015</td>\n",
       "      <td>1837.000000</td>\n",
       "      <td>351.222222</td>\n",
       "    </tr>\n",
       "    <tr>\n",
       "      <th>14</th>\n",
       "      <td>2016</td>\n",
       "      <td>1758.000000</td>\n",
       "      <td>-79.000000</td>\n",
       "    </tr>\n",
       "    <tr>\n",
       "      <th>15</th>\n",
       "      <td>2017</td>\n",
       "      <td>1790.600000</td>\n",
       "      <td>32.600000</td>\n",
       "    </tr>\n",
       "    <tr>\n",
       "      <th>16</th>\n",
       "      <td>2018</td>\n",
       "      <td>2137.000000</td>\n",
       "      <td>346.400000</td>\n",
       "    </tr>\n",
       "    <tr>\n",
       "      <th>17</th>\n",
       "      <td>2019</td>\n",
       "      <td>2258.500000</td>\n",
       "      <td>121.500000</td>\n",
       "    </tr>\n",
       "    <tr>\n",
       "      <th>18</th>\n",
       "      <td>2020</td>\n",
       "      <td>2527.583333</td>\n",
       "      <td>269.083333</td>\n",
       "    </tr>\n",
       "    <tr>\n",
       "      <th>19</th>\n",
       "      <td>2021</td>\n",
       "      <td>2664.285714</td>\n",
       "      <td>136.702381</td>\n",
       "    </tr>\n",
       "  </tbody>\n",
       "</table>\n",
       "</div>"
      ],
      "text/plain": [
       "    Year  Loss of Mass(billion metric tons per year)  Loss per year\n",
       "0   2002                                    2.714286            NaN\n",
       "1   2003                                  109.818182     107.103896\n",
       "2   2004                                  256.333333     146.515152\n",
       "3   2005                                  223.500000     -32.833333\n",
       "4   2006                                  124.666667     -98.833333\n",
       "5   2007                                  310.833333     186.166667\n",
       "6   2008                                  581.500000     270.666667\n",
       "7   2009                                  557.500000     -24.000000\n",
       "8   2010                                  835.833333     278.333333\n",
       "9   2011                                  932.555556      96.722222\n",
       "10  2012                                 1066.090909     133.535354\n",
       "11  2013                                 1275.777778     209.686869\n",
       "12  2014                                 1485.777778     210.000000\n",
       "13  2015                                 1837.000000     351.222222\n",
       "14  2016                                 1758.000000     -79.000000\n",
       "15  2017                                 1790.600000      32.600000\n",
       "16  2018                                 2137.000000     346.400000\n",
       "17  2019                                 2258.500000     121.500000\n",
       "18  2020                                 2527.583333     269.083333\n",
       "19  2021                                 2664.285714     136.702381"
      ]
     },
     "execution_count": 31,
     "metadata": {},
     "output_type": "execute_result"
    }
   ],
   "source": [
    "antarctica_glacier['Loss per year']=antarctica_glacier['Loss of Mass(billion metric tons per year)'].diff()\n",
    "greenland_glacier['Loss per year']=greenland_glacier['Loss of Mass(billion metric tons per year)'].diff()\n",
    "antarctica_glacier"
   ]
  },
  {
   "cell_type": "code",
   "execution_count": 32,
   "metadata": {},
   "outputs": [
    {
     "data": {
      "image/png": "[encoded data removed]",
      "text/plain": [
       "<Figure size 800x640 with 1 Axes>"
      ]
     },
     "metadata": {
      "needs_background": "light"
     },
     "output_type": "display_data"
    }
   ],
   "source": [
    "figure(figsize=(10, 8), dpi=80)\n",
    "plt.plot(greenland_glacier['Year'], greenland_glacier['Loss per year'],label = \"greenland_glacier\")\n",
    "plt.plot(antarctica_glacier['Year'], antarctica_glacier['Loss per year'],label = \"antarctica_glacier\")\n",
    "plt.legend()\n",
    "plt.xlabel('Year')\n",
    "plt.ylabel('Loss per year')\n",
    "plt.show()"
   ]
  },
  {
   "cell_type": "markdown",
   "metadata": {},
   "source": [
    "The above figure shows that we are continously losing mass at a very high rate."
   ]
  },
  {
   "cell_type": "markdown",
   "metadata": {},
   "source": [
    "It has been observed over years, that almost all glaciers are losing ice , even ones that are in tibet which were clamied to be stable previously. <br>\n",
    "Shrinking of Glaciers is problem for millions of people living in countries like India who rely on seasonal glacial melt for daily water. The problem is that rapid glacial melt can cause deadly outbreaks. But the biggest threat due to the glacial meltdown is <b>rising sea level</b>. As warm water expands and Melting ice sheets in Greenland and Antarctica(responsible for 21% of sea level rise), the world's ocean are rising.<br>\n",
    "\n",
    "National Snow and Ice Data Center Director Mark Serreze once said “It’s becoming increasingly clear that <b>sea level rise</b> is going to be a bigger and bigger problem as we move through the 21st century,”. \n"
   ]
  },
  {
   "cell_type": "markdown",
   "metadata": {},
   "source": [
    "# Increases in Global Sea Level Year wise(1880-2019)"
   ]
  },
  {
   "cell_type": "markdown",
   "metadata": {},
   "source": [
    "Now, As we saw above that Glacier meltdown is a primary reason for sea level rise. we'll do some analysis on the same."
   ]
  },
  {
   "cell_type": "markdown",
   "metadata": {},
   "source": [
    "Cleaning of sea-level-fig-1.csv<br>\n",
    "source:- https://www.epa.gov/climate-indicators/climate-change-indicators-sea-level#ref4"
   ]
  },
  {
   "cell_type": "markdown",
   "metadata": {},
   "source": [
    "We are considering Sea level in year 1880 as normal sea level."
   ]
  },
  {
   "cell_type": "code",
   "execution_count": 9,
   "metadata": {},
   "outputs": [],
   "source": [
    "#cleaning of sea level rise data\n",
    "sea_rise_data = pd.read_csv(\"../datasets/raw-datasets/sea-level_fig-1.csv\")\n",
    "sea_rise_data_upto_1992 = sea_rise_data[5:119]\n",
    "sea_rise_data_upto_1992 = sea_rise_data_upto_1992[['Figure 1. Global Average Absolute Sea Level Change, 1880-2019','Unnamed: 1']].copy()\n",
    "sea_rise_data_upto_1992.columns = ['Year','Sea Level increase(inches)']\n",
    "sea_rise_data_from_1993_upto_2019 = sea_rise_data[119:]\n",
    "sea_rise_data_from_1993_upto_2019 = sea_rise_data_from_1993_upto_2019[['Figure 1. Global Average Absolute Sea Level Change, 1880-2019','Unnamed: 4']].copy()\n",
    "sea_rise_data_from_1993_upto_2019.columns = ['Year','Sea Level increase(inches)']"
   ]
  },
  {
   "cell_type": "code",
   "execution_count": 34,
   "metadata": {},
   "outputs": [
    {
     "data": {
      "text/html": [
       "<div>\n",
       "<style scoped>\n",
       "    .dataframe tbody tr th:only-of-type {\n",
       "        vertical-align: middle;\n",
       "    }\n",
       "\n",
       "    .dataframe tbody tr th {\n",
       "        vertical-align: top;\n",
       "    }\n",
       "\n",
       "    .dataframe thead th {\n",
       "        text-align: right;\n",
       "    }\n",
       "</style>\n",
       "<table border=\"1\" class=\"dataframe\">\n",
       "  <thead>\n",
       "    <tr style=\"text-align: right;\">\n",
       "      <th></th>\n",
       "      <th>Year</th>\n",
       "      <th>Sea Level increase(inches)</th>\n",
       "      <th>Sea Level increase(cms)</th>\n",
       "      <th>Rise per year(inches)</th>\n",
       "      <th>Rise per year(cms)</th>\n",
       "    </tr>\n",
       "  </thead>\n",
       "  <tbody>\n",
       "    <tr>\n",
       "      <th>0</th>\n",
       "      <td>1880</td>\n",
       "      <td>0.000000</td>\n",
       "      <td>0.000000</td>\n",
       "      <td>NaN</td>\n",
       "      <td>NaN</td>\n",
       "    </tr>\n",
       "    <tr>\n",
       "      <th>1</th>\n",
       "      <td>1881</td>\n",
       "      <td>0.220472</td>\n",
       "      <td>0.560000</td>\n",
       "      <td>0.220472</td>\n",
       "      <td>0.560000</td>\n",
       "    </tr>\n",
       "    <tr>\n",
       "      <th>2</th>\n",
       "      <td>1882</td>\n",
       "      <td>-0.440945</td>\n",
       "      <td>-1.120000</td>\n",
       "      <td>-0.661417</td>\n",
       "      <td>-1.680000</td>\n",
       "    </tr>\n",
       "    <tr>\n",
       "      <th>3</th>\n",
       "      <td>1883</td>\n",
       "      <td>-0.232283</td>\n",
       "      <td>-0.590000</td>\n",
       "      <td>0.208661</td>\n",
       "      <td>0.530000</td>\n",
       "    </tr>\n",
       "    <tr>\n",
       "      <th>4</th>\n",
       "      <td>1884</td>\n",
       "      <td>0.590551</td>\n",
       "      <td>1.500000</td>\n",
       "      <td>0.822835</td>\n",
       "      <td>2.090000</td>\n",
       "    </tr>\n",
       "    <tr>\n",
       "      <th>...</th>\n",
       "      <td>...</td>\n",
       "      <td>...</td>\n",
       "      <td>...</td>\n",
       "      <td>...</td>\n",
       "      <td>...</td>\n",
       "    </tr>\n",
       "    <tr>\n",
       "      <th>135</th>\n",
       "      <td>2015</td>\n",
       "      <td>8.925435</td>\n",
       "      <td>22.670605</td>\n",
       "      <td>0.345997</td>\n",
       "      <td>0.878833</td>\n",
       "    </tr>\n",
       "    <tr>\n",
       "      <th>136</th>\n",
       "      <td>2016</td>\n",
       "      <td>9.036237</td>\n",
       "      <td>22.952043</td>\n",
       "      <td>0.110802</td>\n",
       "      <td>0.281438</td>\n",
       "    </tr>\n",
       "    <tr>\n",
       "      <th>137</th>\n",
       "      <td>2017</td>\n",
       "      <td>9.087686</td>\n",
       "      <td>23.082723</td>\n",
       "      <td>0.051449</td>\n",
       "      <td>0.130680</td>\n",
       "    </tr>\n",
       "    <tr>\n",
       "      <th>138</th>\n",
       "      <td>2018</td>\n",
       "      <td>9.221200</td>\n",
       "      <td>23.421848</td>\n",
       "      <td>0.133514</td>\n",
       "      <td>0.339125</td>\n",
       "    </tr>\n",
       "    <tr>\n",
       "      <th>139</th>\n",
       "      <td>2019</td>\n",
       "      <td>9.479331</td>\n",
       "      <td>24.077500</td>\n",
       "      <td>0.258131</td>\n",
       "      <td>0.655653</td>\n",
       "    </tr>\n",
       "  </tbody>\n",
       "</table>\n",
       "<p>140 rows × 5 columns</p>\n",
       "</div>"
      ],
      "text/plain": [
       "     Year  Sea Level increase(inches)  Sea Level increase(cms)  \\\n",
       "0    1880                    0.000000                 0.000000   \n",
       "1    1881                    0.220472                 0.560000   \n",
       "2    1882                   -0.440945                -1.120000   \n",
       "3    1883                   -0.232283                -0.590000   \n",
       "4    1884                    0.590551                 1.500000   \n",
       "..    ...                         ...                      ...   \n",
       "135  2015                    8.925435                22.670605   \n",
       "136  2016                    9.036237                22.952043   \n",
       "137  2017                    9.087686                23.082723   \n",
       "138  2018                    9.221200                23.421848   \n",
       "139  2019                    9.479331                24.077500   \n",
       "\n",
       "     Rise per year(inches)  Rise per year(cms)  \n",
       "0                      NaN                 NaN  \n",
       "1                 0.220472            0.560000  \n",
       "2                -0.661417           -1.680000  \n",
       "3                 0.208661            0.530000  \n",
       "4                 0.822835            2.090000  \n",
       "..                     ...                 ...  \n",
       "135               0.345997            0.878833  \n",
       "136               0.110802            0.281438  \n",
       "137               0.051449            0.130680  \n",
       "138               0.133514            0.339125  \n",
       "139               0.258131            0.655653  \n",
       "\n",
       "[140 rows x 5 columns]"
      ]
     },
     "execution_count": 34,
     "metadata": {},
     "output_type": "execute_result"
    }
   ],
   "source": [
    "sea_rise_data = pd.concat([sea_rise_data_upto_1992, sea_rise_data_from_1993_upto_2019])\n",
    "sea_rise_data = sea_rise_data[1:]\n",
    "sea_rise_data.reset_index(inplace=True)\n",
    "sea_rise_data.drop('index',axis=1,inplace=True)\n",
    "sea_rise_data['Sea Level increase(inches)']=sea_rise_data['Sea Level increase(inches)'].astype(float)\n",
    "sea_rise_data['Sea Level increase(cms)']=sea_rise_data['Sea Level increase(inches)']*2.54\n",
    "sea_rise_data['Rise per year(inches)']=sea_rise_data['Sea Level increase(inches)'].diff()\n",
    "sea_rise_data['Rise per year(cms)']=sea_rise_data['Sea Level increase(cms)'].diff()\n",
    "sea_rise_data.to_csv('../datasets/cleaned-datasets/cleaned_sea-level_fig-1.csv')\n",
    "sea_rise_data"
   ]
  },
  {
   "cell_type": "markdown",
   "metadata": {},
   "source": [
    "Now, We'll be doing every 5 year analysis for last 50 year. So that we can check if rate of sea level rise is constant or growing."
   ]
  },
  {
   "cell_type": "markdown",
   "metadata": {},
   "source": [
    "we will consider last 35 year data.(1985-2019)"
   ]
  },
  {
   "cell_type": "code",
   "execution_count": 35,
   "metadata": {},
   "outputs": [
    {
     "data": {
      "text/html": [
       "<div>\n",
       "<style scoped>\n",
       "    .dataframe tbody tr th:only-of-type {\n",
       "        vertical-align: middle;\n",
       "    }\n",
       "\n",
       "    .dataframe tbody tr th {\n",
       "        vertical-align: top;\n",
       "    }\n",
       "\n",
       "    .dataframe thead th {\n",
       "        text-align: right;\n",
       "    }\n",
       "</style>\n",
       "<table border=\"1\" class=\"dataframe\">\n",
       "  <thead>\n",
       "    <tr style=\"text-align: right;\">\n",
       "      <th></th>\n",
       "      <th>Rise per year(cms)</th>\n",
       "      <th>Year</th>\n",
       "    </tr>\n",
       "  </thead>\n",
       "  <tbody>\n",
       "    <tr>\n",
       "      <th>0</th>\n",
       "      <td>0.010000</td>\n",
       "      <td>1985-1989</td>\n",
       "    </tr>\n",
       "    <tr>\n",
       "      <th>1</th>\n",
       "      <td>0.714105</td>\n",
       "      <td>1990-1994</td>\n",
       "    </tr>\n",
       "    <tr>\n",
       "      <th>2</th>\n",
       "      <td>1.020694</td>\n",
       "      <td>1995-1999</td>\n",
       "    </tr>\n",
       "    <tr>\n",
       "      <th>3</th>\n",
       "      <td>1.588062</td>\n",
       "      <td>2000-2004</td>\n",
       "    </tr>\n",
       "    <tr>\n",
       "      <th>4</th>\n",
       "      <td>1.289934</td>\n",
       "      <td>2005-2009</td>\n",
       "    </tr>\n",
       "    <tr>\n",
       "      <th>5</th>\n",
       "      <td>1.538976</td>\n",
       "      <td>2010-2014</td>\n",
       "    </tr>\n",
       "    <tr>\n",
       "      <th>6</th>\n",
       "      <td>2.285729</td>\n",
       "      <td>2015-2019</td>\n",
       "    </tr>\n",
       "  </tbody>\n",
       "</table>\n",
       "</div>"
      ],
      "text/plain": [
       "   Rise per year(cms)       Year\n",
       "0            0.010000  1985-1989\n",
       "1            0.714105  1990-1994\n",
       "2            1.020694  1995-1999\n",
       "3            1.588062  2000-2004\n",
       "4            1.289934  2005-2009\n",
       "5            1.538976  2010-2014\n",
       "6            2.285729  2015-2019"
      ]
     },
     "execution_count": 35,
     "metadata": {},
     "output_type": "execute_result"
    }
   ],
   "source": [
    "sea_rise_data_last_50_years=sea_rise_data[105:140]\n",
    "sea_rise_data_last_50_years=sea_rise_data_last_50_years[['Year','Rise per year(cms)']].copy()\n",
    "N = 5\n",
    "sea_rise_data_last_50_years=sea_rise_data_last_50_years.groupby(sea_rise_data_last_50_years.index // N).sum()\n",
    "sea_rise_data_last_50_years['Year']=['1985-1989','1990-1994','1995-1999','2000-2004','2005-2009','2010-2014','2015-2019']\n",
    "sea_rise_data_last_50_years.reset_index(inplace=True)\n",
    "sea_rise_data_last_50_years.drop('index',axis=1,inplace=True)\n",
    "sea_rise_data_last_50_years\n"
   ]
  },
  {
   "cell_type": "code",
   "execution_count": 36,
   "metadata": {},
   "outputs": [
    {
     "data": {
      "image/png": "[encoded data removed]",
      "text/plain": [
       "<Figure size 800x640 with 1 Axes>"
      ]
     },
     "metadata": {
      "needs_background": "light"
     },
     "output_type": "display_data"
    }
   ],
   "source": [
    "figure(figsize=(10, 8), dpi=80)\n",
    "plt.plot(sea_rise_data_last_50_years['Year'],sea_rise_data_last_50_years['Rise per year(cms)'])\n",
    "plt.xlabel('Year')\n",
    "plt.ylabel('Rise per year')\n",
    "plt.show()"
   ]
  },
  {
   "cell_type": "markdown",
   "metadata": {},
   "source": [
    "We can clearly visualize that Sea level is rising at a very high rate. The rate is increasing year by year. If this rate would keep increasing, we may lose 50% of mumbai, cochin, bhavnagar,mangalore, chennai and many more cities by this century."
   ]
  },
  {
   "cell_type": "markdown",
   "metadata": {},
   "source": [
    "# References"
   ]
  },
  {
   "cell_type": "markdown",
   "metadata": {},
   "source": [
    "For glaciers:\n",
    "1. https://www.nbcnews.com/science/environment/satellites-show-worlds-glaciers-melting-faster-ever-rcna791\n",
    "2. https://www.fluencecorp.com/how-melting-glaciers-affect-us/\n",
    "3. https://theconversation.com/climate-explained-why-is-the-arctic-warming-faster-than-other-parts-of-the-world-160614\n",
    " "
   ]
  },
  {
   "cell_type": "markdown",
   "metadata": {},
   "source": [
    "# How Plastic wastes are haunting Oceans?"
   ]
  },
  {
   "cell_type": "markdown",
   "metadata": {},
   "source": [
    "Rising Sea levels and melting of glaciers are not only problems going in oceans, but they are even more big problems which will affect human and aquactic lives in a very dangerous way.<br>\n",
    "One of them is Mismanaged Plastic wastes which goes in the oceans through various ways. "
   ]
  },
  {
   "cell_type": "markdown",
   "metadata": {},
   "source": [
    "Plastic has now been inesacapable from our daily lives. From food packaging to toiletries, toys, automobiles, electronic devices, plastics are used in everything today. Although plastic is very durable but problem is is unbiodegradeable.<br><br>\n",
    "Each year, marine animals entangled in plastic wastes generated by us. This causes them infections, injuries, inability to feed and it also limits their motion. When a sea creature consumes these plastic, it can damage their stomach or it may cause infections. In this way, the whole food cycle gets disturbed.<br><br>\n",
    "Now, when these sea animals consume these plastics, those toxins from plastics breaks inside their bodies. Then human consuming those seafoods are also consuming these toxins. The problem is that some of these toxins are linked to hormonal inabilities and developmental problems. "
   ]
  },
  {
   "cell_type": "markdown",
   "metadata": {},
   "source": [
    "# Plastic wastage"
   ]
  },
  {
   "cell_type": "markdown",
   "metadata": {},
   "source": [
    "Now, Lets look how much plastic is generated by each country every year."
   ]
  },
  {
   "cell_type": "code",
   "execution_count": 37,
   "metadata": {},
   "outputs": [],
   "source": [
    "#importing some important libraries \n",
    "import numpy as np\n",
    "import pandas as pd\n",
    "import matplotlib.pyplot as plt\n",
    "from matplotlib.pyplot import figure\n",
    "import warnings \n",
    "warnings.filterwarnings('ignore')\n",
    "import plotly\n",
    "import plotly.express as px"
   ]
  },
  {
   "cell_type": "markdown",
   "metadata": {},
   "source": [
    "Cleaning of raw data starts here:"
   ]
  },
  {
   "cell_type": "code",
   "execution_count": 38,
   "metadata": {},
   "outputs": [
    {
     "data": {
      "text/html": [
       "<div>\n",
       "<style scoped>\n",
       "    .dataframe tbody tr th:only-of-type {\n",
       "        vertical-align: middle;\n",
       "    }\n",
       "\n",
       "    .dataframe tbody tr th {\n",
       "        vertical-align: top;\n",
       "    }\n",
       "\n",
       "    .dataframe thead th {\n",
       "        text-align: right;\n",
       "    }\n",
       "</style>\n",
       "<table border=\"1\" class=\"dataframe\">\n",
       "  <thead>\n",
       "    <tr style=\"text-align: right;\">\n",
       "      <th></th>\n",
       "      <th>Country</th>\n",
       "      <th>Code</th>\n",
       "      <th>Plastic waste generation (tonnes, total)</th>\n",
       "      <th>Population</th>\n",
       "      <th>Continent</th>\n",
       "      <th>Plastic/Population</th>\n",
       "      <th>% share</th>\n",
       "    </tr>\n",
       "  </thead>\n",
       "  <tbody>\n",
       "    <tr>\n",
       "      <th>0</th>\n",
       "      <td>Albania</td>\n",
       "      <td>ALB</td>\n",
       "      <td>73364</td>\n",
       "      <td>2877239.0</td>\n",
       "      <td>Europe</td>\n",
       "      <td>0.025498</td>\n",
       "      <td>0.027044</td>\n",
       "    </tr>\n",
       "    <tr>\n",
       "      <th>1</th>\n",
       "      <td>Algeria</td>\n",
       "      <td>DZA</td>\n",
       "      <td>1898343</td>\n",
       "      <td>43984569.0</td>\n",
       "      <td>Africa</td>\n",
       "      <td>0.043159</td>\n",
       "      <td>0.699774</td>\n",
       "    </tr>\n",
       "    <tr>\n",
       "      <th>2</th>\n",
       "      <td>Angola</td>\n",
       "      <td>AGO</td>\n",
       "      <td>528843</td>\n",
       "      <td>33032075.0</td>\n",
       "      <td>Africa</td>\n",
       "      <td>0.016010</td>\n",
       "      <td>0.194944</td>\n",
       "    </tr>\n",
       "    <tr>\n",
       "      <th>3</th>\n",
       "      <td>Antigua and Barbuda</td>\n",
       "      <td>ATG</td>\n",
       "      <td>22804</td>\n",
       "      <td>98069.0</td>\n",
       "      <td>Americas</td>\n",
       "      <td>0.232530</td>\n",
       "      <td>0.008406</td>\n",
       "    </tr>\n",
       "    <tr>\n",
       "      <th>4</th>\n",
       "      <td>Argentina</td>\n",
       "      <td>ARG</td>\n",
       "      <td>2753550</td>\n",
       "      <td>45267449.0</td>\n",
       "      <td>Americas</td>\n",
       "      <td>0.060828</td>\n",
       "      <td>1.015023</td>\n",
       "    </tr>\n",
       "    <tr>\n",
       "      <th>...</th>\n",
       "      <td>...</td>\n",
       "      <td>...</td>\n",
       "      <td>...</td>\n",
       "      <td>...</td>\n",
       "      <td>...</td>\n",
       "      <td>...</td>\n",
       "      <td>...</td>\n",
       "    </tr>\n",
       "    <tr>\n",
       "      <th>163</th>\n",
       "      <td>Uruguay</td>\n",
       "      <td>URY</td>\n",
       "      <td>310379</td>\n",
       "      <td>3475842.0</td>\n",
       "      <td>Americas</td>\n",
       "      <td>0.089296</td>\n",
       "      <td>0.114413</td>\n",
       "    </tr>\n",
       "    <tr>\n",
       "      <th>164</th>\n",
       "      <td>Vanuatu</td>\n",
       "      <td>VUT</td>\n",
       "      <td>25443</td>\n",
       "      <td>308337.0</td>\n",
       "      <td>Oceania</td>\n",
       "      <td>0.082517</td>\n",
       "      <td>0.009379</td>\n",
       "    </tr>\n",
       "    <tr>\n",
       "      <th>165</th>\n",
       "      <td>Venezuela</td>\n",
       "      <td>VEN</td>\n",
       "      <td>2669998</td>\n",
       "      <td>28421581.0</td>\n",
       "      <td>Americas</td>\n",
       "      <td>0.093943</td>\n",
       "      <td>0.984224</td>\n",
       "    </tr>\n",
       "    <tr>\n",
       "      <th>166</th>\n",
       "      <td>Vietnam</td>\n",
       "      <td>VNM</td>\n",
       "      <td>3268227</td>\n",
       "      <td>97490013.0</td>\n",
       "      <td>Asia</td>\n",
       "      <td>0.033524</td>\n",
       "      <td>1.204745</td>\n",
       "    </tr>\n",
       "    <tr>\n",
       "      <th>167</th>\n",
       "      <td>Yemen</td>\n",
       "      <td>YEM</td>\n",
       "      <td>887497</td>\n",
       "      <td>29935468.0</td>\n",
       "      <td>Asia</td>\n",
       "      <td>0.029647</td>\n",
       "      <td>0.327152</td>\n",
       "    </tr>\n",
       "  </tbody>\n",
       "</table>\n",
       "<p>156 rows × 7 columns</p>\n",
       "</div>"
      ],
      "text/plain": [
       "                 Country Code  Plastic waste generation (tonnes, total)  \\\n",
       "0                Albania  ALB                                     73364   \n",
       "1                Algeria  DZA                                   1898343   \n",
       "2                 Angola  AGO                                    528843   \n",
       "3    Antigua and Barbuda  ATG                                     22804   \n",
       "4              Argentina  ARG                                   2753550   \n",
       "..                   ...  ...                                       ...   \n",
       "163              Uruguay  URY                                    310379   \n",
       "164              Vanuatu  VUT                                     25443   \n",
       "165            Venezuela  VEN                                   2669998   \n",
       "166              Vietnam  VNM                                   3268227   \n",
       "167                Yemen  YEM                                    887497   \n",
       "\n",
       "     Population Continent  Plastic/Population   % share  \n",
       "0     2877239.0    Europe            0.025498  0.027044  \n",
       "1    43984569.0    Africa            0.043159  0.699774  \n",
       "2    33032075.0    Africa            0.016010  0.194944  \n",
       "3       98069.0  Americas            0.232530  0.008406  \n",
       "4    45267449.0  Americas            0.060828  1.015023  \n",
       "..          ...       ...                 ...       ...  \n",
       "163   3475842.0  Americas            0.089296  0.114413  \n",
       "164    308337.0   Oceania            0.082517  0.009379  \n",
       "165  28421581.0  Americas            0.093943  0.984224  \n",
       "166  97490013.0      Asia            0.033524  1.204745  \n",
       "167  29935468.0      Asia            0.029647  0.327152  \n",
       "\n",
       "[156 rows x 7 columns]"
      ]
     },
     "execution_count": 38,
     "metadata": {},
     "output_type": "execute_result"
    }
   ],
   "source": [
    "#data cleaning\n",
    "total_plastic_waste_by_country = pd.read_csv('../datasets/raw-datasets/plastic-waste-generation-total.csv')\n",
    "total_plastic_waste_by_country.drop('Year',axis=1, inplace=True)\n",
    "total_plastic_waste_by_country.columns = ['Country','Code','Plastic waste generation (tonnes, total)']\n",
    "total_plastic_waste_by_country.to_csv('../datasets/cleaned-datasets/cleaned_plastic-waste-generation-total.csv')\n",
    "\n",
    "population = pd.read_csv(\"../datasets/raw-datasets/population_by_country_2020.csv\", usecols=['Country (or dependency)','Population (2020)'])\n",
    "population.columns = ['Country','Population']\n",
    "population.to_csv('../datasets/cleaned-datasets/cleaned_population_by_country_2020.csv')\n",
    "\n",
    "continent_country = pd.read_excel(\"../datasets/raw-datasets/countryContinent.xlsx\", usecols=['country','code_3','continent'])\n",
    "continent_country.columns = ['Country','Code','Continent']\n",
    "continent_country.to_csv('../datasets/cleaned-datasets/cleaned_continent_country.csv')\n",
    "\n",
    "\n",
    "total_plastic_waste_by_country_population_wise=pd.merge(total_plastic_waste_by_country,population,how='left',left_on=['Country'], right_on = ['Country'])\n",
    "total_plastic_waste_by_country_population_wise=pd.merge(total_plastic_waste_by_country_population_wise,continent_country,how='left',left_on=['Code'], right_on = ['Code'])\n",
    "total_plastic_waste_by_country_population_wise.drop('Country_y',axis=1,inplace=True)\n",
    "total_plastic_waste_by_country_population_wise.columns=['Country','Code','Plastic waste generation (tonnes, total)','Population','Continent']\n",
    "total_plastic_waste_by_country_population_wise=total_plastic_waste_by_country_population_wise.dropna()\n",
    "total_plastic_waste_by_country_population_wise['Plastic/Population']=total_plastic_waste_by_country_population_wise['Plastic waste generation (tonnes, total)']/total_plastic_waste_by_country_population_wise['Population']\n",
    "total_plastic_waste_by_country_population_wise['% share']=(total_plastic_waste_by_country_population_wise['Plastic waste generation (tonnes, total)']*100)/sum(total_plastic_waste_by_country_population_wise['Plastic waste generation (tonnes, total)'])\n",
    "\n",
    "total_plastic_waste_by_country_population_wise.to_csv('../datasets/cleaned-datasets/total_plastic_waste_by_country_population_wise.csv')\n",
    "total_plastic_waste_by_country_population_wise"
   ]
  },
  {
   "cell_type": "code",
   "execution_count": 39,
   "metadata": {},
   "outputs": [
    {
     "data": {
      "application/vnd.plotly.v1+json": {
       "config": {
        "plotlyServerURL": "https://plot.ly"
       },
       "data": [
        {
         "coloraxis": "coloraxis",
         "customdata": [
          [
           "Albania"
          ],
          [
           "Algeria"
          ],
          [
           "Angola"
          ],
          [
           "Antigua and Barbuda"
          ],
          [
           "Argentina"
          ],
          [
           "Aruba"
          ],
          [
           "Australia"
          ],
          [
           "Bahamas"
          ],
          [
           "Bahrain"
          ],
          [
           "Bangladesh"
          ],
          [
           "Barbados"
          ],
          [
           "Belgium"
          ],
          [
           "Belize"
          ],
          [
           "Benin"
          ],
          [
           "Bermuda"
          ],
          [
           "Bosnia and Herzegovina"
          ],
          [
           "Brazil"
          ],
          [
           "British Virgin Islands"
          ],
          [
           "Brunei"
          ],
          [
           "Bulgaria"
          ],
          [
           "Cambodia"
          ],
          [
           "Cameroon"
          ],
          [
           "Canada"
          ],
          [
           "Cayman Islands"
          ],
          [
           "Chile"
          ],
          [
           "China"
          ],
          [
           "Colombia"
          ],
          [
           "Comoros"
          ],
          [
           "Congo"
          ],
          [
           "Costa Rica"
          ],
          [
           "Croatia"
          ],
          [
           "Cuba"
          ],
          [
           "Cyprus"
          ],
          [
           "Denmark"
          ],
          [
           "Djibouti"
          ],
          [
           "Dominica"
          ],
          [
           "Dominican Republic"
          ],
          [
           "Ecuador"
          ],
          [
           "Egypt"
          ],
          [
           "El Salvador"
          ],
          [
           "Equatorial Guinea"
          ],
          [
           "Eritrea"
          ],
          [
           "Estonia"
          ],
          [
           "Faeroe Islands"
          ],
          [
           "Fiji"
          ],
          [
           "Finland"
          ],
          [
           "France"
          ],
          [
           "French Polynesia"
          ],
          [
           "Gabon"
          ],
          [
           "Gambia"
          ],
          [
           "Georgia"
          ],
          [
           "Germany"
          ],
          [
           "Ghana"
          ],
          [
           "Gibraltar"
          ],
          [
           "Greece"
          ],
          [
           "Greenland"
          ],
          [
           "Grenada"
          ],
          [
           "Guam"
          ],
          [
           "Guatemala"
          ],
          [
           "Guinea"
          ],
          [
           "Guinea-Bissau"
          ],
          [
           "Guyana"
          ],
          [
           "Haiti"
          ],
          [
           "Honduras"
          ],
          [
           "Hong Kong"
          ],
          [
           "Iceland"
          ],
          [
           "India"
          ],
          [
           "Indonesia"
          ],
          [
           "Iran"
          ],
          [
           "Iraq"
          ],
          [
           "Ireland"
          ],
          [
           "Israel"
          ],
          [
           "Italy"
          ],
          [
           "Jamaica"
          ],
          [
           "Japan"
          ],
          [
           "Jordan"
          ],
          [
           "Kenya"
          ],
          [
           "Kiribati"
          ],
          [
           "Kuwait"
          ],
          [
           "Latvia"
          ],
          [
           "Lebanon"
          ],
          [
           "Liberia"
          ],
          [
           "Libya"
          ],
          [
           "Lithuania"
          ],
          [
           "Macao"
          ],
          [
           "Madagascar"
          ],
          [
           "Malaysia"
          ],
          [
           "Maldives"
          ],
          [
           "Malta"
          ],
          [
           "Marshall Islands"
          ],
          [
           "Mauritania"
          ],
          [
           "Mauritius"
          ],
          [
           "Mexico"
          ],
          [
           "Monaco"
          ],
          [
           "Montenegro"
          ],
          [
           "Morocco"
          ],
          [
           "Mozambique"
          ],
          [
           "Myanmar"
          ],
          [
           "Namibia"
          ],
          [
           "Nauru"
          ],
          [
           "Netherlands"
          ],
          [
           "New Caledonia"
          ],
          [
           "New Zealand"
          ],
          [
           "Nicaragua"
          ],
          [
           "Nigeria"
          ],
          [
           "North Korea"
          ],
          [
           "Northern Mariana Islands"
          ],
          [
           "Norway"
          ],
          [
           "Oman"
          ],
          [
           "Pakistan"
          ],
          [
           "Palau"
          ],
          [
           "Panama"
          ],
          [
           "Papua New Guinea"
          ],
          [
           "Peru"
          ],
          [
           "Philippines"
          ],
          [
           "Poland"
          ],
          [
           "Portugal"
          ],
          [
           "Puerto Rico"
          ],
          [
           "Qatar"
          ],
          [
           "Romania"
          ],
          [
           "Russia"
          ],
          [
           "Saint Lucia"
          ],
          [
           "Samoa"
          ],
          [
           "Saudi Arabia"
          ],
          [
           "Senegal"
          ],
          [
           "Seychelles"
          ],
          [
           "Sierra Leone"
          ],
          [
           "Singapore"
          ],
          [
           "Slovenia"
          ],
          [
           "Solomon Islands"
          ],
          [
           "Somalia"
          ],
          [
           "South Africa"
          ],
          [
           "South Korea"
          ],
          [
           "Spain"
          ],
          [
           "Sri Lanka"
          ],
          [
           "Sudan"
          ],
          [
           "Suriname"
          ],
          [
           "Sweden"
          ],
          [
           "Syria"
          ],
          [
           "Tanzania"
          ],
          [
           "Thailand"
          ],
          [
           "Togo"
          ],
          [
           "Tonga"
          ],
          [
           "Trinidad and Tobago"
          ],
          [
           "Tunisia"
          ],
          [
           "Turkey"
          ],
          [
           "Tuvalu"
          ],
          [
           "Ukraine"
          ],
          [
           "United Arab Emirates"
          ],
          [
           "United Kingdom"
          ],
          [
           "United States"
          ],
          [
           "Uruguay"
          ],
          [
           "Vanuatu"
          ],
          [
           "Venezuela"
          ],
          [
           "Vietnam"
          ],
          [
           "Yemen"
          ]
         ],
         "geo": "geo",
         "hovertemplate": "Code=%{location}<br>Country=%{customdata[0]}<br>Plastic waste generation (tonnes, total)=%{z}<extra></extra>",
         "locations": [
          "ALB",
          "DZA",
          "AGO",
          "ATG",
          "ARG",
          "ABW",
          "AUS",
          "BHS",
          "BHR",
          "BGD",
          "BRB",
          "BEL",
          "BLZ",
          "BEN",
          "BMU",
          "BIH",
          "BRA",
          "VGB",
          "BRN",
          "BGR",
          "KHM",
          "CMR",
          "CAN",
          "CYM",
          "CHL",
          "CHN",
          "COL",
          "COM",
          "COG",
          "CRI",
          "HRV",
          "CUB",
          "CYP",
          "DNK",
          "DJI",
          "DMA",
          "DOM",
          "ECU",
          "EGY",
          "SLV",
          "GNQ",
          "ERI",
          "EST",
          "FRO",
          "FJI",
          "FIN",
          "FRA",
          "PYF",
          "GAB",
          "GMB",
          "GEO",
          "DEU",
          "GHA",
          "GIB",
          "GRC",
          "GRL",
          "GRD",
          "GUM",
          "GTM",
          "GIN",
          "GNB",
          "GUY",
          "HTI",
          "HND",
          "HKG",
          "ISL",
          "IND",
          "IDN",
          "IRN",
          "IRQ",
          "IRL",
          "ISR",
          "ITA",
          "JAM",
          "JPN",
          "JOR",
          "KEN",
          "KIR",
          "KWT",
          "LVA",
          "LBN",
          "LBR",
          "LBY",
          "LTU",
          "MAC",
          "MDG",
          "MYS",
          "MDV",
          "MLT",
          "MHL",
          "MRT",
          "MUS",
          "MEX",
          "MCO",
          "MNE",
          "MAR",
          "MOZ",
          "MMR",
          "NAM",
          "NRU",
          "NLD",
          "NCL",
          "NZL",
          "NIC",
          "NGA",
          "PRK",
          "MNP",
          "NOR",
          "OMN",
          "PAK",
          "PLW",
          "PAN",
          "PNG",
          "PER",
          "PHL",
          "POL",
          "PRT",
          "PRI",
          "QAT",
          "ROU",
          "RUS",
          "LCA",
          "WSM",
          "SAU",
          "SEN",
          "SYC",
          "SLE",
          "SGP",
          "SVN",
          "SLB",
          "SOM",
          "ZAF",
          "KOR",
          "ESP",
          "LKA",
          "SDN",
          "SUR",
          "SWE",
          "SYR",
          "TZA",
          "THA",
          "TGO",
          "TON",
          "TTO",
          "TUN",
          "TUR",
          "TUV",
          "UKR",
          "ARE",
          "GBR",
          "USA",
          "URY",
          "VUT",
          "VEN",
          "VNM",
          "YEM"
         ],
         "name": "",
         "type": "choropleth",
         "z": [
          73364,
          1898343,
          528843,
          22804,
          2753550,
          9352,
          900658,
          51364,
          59785,
          1888170,
          58164,
          318151,
          20191,
          144382,
          5990,
          195633,
          11852055,
          2504,
          3688,
          415707,
          344698,
          335305,
          1154309,
          5106,
          738106,
          59079741,
          2413455,
          50599,
          110479,
          428029,
          406347,
          368154,
          100713,
          95171,
          31999,
          3885,
          520238,
          801321,
          5464471,
          330763,
          49990,
          72120,
          85534,
          4466,
          59324,
          458084,
          4557128,
          24634,
          32329,
          29646,
          97443,
          14476561,
          357877,
          3053,
          811858,
          5234,
          12417,
          14666,
          1495229,
          118196,
          30666,
          159681,
          328487,
          565317,
          1020406,
          32620,
          4493080,
          5045714,
          3919268,
          1156524,
          715716,
          826436,
          2899258,
          34962,
          7993489,
          377506,
          407506,
          3859,
          750690,
          94935,
          148807,
          121050,
          324250,
          149227,
          72126,
          123526,
          2031675,
          43134,
          32377,
          3674,
          59287,
          104971,
          3725463,
          3412,
          32557,
          863555,
          132612,
          1373018,
          114222,
          527,
          2571398,
          22995,
          525630,
          299480,
          5961750,
          484700,
          5006,
          499682,
          93251,
          6412210,
          1076,
          192818,
          267234,
          1543879,
          2565766,
          1346905,
          1022683,
          342306,
          103933,
          310385,
          5839685,
          32882,
          7000,
          1561618,
          485586,
          11730,
          96655,
          359483,
          108421,
          19842,
          237569,
          4465798,
          2025772,
          4709157,
          2621606,
          1292740,
          31300,
          164305,
          1365594,
          386998,
          3532495,
          135294,
          8476,
          1745123,
          559235,
          5596657,
          554,
          1724509,
          600741,
          4925590,
          37825550,
          310379,
          25443,
          2669998,
          3268227,
          887497
         ]
        }
       ],
       "layout": {
        "coloraxis": {
         "cmax": 5000000,
         "cmin": 0,
         "colorbar": {
          "title": {
           "text": "Plastic waste generation (tonnes, total)"
          }
         },
         "colorscale": [
          [
           0,
           "rgb(255,245,240)"
          ],
          [
           0.125,
           "rgb(254,224,210)"
          ],
          [
           0.25,
           "rgb(252,187,161)"
          ],
          [
           0.375,
           "rgb(252,146,114)"
          ],
          [
           0.5,
           "rgb(251,106,74)"
          ],
          [
           0.625,
           "rgb(239,59,44)"
          ],
          [
           0.75,
           "rgb(203,24,29)"
          ],
          [
           0.875,
           "rgb(165,15,21)"
          ],
          [
           1,
           "rgb(103,0,13)"
          ]
         ]
        },
        "geo": {
         "center": {},
         "domain": {
          "x": [
           0,
           1
          ],
          "y": [
           0,
           1
          ]
         },
         "fitbounds": "locations",
         "visible": false
        },
        "legend": {
         "tracegroupgap": 0
        },
        "template": {
         "data": {
          "bar": [
           {
            "error_x": {
             "color": "#2a3f5f"
            },
            "error_y": {
             "color": "#2a3f5f"
            },
            "marker": {
             "line": {
              "color": "#E5ECF6",
              "width": 0.5
             }
            },
            "type": "bar"
           }
          ],
          "barpolar": [
           {
            "marker": {
             "line": {
              "color": "#E5ECF6",
              "width": 0.5
             }
            },
            "type": "barpolar"
           }
          ],
          "carpet": [
           {
            "aaxis": {
             "endlinecolor": "#2a3f5f",
             "gridcolor": "white",
             "linecolor": "white",
             "minorgridcolor": "white",
             "startlinecolor": "#2a3f5f"
            },
            "baxis": {
             "endlinecolor": "#2a3f5f",
             "gridcolor": "white",
             "linecolor": "white",
             "minorgridcolor": "white",
             "startlinecolor": "#2a3f5f"
            },
            "type": "carpet"
           }
          ],
          "choropleth": [
           {
            "colorbar": {
             "outlinewidth": 0,
             "ticks": ""
            },
            "type": "choropleth"
           }
          ],
          "contour": [
           {
            "colorbar": {
             "outlinewidth": 0,
             "ticks": ""
            },
            "colorscale": [
             [
              0,
              "#0d0887"
             ],
             [
              0.1111111111111111,
              "#46039f"
             ],
             [
              0.2222222222222222,
              "#7201a8"
             ],
             [
              0.3333333333333333,
              "#9c179e"
             ],
             [
              0.4444444444444444,
              "#bd3786"
             ],
             [
              0.5555555555555556,
              "#d8576b"
             ],
             [
              0.6666666666666666,
              "#ed7953"
             ],
             [
              0.7777777777777778,
              "#fb9f3a"
             ],
             [
              0.8888888888888888,
              "#fdca26"
             ],
             [
              1,
              "#f0f921"
             ]
            ],
            "type": "contour"
           }
          ],
          "contourcarpet": [
           {
            "colorbar": {
             "outlinewidth": 0,
             "ticks": ""
            },
            "type": "contourcarpet"
           }
          ],
          "heatmap": [
           {
            "colorbar": {
             "outlinewidth": 0,
             "ticks": ""
            },
            "colorscale": [
             [
              0,
              "#0d0887"
             ],
             [
              0.1111111111111111,
              "#46039f"
             ],
             [
              0.2222222222222222,
              "#7201a8"
             ],
             [
              0.3333333333333333,
              "#9c179e"
             ],
             [
              0.4444444444444444,
              "#bd3786"
             ],
             [
              0.5555555555555556,
              "#d8576b"
             ],
             [
              0.6666666666666666,
              "#ed7953"
             ],
             [
              0.7777777777777778,
              "#fb9f3a"
             ],
             [
              0.8888888888888888,
              "#fdca26"
             ],
             [
              1,
              "#f0f921"
             ]
            ],
            "type": "heatmap"
           }
          ],
          "heatmapgl": [
           {
            "colorbar": {
             "outlinewidth": 0,
             "ticks": ""
            },
            "colorscale": [
             [
              0,
              "#0d0887"
             ],
             [
              0.1111111111111111,
              "#46039f"
             ],
             [
              0.2222222222222222,
              "#7201a8"
             ],
             [
              0.3333333333333333,
              "#9c179e"
             ],
             [
              0.4444444444444444,
              "#bd3786"
             ],
             [
              0.5555555555555556,
              "#d8576b"
             ],
             [
              0.6666666666666666,
              "#ed7953"
             ],
             [
              0.7777777777777778,
              "#fb9f3a"
             ],
             [
              0.8888888888888888,
              "#fdca26"
             ],
             [
              1,
              "#f0f921"
             ]
            ],
            "type": "heatmapgl"
           }
          ],
          "histogram": [
           {
            "marker": {
             "colorbar": {
              "outlinewidth": 0,
              "ticks": ""
             }
            },
            "type": "histogram"
           }
          ],
          "histogram2d": [
           {
            "colorbar": {
             "outlinewidth": 0,
             "ticks": ""
            },
            "colorscale": [
             [
              0,
              "#0d0887"
             ],
             [
              0.1111111111111111,
              "#46039f"
             ],
             [
              0.2222222222222222,
              "#7201a8"
             ],
             [
              0.3333333333333333,
              "#9c179e"
             ],
             [
              0.4444444444444444,
              "#bd3786"
             ],
             [
              0.5555555555555556,
              "#d8576b"
             ],
             [
              0.6666666666666666,
              "#ed7953"
             ],
             [
              0.7777777777777778,
              "#fb9f3a"
             ],
             [
              0.8888888888888888,
              "#fdca26"
             ],
             [
              1,
              "#f0f921"
             ]
            ],
            "type": "histogram2d"
           }
          ],
          "histogram2dcontour": [
           {
            "colorbar": {
             "outlinewidth": 0,
             "ticks": ""
            },
            "colorscale": [
             [
              0,
              "#0d0887"
             ],
             [
              0.1111111111111111,
              "#46039f"
             ],
             [
              0.2222222222222222,
              "#7201a8"
             ],
             [
              0.3333333333333333,
              "#9c179e"
             ],
             [
              0.4444444444444444,
              "#bd3786"
             ],
             [
              0.5555555555555556,
              "#d8576b"
             ],
             [
              0.6666666666666666,
              "#ed7953"
             ],
             [
              0.7777777777777778,
              "#fb9f3a"
             ],
             [
              0.8888888888888888,
              "#fdca26"
             ],
             [
              1,
              "#f0f921"
             ]
            ],
            "type": "histogram2dcontour"
           }
          ],
          "mesh3d": [
           {
            "colorbar": {
             "outlinewidth": 0,
             "ticks": ""
            },
            "type": "mesh3d"
           }
          ],
          "parcoords": [
           {
            "line": {
             "colorbar": {
              "outlinewidth": 0,
              "ticks": ""
             }
            },
            "type": "parcoords"
           }
          ],
          "pie": [
           {
            "automargin": true,
            "type": "pie"
           }
          ],
          "scatter": [
           {
            "marker": {
             "colorbar": {
              "outlinewidth": 0,
              "ticks": ""
             }
            },
            "type": "scatter"
           }
          ],
          "scatter3d": [
           {
            "line": {
             "colorbar": {
              "outlinewidth": 0,
              "ticks": ""
             }
            },
            "marker": {
             "colorbar": {
              "outlinewidth": 0,
              "ticks": ""
             }
            },
            "type": "scatter3d"
           }
          ],
          "scattercarpet": [
           {
            "marker": {
             "colorbar": {
              "outlinewidth": 0,
              "ticks": ""
             }
            },
            "type": "scattercarpet"
           }
          ],
          "scattergeo": [
           {
            "marker": {
             "colorbar": {
              "outlinewidth": 0,
              "ticks": ""
             }
            },
            "type": "scattergeo"
           }
          ],
          "scattergl": [
           {
            "marker": {
             "colorbar": {
              "outlinewidth": 0,
              "ticks": ""
             }
            },
            "type": "scattergl"
           }
          ],
          "scattermapbox": [
           {
            "marker": {
             "colorbar": {
              "outlinewidth": 0,
              "ticks": ""
             }
            },
            "type": "scattermapbox"
           }
          ],
          "scatterpolar": [
           {
            "marker": {
             "colorbar": {
              "outlinewidth": 0,
              "ticks": ""
             }
            },
            "type": "scatterpolar"
           }
          ],
          "scatterpolargl": [
           {
            "marker": {
             "colorbar": {
              "outlinewidth": 0,
              "ticks": ""
             }
            },
            "type": "scatterpolargl"
           }
          ],
          "scatterternary": [
           {
            "marker": {
             "colorbar": {
              "outlinewidth": 0,
              "ticks": ""
             }
            },
            "type": "scatterternary"
           }
          ],
          "surface": [
           {
            "colorbar": {
             "outlinewidth": 0,
             "ticks": ""
            },
            "colorscale": [
             [
              0,
              "#0d0887"
             ],
             [
              0.1111111111111111,
              "#46039f"
             ],
             [
              0.2222222222222222,
              "#7201a8"
             ],
             [
              0.3333333333333333,
              "#9c179e"
             ],
             [
              0.4444444444444444,
              "#bd3786"
             ],
             [
              0.5555555555555556,
              "#d8576b"
             ],
             [
              0.6666666666666666,
              "#ed7953"
             ],
             [
              0.7777777777777778,
              "#fb9f3a"
             ],
             [
              0.8888888888888888,
              "#fdca26"
             ],
             [
              1,
              "#f0f921"
             ]
            ],
            "type": "surface"
           }
          ],
          "table": [
           {
            "cells": {
             "fill": {
              "color": "#EBF0F8"
             },
             "line": {
              "color": "white"
             }
            },
            "header": {
             "fill": {
              "color": "#C8D4E3"
             },
             "line": {
              "color": "white"
             }
            },
            "type": "table"
           }
          ]
         },
         "layout": {
          "annotationdefaults": {
           "arrowcolor": "#2a3f5f",
           "arrowhead": 0,
           "arrowwidth": 1
          },
          "autotypenumbers": "strict",
          "coloraxis": {
           "colorbar": {
            "outlinewidth": 0,
            "ticks": ""
           }
          },
          "colorscale": {
           "diverging": [
            [
             0,
             "#8e0152"
            ],
            [
             0.1,
             "#c51b7d"
            ],
            [
             0.2,
             "#de77ae"
            ],
            [
             0.3,
             "#f1b6da"
            ],
            [
             0.4,
             "#fde0ef"
            ],
            [
             0.5,
             "#f7f7f7"
            ],
            [
             0.6,
             "#e6f5d0"
            ],
            [
             0.7,
             "#b8e186"
            ],
            [
             0.8,
             "#7fbc41"
            ],
            [
             0.9,
             "#4d9221"
            ],
            [
             1,
             "#276419"
            ]
           ],
           "sequential": [
            [
             0,
             "#0d0887"
            ],
            [
             0.1111111111111111,
             "#46039f"
            ],
            [
             0.2222222222222222,
             "#7201a8"
            ],
            [
             0.3333333333333333,
             "#9c179e"
            ],
            [
             0.4444444444444444,
             "#bd3786"
            ],
            [
             0.5555555555555556,
             "#d8576b"
            ],
            [
             0.6666666666666666,
             "#ed7953"
            ],
            [
             0.7777777777777778,
             "#fb9f3a"
            ],
            [
             0.8888888888888888,
             "#fdca26"
            ],
            [
             1,
             "#f0f921"
            ]
           ],
           "sequentialminus": [
            [
             0,
             "#0d0887"
            ],
            [
             0.1111111111111111,
             "#46039f"
            ],
            [
             0.2222222222222222,
             "#7201a8"
            ],
            [
             0.3333333333333333,
             "#9c179e"
            ],
            [
             0.4444444444444444,
             "#bd3786"
            ],
            [
             0.5555555555555556,
             "#d8576b"
            ],
            [
             0.6666666666666666,
             "#ed7953"
            ],
            [
             0.7777777777777778,
             "#fb9f3a"
            ],
            [
             0.8888888888888888,
             "#fdca26"
            ],
            [
             1,
             "#f0f921"
            ]
           ]
          },
          "colorway": [
           "#636efa",
           "#EF553B",
           "#00cc96",
           "#ab63fa",
           "#FFA15A",
           "#19d3f3",
           "#FF6692",
           "#B6E880",
           "#FF97FF",
           "#FECB52"
          ],
          "font": {
           "color": "#2a3f5f"
          },
          "geo": {
           "bgcolor": "white",
           "lakecolor": "white",
           "landcolor": "#E5ECF6",
           "showlakes": true,
           "showland": true,
           "subunitcolor": "white"
          },
          "hoverlabel": {
           "align": "left"
          },
          "hovermode": "closest",
          "mapbox": {
           "style": "light"
          },
          "paper_bgcolor": "white",
          "plot_bgcolor": "#E5ECF6",
          "polar": {
           "angularaxis": {
            "gridcolor": "white",
            "linecolor": "white",
            "ticks": ""
           },
           "bgcolor": "#E5ECF6",
           "radialaxis": {
            "gridcolor": "white",
            "linecolor": "white",
            "ticks": ""
           }
          },
          "scene": {
           "xaxis": {
            "backgroundcolor": "#E5ECF6",
            "gridcolor": "white",
            "gridwidth": 2,
            "linecolor": "white",
            "showbackground": true,
            "ticks": "",
            "zerolinecolor": "white"
           },
           "yaxis": {
            "backgroundcolor": "#E5ECF6",
            "gridcolor": "white",
            "gridwidth": 2,
            "linecolor": "white",
            "showbackground": true,
            "ticks": "",
            "zerolinecolor": "white"
           },
           "zaxis": {
            "backgroundcolor": "#E5ECF6",
            "gridcolor": "white",
            "gridwidth": 2,
            "linecolor": "white",
            "showbackground": true,
            "ticks": "",
            "zerolinecolor": "white"
           }
          },
          "shapedefaults": {
           "line": {
            "color": "#2a3f5f"
           }
          },
          "ternary": {
           "aaxis": {
            "gridcolor": "white",
            "linecolor": "white",
            "ticks": ""
           },
           "baxis": {
            "gridcolor": "white",
            "linecolor": "white",
            "ticks": ""
           },
           "bgcolor": "#E5ECF6",
           "caxis": {
            "gridcolor": "white",
            "linecolor": "white",
            "ticks": ""
           }
          },
          "title": {
           "x": 0.05
          },
          "xaxis": {
           "automargin": true,
           "gridcolor": "white",
           "linecolor": "white",
           "ticks": "",
           "title": {
            "standoff": 15
           },
           "zerolinecolor": "white",
           "zerolinewidth": 2
          },
          "yaxis": {
           "automargin": true,
           "gridcolor": "white",
           "linecolor": "white",
           "ticks": "",
           "title": {
            "standoff": 15
           },
           "zerolinecolor": "white",
           "zerolinewidth": 2
          }
         }
        },
        "title": {
         "text": "MAP 1: Total plastic waste produced by each country every year"
        }
       }
      },
      "text/html": [
       "<div>                            <div id=\"011307f6-3330-4386-ab00-db1fc6b41e51\" class=\"plotly-graph-div\" style=\"height:525px; width:100%;\"></div>            <script type=\"text/javascript\">                require([\"plotly\"], function(Plotly) {                    window.PLOTLYENV=window.PLOTLYENV || {};                                    if (document.getElementById(\"011307f6-3330-4386-ab00-db1fc6b41e51\")) {                    Plotly.newPlot(                        \"011307f6-3330-4386-ab00-db1fc6b41e51\",                        [{\"coloraxis\": \"coloraxis\", \"customdata\": [[\"Albania\"], [\"Algeria\"], [\"Angola\"], [\"Antigua and Barbuda\"], [\"Argentina\"], [\"Aruba\"], [\"Australia\"], [\"Bahamas\"], [\"Bahrain\"], [\"Bangladesh\"], [\"Barbados\"], [\"Belgium\"], [\"Belize\"], [\"Benin\"], [\"Bermuda\"], [\"Bosnia and Herzegovina\"], [\"Brazil\"], [\"British Virgin Islands\"], [\"Brunei\"], [\"Bulgaria\"], [\"Cambodia\"], [\"Cameroon\"], [\"Canada\"], [\"Cayman Islands\"], [\"Chile\"], [\"China\"], [\"Colombia\"], [\"Comoros\"], [\"Congo\"], [\"Costa Rica\"], [\"Croatia\"], [\"Cuba\"], [\"Cyprus\"], [\"Denmark\"], [\"Djibouti\"], [\"Dominica\"], [\"Dominican Republic\"], [\"Ecuador\"], [\"Egypt\"], [\"El Salvador\"], [\"Equatorial Guinea\"], [\"Eritrea\"], [\"Estonia\"], [\"Faeroe Islands\"], [\"Fiji\"], [\"Finland\"], [\"France\"], [\"French Polynesia\"], [\"Gabon\"], [\"Gambia\"], [\"Georgia\"], [\"Germany\"], [\"Ghana\"], [\"Gibraltar\"], [\"Greece\"], [\"Greenland\"], [\"Grenada\"], [\"Guam\"], [\"Guatemala\"], [\"Guinea\"], [\"Guinea-Bissau\"], [\"Guyana\"], [\"Haiti\"], [\"Honduras\"], [\"Hong Kong\"], [\"Iceland\"], [\"India\"], [\"Indonesia\"], [\"Iran\"], [\"Iraq\"], [\"Ireland\"], [\"Israel\"], [\"Italy\"], [\"Jamaica\"], [\"Japan\"], [\"Jordan\"], [\"Kenya\"], [\"Kiribati\"], [\"Kuwait\"], [\"Latvia\"], [\"Lebanon\"], [\"Liberia\"], [\"Libya\"], [\"Lithuania\"], [\"Macao\"], [\"Madagascar\"], [\"Malaysia\"], [\"Maldives\"], [\"Malta\"], [\"Marshall Islands\"], [\"Mauritania\"], [\"Mauritius\"], [\"Mexico\"], [\"Monaco\"], [\"Montenegro\"], [\"Morocco\"], [\"Mozambique\"], [\"Myanmar\"], [\"Namibia\"], [\"Nauru\"], [\"Netherlands\"], [\"New Caledonia\"], [\"New Zealand\"], [\"Nicaragua\"], [\"Nigeria\"], [\"North Korea\"], [\"Northern Mariana Islands\"], [\"Norway\"], [\"Oman\"], [\"Pakistan\"], [\"Palau\"], [\"Panama\"], [\"Papua New Guinea\"], [\"Peru\"], [\"Philippines\"], [\"Poland\"], [\"Portugal\"], [\"Puerto Rico\"], [\"Qatar\"], [\"Romania\"], [\"Russia\"], [\"Saint Lucia\"], [\"Samoa\"], [\"Saudi Arabia\"], [\"Senegal\"], [\"Seychelles\"], [\"Sierra Leone\"], [\"Singapore\"], [\"Slovenia\"], [\"Solomon Islands\"], [\"Somalia\"], [\"South Africa\"], [\"South Korea\"], [\"Spain\"], [\"Sri Lanka\"], [\"Sudan\"], [\"Suriname\"], [\"Sweden\"], [\"Syria\"], [\"Tanzania\"], [\"Thailand\"], [\"Togo\"], [\"Tonga\"], [\"Trinidad and Tobago\"], [\"Tunisia\"], [\"Turkey\"], [\"Tuvalu\"], [\"Ukraine\"], [\"United Arab Emirates\"], [\"United Kingdom\"], [\"United States\"], [\"Uruguay\"], [\"Vanuatu\"], [\"Venezuela\"], [\"Vietnam\"], [\"Yemen\"]], \"geo\": \"geo\", \"hovertemplate\": \"Code=%{location}<br>Country=%{customdata[0]}<br>Plastic waste generation (tonnes, total)=%{z}<extra></extra>\", \"locations\": [\"ALB\", \"DZA\", \"AGO\", \"ATG\", \"ARG\", \"ABW\", \"AUS\", \"BHS\", \"BHR\", \"BGD\", \"BRB\", \"BEL\", \"BLZ\", \"BEN\", \"BMU\", \"BIH\", \"BRA\", \"VGB\", \"BRN\", \"BGR\", \"KHM\", \"CMR\", \"CAN\", \"CYM\", \"CHL\", \"CHN\", \"COL\", \"COM\", \"COG\", \"CRI\", \"HRV\", \"CUB\", \"CYP\", \"DNK\", \"DJI\", \"DMA\", \"DOM\", \"ECU\", \"EGY\", \"SLV\", \"GNQ\", \"ERI\", \"EST\", \"FRO\", \"FJI\", \"FIN\", \"FRA\", \"PYF\", \"GAB\", \"GMB\", \"GEO\", \"DEU\", \"GHA\", \"GIB\", \"GRC\", \"GRL\", \"GRD\", \"GUM\", \"GTM\", \"GIN\", \"GNB\", \"GUY\", \"HTI\", \"HND\", \"HKG\", \"ISL\", \"IND\", \"IDN\", \"IRN\", \"IRQ\", \"IRL\", \"ISR\", \"ITA\", \"JAM\", \"JPN\", \"JOR\", \"KEN\", \"KIR\", \"KWT\", \"LVA\", \"LBN\", \"LBR\", \"LBY\", \"LTU\", \"MAC\", \"MDG\", \"MYS\", \"MDV\", \"MLT\", \"MHL\", \"MRT\", \"MUS\", \"MEX\", \"MCO\", \"MNE\", \"MAR\", \"MOZ\", \"MMR\", \"NAM\", \"NRU\", \"NLD\", \"NCL\", \"NZL\", \"NIC\", \"NGA\", \"PRK\", \"MNP\", \"NOR\", \"OMN\", \"PAK\", \"PLW\", \"PAN\", \"PNG\", \"PER\", \"PHL\", \"POL\", \"PRT\", \"PRI\", \"QAT\", \"ROU\", \"RUS\", \"LCA\", \"WSM\", \"SAU\", \"SEN\", \"SYC\", \"SLE\", \"SGP\", \"SVN\", \"SLB\", \"SOM\", \"ZAF\", \"KOR\", \"ESP\", \"LKA\", \"SDN\", \"SUR\", \"SWE\", \"SYR\", \"TZA\", \"THA\", \"TGO\", \"TON\", \"TTO\", \"TUN\", \"TUR\", \"TUV\", \"UKR\", \"ARE\", \"GBR\", \"USA\", \"URY\", \"VUT\", \"VEN\", \"VNM\", \"YEM\"], \"name\": \"\", \"type\": \"choropleth\", \"z\": [73364, 1898343, 528843, 22804, 2753550, 9352, 900658, 51364, 59785, 1888170, 58164, 318151, 20191, 144382, 5990, 195633, 11852055, 2504, 3688, 415707, 344698, 335305, 1154309, 5106, 738106, 59079741, 2413455, 50599, 110479, 428029, 406347, 368154, 100713, 95171, 31999, 3885, 520238, 801321, 5464471, 330763, 49990, 72120, 85534, 4466, 59324, 458084, 4557128, 24634, 32329, 29646, 97443, 14476561, 357877, 3053, 811858, 5234, 12417, 14666, 1495229, 118196, 30666, 159681, 328487, 565317, 1020406, 32620, 4493080, 5045714, 3919268, 1156524, 715716, 826436, 2899258, 34962, 7993489, 377506, 407506, 3859, 750690, 94935, 148807, 121050, 324250, 149227, 72126, 123526, 2031675, 43134, 32377, 3674, 59287, 104971, 3725463, 3412, 32557, 863555, 132612, 1373018, 114222, 527, 2571398, 22995, 525630, 299480, 5961750, 484700, 5006, 499682, 93251, 6412210, 1076, 192818, 267234, 1543879, 2565766, 1346905, 1022683, 342306, 103933, 310385, 5839685, 32882, 7000, 1561618, 485586, 11730, 96655, 359483, 108421, 19842, 237569, 4465798, 2025772, 4709157, 2621606, 1292740, 31300, 164305, 1365594, 386998, 3532495, 135294, 8476, 1745123, 559235, 5596657, 554, 1724509, 600741, 4925590, 37825550, 310379, 25443, 2669998, 3268227, 887497]}],                        {\"coloraxis\": {\"cmax\": 5000000, \"cmin\": 0, \"colorbar\": {\"title\": {\"text\": \"Plastic waste generation (tonnes, total)\"}}, \"colorscale\": [[0.0, \"rgb(255,245,240)\"], [0.125, \"rgb(254,224,210)\"], [0.25, \"rgb(252,187,161)\"], [0.375, \"rgb(252,146,114)\"], [0.5, \"rgb(251,106,74)\"], [0.625, \"rgb(239,59,44)\"], [0.75, \"rgb(203,24,29)\"], [0.875, \"rgb(165,15,21)\"], [1.0, \"rgb(103,0,13)\"]]}, \"geo\": {\"center\": {}, \"domain\": {\"x\": [0.0, 1.0], \"y\": [0.0, 1.0]}, \"fitbounds\": \"locations\", \"visible\": false}, \"legend\": {\"tracegroupgap\": 0}, \"template\": {\"data\": {\"bar\": [{\"error_x\": {\"color\": \"#2a3f5f\"}, \"error_y\": {\"color\": \"#2a3f5f\"}, \"marker\": {\"line\": {\"color\": \"#E5ECF6\", \"width\": 0.5}}, \"type\": \"bar\"}], \"barpolar\": [{\"marker\": {\"line\": {\"color\": \"#E5ECF6\", \"width\": 0.5}}, \"type\": \"barpolar\"}], \"carpet\": [{\"aaxis\": {\"endlinecolor\": \"#2a3f5f\", \"gridcolor\": \"white\", \"linecolor\": \"white\", \"minorgridcolor\": \"white\", \"startlinecolor\": \"#2a3f5f\"}, \"baxis\": {\"endlinecolor\": \"#2a3f5f\", \"gridcolor\": \"white\", \"linecolor\": \"white\", \"minorgridcolor\": \"white\", \"startlinecolor\": \"#2a3f5f\"}, \"type\": \"carpet\"}], \"choropleth\": [{\"colorbar\": {\"outlinewidth\": 0, \"ticks\": \"\"}, \"type\": \"choropleth\"}], \"contour\": [{\"colorbar\": {\"outlinewidth\": 0, \"ticks\": \"\"}, \"colorscale\": [[0.0, \"#0d0887\"], [0.1111111111111111, \"#46039f\"], [0.2222222222222222, \"#7201a8\"], [0.3333333333333333, \"#9c179e\"], [0.4444444444444444, \"#bd3786\"], [0.5555555555555556, \"#d8576b\"], [0.6666666666666666, \"#ed7953\"], [0.7777777777777778, \"#fb9f3a\"], [0.8888888888888888, \"#fdca26\"], [1.0, \"#f0f921\"]], \"type\": \"contour\"}], \"contourcarpet\": [{\"colorbar\": {\"outlinewidth\": 0, \"ticks\": \"\"}, \"type\": \"contourcarpet\"}], \"heatmap\": [{\"colorbar\": {\"outlinewidth\": 0, \"ticks\": \"\"}, \"colorscale\": [[0.0, \"#0d0887\"], [0.1111111111111111, \"#46039f\"], [0.2222222222222222, \"#7201a8\"], [0.3333333333333333, \"#9c179e\"], [0.4444444444444444, \"#bd3786\"], [0.5555555555555556, \"#d8576b\"], [0.6666666666666666, \"#ed7953\"], [0.7777777777777778, \"#fb9f3a\"], [0.8888888888888888, \"#fdca26\"], [1.0, \"#f0f921\"]], \"type\": \"heatmap\"}], \"heatmapgl\": [{\"colorbar\": {\"outlinewidth\": 0, \"ticks\": \"\"}, \"colorscale\": [[0.0, \"#0d0887\"], [0.1111111111111111, \"#46039f\"], [0.2222222222222222, \"#7201a8\"], [0.3333333333333333, \"#9c179e\"], [0.4444444444444444, \"#bd3786\"], [0.5555555555555556, \"#d8576b\"], [0.6666666666666666, \"#ed7953\"], [0.7777777777777778, \"#fb9f3a\"], [0.8888888888888888, \"#fdca26\"], [1.0, \"#f0f921\"]], \"type\": \"heatmapgl\"}], \"histogram\": [{\"marker\": {\"colorbar\": {\"outlinewidth\": 0, \"ticks\": \"\"}}, \"type\": \"histogram\"}], \"histogram2d\": [{\"colorbar\": {\"outlinewidth\": 0, \"ticks\": \"\"}, \"colorscale\": [[0.0, \"#0d0887\"], [0.1111111111111111, \"#46039f\"], [0.2222222222222222, \"#7201a8\"], [0.3333333333333333, \"#9c179e\"], [0.4444444444444444, \"#bd3786\"], [0.5555555555555556, \"#d8576b\"], [0.6666666666666666, \"#ed7953\"], [0.7777777777777778, \"#fb9f3a\"], [0.8888888888888888, \"#fdca26\"], [1.0, \"#f0f921\"]], \"type\": \"histogram2d\"}], \"histogram2dcontour\": [{\"colorbar\": {\"outlinewidth\": 0, \"ticks\": \"\"}, \"colorscale\": [[0.0, \"#0d0887\"], [0.1111111111111111, \"#46039f\"], [0.2222222222222222, \"#7201a8\"], [0.3333333333333333, \"#9c179e\"], [0.4444444444444444, \"#bd3786\"], [0.5555555555555556, \"#d8576b\"], [0.6666666666666666, \"#ed7953\"], [0.7777777777777778, \"#fb9f3a\"], [0.8888888888888888, \"#fdca26\"], [1.0, \"#f0f921\"]], \"type\": \"histogram2dcontour\"}], \"mesh3d\": [{\"colorbar\": {\"outlinewidth\": 0, \"ticks\": \"\"}, \"type\": \"mesh3d\"}], \"parcoords\": [{\"line\": {\"colorbar\": {\"outlinewidth\": 0, \"ticks\": \"\"}}, \"type\": \"parcoords\"}], \"pie\": [{\"automargin\": true, \"type\": \"pie\"}], \"scatter\": [{\"marker\": {\"colorbar\": {\"outlinewidth\": 0, \"ticks\": \"\"}}, \"type\": \"scatter\"}], \"scatter3d\": [{\"line\": {\"colorbar\": {\"outlinewidth\": 0, \"ticks\": \"\"}}, \"marker\": {\"colorbar\": {\"outlinewidth\": 0, \"ticks\": \"\"}}, \"type\": \"scatter3d\"}], \"scattercarpet\": [{\"marker\": {\"colorbar\": {\"outlinewidth\": 0, \"ticks\": \"\"}}, \"type\": \"scattercarpet\"}], \"scattergeo\": [{\"marker\": {\"colorbar\": {\"outlinewidth\": 0, \"ticks\": \"\"}}, \"type\": \"scattergeo\"}], \"scattergl\": [{\"marker\": {\"colorbar\": {\"outlinewidth\": 0, \"ticks\": \"\"}}, \"type\": \"scattergl\"}], \"scattermapbox\": [{\"marker\": {\"colorbar\": {\"outlinewidth\": 0, \"ticks\": \"\"}}, \"type\": \"scattermapbox\"}], \"scatterpolar\": [{\"marker\": {\"colorbar\": {\"outlinewidth\": 0, \"ticks\": \"\"}}, \"type\": \"scatterpolar\"}], \"scatterpolargl\": [{\"marker\": {\"colorbar\": {\"outlinewidth\": 0, \"ticks\": \"\"}}, \"type\": \"scatterpolargl\"}], \"scatterternary\": [{\"marker\": {\"colorbar\": {\"outlinewidth\": 0, \"ticks\": \"\"}}, \"type\": \"scatterternary\"}], \"surface\": [{\"colorbar\": {\"outlinewidth\": 0, \"ticks\": \"\"}, \"colorscale\": [[0.0, \"#0d0887\"], [0.1111111111111111, \"#46039f\"], [0.2222222222222222, \"#7201a8\"], [0.3333333333333333, \"#9c179e\"], [0.4444444444444444, \"#bd3786\"], [0.5555555555555556, \"#d8576b\"], [0.6666666666666666, \"#ed7953\"], [0.7777777777777778, \"#fb9f3a\"], [0.8888888888888888, \"#fdca26\"], [1.0, \"#f0f921\"]], \"type\": \"surface\"}], \"table\": [{\"cells\": {\"fill\": {\"color\": \"#EBF0F8\"}, \"line\": {\"color\": \"white\"}}, \"header\": {\"fill\": {\"color\": \"#C8D4E3\"}, \"line\": {\"color\": \"white\"}}, \"type\": \"table\"}]}, \"layout\": {\"annotationdefaults\": {\"arrowcolor\": \"#2a3f5f\", \"arrowhead\": 0, \"arrowwidth\": 1}, \"autotypenumbers\": \"strict\", \"coloraxis\": {\"colorbar\": {\"outlinewidth\": 0, \"ticks\": \"\"}}, \"colorscale\": {\"diverging\": [[0, \"#8e0152\"], [0.1, \"#c51b7d\"], [0.2, \"#de77ae\"], [0.3, \"#f1b6da\"], [0.4, \"#fde0ef\"], [0.5, \"#f7f7f7\"], [0.6, \"#e6f5d0\"], [0.7, \"#b8e186\"], [0.8, \"#7fbc41\"], [0.9, \"#4d9221\"], [1, \"#276419\"]], \"sequential\": [[0.0, \"#0d0887\"], [0.1111111111111111, \"#46039f\"], [0.2222222222222222, \"#7201a8\"], [0.3333333333333333, \"#9c179e\"], [0.4444444444444444, \"#bd3786\"], [0.5555555555555556, \"#d8576b\"], [0.6666666666666666, \"#ed7953\"], [0.7777777777777778, \"#fb9f3a\"], [0.8888888888888888, \"#fdca26\"], [1.0, \"#f0f921\"]], \"sequentialminus\": [[0.0, \"#0d0887\"], [0.1111111111111111, \"#46039f\"], [0.2222222222222222, \"#7201a8\"], [0.3333333333333333, \"#9c179e\"], [0.4444444444444444, \"#bd3786\"], [0.5555555555555556, \"#d8576b\"], [0.6666666666666666, \"#ed7953\"], [0.7777777777777778, \"#fb9f3a\"], [0.8888888888888888, \"#fdca26\"], [1.0, \"#f0f921\"]]}, \"colorway\": [\"#636efa\", \"#EF553B\", \"#00cc96\", \"#ab63fa\", \"#FFA15A\", \"#19d3f3\", \"#FF6692\", \"#B6E880\", \"#FF97FF\", \"#FECB52\"], \"font\": {\"color\": \"#2a3f5f\"}, \"geo\": {\"bgcolor\": \"white\", \"lakecolor\": \"white\", \"landcolor\": \"#E5ECF6\", \"showlakes\": true, \"showland\": true, \"subunitcolor\": \"white\"}, \"hoverlabel\": {\"align\": \"left\"}, \"hovermode\": \"closest\", \"mapbox\": {\"style\": \"light\"}, \"paper_bgcolor\": \"white\", \"plot_bgcolor\": \"#E5ECF6\", \"polar\": {\"angularaxis\": {\"gridcolor\": \"white\", \"linecolor\": \"white\", \"ticks\": \"\"}, \"bgcolor\": \"#E5ECF6\", \"radialaxis\": {\"gridcolor\": \"white\", \"linecolor\": \"white\", \"ticks\": \"\"}}, \"scene\": {\"xaxis\": {\"backgroundcolor\": \"#E5ECF6\", \"gridcolor\": \"white\", \"gridwidth\": 2, \"linecolor\": \"white\", \"showbackground\": true, \"ticks\": \"\", \"zerolinecolor\": \"white\"}, \"yaxis\": {\"backgroundcolor\": \"#E5ECF6\", \"gridcolor\": \"white\", \"gridwidth\": 2, \"linecolor\": \"white\", \"showbackground\": true, \"ticks\": \"\", \"zerolinecolor\": \"white\"}, \"zaxis\": {\"backgroundcolor\": \"#E5ECF6\", \"gridcolor\": \"white\", \"gridwidth\": 2, \"linecolor\": \"white\", \"showbackground\": true, \"ticks\": \"\", \"zerolinecolor\": \"white\"}}, \"shapedefaults\": {\"line\": {\"color\": \"#2a3f5f\"}}, \"ternary\": {\"aaxis\": {\"gridcolor\": \"white\", \"linecolor\": \"white\", \"ticks\": \"\"}, \"baxis\": {\"gridcolor\": \"white\", \"linecolor\": \"white\", \"ticks\": \"\"}, \"bgcolor\": \"#E5ECF6\", \"caxis\": {\"gridcolor\": \"white\", \"linecolor\": \"white\", \"ticks\": \"\"}}, \"title\": {\"x\": 0.05}, \"xaxis\": {\"automargin\": true, \"gridcolor\": \"white\", \"linecolor\": \"white\", \"ticks\": \"\", \"title\": {\"standoff\": 15}, \"zerolinecolor\": \"white\", \"zerolinewidth\": 2}, \"yaxis\": {\"automargin\": true, \"gridcolor\": \"white\", \"linecolor\": \"white\", \"ticks\": \"\", \"title\": {\"standoff\": 15}, \"zerolinecolor\": \"white\", \"zerolinewidth\": 2}}}, \"title\": {\"text\": \"MAP 1: Total plastic waste produced by each country every year\"}},                        {\"responsive\": true}                    ).then(function(){\n",
       "                            \n",
       "var gd = document.getElementById('011307f6-3330-4386-ab00-db1fc6b41e51');\n",
       "var x = new MutationObserver(function (mutations, observer) {{\n",
       "        var display = window.getComputedStyle(gd).display;\n",
       "        if (!display || display === 'none') {{\n",
       "            console.log([gd, 'removed!']);\n",
       "            Plotly.purge(gd);\n",
       "            observer.disconnect();\n",
       "        }}\n",
       "}});\n",
       "\n",
       "// Listen for the removal of the full notebook cells\n",
       "var notebookContainer = gd.closest('#notebook-container');\n",
       "if (notebookContainer) {{\n",
       "    x.observe(notebookContainer, {childList: true});\n",
       "}}\n",
       "\n",
       "// Listen for the clearing of the current output cell\n",
       "var outputEl = gd.closest('.output');\n",
       "if (outputEl) {{\n",
       "    x.observe(outputEl, {childList: true});\n",
       "}}\n",
       "\n",
       "                        })                };                });            </script>        </div>"
      ]
     },
     "metadata": {},
     "output_type": "display_data"
    }
   ],
   "source": [
    "fig = px.choropleth(total_plastic_waste_by_country_population_wise, \n",
    "                    locations='Code', \n",
    "                    color='Plastic waste generation (tonnes, total)',\n",
    "                    color_continuous_scale=\"reds\",\n",
    "                    range_color=(0,5000000),\n",
    "                    title='MAP 1: Total plastic waste produced by each country every year',\n",
    "                    hover_data=['Country']\n",
    "                   )\n",
    "#fig.update_layout(margin={\"r\":0,\"t\":0,\"l\":0,\"b\":0})\n",
    "fig.update_geos(fitbounds=\"locations\", visible=False)\n",
    "fig.show()"
   ]
  },
  {
   "cell_type": "code",
   "execution_count": 40,
   "metadata": {},
   "outputs": [
    {
     "data": {
      "application/vnd.plotly.v1+json": {
       "config": {
        "plotlyServerURL": "https://plot.ly"
       },
       "data": [
        {
         "coloraxis": "coloraxis",
         "customdata": [
          [
           "Albania"
          ],
          [
           "Algeria"
          ],
          [
           "Angola"
          ],
          [
           "Antigua and Barbuda"
          ],
          [
           "Argentina"
          ],
          [
           "Aruba"
          ],
          [
           "Australia"
          ],
          [
           "Bahamas"
          ],
          [
           "Bahrain"
          ],
          [
           "Bangladesh"
          ],
          [
           "Barbados"
          ],
          [
           "Belgium"
          ],
          [
           "Belize"
          ],
          [
           "Benin"
          ],
          [
           "Bermuda"
          ],
          [
           "Bosnia and Herzegovina"
          ],
          [
           "Brazil"
          ],
          [
           "British Virgin Islands"
          ],
          [
           "Brunei"
          ],
          [
           "Bulgaria"
          ],
          [
           "Cambodia"
          ],
          [
           "Cameroon"
          ],
          [
           "Canada"
          ],
          [
           "Cayman Islands"
          ],
          [
           "Chile"
          ],
          [
           "China"
          ],
          [
           "Colombia"
          ],
          [
           "Comoros"
          ],
          [
           "Congo"
          ],
          [
           "Costa Rica"
          ],
          [
           "Croatia"
          ],
          [
           "Cuba"
          ],
          [
           "Cyprus"
          ],
          [
           "Denmark"
          ],
          [
           "Djibouti"
          ],
          [
           "Dominica"
          ],
          [
           "Dominican Republic"
          ],
          [
           "Ecuador"
          ],
          [
           "Egypt"
          ],
          [
           "El Salvador"
          ],
          [
           "Equatorial Guinea"
          ],
          [
           "Eritrea"
          ],
          [
           "Estonia"
          ],
          [
           "Faeroe Islands"
          ],
          [
           "Fiji"
          ],
          [
           "Finland"
          ],
          [
           "France"
          ],
          [
           "French Polynesia"
          ],
          [
           "Gabon"
          ],
          [
           "Gambia"
          ],
          [
           "Georgia"
          ],
          [
           "Germany"
          ],
          [
           "Ghana"
          ],
          [
           "Gibraltar"
          ],
          [
           "Greece"
          ],
          [
           "Greenland"
          ],
          [
           "Grenada"
          ],
          [
           "Guam"
          ],
          [
           "Guatemala"
          ],
          [
           "Guinea"
          ],
          [
           "Guinea-Bissau"
          ],
          [
           "Guyana"
          ],
          [
           "Haiti"
          ],
          [
           "Honduras"
          ],
          [
           "Hong Kong"
          ],
          [
           "Iceland"
          ],
          [
           "India"
          ],
          [
           "Indonesia"
          ],
          [
           "Iran"
          ],
          [
           "Iraq"
          ],
          [
           "Ireland"
          ],
          [
           "Israel"
          ],
          [
           "Italy"
          ],
          [
           "Jamaica"
          ],
          [
           "Japan"
          ],
          [
           "Jordan"
          ],
          [
           "Kenya"
          ],
          [
           "Kiribati"
          ],
          [
           "Kuwait"
          ],
          [
           "Latvia"
          ],
          [
           "Lebanon"
          ],
          [
           "Liberia"
          ],
          [
           "Libya"
          ],
          [
           "Lithuania"
          ],
          [
           "Macao"
          ],
          [
           "Madagascar"
          ],
          [
           "Malaysia"
          ],
          [
           "Maldives"
          ],
          [
           "Malta"
          ],
          [
           "Marshall Islands"
          ],
          [
           "Mauritania"
          ],
          [
           "Mauritius"
          ],
          [
           "Mexico"
          ],
          [
           "Monaco"
          ],
          [
           "Montenegro"
          ],
          [
           "Morocco"
          ],
          [
           "Mozambique"
          ],
          [
           "Myanmar"
          ],
          [
           "Namibia"
          ],
          [
           "Nauru"
          ],
          [
           "Netherlands"
          ],
          [
           "New Caledonia"
          ],
          [
           "New Zealand"
          ],
          [
           "Nicaragua"
          ],
          [
           "Nigeria"
          ],
          [
           "North Korea"
          ],
          [
           "Northern Mariana Islands"
          ],
          [
           "Norway"
          ],
          [
           "Oman"
          ],
          [
           "Pakistan"
          ],
          [
           "Palau"
          ],
          [
           "Panama"
          ],
          [
           "Papua New Guinea"
          ],
          [
           "Peru"
          ],
          [
           "Philippines"
          ],
          [
           "Poland"
          ],
          [
           "Portugal"
          ],
          [
           "Puerto Rico"
          ],
          [
           "Qatar"
          ],
          [
           "Romania"
          ],
          [
           "Russia"
          ],
          [
           "Saint Lucia"
          ],
          [
           "Samoa"
          ],
          [
           "Saudi Arabia"
          ],
          [
           "Senegal"
          ],
          [
           "Seychelles"
          ],
          [
           "Sierra Leone"
          ],
          [
           "Singapore"
          ],
          [
           "Slovenia"
          ],
          [
           "Solomon Islands"
          ],
          [
           "Somalia"
          ],
          [
           "South Africa"
          ],
          [
           "South Korea"
          ],
          [
           "Spain"
          ],
          [
           "Sri Lanka"
          ],
          [
           "Sudan"
          ],
          [
           "Suriname"
          ],
          [
           "Sweden"
          ],
          [
           "Syria"
          ],
          [
           "Tanzania"
          ],
          [
           "Thailand"
          ],
          [
           "Togo"
          ],
          [
           "Tonga"
          ],
          [
           "Trinidad and Tobago"
          ],
          [
           "Tunisia"
          ],
          [
           "Turkey"
          ],
          [
           "Tuvalu"
          ],
          [
           "Ukraine"
          ],
          [
           "United Arab Emirates"
          ],
          [
           "United Kingdom"
          ],
          [
           "United States"
          ],
          [
           "Uruguay"
          ],
          [
           "Vanuatu"
          ],
          [
           "Venezuela"
          ],
          [
           "Vietnam"
          ],
          [
           "Yemen"
          ]
         ],
         "geo": "geo",
         "hovertemplate": "Code=%{location}<br>Country=%{customdata[0]}<br>% share=%{z}<extra></extra>",
         "locations": [
          "ALB",
          "DZA",
          "AGO",
          "ATG",
          "ARG",
          "ABW",
          "AUS",
          "BHS",
          "BHR",
          "BGD",
          "BRB",
          "BEL",
          "BLZ",
          "BEN",
          "BMU",
          "BIH",
          "BRA",
          "VGB",
          "BRN",
          "BGR",
          "KHM",
          "CMR",
          "CAN",
          "CYM",
          "CHL",
          "CHN",
          "COL",
          "COM",
          "COG",
          "CRI",
          "HRV",
          "CUB",
          "CYP",
          "DNK",
          "DJI",
          "DMA",
          "DOM",
          "ECU",
          "EGY",
          "SLV",
          "GNQ",
          "ERI",
          "EST",
          "FRO",
          "FJI",
          "FIN",
          "FRA",
          "PYF",
          "GAB",
          "GMB",
          "GEO",
          "DEU",
          "GHA",
          "GIB",
          "GRC",
          "GRL",
          "GRD",
          "GUM",
          "GTM",
          "GIN",
          "GNB",
          "GUY",
          "HTI",
          "HND",
          "HKG",
          "ISL",
          "IND",
          "IDN",
          "IRN",
          "IRQ",
          "IRL",
          "ISR",
          "ITA",
          "JAM",
          "JPN",
          "JOR",
          "KEN",
          "KIR",
          "KWT",
          "LVA",
          "LBN",
          "LBR",
          "LBY",
          "LTU",
          "MAC",
          "MDG",
          "MYS",
          "MDV",
          "MLT",
          "MHL",
          "MRT",
          "MUS",
          "MEX",
          "MCO",
          "MNE",
          "MAR",
          "MOZ",
          "MMR",
          "NAM",
          "NRU",
          "NLD",
          "NCL",
          "NZL",
          "NIC",
          "NGA",
          "PRK",
          "MNP",
          "NOR",
          "OMN",
          "PAK",
          "PLW",
          "PAN",
          "PNG",
          "PER",
          "PHL",
          "POL",
          "PRT",
          "PRI",
          "QAT",
          "ROU",
          "RUS",
          "LCA",
          "WSM",
          "SAU",
          "SEN",
          "SYC",
          "SLE",
          "SGP",
          "SVN",
          "SLB",
          "SOM",
          "ZAF",
          "KOR",
          "ESP",
          "LKA",
          "SDN",
          "SUR",
          "SWE",
          "SYR",
          "TZA",
          "THA",
          "TGO",
          "TON",
          "TTO",
          "TUN",
          "TUR",
          "TUV",
          "UKR",
          "ARE",
          "GBR",
          "USA",
          "URY",
          "VUT",
          "VEN",
          "VNM",
          "YEM"
         ],
         "name": "",
         "type": "choropleth",
         "z": [
          0.027043688606368365,
          0.6997736895490859,
          0.19494391545795847,
          0.008406088476359307,
          1.0150230189475167,
          0.0034473662265792067,
          0.3320036324741633,
          0.01893397335992455,
          0.022038151182211065,
          0.6960236834944462,
          0.021440612617916275,
          0.11727790978960663,
          0.007442875479133957,
          0.05322258666872958,
          0.0022080542875544747,
          0.07211490558216103,
          4.3689450515995745,
          0.0009230330444134232,
          0.0013594831740402177,
          0.15323933617970084,
          0.12706375572812226,
          0.12360127594131105,
          0.42550533165487786,
          0.0018821911840155507,
          0.2720831582587117,
          21.778176197438714,
          0.8896560368230025,
          0.01865197644340048,
          0.04072514685053937,
          0.15778151396454998,
          0.1497890209657593,
          0.13571018667451254,
          0.037125170527958905,
          0.03508225953269565,
          0.011795580825952529,
          0.001432101987837919,
          0.19177191092633805,
          0.29538568777252744,
          2.014331990111367,
          0.1219269883663407,
          0.018427484780442104,
          0.026585121071523995,
          0.031529835631332964,
          0.0016462721950280942,
          0.021868215785456037,
          0.1688604908614531,
          1.6798641100725458,
          0.009080669335495315,
          0.011917226554649185,
          0.010928209918003333,
          0.03591977194360112,
          5.336399429898814,
          0.1319218437841624,
          0.0011254073021542256,
          0.2992698727521537,
          0.001929374981813042,
          0.004577197009776947,
          0.005406231082015681,
          0.5511764281011335,
          0.04356981378493969,
          0.011304205806702092,
          0.05886215637579067,
          0.12108800146175405,
          0.2083890860897217,
          0.37614554980739756,
          0.012024495969954418,
          1.6562545172496261,
          1.859968352499773,
          1.444733975204516,
          0.4263218325308266,
          0.2638296798783537,
          0.3046436649731836,
          1.0687344002715546,
          0.012887812020280392,
          2.9465872552536783,
          0.13915755290109175,
          0.15021625550987877,
          0.0014225177789103035,
          0.2767219153796776,
          0.03499526440550652,
          0.054853745303525665,
          0.044621865026455626,
          0.11952614402997304,
          0.05500856714004868,
          0.026587332812045752,
          0.045534576615100845,
          0.7489229874235789,
          0.015900202610913978,
          0.011934920478823245,
          0.001354322446156117,
          0.0218545767189052,
          0.038694769051566075,
          1.3732929132346505,
          0.001257743110039377,
          0.012001272694475967,
          0.31832659771103583,
          0.04888388901188214,
          0.5061265912837178,
          0.0421049043126957,
          0.00019426454249435863,
          0.9478775256943242,
          0.008476495549635251,
          0.19375952840855737,
          0.11039534190931789,
          2.1976406759312006,
          0.17867177181596894,
          0.0018453288419862607,
          0.1841944878987972,
          0.03437450256573328,
          2.3636907818363406,
          0.0003966388002351611,
          0.07107723065403651,
          0.09850871109855301,
          0.5691099574983831,
          0.9458014385912346,
          0.49650072790960936,
          0.3769849053354045,
          0.12618200850678166,
          0.038312137941302046,
          0.11441518030761197,
          2.1526446581331475,
          0.01212107530607116,
          0.0025803639420503045,
          0.5756489683509589,
          0.17899837216634845,
          0.0043239527200357245,
          0.03562929668841031,
          0.1325138529971528,
          0.03996651985157658,
          0.007314225905451735,
          0.08757349733556412,
          1.646197733097195,
          0.7467470033735899,
          1.7359055600362552,
          0.9663853703803901,
          0.47653424034944436,
          0.01153791305516779,
          0.06056667107122504,
          0.5033899310114633,
          0.14265652640651197,
          1.3021603890675701,
          0.0498725370251077,
          0.003124452110402626,
          0.6432932090918076,
          0.2061471184475003,
          2.0630588455462044,
          0.00020421737484226695,
          0.6356944059058898,
          0.22144720213017743,
          1.8156878327605086,
          13.943383615460128,
          0.11441296856709021,
          0.00937888568251227,
          0.9842237949352042,
          1.2047450150336059,
          0.32715217963968846
         ]
        }
       ],
       "layout": {
        "coloraxis": {
         "cmax": 10,
         "cmin": 0,
         "colorbar": {
          "title": {
           "text": "% share"
          }
         },
         "colorscale": [
          [
           0,
           "rgb(255,245,240)"
          ],
          [
           0.125,
           "rgb(254,224,210)"
          ],
          [
           0.25,
           "rgb(252,187,161)"
          ],
          [
           0.375,
           "rgb(252,146,114)"
          ],
          [
           0.5,
           "rgb(251,106,74)"
          ],
          [
           0.625,
           "rgb(239,59,44)"
          ],
          [
           0.75,
           "rgb(203,24,29)"
          ],
          [
           0.875,
           "rgb(165,15,21)"
          ],
          [
           1,
           "rgb(103,0,13)"
          ]
         ]
        },
        "geo": {
         "center": {},
         "domain": {
          "x": [
           0,
           1
          ],
          "y": [
           0,
           1
          ]
         },
         "fitbounds": "locations",
         "visible": false
        },
        "legend": {
         "tracegroupgap": 0
        },
        "template": {
         "data": {
          "bar": [
           {
            "error_x": {
             "color": "#2a3f5f"
            },
            "error_y": {
             "color": "#2a3f5f"
            },
            "marker": {
             "line": {
              "color": "#E5ECF6",
              "width": 0.5
             }
            },
            "type": "bar"
           }
          ],
          "barpolar": [
           {
            "marker": {
             "line": {
              "color": "#E5ECF6",
              "width": 0.5
             }
            },
            "type": "barpolar"
           }
          ],
          "carpet": [
           {
            "aaxis": {
             "endlinecolor": "#2a3f5f",
             "gridcolor": "white",
             "linecolor": "white",
             "minorgridcolor": "white",
             "startlinecolor": "#2a3f5f"
            },
            "baxis": {
             "endlinecolor": "#2a3f5f",
             "gridcolor": "white",
             "linecolor": "white",
             "minorgridcolor": "white",
             "startlinecolor": "#2a3f5f"
            },
            "type": "carpet"
           }
          ],
          "choropleth": [
           {
            "colorbar": {
             "outlinewidth": 0,
             "ticks": ""
            },
            "type": "choropleth"
           }
          ],
          "contour": [
           {
            "colorbar": {
             "outlinewidth": 0,
             "ticks": ""
            },
            "colorscale": [
             [
              0,
              "#0d0887"
             ],
             [
              0.1111111111111111,
              "#46039f"
             ],
             [
              0.2222222222222222,
              "#7201a8"
             ],
             [
              0.3333333333333333,
              "#9c179e"
             ],
             [
              0.4444444444444444,
              "#bd3786"
             ],
             [
              0.5555555555555556,
              "#d8576b"
             ],
             [
              0.6666666666666666,
              "#ed7953"
             ],
             [
              0.7777777777777778,
              "#fb9f3a"
             ],
             [
              0.8888888888888888,
              "#fdca26"
             ],
             [
              1,
              "#f0f921"
             ]
            ],
            "type": "contour"
           }
          ],
          "contourcarpet": [
           {
            "colorbar": {
             "outlinewidth": 0,
             "ticks": ""
            },
            "type": "contourcarpet"
           }
          ],
          "heatmap": [
           {
            "colorbar": {
             "outlinewidth": 0,
             "ticks": ""
            },
            "colorscale": [
             [
              0,
              "#0d0887"
             ],
             [
              0.1111111111111111,
              "#46039f"
             ],
             [
              0.2222222222222222,
              "#7201a8"
             ],
             [
              0.3333333333333333,
              "#9c179e"
             ],
             [
              0.4444444444444444,
              "#bd3786"
             ],
             [
              0.5555555555555556,
              "#d8576b"
             ],
             [
              0.6666666666666666,
              "#ed7953"
             ],
             [
              0.7777777777777778,
              "#fb9f3a"
             ],
             [
              0.8888888888888888,
              "#fdca26"
             ],
             [
              1,
              "#f0f921"
             ]
            ],
            "type": "heatmap"
           }
          ],
          "heatmapgl": [
           {
            "colorbar": {
             "outlinewidth": 0,
             "ticks": ""
            },
            "colorscale": [
             [
              0,
              "#0d0887"
             ],
             [
              0.1111111111111111,
              "#46039f"
             ],
             [
              0.2222222222222222,
              "#7201a8"
             ],
             [
              0.3333333333333333,
              "#9c179e"
             ],
             [
              0.4444444444444444,
              "#bd3786"
             ],
             [
              0.5555555555555556,
              "#d8576b"
             ],
             [
              0.6666666666666666,
              "#ed7953"
             ],
             [
              0.7777777777777778,
              "#fb9f3a"
             ],
             [
              0.8888888888888888,
              "#fdca26"
             ],
             [
              1,
              "#f0f921"
             ]
            ],
            "type": "heatmapgl"
           }
          ],
          "histogram": [
           {
            "marker": {
             "colorbar": {
              "outlinewidth": 0,
              "ticks": ""
             }
            },
            "type": "histogram"
           }
          ],
          "histogram2d": [
           {
            "colorbar": {
             "outlinewidth": 0,
             "ticks": ""
            },
            "colorscale": [
             [
              0,
              "#0d0887"
             ],
             [
              0.1111111111111111,
              "#46039f"
             ],
             [
              0.2222222222222222,
              "#7201a8"
             ],
             [
              0.3333333333333333,
              "#9c179e"
             ],
             [
              0.4444444444444444,
              "#bd3786"
             ],
             [
              0.5555555555555556,
              "#d8576b"
             ],
             [
              0.6666666666666666,
              "#ed7953"
             ],
             [
              0.7777777777777778,
              "#fb9f3a"
             ],
             [
              0.8888888888888888,
              "#fdca26"
             ],
             [
              1,
              "#f0f921"
             ]
            ],
            "type": "histogram2d"
           }
          ],
          "histogram2dcontour": [
           {
            "colorbar": {
             "outlinewidth": 0,
             "ticks": ""
            },
            "colorscale": [
             [
              0,
              "#0d0887"
             ],
             [
              0.1111111111111111,
              "#46039f"
             ],
             [
              0.2222222222222222,
              "#7201a8"
             ],
             [
              0.3333333333333333,
              "#9c179e"
             ],
             [
              0.4444444444444444,
              "#bd3786"
             ],
             [
              0.5555555555555556,
              "#d8576b"
             ],
             [
              0.6666666666666666,
              "#ed7953"
             ],
             [
              0.7777777777777778,
              "#fb9f3a"
             ],
             [
              0.8888888888888888,
              "#fdca26"
             ],
             [
              1,
              "#f0f921"
             ]
            ],
            "type": "histogram2dcontour"
           }
          ],
          "mesh3d": [
           {
            "colorbar": {
             "outlinewidth": 0,
             "ticks": ""
            },
            "type": "mesh3d"
           }
          ],
          "parcoords": [
           {
            "line": {
             "colorbar": {
              "outlinewidth": 0,
              "ticks": ""
             }
            },
            "type": "parcoords"
           }
          ],
          "pie": [
           {
            "automargin": true,
            "type": "pie"
           }
          ],
          "scatter": [
           {
            "marker": {
             "colorbar": {
              "outlinewidth": 0,
              "ticks": ""
             }
            },
            "type": "scatter"
           }
          ],
          "scatter3d": [
           {
            "line": {
             "colorbar": {
              "outlinewidth": 0,
              "ticks": ""
             }
            },
            "marker": {
             "colorbar": {
              "outlinewidth": 0,
              "ticks": ""
             }
            },
            "type": "scatter3d"
           }
          ],
          "scattercarpet": [
           {
            "marker": {
             "colorbar": {
              "outlinewidth": 0,
              "ticks": ""
             }
            },
            "type": "scattercarpet"
           }
          ],
          "scattergeo": [
           {
            "marker": {
             "colorbar": {
              "outlinewidth": 0,
              "ticks": ""
             }
            },
            "type": "scattergeo"
           }
          ],
          "scattergl": [
           {
            "marker": {
             "colorbar": {
              "outlinewidth": 0,
              "ticks": ""
             }
            },
            "type": "scattergl"
           }
          ],
          "scattermapbox": [
           {
            "marker": {
             "colorbar": {
              "outlinewidth": 0,
              "ticks": ""
             }
            },
            "type": "scattermapbox"
           }
          ],
          "scatterpolar": [
           {
            "marker": {
             "colorbar": {
              "outlinewidth": 0,
              "ticks": ""
             }
            },
            "type": "scatterpolar"
           }
          ],
          "scatterpolargl": [
           {
            "marker": {
             "colorbar": {
              "outlinewidth": 0,
              "ticks": ""
             }
            },
            "type": "scatterpolargl"
           }
          ],
          "scatterternary": [
           {
            "marker": {
             "colorbar": {
              "outlinewidth": 0,
              "ticks": ""
             }
            },
            "type": "scatterternary"
           }
          ],
          "surface": [
           {
            "colorbar": {
             "outlinewidth": 0,
             "ticks": ""
            },
            "colorscale": [
             [
              0,
              "#0d0887"
             ],
             [
              0.1111111111111111,
              "#46039f"
             ],
             [
              0.2222222222222222,
              "#7201a8"
             ],
             [
              0.3333333333333333,
              "#9c179e"
             ],
             [
              0.4444444444444444,
              "#bd3786"
             ],
             [
              0.5555555555555556,
              "#d8576b"
             ],
             [
              0.6666666666666666,
              "#ed7953"
             ],
             [
              0.7777777777777778,
              "#fb9f3a"
             ],
             [
              0.8888888888888888,
              "#fdca26"
             ],
             [
              1,
              "#f0f921"
             ]
            ],
            "type": "surface"
           }
          ],
          "table": [
           {
            "cells": {
             "fill": {
              "color": "#EBF0F8"
             },
             "line": {
              "color": "white"
             }
            },
            "header": {
             "fill": {
              "color": "#C8D4E3"
             },
             "line": {
              "color": "white"
             }
            },
            "type": "table"
           }
          ]
         },
         "layout": {
          "annotationdefaults": {
           "arrowcolor": "#2a3f5f",
           "arrowhead": 0,
           "arrowwidth": 1
          },
          "autotypenumbers": "strict",
          "coloraxis": {
           "colorbar": {
            "outlinewidth": 0,
            "ticks": ""
           }
          },
          "colorscale": {
           "diverging": [
            [
             0,
             "#8e0152"
            ],
            [
             0.1,
             "#c51b7d"
            ],
            [
             0.2,
             "#de77ae"
            ],
            [
             0.3,
             "#f1b6da"
            ],
            [
             0.4,
             "#fde0ef"
            ],
            [
             0.5,
             "#f7f7f7"
            ],
            [
             0.6,
             "#e6f5d0"
            ],
            [
             0.7,
             "#b8e186"
            ],
            [
             0.8,
             "#7fbc41"
            ],
            [
             0.9,
             "#4d9221"
            ],
            [
             1,
             "#276419"
            ]
           ],
           "sequential": [
            [
             0,
             "#0d0887"
            ],
            [
             0.1111111111111111,
             "#46039f"
            ],
            [
             0.2222222222222222,
             "#7201a8"
            ],
            [
             0.3333333333333333,
             "#9c179e"
            ],
            [
             0.4444444444444444,
             "#bd3786"
            ],
            [
             0.5555555555555556,
             "#d8576b"
            ],
            [
             0.6666666666666666,
             "#ed7953"
            ],
            [
             0.7777777777777778,
             "#fb9f3a"
            ],
            [
             0.8888888888888888,
             "#fdca26"
            ],
            [
             1,
             "#f0f921"
            ]
           ],
           "sequentialminus": [
            [
             0,
             "#0d0887"
            ],
            [
             0.1111111111111111,
             "#46039f"
            ],
            [
             0.2222222222222222,
             "#7201a8"
            ],
            [
             0.3333333333333333,
             "#9c179e"
            ],
            [
             0.4444444444444444,
             "#bd3786"
            ],
            [
             0.5555555555555556,
             "#d8576b"
            ],
            [
             0.6666666666666666,
             "#ed7953"
            ],
            [
             0.7777777777777778,
             "#fb9f3a"
            ],
            [
             0.8888888888888888,
             "#fdca26"
            ],
            [
             1,
             "#f0f921"
            ]
           ]
          },
          "colorway": [
           "#636efa",
           "#EF553B",
           "#00cc96",
           "#ab63fa",
           "#FFA15A",
           "#19d3f3",
           "#FF6692",
           "#B6E880",
           "#FF97FF",
           "#FECB52"
          ],
          "font": {
           "color": "#2a3f5f"
          },
          "geo": {
           "bgcolor": "white",
           "lakecolor": "white",
           "landcolor": "#E5ECF6",
           "showlakes": true,
           "showland": true,
           "subunitcolor": "white"
          },
          "hoverlabel": {
           "align": "left"
          },
          "hovermode": "closest",
          "mapbox": {
           "style": "light"
          },
          "paper_bgcolor": "white",
          "plot_bgcolor": "#E5ECF6",
          "polar": {
           "angularaxis": {
            "gridcolor": "white",
            "linecolor": "white",
            "ticks": ""
           },
           "bgcolor": "#E5ECF6",
           "radialaxis": {
            "gridcolor": "white",
            "linecolor": "white",
            "ticks": ""
           }
          },
          "scene": {
           "xaxis": {
            "backgroundcolor": "#E5ECF6",
            "gridcolor": "white",
            "gridwidth": 2,
            "linecolor": "white",
            "showbackground": true,
            "ticks": "",
            "zerolinecolor": "white"
           },
           "yaxis": {
            "backgroundcolor": "#E5ECF6",
            "gridcolor": "white",
            "gridwidth": 2,
            "linecolor": "white",
            "showbackground": true,
            "ticks": "",
            "zerolinecolor": "white"
           },
           "zaxis": {
            "backgroundcolor": "#E5ECF6",
            "gridcolor": "white",
            "gridwidth": 2,
            "linecolor": "white",
            "showbackground": true,
            "ticks": "",
            "zerolinecolor": "white"
           }
          },
          "shapedefaults": {
           "line": {
            "color": "#2a3f5f"
           }
          },
          "ternary": {
           "aaxis": {
            "gridcolor": "white",
            "linecolor": "white",
            "ticks": ""
           },
           "baxis": {
            "gridcolor": "white",
            "linecolor": "white",
            "ticks": ""
           },
           "bgcolor": "#E5ECF6",
           "caxis": {
            "gridcolor": "white",
            "linecolor": "white",
            "ticks": ""
           }
          },
          "title": {
           "x": 0.05
          },
          "xaxis": {
           "automargin": true,
           "gridcolor": "white",
           "linecolor": "white",
           "ticks": "",
           "title": {
            "standoff": 15
           },
           "zerolinecolor": "white",
           "zerolinewidth": 2
          },
          "yaxis": {
           "automargin": true,
           "gridcolor": "white",
           "linecolor": "white",
           "ticks": "",
           "title": {
            "standoff": 15
           },
           "zerolinecolor": "white",
           "zerolinewidth": 2
          }
         }
        },
        "title": {
         "text": "MAP 2: Share of plastic waste produced by each country every year"
        }
       }
      },
      "text/html": [
       "<div>                            <div id=\"7c11a75c-5f40-4ca6-94f7-46b704750da8\" class=\"plotly-graph-div\" style=\"height:525px; width:100%;\"></div>            <script type=\"text/javascript\">                require([\"plotly\"], function(Plotly) {                    window.PLOTLYENV=window.PLOTLYENV || {};                                    if (document.getElementById(\"7c11a75c-5f40-4ca6-94f7-46b704750da8\")) {                    Plotly.newPlot(                        \"7c11a75c-5f40-4ca6-94f7-46b704750da8\",                        [{\"coloraxis\": \"coloraxis\", \"customdata\": [[\"Albania\"], [\"Algeria\"], [\"Angola\"], [\"Antigua and Barbuda\"], [\"Argentina\"], [\"Aruba\"], [\"Australia\"], [\"Bahamas\"], [\"Bahrain\"], [\"Bangladesh\"], [\"Barbados\"], [\"Belgium\"], [\"Belize\"], [\"Benin\"], [\"Bermuda\"], [\"Bosnia and Herzegovina\"], [\"Brazil\"], [\"British Virgin Islands\"], [\"Brunei\"], [\"Bulgaria\"], [\"Cambodia\"], [\"Cameroon\"], [\"Canada\"], [\"Cayman Islands\"], [\"Chile\"], [\"China\"], [\"Colombia\"], [\"Comoros\"], [\"Congo\"], [\"Costa Rica\"], [\"Croatia\"], [\"Cuba\"], [\"Cyprus\"], [\"Denmark\"], [\"Djibouti\"], [\"Dominica\"], [\"Dominican Republic\"], [\"Ecuador\"], [\"Egypt\"], [\"El Salvador\"], [\"Equatorial Guinea\"], [\"Eritrea\"], [\"Estonia\"], [\"Faeroe Islands\"], [\"Fiji\"], [\"Finland\"], [\"France\"], [\"French Polynesia\"], [\"Gabon\"], [\"Gambia\"], [\"Georgia\"], [\"Germany\"], [\"Ghana\"], [\"Gibraltar\"], [\"Greece\"], [\"Greenland\"], [\"Grenada\"], [\"Guam\"], [\"Guatemala\"], [\"Guinea\"], [\"Guinea-Bissau\"], [\"Guyana\"], [\"Haiti\"], [\"Honduras\"], [\"Hong Kong\"], [\"Iceland\"], [\"India\"], [\"Indonesia\"], [\"Iran\"], [\"Iraq\"], [\"Ireland\"], [\"Israel\"], [\"Italy\"], [\"Jamaica\"], [\"Japan\"], [\"Jordan\"], [\"Kenya\"], [\"Kiribati\"], [\"Kuwait\"], [\"Latvia\"], [\"Lebanon\"], [\"Liberia\"], [\"Libya\"], [\"Lithuania\"], [\"Macao\"], [\"Madagascar\"], [\"Malaysia\"], [\"Maldives\"], [\"Malta\"], [\"Marshall Islands\"], [\"Mauritania\"], [\"Mauritius\"], [\"Mexico\"], [\"Monaco\"], [\"Montenegro\"], [\"Morocco\"], [\"Mozambique\"], [\"Myanmar\"], [\"Namibia\"], [\"Nauru\"], [\"Netherlands\"], [\"New Caledonia\"], [\"New Zealand\"], [\"Nicaragua\"], [\"Nigeria\"], [\"North Korea\"], [\"Northern Mariana Islands\"], [\"Norway\"], [\"Oman\"], [\"Pakistan\"], [\"Palau\"], [\"Panama\"], [\"Papua New Guinea\"], [\"Peru\"], [\"Philippines\"], [\"Poland\"], [\"Portugal\"], [\"Puerto Rico\"], [\"Qatar\"], [\"Romania\"], [\"Russia\"], [\"Saint Lucia\"], [\"Samoa\"], [\"Saudi Arabia\"], [\"Senegal\"], [\"Seychelles\"], [\"Sierra Leone\"], [\"Singapore\"], [\"Slovenia\"], [\"Solomon Islands\"], [\"Somalia\"], [\"South Africa\"], [\"South Korea\"], [\"Spain\"], [\"Sri Lanka\"], [\"Sudan\"], [\"Suriname\"], [\"Sweden\"], [\"Syria\"], [\"Tanzania\"], [\"Thailand\"], [\"Togo\"], [\"Tonga\"], [\"Trinidad and Tobago\"], [\"Tunisia\"], [\"Turkey\"], [\"Tuvalu\"], [\"Ukraine\"], [\"United Arab Emirates\"], [\"United Kingdom\"], [\"United States\"], [\"Uruguay\"], [\"Vanuatu\"], [\"Venezuela\"], [\"Vietnam\"], [\"Yemen\"]], \"geo\": \"geo\", \"hovertemplate\": \"Code=%{location}<br>Country=%{customdata[0]}<br>% share=%{z}<extra></extra>\", \"locations\": [\"ALB\", \"DZA\", \"AGO\", \"ATG\", \"ARG\", \"ABW\", \"AUS\", \"BHS\", \"BHR\", \"BGD\", \"BRB\", \"BEL\", \"BLZ\", \"BEN\", \"BMU\", \"BIH\", \"BRA\", \"VGB\", \"BRN\", \"BGR\", \"KHM\", \"CMR\", \"CAN\", \"CYM\", \"CHL\", \"CHN\", \"COL\", \"COM\", \"COG\", \"CRI\", \"HRV\", \"CUB\", \"CYP\", \"DNK\", \"DJI\", \"DMA\", \"DOM\", \"ECU\", \"EGY\", \"SLV\", \"GNQ\", \"ERI\", \"EST\", \"FRO\", \"FJI\", \"FIN\", \"FRA\", \"PYF\", \"GAB\", \"GMB\", \"GEO\", \"DEU\", \"GHA\", \"GIB\", \"GRC\", \"GRL\", \"GRD\", \"GUM\", \"GTM\", \"GIN\", \"GNB\", \"GUY\", \"HTI\", \"HND\", \"HKG\", \"ISL\", \"IND\", \"IDN\", \"IRN\", \"IRQ\", \"IRL\", \"ISR\", \"ITA\", \"JAM\", \"JPN\", \"JOR\", \"KEN\", \"KIR\", \"KWT\", \"LVA\", \"LBN\", \"LBR\", \"LBY\", \"LTU\", \"MAC\", \"MDG\", \"MYS\", \"MDV\", \"MLT\", \"MHL\", \"MRT\", \"MUS\", \"MEX\", \"MCO\", \"MNE\", \"MAR\", \"MOZ\", \"MMR\", \"NAM\", \"NRU\", \"NLD\", \"NCL\", \"NZL\", \"NIC\", \"NGA\", \"PRK\", \"MNP\", \"NOR\", \"OMN\", \"PAK\", \"PLW\", \"PAN\", \"PNG\", \"PER\", \"PHL\", \"POL\", \"PRT\", \"PRI\", \"QAT\", \"ROU\", \"RUS\", \"LCA\", \"WSM\", \"SAU\", \"SEN\", \"SYC\", \"SLE\", \"SGP\", \"SVN\", \"SLB\", \"SOM\", \"ZAF\", \"KOR\", \"ESP\", \"LKA\", \"SDN\", \"SUR\", \"SWE\", \"SYR\", \"TZA\", \"THA\", \"TGO\", \"TON\", \"TTO\", \"TUN\", \"TUR\", \"TUV\", \"UKR\", \"ARE\", \"GBR\", \"USA\", \"URY\", \"VUT\", \"VEN\", \"VNM\", \"YEM\"], \"name\": \"\", \"type\": \"choropleth\", \"z\": [0.027043688606368365, 0.6997736895490859, 0.19494391545795847, 0.008406088476359307, 1.0150230189475167, 0.0034473662265792067, 0.3320036324741633, 0.01893397335992455, 0.022038151182211065, 0.6960236834944462, 0.021440612617916275, 0.11727790978960663, 0.007442875479133957, 0.05322258666872958, 0.0022080542875544747, 0.07211490558216103, 4.3689450515995745, 0.0009230330444134232, 0.0013594831740402177, 0.15323933617970084, 0.12706375572812226, 0.12360127594131105, 0.42550533165487786, 0.0018821911840155507, 0.2720831582587117, 21.778176197438714, 0.8896560368230025, 0.01865197644340048, 0.04072514685053937, 0.15778151396454998, 0.1497890209657593, 0.13571018667451254, 0.037125170527958905, 0.03508225953269565, 0.011795580825952529, 0.001432101987837919, 0.19177191092633805, 0.29538568777252744, 2.014331990111367, 0.1219269883663407, 0.018427484780442104, 0.026585121071523995, 0.031529835631332964, 0.0016462721950280942, 0.021868215785456037, 0.1688604908614531, 1.6798641100725458, 0.009080669335495315, 0.011917226554649185, 0.010928209918003333, 0.03591977194360112, 5.336399429898814, 0.1319218437841624, 0.0011254073021542256, 0.2992698727521537, 0.001929374981813042, 0.004577197009776947, 0.005406231082015681, 0.5511764281011335, 0.04356981378493969, 0.011304205806702092, 0.05886215637579067, 0.12108800146175405, 0.2083890860897217, 0.37614554980739756, 0.012024495969954418, 1.6562545172496261, 1.859968352499773, 1.444733975204516, 0.4263218325308266, 0.2638296798783537, 0.3046436649731836, 1.0687344002715546, 0.012887812020280392, 2.9465872552536783, 0.13915755290109175, 0.15021625550987877, 0.0014225177789103035, 0.2767219153796776, 0.03499526440550652, 0.054853745303525665, 0.044621865026455626, 0.11952614402997304, 0.05500856714004868, 0.026587332812045752, 0.045534576615100845, 0.7489229874235789, 0.015900202610913978, 0.011934920478823245, 0.001354322446156117, 0.0218545767189052, 0.038694769051566075, 1.3732929132346505, 0.001257743110039377, 0.012001272694475967, 0.31832659771103583, 0.04888388901188214, 0.5061265912837178, 0.0421049043126957, 0.00019426454249435863, 0.9478775256943242, 0.008476495549635251, 0.19375952840855737, 0.11039534190931789, 2.1976406759312006, 0.17867177181596894, 0.0018453288419862607, 0.1841944878987972, 0.03437450256573328, 2.3636907818363406, 0.0003966388002351611, 0.07107723065403651, 0.09850871109855301, 0.5691099574983831, 0.9458014385912346, 0.49650072790960936, 0.3769849053354045, 0.12618200850678166, 0.038312137941302046, 0.11441518030761197, 2.1526446581331475, 0.01212107530607116, 0.0025803639420503045, 0.5756489683509589, 0.17899837216634845, 0.0043239527200357245, 0.03562929668841031, 0.1325138529971528, 0.03996651985157658, 0.007314225905451735, 0.08757349733556412, 1.646197733097195, 0.7467470033735899, 1.7359055600362552, 0.9663853703803901, 0.47653424034944436, 0.01153791305516779, 0.06056667107122504, 0.5033899310114633, 0.14265652640651197, 1.3021603890675701, 0.0498725370251077, 0.003124452110402626, 0.6432932090918076, 0.2061471184475003, 2.0630588455462044, 0.00020421737484226695, 0.6356944059058898, 0.22144720213017743, 1.8156878327605086, 13.943383615460128, 0.11441296856709021, 0.00937888568251227, 0.9842237949352042, 1.2047450150336059, 0.32715217963968846]}],                        {\"coloraxis\": {\"cmax\": 10, \"cmin\": 0, \"colorbar\": {\"title\": {\"text\": \"% share\"}}, \"colorscale\": [[0.0, \"rgb(255,245,240)\"], [0.125, \"rgb(254,224,210)\"], [0.25, \"rgb(252,187,161)\"], [0.375, \"rgb(252,146,114)\"], [0.5, \"rgb(251,106,74)\"], [0.625, \"rgb(239,59,44)\"], [0.75, \"rgb(203,24,29)\"], [0.875, \"rgb(165,15,21)\"], [1.0, \"rgb(103,0,13)\"]]}, \"geo\": {\"center\": {}, \"domain\": {\"x\": [0.0, 1.0], \"y\": [0.0, 1.0]}, \"fitbounds\": \"locations\", \"visible\": false}, \"legend\": {\"tracegroupgap\": 0}, \"template\": {\"data\": {\"bar\": [{\"error_x\": {\"color\": \"#2a3f5f\"}, \"error_y\": {\"color\": \"#2a3f5f\"}, \"marker\": {\"line\": {\"color\": \"#E5ECF6\", \"width\": 0.5}}, \"type\": \"bar\"}], \"barpolar\": [{\"marker\": {\"line\": {\"color\": \"#E5ECF6\", \"width\": 0.5}}, \"type\": \"barpolar\"}], \"carpet\": [{\"aaxis\": {\"endlinecolor\": \"#2a3f5f\", \"gridcolor\": \"white\", \"linecolor\": \"white\", \"minorgridcolor\": \"white\", \"startlinecolor\": \"#2a3f5f\"}, \"baxis\": {\"endlinecolor\": \"#2a3f5f\", \"gridcolor\": \"white\", \"linecolor\": \"white\", \"minorgridcolor\": \"white\", \"startlinecolor\": \"#2a3f5f\"}, \"type\": \"carpet\"}], \"choropleth\": [{\"colorbar\": {\"outlinewidth\": 0, \"ticks\": \"\"}, \"type\": \"choropleth\"}], \"contour\": [{\"colorbar\": {\"outlinewidth\": 0, \"ticks\": \"\"}, \"colorscale\": [[0.0, \"#0d0887\"], [0.1111111111111111, \"#46039f\"], [0.2222222222222222, \"#7201a8\"], [0.3333333333333333, \"#9c179e\"], [0.4444444444444444, \"#bd3786\"], [0.5555555555555556, \"#d8576b\"], [0.6666666666666666, \"#ed7953\"], [0.7777777777777778, \"#fb9f3a\"], [0.8888888888888888, \"#fdca26\"], [1.0, \"#f0f921\"]], \"type\": \"contour\"}], \"contourcarpet\": [{\"colorbar\": {\"outlinewidth\": 0, \"ticks\": \"\"}, \"type\": \"contourcarpet\"}], \"heatmap\": [{\"colorbar\": {\"outlinewidth\": 0, \"ticks\": \"\"}, \"colorscale\": [[0.0, \"#0d0887\"], [0.1111111111111111, \"#46039f\"], [0.2222222222222222, \"#7201a8\"], [0.3333333333333333, \"#9c179e\"], [0.4444444444444444, \"#bd3786\"], [0.5555555555555556, \"#d8576b\"], [0.6666666666666666, \"#ed7953\"], [0.7777777777777778, \"#fb9f3a\"], [0.8888888888888888, \"#fdca26\"], [1.0, \"#f0f921\"]], \"type\": \"heatmap\"}], \"heatmapgl\": [{\"colorbar\": {\"outlinewidth\": 0, \"ticks\": \"\"}, \"colorscale\": [[0.0, \"#0d0887\"], [0.1111111111111111, \"#46039f\"], [0.2222222222222222, \"#7201a8\"], [0.3333333333333333, \"#9c179e\"], [0.4444444444444444, \"#bd3786\"], [0.5555555555555556, \"#d8576b\"], [0.6666666666666666, \"#ed7953\"], [0.7777777777777778, \"#fb9f3a\"], [0.8888888888888888, \"#fdca26\"], [1.0, \"#f0f921\"]], \"type\": \"heatmapgl\"}], \"histogram\": [{\"marker\": {\"colorbar\": {\"outlinewidth\": 0, \"ticks\": \"\"}}, \"type\": \"histogram\"}], \"histogram2d\": [{\"colorbar\": {\"outlinewidth\": 0, \"ticks\": \"\"}, \"colorscale\": [[0.0, \"#0d0887\"], [0.1111111111111111, \"#46039f\"], [0.2222222222222222, \"#7201a8\"], [0.3333333333333333, \"#9c179e\"], [0.4444444444444444, \"#bd3786\"], [0.5555555555555556, \"#d8576b\"], [0.6666666666666666, \"#ed7953\"], [0.7777777777777778, \"#fb9f3a\"], [0.8888888888888888, \"#fdca26\"], [1.0, \"#f0f921\"]], \"type\": \"histogram2d\"}], \"histogram2dcontour\": [{\"colorbar\": {\"outlinewidth\": 0, \"ticks\": \"\"}, \"colorscale\": [[0.0, \"#0d0887\"], [0.1111111111111111, \"#46039f\"], [0.2222222222222222, \"#7201a8\"], [0.3333333333333333, \"#9c179e\"], [0.4444444444444444, \"#bd3786\"], [0.5555555555555556, \"#d8576b\"], [0.6666666666666666, \"#ed7953\"], [0.7777777777777778, \"#fb9f3a\"], [0.8888888888888888, \"#fdca26\"], [1.0, \"#f0f921\"]], \"type\": \"histogram2dcontour\"}], \"mesh3d\": [{\"colorbar\": {\"outlinewidth\": 0, \"ticks\": \"\"}, \"type\": \"mesh3d\"}], \"parcoords\": [{\"line\": {\"colorbar\": {\"outlinewidth\": 0, \"ticks\": \"\"}}, \"type\": \"parcoords\"}], \"pie\": [{\"automargin\": true, \"type\": \"pie\"}], \"scatter\": [{\"marker\": {\"colorbar\": {\"outlinewidth\": 0, \"ticks\": \"\"}}, \"type\": \"scatter\"}], \"scatter3d\": [{\"line\": {\"colorbar\": {\"outlinewidth\": 0, \"ticks\": \"\"}}, \"marker\": {\"colorbar\": {\"outlinewidth\": 0, \"ticks\": \"\"}}, \"type\": \"scatter3d\"}], \"scattercarpet\": [{\"marker\": {\"colorbar\": {\"outlinewidth\": 0, \"ticks\": \"\"}}, \"type\": \"scattercarpet\"}], \"scattergeo\": [{\"marker\": {\"colorbar\": {\"outlinewidth\": 0, \"ticks\": \"\"}}, \"type\": \"scattergeo\"}], \"scattergl\": [{\"marker\": {\"colorbar\": {\"outlinewidth\": 0, \"ticks\": \"\"}}, \"type\": \"scattergl\"}], \"scattermapbox\": [{\"marker\": {\"colorbar\": {\"outlinewidth\": 0, \"ticks\": \"\"}}, \"type\": \"scattermapbox\"}], \"scatterpolar\": [{\"marker\": {\"colorbar\": {\"outlinewidth\": 0, \"ticks\": \"\"}}, \"type\": \"scatterpolar\"}], \"scatterpolargl\": [{\"marker\": {\"colorbar\": {\"outlinewidth\": 0, \"ticks\": \"\"}}, \"type\": \"scatterpolargl\"}], \"scatterternary\": [{\"marker\": {\"colorbar\": {\"outlinewidth\": 0, \"ticks\": \"\"}}, \"type\": \"scatterternary\"}], \"surface\": [{\"colorbar\": {\"outlinewidth\": 0, \"ticks\": \"\"}, \"colorscale\": [[0.0, \"#0d0887\"], [0.1111111111111111, \"#46039f\"], [0.2222222222222222, \"#7201a8\"], [0.3333333333333333, \"#9c179e\"], [0.4444444444444444, \"#bd3786\"], [0.5555555555555556, \"#d8576b\"], [0.6666666666666666, \"#ed7953\"], [0.7777777777777778, \"#fb9f3a\"], [0.8888888888888888, \"#fdca26\"], [1.0, \"#f0f921\"]], \"type\": \"surface\"}], \"table\": [{\"cells\": {\"fill\": {\"color\": \"#EBF0F8\"}, \"line\": {\"color\": \"white\"}}, \"header\": {\"fill\": {\"color\": \"#C8D4E3\"}, \"line\": {\"color\": \"white\"}}, \"type\": \"table\"}]}, \"layout\": {\"annotationdefaults\": {\"arrowcolor\": \"#2a3f5f\", \"arrowhead\": 0, \"arrowwidth\": 1}, \"autotypenumbers\": \"strict\", \"coloraxis\": {\"colorbar\": {\"outlinewidth\": 0, \"ticks\": \"\"}}, \"colorscale\": {\"diverging\": [[0, \"#8e0152\"], [0.1, \"#c51b7d\"], [0.2, \"#de77ae\"], [0.3, \"#f1b6da\"], [0.4, \"#fde0ef\"], [0.5, \"#f7f7f7\"], [0.6, \"#e6f5d0\"], [0.7, \"#b8e186\"], [0.8, \"#7fbc41\"], [0.9, \"#4d9221\"], [1, \"#276419\"]], \"sequential\": [[0.0, \"#0d0887\"], [0.1111111111111111, \"#46039f\"], [0.2222222222222222, \"#7201a8\"], [0.3333333333333333, \"#9c179e\"], [0.4444444444444444, \"#bd3786\"], [0.5555555555555556, \"#d8576b\"], [0.6666666666666666, \"#ed7953\"], [0.7777777777777778, \"#fb9f3a\"], [0.8888888888888888, \"#fdca26\"], [1.0, \"#f0f921\"]], \"sequentialminus\": [[0.0, \"#0d0887\"], [0.1111111111111111, \"#46039f\"], [0.2222222222222222, \"#7201a8\"], [0.3333333333333333, \"#9c179e\"], [0.4444444444444444, \"#bd3786\"], [0.5555555555555556, \"#d8576b\"], [0.6666666666666666, \"#ed7953\"], [0.7777777777777778, \"#fb9f3a\"], [0.8888888888888888, \"#fdca26\"], [1.0, \"#f0f921\"]]}, \"colorway\": [\"#636efa\", \"#EF553B\", \"#00cc96\", \"#ab63fa\", \"#FFA15A\", \"#19d3f3\", \"#FF6692\", \"#B6E880\", \"#FF97FF\", \"#FECB52\"], \"font\": {\"color\": \"#2a3f5f\"}, \"geo\": {\"bgcolor\": \"white\", \"lakecolor\": \"white\", \"landcolor\": \"#E5ECF6\", \"showlakes\": true, \"showland\": true, \"subunitcolor\": \"white\"}, \"hoverlabel\": {\"align\": \"left\"}, \"hovermode\": \"closest\", \"mapbox\": {\"style\": \"light\"}, \"paper_bgcolor\": \"white\", \"plot_bgcolor\": \"#E5ECF6\", \"polar\": {\"angularaxis\": {\"gridcolor\": \"white\", \"linecolor\": \"white\", \"ticks\": \"\"}, \"bgcolor\": \"#E5ECF6\", \"radialaxis\": {\"gridcolor\": \"white\", \"linecolor\": \"white\", \"ticks\": \"\"}}, \"scene\": {\"xaxis\": {\"backgroundcolor\": \"#E5ECF6\", \"gridcolor\": \"white\", \"gridwidth\": 2, \"linecolor\": \"white\", \"showbackground\": true, \"ticks\": \"\", \"zerolinecolor\": \"white\"}, \"yaxis\": {\"backgroundcolor\": \"#E5ECF6\", \"gridcolor\": \"white\", \"gridwidth\": 2, \"linecolor\": \"white\", \"showbackground\": true, \"ticks\": \"\", \"zerolinecolor\": \"white\"}, \"zaxis\": {\"backgroundcolor\": \"#E5ECF6\", \"gridcolor\": \"white\", \"gridwidth\": 2, \"linecolor\": \"white\", \"showbackground\": true, \"ticks\": \"\", \"zerolinecolor\": \"white\"}}, \"shapedefaults\": {\"line\": {\"color\": \"#2a3f5f\"}}, \"ternary\": {\"aaxis\": {\"gridcolor\": \"white\", \"linecolor\": \"white\", \"ticks\": \"\"}, \"baxis\": {\"gridcolor\": \"white\", \"linecolor\": \"white\", \"ticks\": \"\"}, \"bgcolor\": \"#E5ECF6\", \"caxis\": {\"gridcolor\": \"white\", \"linecolor\": \"white\", \"ticks\": \"\"}}, \"title\": {\"x\": 0.05}, \"xaxis\": {\"automargin\": true, \"gridcolor\": \"white\", \"linecolor\": \"white\", \"ticks\": \"\", \"title\": {\"standoff\": 15}, \"zerolinecolor\": \"white\", \"zerolinewidth\": 2}, \"yaxis\": {\"automargin\": true, \"gridcolor\": \"white\", \"linecolor\": \"white\", \"ticks\": \"\", \"title\": {\"standoff\": 15}, \"zerolinecolor\": \"white\", \"zerolinewidth\": 2}}}, \"title\": {\"text\": \"MAP 2: Share of plastic waste produced by each country every year\"}},                        {\"responsive\": true}                    ).then(function(){\n",
       "                            \n",
       "var gd = document.getElementById('7c11a75c-5f40-4ca6-94f7-46b704750da8');\n",
       "var x = new MutationObserver(function (mutations, observer) {{\n",
       "        var display = window.getComputedStyle(gd).display;\n",
       "        if (!display || display === 'none') {{\n",
       "            console.log([gd, 'removed!']);\n",
       "            Plotly.purge(gd);\n",
       "            observer.disconnect();\n",
       "        }}\n",
       "}});\n",
       "\n",
       "// Listen for the removal of the full notebook cells\n",
       "var notebookContainer = gd.closest('#notebook-container');\n",
       "if (notebookContainer) {{\n",
       "    x.observe(notebookContainer, {childList: true});\n",
       "}}\n",
       "\n",
       "// Listen for the clearing of the current output cell\n",
       "var outputEl = gd.closest('.output');\n",
       "if (outputEl) {{\n",
       "    x.observe(outputEl, {childList: true});\n",
       "}}\n",
       "\n",
       "                        })                };                });            </script>        </div>"
      ]
     },
     "metadata": {},
     "output_type": "display_data"
    }
   ],
   "source": [
    "fig = px.choropleth(total_plastic_waste_by_country_population_wise, \n",
    "                    locations='Code', \n",
    "                    color='% share',\n",
    "                    color_continuous_scale=\"reds\",\n",
    "                    range_color=(0,10),\n",
    "                    title='MAP 2: Share of plastic waste produced by each country every year',\n",
    "                    hover_data=['Country']\n",
    "                   )\n",
    "#fig.update_layout(margin={\"r\":0,\"t\":0,\"l\":0,\"b\":0})\n",
    "fig.update_geos(fitbounds=\"locations\", visible=False)\n",
    "fig.show()"
   ]
  },
  {
   "cell_type": "markdown",
   "metadata": {},
   "source": [
    "From MAP 1 and MAP 2, we can say that China is biggest plastic waste generator(21% of total). "
   ]
  },
  {
   "cell_type": "markdown",
   "metadata": {},
   "source": [
    "### Plastic Waste generation vs Population"
   ]
  },
  {
   "cell_type": "code",
   "execution_count": 41,
   "metadata": {},
   "outputs": [
    {
     "data": {
      "application/vnd.plotly.v1+json": {
       "config": {
        "plotlyServerURL": "https://plot.ly"
       },
       "data": [
        {
         "customdata": [
          [
           "Albania"
          ],
          [
           "Belgium"
          ],
          [
           "Bosnia and Herzegovina"
          ],
          [
           "Bulgaria"
          ],
          [
           "Croatia"
          ],
          [
           "Denmark"
          ],
          [
           "Estonia"
          ],
          [
           "Faeroe Islands"
          ],
          [
           "Finland"
          ],
          [
           "France"
          ],
          [
           "Germany"
          ],
          [
           "Gibraltar"
          ],
          [
           "Greece"
          ],
          [
           "Iceland"
          ],
          [
           "Ireland"
          ],
          [
           "Italy"
          ],
          [
           "Latvia"
          ],
          [
           "Lithuania"
          ],
          [
           "Malta"
          ],
          [
           "Monaco"
          ],
          [
           "Montenegro"
          ],
          [
           "Netherlands"
          ],
          [
           "Norway"
          ],
          [
           "Poland"
          ],
          [
           "Portugal"
          ],
          [
           "Romania"
          ],
          [
           "Russia"
          ],
          [
           "Slovenia"
          ],
          [
           "Spain"
          ],
          [
           "Sweden"
          ],
          [
           "Ukraine"
          ],
          [
           "United Kingdom"
          ]
         ],
         "hovertemplate": "Continent=Europe<br>Population=%{x}<br>Plastic waste generation (tonnes, total)=%{y}<br>Country=%{customdata[0]}<extra></extra>",
         "legendgroup": "Europe",
         "marker": {
          "color": "#636efa",
          "symbol": "circle"
         },
         "mode": "markers",
         "name": "Europe",
         "orientation": "v",
         "showlegend": true,
         "type": "scatter",
         "x": [
          2877239,
          11598451,
          3277152,
          6939018,
          4100719,
          5795780,
          1326693,
          48896,
          5542237,
          65298930,
          83830972,
          33689,
          10413936,
          341628,
          4947267,
          60446035,
          1882408,
          2715340,
          441750,
          39290,
          628080,
          17141544,
          5428594,
          37839255,
          10191409,
          19214608,
          145945524,
          2078989,
          46757980,
          10110233,
          43686577,
          67948282
         ],
         "xaxis": "x",
         "y": [
          73364,
          318151,
          195633,
          415707,
          406347,
          95171,
          85534,
          4466,
          458084,
          4557128,
          14476561,
          3053,
          811858,
          32620,
          715716,
          2899258,
          94935,
          149227,
          32377,
          3412,
          32557,
          2571398,
          499682,
          1346905,
          1022683,
          310385,
          5839685,
          108421,
          4709157,
          164305,
          1724509,
          4925590
         ],
         "yaxis": "y"
        },
        {
         "customdata": [
          [
           "Algeria"
          ],
          [
           "Angola"
          ],
          [
           "Benin"
          ],
          [
           "Cameroon"
          ],
          [
           "Comoros"
          ],
          [
           "Congo"
          ],
          [
           "Djibouti"
          ],
          [
           "Egypt"
          ],
          [
           "Equatorial Guinea"
          ],
          [
           "Eritrea"
          ],
          [
           "Gabon"
          ],
          [
           "Gambia"
          ],
          [
           "Ghana"
          ],
          [
           "Guinea"
          ],
          [
           "Guinea-Bissau"
          ],
          [
           "Kenya"
          ],
          [
           "Liberia"
          ],
          [
           "Libya"
          ],
          [
           "Madagascar"
          ],
          [
           "Mauritania"
          ],
          [
           "Mauritius"
          ],
          [
           "Morocco"
          ],
          [
           "Mozambique"
          ],
          [
           "Namibia"
          ],
          [
           "Nigeria"
          ],
          [
           "Senegal"
          ],
          [
           "Seychelles"
          ],
          [
           "Sierra Leone"
          ],
          [
           "Somalia"
          ],
          [
           "South Africa"
          ],
          [
           "Sudan"
          ],
          [
           "Tanzania"
          ],
          [
           "Togo"
          ],
          [
           "Tunisia"
          ]
         ],
         "hovertemplate": "Continent=Africa<br>Population=%{x}<br>Plastic waste generation (tonnes, total)=%{y}<br>Country=%{customdata[0]}<extra></extra>",
         "legendgroup": "Africa",
         "marker": {
          "color": "#EF553B",
          "symbol": "circle"
         },
         "mode": "markers",
         "name": "Africa",
         "orientation": "v",
         "showlegend": true,
         "type": "scatter",
         "x": [
          43984569,
          33032075,
          12175480,
          26655083,
          872695,
          5540555,
          990447,
          102659126,
          1410419,
          3554797,
          2234448,
          2427782,
          31181428,
          13191279,
          1975718,
          53968739,
          5077411,
          6887247,
          27808395,
          4669775,
          1272140,
          36985624,
          31398811,
          2548663,
          206984347,
          16816539,
          98453,
          8004158,
          15965848,
          59436725,
          44019263,
          60012400,
          8310934,
          11839918
         ],
         "xaxis": "x",
         "y": [
          1898343,
          528843,
          144382,
          335305,
          50599,
          110479,
          31999,
          5464471,
          49990,
          72120,
          32329,
          29646,
          357877,
          118196,
          30666,
          407506,
          121050,
          324250,
          123526,
          59287,
          104971,
          863555,
          132612,
          114222,
          5961750,
          485586,
          11730,
          96655,
          237569,
          4465798,
          1292740,
          386998,
          135294,
          559235
         ],
         "yaxis": "y"
        },
        {
         "customdata": [
          [
           "Antigua and Barbuda"
          ],
          [
           "Argentina"
          ],
          [
           "Aruba"
          ],
          [
           "Bahamas"
          ],
          [
           "Barbados"
          ],
          [
           "Belize"
          ],
          [
           "Bermuda"
          ],
          [
           "Brazil"
          ],
          [
           "British Virgin Islands"
          ],
          [
           "Canada"
          ],
          [
           "Cayman Islands"
          ],
          [
           "Chile"
          ],
          [
           "Colombia"
          ],
          [
           "Costa Rica"
          ],
          [
           "Cuba"
          ],
          [
           "Dominica"
          ],
          [
           "Dominican Republic"
          ],
          [
           "Ecuador"
          ],
          [
           "El Salvador"
          ],
          [
           "Greenland"
          ],
          [
           "Grenada"
          ],
          [
           "Guatemala"
          ],
          [
           "Guyana"
          ],
          [
           "Haiti"
          ],
          [
           "Honduras"
          ],
          [
           "Jamaica"
          ],
          [
           "Mexico"
          ],
          [
           "Nicaragua"
          ],
          [
           "Panama"
          ],
          [
           "Peru"
          ],
          [
           "Puerto Rico"
          ],
          [
           "Saint Lucia"
          ],
          [
           "Suriname"
          ],
          [
           "Trinidad and Tobago"
          ],
          [
           "United States"
          ],
          [
           "Uruguay"
          ],
          [
           "Venezuela"
          ]
         ],
         "hovertemplate": "Continent=Americas<br>Population=%{x}<br>Plastic waste generation (tonnes, total)=%{y}<br>Country=%{customdata[0]}<extra></extra>",
         "legendgroup": "Americas",
         "marker": {
          "color": "#00cc96",
          "symbol": "circle"
         },
         "mode": "markers",
         "name": "Americas",
         "orientation": "v",
         "showlegend": true,
         "type": "scatter",
         "x": [
          98069,
          45267449,
          106845,
          393893,
          287437,
          398845,
          62237,
          212821986,
          30266,
          37799407,
          65854,
          19144605,
          50976248,
          5102158,
          11325391,
          72017,
          10866667,
          17688599,
          6491923,
          56787,
          112614,
          17971382,
          787215,
          11426356,
          9931333,
          2963429,
          129166028,
          6638075,
          4326296,
          33050211,
          2846860,
          183774,
          587541,
          1400283,
          331341050,
          3475842,
          28421581
         ],
         "xaxis": "x",
         "y": [
          22804,
          2753550,
          9352,
          51364,
          58164,
          20191,
          5990,
          11852055,
          2504,
          1154309,
          5106,
          738106,
          2413455,
          428029,
          368154,
          3885,
          520238,
          801321,
          330763,
          5234,
          12417,
          1495229,
          159681,
          328487,
          565317,
          34962,
          3725463,
          299480,
          192818,
          1543879,
          342306,
          32882,
          31300,
          1745123,
          37825550,
          310379,
          2669998
         ],
         "yaxis": "y"
        },
        {
         "customdata": [
          [
           "Australia"
          ],
          [
           "Fiji"
          ],
          [
           "French Polynesia"
          ],
          [
           "Guam"
          ],
          [
           "Kiribati"
          ],
          [
           "Marshall Islands"
          ],
          [
           "Nauru"
          ],
          [
           "New Caledonia"
          ],
          [
           "New Zealand"
          ],
          [
           "Northern Mariana Islands"
          ],
          [
           "Palau"
          ],
          [
           "Papua New Guinea"
          ],
          [
           "Samoa"
          ],
          [
           "Solomon Islands"
          ],
          [
           "Tonga"
          ],
          [
           "Tuvalu"
          ],
          [
           "Vanuatu"
          ]
         ],
         "hovertemplate": "Continent=Oceania<br>Population=%{x}<br>Plastic waste generation (tonnes, total)=%{y}<br>Country=%{customdata[0]}<extra></extra>",
         "legendgroup": "Oceania",
         "marker": {
          "color": "#ab63fa",
          "symbol": "circle"
         },
         "mode": "markers",
         "name": "Oceania",
         "orientation": "v",
         "showlegend": true,
         "type": "scatter",
         "x": [
          25550683,
          897573,
          281191,
          169031,
          119760,
          59259,
          10836,
          285972,
          4829021,
          57619,
          18109,
          8975531,
          198643,
          689671,
          105901,
          11817,
          308337
         ],
         "xaxis": "x",
         "y": [
          900658,
          59324,
          24634,
          14666,
          3859,
          3674,
          527,
          22995,
          525630,
          5006,
          1076,
          267234,
          7000,
          19842,
          8476,
          554,
          25443
         ],
         "yaxis": "y"
        },
        {
         "customdata": [
          [
           "Bahrain"
          ],
          [
           "Bangladesh"
          ],
          [
           "Brunei"
          ],
          [
           "Cambodia"
          ],
          [
           "China"
          ],
          [
           "Cyprus"
          ],
          [
           "Georgia"
          ],
          [
           "Hong Kong"
          ],
          [
           "India"
          ],
          [
           "Indonesia"
          ],
          [
           "Iran"
          ],
          [
           "Iraq"
          ],
          [
           "Israel"
          ],
          [
           "Japan"
          ],
          [
           "Jordan"
          ],
          [
           "Kuwait"
          ],
          [
           "Lebanon"
          ],
          [
           "Macao"
          ],
          [
           "Malaysia"
          ],
          [
           "Maldives"
          ],
          [
           "Myanmar"
          ],
          [
           "North Korea"
          ],
          [
           "Oman"
          ],
          [
           "Pakistan"
          ],
          [
           "Philippines"
          ],
          [
           "Qatar"
          ],
          [
           "Saudi Arabia"
          ],
          [
           "Singapore"
          ],
          [
           "South Korea"
          ],
          [
           "Sri Lanka"
          ],
          [
           "Syria"
          ],
          [
           "Thailand"
          ],
          [
           "Turkey"
          ],
          [
           "United Arab Emirates"
          ],
          [
           "Vietnam"
          ],
          [
           "Yemen"
          ]
         ],
         "hovertemplate": "Continent=Asia<br>Population=%{x}<br>Plastic waste generation (tonnes, total)=%{y}<br>Country=%{customdata[0]}<extra></extra>",
         "legendgroup": "Asia",
         "marker": {
          "color": "#FFA15A",
          "symbol": "circle"
         },
         "mode": "markers",
         "name": "Asia",
         "orientation": "v",
         "showlegend": true,
         "type": "scatter",
         "x": [
          1711057,
          164972348,
          438202,
          16758448,
          1440297825,
          1208886,
          3987805,
          7507523,
          1382345085,
          274021604,
          84176929,
          40372771,
          8678517,
          126407422,
          10220604,
          4281320,
          6819976,
          650846,
          32436963,
          542151,
          54473253,
          25798588,
          5128058,
          221612785,
          109830324,
          2889284,
          34905942,
          5858322,
          51276977,
          21428970,
          17571053,
          69830779,
          84495243,
          9910892,
          97490013,
          29935468
         ],
         "xaxis": "x",
         "y": [
          59785,
          1888170,
          3688,
          344698,
          59079741,
          100713,
          97443,
          1020406,
          4493080,
          5045714,
          3919268,
          1156524,
          826436,
          7993489,
          377506,
          750690,
          148807,
          72126,
          2031675,
          43134,
          1373018,
          484700,
          93251,
          6412210,
          2565766,
          103933,
          1561618,
          359483,
          2025772,
          2621606,
          1365594,
          3532495,
          5596657,
          600741,
          3268227,
          887497
         ],
         "yaxis": "y"
        }
       ],
       "layout": {
        "autosize": false,
        "height": 700,
        "legend": {
         "title": {
          "text": "Continent"
         },
         "tracegroupgap": 0
        },
        "margin": {
         "b": 100,
         "l": 50,
         "pad": 4,
         "r": 50,
         "t": 100
        },
        "paper_bgcolor": "snow",
        "plot_bgcolor": "papayawhip",
        "template": {
         "data": {
          "bar": [
           {
            "error_x": {
             "color": "#2a3f5f"
            },
            "error_y": {
             "color": "#2a3f5f"
            },
            "marker": {
             "line": {
              "color": "#E5ECF6",
              "width": 0.5
             }
            },
            "type": "bar"
           }
          ],
          "barpolar": [
           {
            "marker": {
             "line": {
              "color": "#E5ECF6",
              "width": 0.5
             }
            },
            "type": "barpolar"
           }
          ],
          "carpet": [
           {
            "aaxis": {
             "endlinecolor": "#2a3f5f",
             "gridcolor": "white",
             "linecolor": "white",
             "minorgridcolor": "white",
             "startlinecolor": "#2a3f5f"
            },
            "baxis": {
             "endlinecolor": "#2a3f5f",
             "gridcolor": "white",
             "linecolor": "white",
             "minorgridcolor": "white",
             "startlinecolor": "#2a3f5f"
            },
            "type": "carpet"
           }
          ],
          "choropleth": [
           {
            "colorbar": {
             "outlinewidth": 0,
             "ticks": ""
            },
            "type": "choropleth"
           }
          ],
          "contour": [
           {
            "colorbar": {
             "outlinewidth": 0,
             "ticks": ""
            },
            "colorscale": [
             [
              0,
              "#0d0887"
             ],
             [
              0.1111111111111111,
              "#46039f"
             ],
             [
              0.2222222222222222,
              "#7201a8"
             ],
             [
              0.3333333333333333,
              "#9c179e"
             ],
             [
              0.4444444444444444,
              "#bd3786"
             ],
             [
              0.5555555555555556,
              "#d8576b"
             ],
             [
              0.6666666666666666,
              "#ed7953"
             ],
             [
              0.7777777777777778,
              "#fb9f3a"
             ],
             [
              0.8888888888888888,
              "#fdca26"
             ],
             [
              1,
              "#f0f921"
             ]
            ],
            "type": "contour"
           }
          ],
          "contourcarpet": [
           {
            "colorbar": {
             "outlinewidth": 0,
             "ticks": ""
            },
            "type": "contourcarpet"
           }
          ],
          "heatmap": [
           {
            "colorbar": {
             "outlinewidth": 0,
             "ticks": ""
            },
            "colorscale": [
             [
              0,
              "#0d0887"
             ],
             [
              0.1111111111111111,
              "#46039f"
             ],
             [
              0.2222222222222222,
              "#7201a8"
             ],
             [
              0.3333333333333333,
              "#9c179e"
             ],
             [
              0.4444444444444444,
              "#bd3786"
             ],
             [
              0.5555555555555556,
              "#d8576b"
             ],
             [
              0.6666666666666666,
              "#ed7953"
             ],
             [
              0.7777777777777778,
              "#fb9f3a"
             ],
             [
              0.8888888888888888,
              "#fdca26"
             ],
             [
              1,
              "#f0f921"
             ]
            ],
            "type": "heatmap"
           }
          ],
          "heatmapgl": [
           {
            "colorbar": {
             "outlinewidth": 0,
             "ticks": ""
            },
            "colorscale": [
             [
              0,
              "#0d0887"
             ],
             [
              0.1111111111111111,
              "#46039f"
             ],
             [
              0.2222222222222222,
              "#7201a8"
             ],
             [
              0.3333333333333333,
              "#9c179e"
             ],
             [
              0.4444444444444444,
              "#bd3786"
             ],
             [
              0.5555555555555556,
              "#d8576b"
             ],
             [
              0.6666666666666666,
              "#ed7953"
             ],
             [
              0.7777777777777778,
              "#fb9f3a"
             ],
             [
              0.8888888888888888,
              "#fdca26"
             ],
             [
              1,
              "#f0f921"
             ]
            ],
            "type": "heatmapgl"
           }
          ],
          "histogram": [
           {
            "marker": {
             "colorbar": {
              "outlinewidth": 0,
              "ticks": ""
             }
            },
            "type": "histogram"
           }
          ],
          "histogram2d": [
           {
            "colorbar": {
             "outlinewidth": 0,
             "ticks": ""
            },
            "colorscale": [
             [
              0,
              "#0d0887"
             ],
             [
              0.1111111111111111,
              "#46039f"
             ],
             [
              0.2222222222222222,
              "#7201a8"
             ],
             [
              0.3333333333333333,
              "#9c179e"
             ],
             [
              0.4444444444444444,
              "#bd3786"
             ],
             [
              0.5555555555555556,
              "#d8576b"
             ],
             [
              0.6666666666666666,
              "#ed7953"
             ],
             [
              0.7777777777777778,
              "#fb9f3a"
             ],
             [
              0.8888888888888888,
              "#fdca26"
             ],
             [
              1,
              "#f0f921"
             ]
            ],
            "type": "histogram2d"
           }
          ],
          "histogram2dcontour": [
           {
            "colorbar": {
             "outlinewidth": 0,
             "ticks": ""
            },
            "colorscale": [
             [
              0,
              "#0d0887"
             ],
             [
              0.1111111111111111,
              "#46039f"
             ],
             [
              0.2222222222222222,
              "#7201a8"
             ],
             [
              0.3333333333333333,
              "#9c179e"
             ],
             [
              0.4444444444444444,
              "#bd3786"
             ],
             [
              0.5555555555555556,
              "#d8576b"
             ],
             [
              0.6666666666666666,
              "#ed7953"
             ],
             [
              0.7777777777777778,
              "#fb9f3a"
             ],
             [
              0.8888888888888888,
              "#fdca26"
             ],
             [
              1,
              "#f0f921"
             ]
            ],
            "type": "histogram2dcontour"
           }
          ],
          "mesh3d": [
           {
            "colorbar": {
             "outlinewidth": 0,
             "ticks": ""
            },
            "type": "mesh3d"
           }
          ],
          "parcoords": [
           {
            "line": {
             "colorbar": {
              "outlinewidth": 0,
              "ticks": ""
             }
            },
            "type": "parcoords"
           }
          ],
          "pie": [
           {
            "automargin": true,
            "type": "pie"
           }
          ],
          "scatter": [
           {
            "marker": {
             "colorbar": {
              "outlinewidth": 0,
              "ticks": ""
             }
            },
            "type": "scatter"
           }
          ],
          "scatter3d": [
           {
            "line": {
             "colorbar": {
              "outlinewidth": 0,
              "ticks": ""
             }
            },
            "marker": {
             "colorbar": {
              "outlinewidth": 0,
              "ticks": ""
             }
            },
            "type": "scatter3d"
           }
          ],
          "scattercarpet": [
           {
            "marker": {
             "colorbar": {
              "outlinewidth": 0,
              "ticks": ""
             }
            },
            "type": "scattercarpet"
           }
          ],
          "scattergeo": [
           {
            "marker": {
             "colorbar": {
              "outlinewidth": 0,
              "ticks": ""
             }
            },
            "type": "scattergeo"
           }
          ],
          "scattergl": [
           {
            "marker": {
             "colorbar": {
              "outlinewidth": 0,
              "ticks": ""
             }
            },
            "type": "scattergl"
           }
          ],
          "scattermapbox": [
           {
            "marker": {
             "colorbar": {
              "outlinewidth": 0,
              "ticks": ""
             }
            },
            "type": "scattermapbox"
           }
          ],
          "scatterpolar": [
           {
            "marker": {
             "colorbar": {
              "outlinewidth": 0,
              "ticks": ""
             }
            },
            "type": "scatterpolar"
           }
          ],
          "scatterpolargl": [
           {
            "marker": {
             "colorbar": {
              "outlinewidth": 0,
              "ticks": ""
             }
            },
            "type": "scatterpolargl"
           }
          ],
          "scatterternary": [
           {
            "marker": {
             "colorbar": {
              "outlinewidth": 0,
              "ticks": ""
             }
            },
            "type": "scatterternary"
           }
          ],
          "surface": [
           {
            "colorbar": {
             "outlinewidth": 0,
             "ticks": ""
            },
            "colorscale": [
             [
              0,
              "#0d0887"
             ],
             [
              0.1111111111111111,
              "#46039f"
             ],
             [
              0.2222222222222222,
              "#7201a8"
             ],
             [
              0.3333333333333333,
              "#9c179e"
             ],
             [
              0.4444444444444444,
              "#bd3786"
             ],
             [
              0.5555555555555556,
              "#d8576b"
             ],
             [
              0.6666666666666666,
              "#ed7953"
             ],
             [
              0.7777777777777778,
              "#fb9f3a"
             ],
             [
              0.8888888888888888,
              "#fdca26"
             ],
             [
              1,
              "#f0f921"
             ]
            ],
            "type": "surface"
           }
          ],
          "table": [
           {
            "cells": {
             "fill": {
              "color": "#EBF0F8"
             },
             "line": {
              "color": "white"
             }
            },
            "header": {
             "fill": {
              "color": "#C8D4E3"
             },
             "line": {
              "color": "white"
             }
            },
            "type": "table"
           }
          ]
         },
         "layout": {
          "annotationdefaults": {
           "arrowcolor": "#2a3f5f",
           "arrowhead": 0,
           "arrowwidth": 1
          },
          "autotypenumbers": "strict",
          "coloraxis": {
           "colorbar": {
            "outlinewidth": 0,
            "ticks": ""
           }
          },
          "colorscale": {
           "diverging": [
            [
             0,
             "#8e0152"
            ],
            [
             0.1,
             "#c51b7d"
            ],
            [
             0.2,
             "#de77ae"
            ],
            [
             0.3,
             "#f1b6da"
            ],
            [
             0.4,
             "#fde0ef"
            ],
            [
             0.5,
             "#f7f7f7"
            ],
            [
             0.6,
             "#e6f5d0"
            ],
            [
             0.7,
             "#b8e186"
            ],
            [
             0.8,
             "#7fbc41"
            ],
            [
             0.9,
             "#4d9221"
            ],
            [
             1,
             "#276419"
            ]
           ],
           "sequential": [
            [
             0,
             "#0d0887"
            ],
            [
             0.1111111111111111,
             "#46039f"
            ],
            [
             0.2222222222222222,
             "#7201a8"
            ],
            [
             0.3333333333333333,
             "#9c179e"
            ],
            [
             0.4444444444444444,
             "#bd3786"
            ],
            [
             0.5555555555555556,
             "#d8576b"
            ],
            [
             0.6666666666666666,
             "#ed7953"
            ],
            [
             0.7777777777777778,
             "#fb9f3a"
            ],
            [
             0.8888888888888888,
             "#fdca26"
            ],
            [
             1,
             "#f0f921"
            ]
           ],
           "sequentialminus": [
            [
             0,
             "#0d0887"
            ],
            [
             0.1111111111111111,
             "#46039f"
            ],
            [
             0.2222222222222222,
             "#7201a8"
            ],
            [
             0.3333333333333333,
             "#9c179e"
            ],
            [
             0.4444444444444444,
             "#bd3786"
            ],
            [
             0.5555555555555556,
             "#d8576b"
            ],
            [
             0.6666666666666666,
             "#ed7953"
            ],
            [
             0.7777777777777778,
             "#fb9f3a"
            ],
            [
             0.8888888888888888,
             "#fdca26"
            ],
            [
             1,
             "#f0f921"
            ]
           ]
          },
          "colorway": [
           "#636efa",
           "#EF553B",
           "#00cc96",
           "#ab63fa",
           "#FFA15A",
           "#19d3f3",
           "#FF6692",
           "#B6E880",
           "#FF97FF",
           "#FECB52"
          ],
          "font": {
           "color": "#2a3f5f"
          },
          "geo": {
           "bgcolor": "white",
           "lakecolor": "white",
           "landcolor": "#E5ECF6",
           "showlakes": true,
           "showland": true,
           "subunitcolor": "white"
          },
          "hoverlabel": {
           "align": "left"
          },
          "hovermode": "closest",
          "mapbox": {
           "style": "light"
          },
          "paper_bgcolor": "white",
          "plot_bgcolor": "#E5ECF6",
          "polar": {
           "angularaxis": {
            "gridcolor": "white",
            "linecolor": "white",
            "ticks": ""
           },
           "bgcolor": "#E5ECF6",
           "radialaxis": {
            "gridcolor": "white",
            "linecolor": "white",
            "ticks": ""
           }
          },
          "scene": {
           "xaxis": {
            "backgroundcolor": "#E5ECF6",
            "gridcolor": "white",
            "gridwidth": 2,
            "linecolor": "white",
            "showbackground": true,
            "ticks": "",
            "zerolinecolor": "white"
           },
           "yaxis": {
            "backgroundcolor": "#E5ECF6",
            "gridcolor": "white",
            "gridwidth": 2,
            "linecolor": "white",
            "showbackground": true,
            "ticks": "",
            "zerolinecolor": "white"
           },
           "zaxis": {
            "backgroundcolor": "#E5ECF6",
            "gridcolor": "white",
            "gridwidth": 2,
            "linecolor": "white",
            "showbackground": true,
            "ticks": "",
            "zerolinecolor": "white"
           }
          },
          "shapedefaults": {
           "line": {
            "color": "#2a3f5f"
           }
          },
          "ternary": {
           "aaxis": {
            "gridcolor": "white",
            "linecolor": "white",
            "ticks": ""
           },
           "baxis": {
            "gridcolor": "white",
            "linecolor": "white",
            "ticks": ""
           },
           "bgcolor": "#E5ECF6",
           "caxis": {
            "gridcolor": "white",
            "linecolor": "white",
            "ticks": ""
           }
          },
          "title": {
           "x": 0.05
          },
          "xaxis": {
           "automargin": true,
           "gridcolor": "white",
           "linecolor": "white",
           "ticks": "",
           "title": {
            "standoff": 15
           },
           "zerolinecolor": "white",
           "zerolinewidth": 2
          },
          "yaxis": {
           "automargin": true,
           "gridcolor": "white",
           "linecolor": "white",
           "ticks": "",
           "title": {
            "standoff": 15
           },
           "zerolinecolor": "white",
           "zerolinewidth": 2
          }
         }
        },
        "title": {
         "text": "PLOT 1: Plastic Waste generation VS Population"
        },
        "width": 1000,
        "xaxis": {
         "anchor": "y",
         "domain": [
          0,
          1
         ],
         "title": {
          "text": "Population"
         },
         "type": "log"
        },
        "yaxis": {
         "anchor": "x",
         "domain": [
          0,
          1
         ],
         "title": {
          "text": "Plastic waste generation (tonnes, total)"
         },
         "type": "log"
        }
       }
      },
      "text/html": [
       "<div>                            <div id=\"03780d52-4db8-4150-b1ad-db05ea3b7b65\" class=\"plotly-graph-div\" style=\"height:700px; width:1000px;\"></div>            <script type=\"text/javascript\">                require([\"plotly\"], function(Plotly) {                    window.PLOTLYENV=window.PLOTLYENV || {};                                    if (document.getElementById(\"03780d52-4db8-4150-b1ad-db05ea3b7b65\")) {                    Plotly.newPlot(                        \"03780d52-4db8-4150-b1ad-db05ea3b7b65\",                        [{\"customdata\": [[\"Albania\"], [\"Belgium\"], [\"Bosnia and Herzegovina\"], [\"Bulgaria\"], [\"Croatia\"], [\"Denmark\"], [\"Estonia\"], [\"Faeroe Islands\"], [\"Finland\"], [\"France\"], [\"Germany\"], [\"Gibraltar\"], [\"Greece\"], [\"Iceland\"], [\"Ireland\"], [\"Italy\"], [\"Latvia\"], [\"Lithuania\"], [\"Malta\"], [\"Monaco\"], [\"Montenegro\"], [\"Netherlands\"], [\"Norway\"], [\"Poland\"], [\"Portugal\"], [\"Romania\"], [\"Russia\"], [\"Slovenia\"], [\"Spain\"], [\"Sweden\"], [\"Ukraine\"], [\"United Kingdom\"]], \"hovertemplate\": \"Continent=Europe<br>Population=%{x}<br>Plastic waste generation (tonnes, total)=%{y}<br>Country=%{customdata[0]}<extra></extra>\", \"legendgroup\": \"Europe\", \"marker\": {\"color\": \"#636efa\", \"symbol\": \"circle\"}, \"mode\": \"markers\", \"name\": \"Europe\", \"orientation\": \"v\", \"showlegend\": true, \"type\": \"scatter\", \"x\": [2877239.0, 11598451.0, 3277152.0, 6939018.0, 4100719.0, 5795780.0, 1326693.0, 48896.0, 5542237.0, 65298930.0, 83830972.0, 33689.0, 10413936.0, 341628.0, 4947267.0, 60446035.0, 1882408.0, 2715340.0, 441750.0, 39290.0, 628080.0, 17141544.0, 5428594.0, 37839255.0, 10191409.0, 19214608.0, 145945524.0, 2078989.0, 46757980.0, 10110233.0, 43686577.0, 67948282.0], \"xaxis\": \"x\", \"y\": [73364, 318151, 195633, 415707, 406347, 95171, 85534, 4466, 458084, 4557128, 14476561, 3053, 811858, 32620, 715716, 2899258, 94935, 149227, 32377, 3412, 32557, 2571398, 499682, 1346905, 1022683, 310385, 5839685, 108421, 4709157, 164305, 1724509, 4925590], \"yaxis\": \"y\"}, {\"customdata\": [[\"Algeria\"], [\"Angola\"], [\"Benin\"], [\"Cameroon\"], [\"Comoros\"], [\"Congo\"], [\"Djibouti\"], [\"Egypt\"], [\"Equatorial Guinea\"], [\"Eritrea\"], [\"Gabon\"], [\"Gambia\"], [\"Ghana\"], [\"Guinea\"], [\"Guinea-Bissau\"], [\"Kenya\"], [\"Liberia\"], [\"Libya\"], [\"Madagascar\"], [\"Mauritania\"], [\"Mauritius\"], [\"Morocco\"], [\"Mozambique\"], [\"Namibia\"], [\"Nigeria\"], [\"Senegal\"], [\"Seychelles\"], [\"Sierra Leone\"], [\"Somalia\"], [\"South Africa\"], [\"Sudan\"], [\"Tanzania\"], [\"Togo\"], [\"Tunisia\"]], \"hovertemplate\": \"Continent=Africa<br>Population=%{x}<br>Plastic waste generation (tonnes, total)=%{y}<br>Country=%{customdata[0]}<extra></extra>\", \"legendgroup\": \"Africa\", \"marker\": {\"color\": \"#EF553B\", \"symbol\": \"circle\"}, \"mode\": \"markers\", \"name\": \"Africa\", \"orientation\": \"v\", \"showlegend\": true, \"type\": \"scatter\", \"x\": [43984569.0, 33032075.0, 12175480.0, 26655083.0, 872695.0, 5540555.0, 990447.0, 102659126.0, 1410419.0, 3554797.0, 2234448.0, 2427782.0, 31181428.0, 13191279.0, 1975718.0, 53968739.0, 5077411.0, 6887247.0, 27808395.0, 4669775.0, 1272140.0, 36985624.0, 31398811.0, 2548663.0, 206984347.0, 16816539.0, 98453.0, 8004158.0, 15965848.0, 59436725.0, 44019263.0, 60012400.0, 8310934.0, 11839918.0], \"xaxis\": \"x\", \"y\": [1898343, 528843, 144382, 335305, 50599, 110479, 31999, 5464471, 49990, 72120, 32329, 29646, 357877, 118196, 30666, 407506, 121050, 324250, 123526, 59287, 104971, 863555, 132612, 114222, 5961750, 485586, 11730, 96655, 237569, 4465798, 1292740, 386998, 135294, 559235], \"yaxis\": \"y\"}, {\"customdata\": [[\"Antigua and Barbuda\"], [\"Argentina\"], [\"Aruba\"], [\"Bahamas\"], [\"Barbados\"], [\"Belize\"], [\"Bermuda\"], [\"Brazil\"], [\"British Virgin Islands\"], [\"Canada\"], [\"Cayman Islands\"], [\"Chile\"], [\"Colombia\"], [\"Costa Rica\"], [\"Cuba\"], [\"Dominica\"], [\"Dominican Republic\"], [\"Ecuador\"], [\"El Salvador\"], [\"Greenland\"], [\"Grenada\"], [\"Guatemala\"], [\"Guyana\"], [\"Haiti\"], [\"Honduras\"], [\"Jamaica\"], [\"Mexico\"], [\"Nicaragua\"], [\"Panama\"], [\"Peru\"], [\"Puerto Rico\"], [\"Saint Lucia\"], [\"Suriname\"], [\"Trinidad and Tobago\"], [\"United States\"], [\"Uruguay\"], [\"Venezuela\"]], \"hovertemplate\": \"Continent=Americas<br>Population=%{x}<br>Plastic waste generation (tonnes, total)=%{y}<br>Country=%{customdata[0]}<extra></extra>\", \"legendgroup\": \"Americas\", \"marker\": {\"color\": \"#00cc96\", \"symbol\": \"circle\"}, \"mode\": \"markers\", \"name\": \"Americas\", \"orientation\": \"v\", \"showlegend\": true, \"type\": \"scatter\", \"x\": [98069.0, 45267449.0, 106845.0, 393893.0, 287437.0, 398845.0, 62237.0, 212821986.0, 30266.0, 37799407.0, 65854.0, 19144605.0, 50976248.0, 5102158.0, 11325391.0, 72017.0, 10866667.0, 17688599.0, 6491923.0, 56787.0, 112614.0, 17971382.0, 787215.0, 11426356.0, 9931333.0, 2963429.0, 129166028.0, 6638075.0, 4326296.0, 33050211.0, 2846860.0, 183774.0, 587541.0, 1400283.0, 331341050.0, 3475842.0, 28421581.0], \"xaxis\": \"x\", \"y\": [22804, 2753550, 9352, 51364, 58164, 20191, 5990, 11852055, 2504, 1154309, 5106, 738106, 2413455, 428029, 368154, 3885, 520238, 801321, 330763, 5234, 12417, 1495229, 159681, 328487, 565317, 34962, 3725463, 299480, 192818, 1543879, 342306, 32882, 31300, 1745123, 37825550, 310379, 2669998], \"yaxis\": \"y\"}, {\"customdata\": [[\"Australia\"], [\"Fiji\"], [\"French Polynesia\"], [\"Guam\"], [\"Kiribati\"], [\"Marshall Islands\"], [\"Nauru\"], [\"New Caledonia\"], [\"New Zealand\"], [\"Northern Mariana Islands\"], [\"Palau\"], [\"Papua New Guinea\"], [\"Samoa\"], [\"Solomon Islands\"], [\"Tonga\"], [\"Tuvalu\"], [\"Vanuatu\"]], \"hovertemplate\": \"Continent=Oceania<br>Population=%{x}<br>Plastic waste generation (tonnes, total)=%{y}<br>Country=%{customdata[0]}<extra></extra>\", \"legendgroup\": \"Oceania\", \"marker\": {\"color\": \"#ab63fa\", \"symbol\": \"circle\"}, \"mode\": \"markers\", \"name\": \"Oceania\", \"orientation\": \"v\", \"showlegend\": true, \"type\": \"scatter\", \"x\": [25550683.0, 897573.0, 281191.0, 169031.0, 119760.0, 59259.0, 10836.0, 285972.0, 4829021.0, 57619.0, 18109.0, 8975531.0, 198643.0, 689671.0, 105901.0, 11817.0, 308337.0], \"xaxis\": \"x\", \"y\": [900658, 59324, 24634, 14666, 3859, 3674, 527, 22995, 525630, 5006, 1076, 267234, 7000, 19842, 8476, 554, 25443], \"yaxis\": \"y\"}, {\"customdata\": [[\"Bahrain\"], [\"Bangladesh\"], [\"Brunei\"], [\"Cambodia\"], [\"China\"], [\"Cyprus\"], [\"Georgia\"], [\"Hong Kong\"], [\"India\"], [\"Indonesia\"], [\"Iran\"], [\"Iraq\"], [\"Israel\"], [\"Japan\"], [\"Jordan\"], [\"Kuwait\"], [\"Lebanon\"], [\"Macao\"], [\"Malaysia\"], [\"Maldives\"], [\"Myanmar\"], [\"North Korea\"], [\"Oman\"], [\"Pakistan\"], [\"Philippines\"], [\"Qatar\"], [\"Saudi Arabia\"], [\"Singapore\"], [\"South Korea\"], [\"Sri Lanka\"], [\"Syria\"], [\"Thailand\"], [\"Turkey\"], [\"United Arab Emirates\"], [\"Vietnam\"], [\"Yemen\"]], \"hovertemplate\": \"Continent=Asia<br>Population=%{x}<br>Plastic waste generation (tonnes, total)=%{y}<br>Country=%{customdata[0]}<extra></extra>\", \"legendgroup\": \"Asia\", \"marker\": {\"color\": \"#FFA15A\", \"symbol\": \"circle\"}, \"mode\": \"markers\", \"name\": \"Asia\", \"orientation\": \"v\", \"showlegend\": true, \"type\": \"scatter\", \"x\": [1711057.0, 164972348.0, 438202.0, 16758448.0, 1440297825.0, 1208886.0, 3987805.0, 7507523.0, 1382345085.0, 274021604.0, 84176929.0, 40372771.0, 8678517.0, 126407422.0, 10220604.0, 4281320.0, 6819976.0, 650846.0, 32436963.0, 542151.0, 54473253.0, 25798588.0, 5128058.0, 221612785.0, 109830324.0, 2889284.0, 34905942.0, 5858322.0, 51276977.0, 21428970.0, 17571053.0, 69830779.0, 84495243.0, 9910892.0, 97490013.0, 29935468.0], \"xaxis\": \"x\", \"y\": [59785, 1888170, 3688, 344698, 59079741, 100713, 97443, 1020406, 4493080, 5045714, 3919268, 1156524, 826436, 7993489, 377506, 750690, 148807, 72126, 2031675, 43134, 1373018, 484700, 93251, 6412210, 2565766, 103933, 1561618, 359483, 2025772, 2621606, 1365594, 3532495, 5596657, 600741, 3268227, 887497], \"yaxis\": \"y\"}],                        {\"autosize\": false, \"height\": 700, \"legend\": {\"title\": {\"text\": \"Continent\"}, \"tracegroupgap\": 0}, \"margin\": {\"b\": 100, \"l\": 50, \"pad\": 4, \"r\": 50, \"t\": 100}, \"paper_bgcolor\": \"snow\", \"plot_bgcolor\": \"papayawhip\", \"template\": {\"data\": {\"bar\": [{\"error_x\": {\"color\": \"#2a3f5f\"}, \"error_y\": {\"color\": \"#2a3f5f\"}, \"marker\": {\"line\": {\"color\": \"#E5ECF6\", \"width\": 0.5}}, \"type\": \"bar\"}], \"barpolar\": [{\"marker\": {\"line\": {\"color\": \"#E5ECF6\", \"width\": 0.5}}, \"type\": \"barpolar\"}], \"carpet\": [{\"aaxis\": {\"endlinecolor\": \"#2a3f5f\", \"gridcolor\": \"white\", \"linecolor\": \"white\", \"minorgridcolor\": \"white\", \"startlinecolor\": \"#2a3f5f\"}, \"baxis\": {\"endlinecolor\": \"#2a3f5f\", \"gridcolor\": \"white\", \"linecolor\": \"white\", \"minorgridcolor\": \"white\", \"startlinecolor\": \"#2a3f5f\"}, \"type\": \"carpet\"}], \"choropleth\": [{\"colorbar\": {\"outlinewidth\": 0, \"ticks\": \"\"}, \"type\": \"choropleth\"}], \"contour\": [{\"colorbar\": {\"outlinewidth\": 0, \"ticks\": \"\"}, \"colorscale\": [[0.0, \"#0d0887\"], [0.1111111111111111, \"#46039f\"], [0.2222222222222222, \"#7201a8\"], [0.3333333333333333, \"#9c179e\"], [0.4444444444444444, \"#bd3786\"], [0.5555555555555556, \"#d8576b\"], [0.6666666666666666, \"#ed7953\"], [0.7777777777777778, \"#fb9f3a\"], [0.8888888888888888, \"#fdca26\"], [1.0, \"#f0f921\"]], \"type\": \"contour\"}], \"contourcarpet\": [{\"colorbar\": {\"outlinewidth\": 0, \"ticks\": \"\"}, \"type\": \"contourcarpet\"}], \"heatmap\": [{\"colorbar\": {\"outlinewidth\": 0, \"ticks\": \"\"}, \"colorscale\": [[0.0, \"#0d0887\"], [0.1111111111111111, \"#46039f\"], [0.2222222222222222, \"#7201a8\"], [0.3333333333333333, \"#9c179e\"], [0.4444444444444444, \"#bd3786\"], [0.5555555555555556, \"#d8576b\"], [0.6666666666666666, \"#ed7953\"], [0.7777777777777778, \"#fb9f3a\"], [0.8888888888888888, \"#fdca26\"], [1.0, \"#f0f921\"]], \"type\": \"heatmap\"}], \"heatmapgl\": [{\"colorbar\": {\"outlinewidth\": 0, \"ticks\": \"\"}, \"colorscale\": [[0.0, \"#0d0887\"], [0.1111111111111111, \"#46039f\"], [0.2222222222222222, \"#7201a8\"], [0.3333333333333333, \"#9c179e\"], [0.4444444444444444, \"#bd3786\"], [0.5555555555555556, \"#d8576b\"], [0.6666666666666666, \"#ed7953\"], [0.7777777777777778, \"#fb9f3a\"], [0.8888888888888888, \"#fdca26\"], [1.0, \"#f0f921\"]], \"type\": \"heatmapgl\"}], \"histogram\": [{\"marker\": {\"colorbar\": {\"outlinewidth\": 0, \"ticks\": \"\"}}, \"type\": \"histogram\"}], \"histogram2d\": [{\"colorbar\": {\"outlinewidth\": 0, \"ticks\": \"\"}, \"colorscale\": [[0.0, \"#0d0887\"], [0.1111111111111111, \"#46039f\"], [0.2222222222222222, \"#7201a8\"], [0.3333333333333333, \"#9c179e\"], [0.4444444444444444, \"#bd3786\"], [0.5555555555555556, \"#d8576b\"], [0.6666666666666666, \"#ed7953\"], [0.7777777777777778, \"#fb9f3a\"], [0.8888888888888888, \"#fdca26\"], [1.0, \"#f0f921\"]], \"type\": \"histogram2d\"}], \"histogram2dcontour\": [{\"colorbar\": {\"outlinewidth\": 0, \"ticks\": \"\"}, \"colorscale\": [[0.0, \"#0d0887\"], [0.1111111111111111, \"#46039f\"], [0.2222222222222222, \"#7201a8\"], [0.3333333333333333, \"#9c179e\"], [0.4444444444444444, \"#bd3786\"], [0.5555555555555556, \"#d8576b\"], [0.6666666666666666, \"#ed7953\"], [0.7777777777777778, \"#fb9f3a\"], [0.8888888888888888, \"#fdca26\"], [1.0, \"#f0f921\"]], \"type\": \"histogram2dcontour\"}], \"mesh3d\": [{\"colorbar\": {\"outlinewidth\": 0, \"ticks\": \"\"}, \"type\": \"mesh3d\"}], \"parcoords\": [{\"line\": {\"colorbar\": {\"outlinewidth\": 0, \"ticks\": \"\"}}, \"type\": \"parcoords\"}], \"pie\": [{\"automargin\": true, \"type\": \"pie\"}], \"scatter\": [{\"marker\": {\"colorbar\": {\"outlinewidth\": 0, \"ticks\": \"\"}}, \"type\": \"scatter\"}], \"scatter3d\": [{\"line\": {\"colorbar\": {\"outlinewidth\": 0, \"ticks\": \"\"}}, \"marker\": {\"colorbar\": {\"outlinewidth\": 0, \"ticks\": \"\"}}, \"type\": \"scatter3d\"}], \"scattercarpet\": [{\"marker\": {\"colorbar\": {\"outlinewidth\": 0, \"ticks\": \"\"}}, \"type\": \"scattercarpet\"}], \"scattergeo\": [{\"marker\": {\"colorbar\": {\"outlinewidth\": 0, \"ticks\": \"\"}}, \"type\": \"scattergeo\"}], \"scattergl\": [{\"marker\": {\"colorbar\": {\"outlinewidth\": 0, \"ticks\": \"\"}}, \"type\": \"scattergl\"}], \"scattermapbox\": [{\"marker\": {\"colorbar\": {\"outlinewidth\": 0, \"ticks\": \"\"}}, \"type\": \"scattermapbox\"}], \"scatterpolar\": [{\"marker\": {\"colorbar\": {\"outlinewidth\": 0, \"ticks\": \"\"}}, \"type\": \"scatterpolar\"}], \"scatterpolargl\": [{\"marker\": {\"colorbar\": {\"outlinewidth\": 0, \"ticks\": \"\"}}, \"type\": \"scatterpolargl\"}], \"scatterternary\": [{\"marker\": {\"colorbar\": {\"outlinewidth\": 0, \"ticks\": \"\"}}, \"type\": \"scatterternary\"}], \"surface\": [{\"colorbar\": {\"outlinewidth\": 0, \"ticks\": \"\"}, \"colorscale\": [[0.0, \"#0d0887\"], [0.1111111111111111, \"#46039f\"], [0.2222222222222222, \"#7201a8\"], [0.3333333333333333, \"#9c179e\"], [0.4444444444444444, \"#bd3786\"], [0.5555555555555556, \"#d8576b\"], [0.6666666666666666, \"#ed7953\"], [0.7777777777777778, \"#fb9f3a\"], [0.8888888888888888, \"#fdca26\"], [1.0, \"#f0f921\"]], \"type\": \"surface\"}], \"table\": [{\"cells\": {\"fill\": {\"color\": \"#EBF0F8\"}, \"line\": {\"color\": \"white\"}}, \"header\": {\"fill\": {\"color\": \"#C8D4E3\"}, \"line\": {\"color\": \"white\"}}, \"type\": \"table\"}]}, \"layout\": {\"annotationdefaults\": {\"arrowcolor\": \"#2a3f5f\", \"arrowhead\": 0, \"arrowwidth\": 1}, \"autotypenumbers\": \"strict\", \"coloraxis\": {\"colorbar\": {\"outlinewidth\": 0, \"ticks\": \"\"}}, \"colorscale\": {\"diverging\": [[0, \"#8e0152\"], [0.1, \"#c51b7d\"], [0.2, \"#de77ae\"], [0.3, \"#f1b6da\"], [0.4, \"#fde0ef\"], [0.5, \"#f7f7f7\"], [0.6, \"#e6f5d0\"], [0.7, \"#b8e186\"], [0.8, \"#7fbc41\"], [0.9, \"#4d9221\"], [1, \"#276419\"]], \"sequential\": [[0.0, \"#0d0887\"], [0.1111111111111111, \"#46039f\"], [0.2222222222222222, \"#7201a8\"], [0.3333333333333333, \"#9c179e\"], [0.4444444444444444, \"#bd3786\"], [0.5555555555555556, \"#d8576b\"], [0.6666666666666666, \"#ed7953\"], [0.7777777777777778, \"#fb9f3a\"], [0.8888888888888888, \"#fdca26\"], [1.0, \"#f0f921\"]], \"sequentialminus\": [[0.0, \"#0d0887\"], [0.1111111111111111, \"#46039f\"], [0.2222222222222222, \"#7201a8\"], [0.3333333333333333, \"#9c179e\"], [0.4444444444444444, \"#bd3786\"], [0.5555555555555556, \"#d8576b\"], [0.6666666666666666, \"#ed7953\"], [0.7777777777777778, \"#fb9f3a\"], [0.8888888888888888, \"#fdca26\"], [1.0, \"#f0f921\"]]}, \"colorway\": [\"#636efa\", \"#EF553B\", \"#00cc96\", \"#ab63fa\", \"#FFA15A\", \"#19d3f3\", \"#FF6692\", \"#B6E880\", \"#FF97FF\", \"#FECB52\"], \"font\": {\"color\": \"#2a3f5f\"}, \"geo\": {\"bgcolor\": \"white\", \"lakecolor\": \"white\", \"landcolor\": \"#E5ECF6\", \"showlakes\": true, \"showland\": true, \"subunitcolor\": \"white\"}, \"hoverlabel\": {\"align\": \"left\"}, \"hovermode\": \"closest\", \"mapbox\": {\"style\": \"light\"}, \"paper_bgcolor\": \"white\", \"plot_bgcolor\": \"#E5ECF6\", \"polar\": {\"angularaxis\": {\"gridcolor\": \"white\", \"linecolor\": \"white\", \"ticks\": \"\"}, \"bgcolor\": \"#E5ECF6\", \"radialaxis\": {\"gridcolor\": \"white\", \"linecolor\": \"white\", \"ticks\": \"\"}}, \"scene\": {\"xaxis\": {\"backgroundcolor\": \"#E5ECF6\", \"gridcolor\": \"white\", \"gridwidth\": 2, \"linecolor\": \"white\", \"showbackground\": true, \"ticks\": \"\", \"zerolinecolor\": \"white\"}, \"yaxis\": {\"backgroundcolor\": \"#E5ECF6\", \"gridcolor\": \"white\", \"gridwidth\": 2, \"linecolor\": \"white\", \"showbackground\": true, \"ticks\": \"\", \"zerolinecolor\": \"white\"}, \"zaxis\": {\"backgroundcolor\": \"#E5ECF6\", \"gridcolor\": \"white\", \"gridwidth\": 2, \"linecolor\": \"white\", \"showbackground\": true, \"ticks\": \"\", \"zerolinecolor\": \"white\"}}, \"shapedefaults\": {\"line\": {\"color\": \"#2a3f5f\"}}, \"ternary\": {\"aaxis\": {\"gridcolor\": \"white\", \"linecolor\": \"white\", \"ticks\": \"\"}, \"baxis\": {\"gridcolor\": \"white\", \"linecolor\": \"white\", \"ticks\": \"\"}, \"bgcolor\": \"#E5ECF6\", \"caxis\": {\"gridcolor\": \"white\", \"linecolor\": \"white\", \"ticks\": \"\"}}, \"title\": {\"x\": 0.05}, \"xaxis\": {\"automargin\": true, \"gridcolor\": \"white\", \"linecolor\": \"white\", \"ticks\": \"\", \"title\": {\"standoff\": 15}, \"zerolinecolor\": \"white\", \"zerolinewidth\": 2}, \"yaxis\": {\"automargin\": true, \"gridcolor\": \"white\", \"linecolor\": \"white\", \"ticks\": \"\", \"title\": {\"standoff\": 15}, \"zerolinecolor\": \"white\", \"zerolinewidth\": 2}}}, \"title\": {\"text\": \"PLOT 1: Plastic Waste generation VS Population\"}, \"width\": 1000, \"xaxis\": {\"anchor\": \"y\", \"domain\": [0.0, 1.0], \"title\": {\"text\": \"Population\"}, \"type\": \"log\"}, \"yaxis\": {\"anchor\": \"x\", \"domain\": [0.0, 1.0], \"title\": {\"text\": \"Plastic waste generation (tonnes, total)\"}, \"type\": \"log\"}},                        {\"responsive\": true}                    ).then(function(){\n",
       "                            \n",
       "var gd = document.getElementById('03780d52-4db8-4150-b1ad-db05ea3b7b65');\n",
       "var x = new MutationObserver(function (mutations, observer) {{\n",
       "        var display = window.getComputedStyle(gd).display;\n",
       "        if (!display || display === 'none') {{\n",
       "            console.log([gd, 'removed!']);\n",
       "            Plotly.purge(gd);\n",
       "            observer.disconnect();\n",
       "        }}\n",
       "}});\n",
       "\n",
       "// Listen for the removal of the full notebook cells\n",
       "var notebookContainer = gd.closest('#notebook-container');\n",
       "if (notebookContainer) {{\n",
       "    x.observe(notebookContainer, {childList: true});\n",
       "}}\n",
       "\n",
       "// Listen for the clearing of the current output cell\n",
       "var outputEl = gd.closest('.output');\n",
       "if (outputEl) {{\n",
       "    x.observe(outputEl, {childList: true});\n",
       "}}\n",
       "\n",
       "                        })                };                });            </script>        </div>"
      ]
     },
     "metadata": {},
     "output_type": "display_data"
    }
   ],
   "source": [
    "fig = px.scatter(total_plastic_waste_by_country_population_wise, \n",
    "                 x=\"Population\", \n",
    "                 y=\"Plastic waste generation (tonnes, total)\", \n",
    "                 color=\"Continent\",  \n",
    "                 hover_data=['Country'],\n",
    "                 log_x=True,\n",
    "                 log_y=True,\n",
    "                 title='PLOT 1: Plastic Waste generation VS Population'\n",
    "                )\n",
    "\n",
    "#fig.update_layout(yaxis_range=[0,3000000])\n",
    "#fig.update_layout(xaxis_range=[1000000,20000000])\n",
    "fig.update_layout(\n",
    "    autosize=False,\n",
    "    width=1000,\n",
    "    height=700,\n",
    "    margin=dict(\n",
    "        l=50,\n",
    "        r=50,\n",
    "        b=100,\n",
    "        t=100,\n",
    "        pad=4\n",
    "    ),\n",
    "    paper_bgcolor=\"snow\",\n",
    "    plot_bgcolor = 'papayawhip'\n",
    ")\n",
    "fig.show()"
   ]
  },
  {
   "cell_type": "markdown",
   "metadata": {},
   "source": [
    "We can observe from the above scatter plot that as population increases, generation of plastic wastes also increases. So, We can conclude that Population is a big factor that increases plastic wastes."
   ]
  },
  {
   "cell_type": "markdown",
   "metadata": {},
   "source": [
    "Now, Apart from Plastic waste generation, there is bigger problem.<br>\n",
    "Mismanaged plastic wastes are much serious issue than Plastic waste generation because if plastic wastes are mismanaged, they can pollute oceans, rivers and land as well."
   ]
  },
  {
   "cell_type": "markdown",
   "metadata": {},
   "source": [
    "## Mismanaged plastic waste"
   ]
  },
  {
   "cell_type": "markdown",
   "metadata": {},
   "source": [
    "Mismanaged Plastic waste is that waste that has potential to enter oceans via widal or tidal transport."
   ]
  },
  {
   "cell_type": "markdown",
   "metadata": {},
   "source": [
    "### Littered plastic waste"
   ]
  },
  {
   "cell_type": "markdown",
   "metadata": {},
   "source": [
    "Littered plastic wastes are those wastes that are dumped or disposed without consent in an inappropriate location. For example, waste that are dumped in rivers. "
   ]
  },
  {
   "cell_type": "code",
   "execution_count": 42,
   "metadata": {},
   "outputs": [
    {
     "data": {
      "text/html": [
       "<div>\n",
       "<style scoped>\n",
       "    .dataframe tbody tr th:only-of-type {\n",
       "        vertical-align: middle;\n",
       "    }\n",
       "\n",
       "    .dataframe tbody tr th {\n",
       "        vertical-align: top;\n",
       "    }\n",
       "\n",
       "    .dataframe thead th {\n",
       "        text-align: right;\n",
       "    }\n",
       "</style>\n",
       "<table border=\"1\" class=\"dataframe\">\n",
       "  <thead>\n",
       "    <tr style=\"text-align: right;\">\n",
       "      <th></th>\n",
       "      <th>Country</th>\n",
       "      <th>Code</th>\n",
       "      <th>Littered Plastic Waste</th>\n",
       "      <th>Plastic waste generation (tonnes, total)</th>\n",
       "      <th>Littered waste(%)</th>\n",
       "    </tr>\n",
       "  </thead>\n",
       "  <tbody>\n",
       "    <tr>\n",
       "      <th>0</th>\n",
       "      <td>Albania</td>\n",
       "      <td>ALB</td>\n",
       "      <td>1273.120</td>\n",
       "      <td>73364.0</td>\n",
       "      <td>1.735347</td>\n",
       "    </tr>\n",
       "    <tr>\n",
       "      <th>1</th>\n",
       "      <td>Algeria</td>\n",
       "      <td>DZA</td>\n",
       "      <td>17331.660</td>\n",
       "      <td>1898343.0</td>\n",
       "      <td>0.912989</td>\n",
       "    </tr>\n",
       "    <tr>\n",
       "      <th>2</th>\n",
       "      <td>Angola</td>\n",
       "      <td>AGO</td>\n",
       "      <td>1719.880</td>\n",
       "      <td>528843.0</td>\n",
       "      <td>0.325216</td>\n",
       "    </tr>\n",
       "    <tr>\n",
       "      <th>4</th>\n",
       "      <td>Antigua and Barbuda</td>\n",
       "      <td>ATG</td>\n",
       "      <td>320.835</td>\n",
       "      <td>22804.0</td>\n",
       "      <td>1.406924</td>\n",
       "    </tr>\n",
       "    <tr>\n",
       "      <th>5</th>\n",
       "      <td>Argentina</td>\n",
       "      <td>ARG</td>\n",
       "      <td>21901.460</td>\n",
       "      <td>2753550.0</td>\n",
       "      <td>0.795390</td>\n",
       "    </tr>\n",
       "    <tr>\n",
       "      <th>...</th>\n",
       "      <td>...</td>\n",
       "      <td>...</td>\n",
       "      <td>...</td>\n",
       "      <td>...</td>\n",
       "      <td>...</td>\n",
       "    </tr>\n",
       "    <tr>\n",
       "      <th>181</th>\n",
       "      <td>Uruguay</td>\n",
       "      <td>URY</td>\n",
       "      <td>4458.110</td>\n",
       "      <td>310379.0</td>\n",
       "      <td>1.436344</td>\n",
       "    </tr>\n",
       "    <tr>\n",
       "      <th>182</th>\n",
       "      <td>Vanuatu</td>\n",
       "      <td>VUT</td>\n",
       "      <td>539.835</td>\n",
       "      <td>25443.0</td>\n",
       "      <td>2.121743</td>\n",
       "    </tr>\n",
       "    <tr>\n",
       "      <th>183</th>\n",
       "      <td>Venezuela</td>\n",
       "      <td>VEN</td>\n",
       "      <td>29484.700</td>\n",
       "      <td>2669998.0</td>\n",
       "      <td>1.104297</td>\n",
       "    </tr>\n",
       "    <tr>\n",
       "      <th>184</th>\n",
       "      <td>Vietnam</td>\n",
       "      <td>VNM</td>\n",
       "      <td>41716.580</td>\n",
       "      <td>3268227.0</td>\n",
       "      <td>1.276428</td>\n",
       "    </tr>\n",
       "    <tr>\n",
       "      <th>185</th>\n",
       "      <td>Yemen</td>\n",
       "      <td>YEM</td>\n",
       "      <td>4517.605</td>\n",
       "      <td>887497.0</td>\n",
       "      <td>0.509028</td>\n",
       "    </tr>\n",
       "  </tbody>\n",
       "</table>\n",
       "<p>168 rows × 5 columns</p>\n",
       "</div>"
      ],
      "text/plain": [
       "                 Country Code  Littered Plastic Waste  \\\n",
       "0                Albania  ALB                1273.120   \n",
       "1                Algeria  DZA               17331.660   \n",
       "2                 Angola  AGO                1719.880   \n",
       "4    Antigua and Barbuda  ATG                 320.835   \n",
       "5              Argentina  ARG               21901.460   \n",
       "..                   ...  ...                     ...   \n",
       "181              Uruguay  URY                4458.110   \n",
       "182              Vanuatu  VUT                 539.835   \n",
       "183            Venezuela  VEN               29484.700   \n",
       "184              Vietnam  VNM               41716.580   \n",
       "185                Yemen  YEM                4517.605   \n",
       "\n",
       "     Plastic waste generation (tonnes, total)  Littered waste(%)  \n",
       "0                                     73364.0           1.735347  \n",
       "1                                   1898343.0           0.912989  \n",
       "2                                    528843.0           0.325216  \n",
       "4                                     22804.0           1.406924  \n",
       "5                                   2753550.0           0.795390  \n",
       "..                                        ...                ...  \n",
       "181                                  310379.0           1.436344  \n",
       "182                                   25443.0           2.121743  \n",
       "183                                 2669998.0           1.104297  \n",
       "184                                 3268227.0           1.276428  \n",
       "185                                  887497.0           0.509028  \n",
       "\n",
       "[168 rows x 5 columns]"
      ]
     },
     "execution_count": 42,
     "metadata": {},
     "output_type": "execute_result"
    }
   ],
   "source": [
    "littered_plastic_waste = pd.read_csv('../datasets/raw-datasets/plastic-waste-littered.csv')\n",
    "littered_plastic_waste = pd.merge(littered_plastic_waste,total_plastic_waste_by_country,how='left',left_on=['Entity'], right_on = ['Country'])\n",
    "littered_plastic_waste.drop('Code_y',axis=1,inplace=True)\n",
    "littered_plastic_waste.drop('Year',axis=1,inplace=True)\n",
    "littered_plastic_waste.drop('Country',axis=1,inplace=True)\n",
    "littered_plastic_waste = littered_plastic_waste.dropna()\n",
    "littered_plastic_waste['Littered waste(%)'] = (littered_plastic_waste['Plastic waste littered']*100)/littered_plastic_waste['Plastic waste generation (tonnes, total)']\n",
    "littered_plastic_waste.columns = ['Country','Code','Littered Plastic Waste','Plastic waste generation (tonnes, total)','Littered waste(%)']\n",
    "littered_plastic_waste.to_csv('../datasets/cleaned-datasets/cleaned_plastic-waste-littered.csv')\n",
    "littered_plastic_waste"
   ]
  },
  {
   "cell_type": "code",
   "execution_count": 43,
   "metadata": {},
   "outputs": [
    {
     "data": {
      "application/vnd.plotly.v1+json": {
       "config": {
        "plotlyServerURL": "https://plot.ly"
       },
       "data": [
        {
         "coloraxis": "coloraxis",
         "customdata": [
          [
           "Albania"
          ],
          [
           "Algeria"
          ],
          [
           "Angola"
          ],
          [
           "Antigua and Barbuda"
          ],
          [
           "Argentina"
          ],
          [
           "Aruba"
          ],
          [
           "Australia"
          ],
          [
           "Bahamas"
          ],
          [
           "Bahrain"
          ],
          [
           "Bangladesh"
          ],
          [
           "Barbados"
          ],
          [
           "Belgium"
          ],
          [
           "Belize"
          ],
          [
           "Benin"
          ],
          [
           "Bermuda"
          ],
          [
           "Bosnia and Herzegovina"
          ],
          [
           "Brazil"
          ],
          [
           "British Virgin Islands"
          ],
          [
           "Brunei"
          ],
          [
           "Bulgaria"
          ],
          [
           "Cambodia"
          ],
          [
           "Cameroon"
          ],
          [
           "Canada"
          ],
          [
           "Cape Verde"
          ],
          [
           "Cayman Islands"
          ],
          [
           "Channel Islands"
          ],
          [
           "Chile"
          ],
          [
           "China"
          ],
          [
           "Colombia"
          ],
          [
           "Comoros"
          ],
          [
           "Congo"
          ],
          [
           "Costa Rica"
          ],
          [
           "Cote d'Ivoire"
          ],
          [
           "Croatia"
          ],
          [
           "Cuba"
          ],
          [
           "Curacao"
          ],
          [
           "Cyprus"
          ],
          [
           "Democratic Republic of Congo"
          ],
          [
           "Denmark"
          ],
          [
           "Djibouti"
          ],
          [
           "Dominica"
          ],
          [
           "Dominican Republic"
          ],
          [
           "Ecuador"
          ],
          [
           "Egypt"
          ],
          [
           "El Salvador"
          ],
          [
           "Equatorial Guinea"
          ],
          [
           "Eritrea"
          ],
          [
           "Estonia"
          ],
          [
           "Faeroe Islands"
          ],
          [
           "Fiji"
          ],
          [
           "Finland"
          ],
          [
           "France"
          ],
          [
           "French Polynesia"
          ],
          [
           "Gabon"
          ],
          [
           "Gambia"
          ],
          [
           "Georgia"
          ],
          [
           "Germany"
          ],
          [
           "Ghana"
          ],
          [
           "Gibraltar"
          ],
          [
           "Greece"
          ],
          [
           "Greenland"
          ],
          [
           "Grenada"
          ],
          [
           "Guam"
          ],
          [
           "Guatemala"
          ],
          [
           "Guinea"
          ],
          [
           "Guinea-Bissau"
          ],
          [
           "Guyana"
          ],
          [
           "Haiti"
          ],
          [
           "Honduras"
          ],
          [
           "Hong Kong"
          ],
          [
           "Iceland"
          ],
          [
           "India"
          ],
          [
           "Indonesia"
          ],
          [
           "Iran"
          ],
          [
           "Iraq"
          ],
          [
           "Ireland"
          ],
          [
           "Israel"
          ],
          [
           "Italy"
          ],
          [
           "Jamaica"
          ],
          [
           "Japan"
          ],
          [
           "Jordan"
          ],
          [
           "Kenya"
          ],
          [
           "Kiribati"
          ],
          [
           "Kuwait"
          ],
          [
           "Latvia"
          ],
          [
           "Lebanon"
          ],
          [
           "Liberia"
          ],
          [
           "Libya"
          ],
          [
           "Lithuania"
          ],
          [
           "Macao"
          ],
          [
           "Madagascar"
          ],
          [
           "Malaysia"
          ],
          [
           "Maldives"
          ],
          [
           "Malta"
          ],
          [
           "Marshall Islands"
          ],
          [
           "Mauritania"
          ],
          [
           "Mauritius"
          ],
          [
           "Mexico"
          ],
          [
           "Micronesia (country)"
          ],
          [
           "Monaco"
          ],
          [
           "Montenegro"
          ],
          [
           "Morocco"
          ],
          [
           "Mozambique"
          ],
          [
           "Myanmar"
          ],
          [
           "Namibia"
          ],
          [
           "Nauru"
          ],
          [
           "Netherlands"
          ],
          [
           "New Caledonia"
          ],
          [
           "New Zealand"
          ],
          [
           "Nicaragua"
          ],
          [
           "Nigeria"
          ],
          [
           "North Korea"
          ],
          [
           "Northern Mariana Islands"
          ],
          [
           "Norway"
          ],
          [
           "Oman"
          ],
          [
           "Pakistan"
          ],
          [
           "Palau"
          ],
          [
           "Palestine"
          ],
          [
           "Panama"
          ],
          [
           "Papua New Guinea"
          ],
          [
           "Peru"
          ],
          [
           "Philippines"
          ],
          [
           "Poland"
          ],
          [
           "Portugal"
          ],
          [
           "Puerto Rico"
          ],
          [
           "Qatar"
          ],
          [
           "Romania"
          ],
          [
           "Russia"
          ],
          [
           "Saint Kitts and Nevis"
          ],
          [
           "Saint Lucia"
          ],
          [
           "Saint Vincent and the Grenadines"
          ],
          [
           "Samoa"
          ],
          [
           "Sao Tome and Principe"
          ],
          [
           "Saudi Arabia"
          ],
          [
           "Senegal"
          ],
          [
           "Seychelles"
          ],
          [
           "Sierra Leone"
          ],
          [
           "Singapore"
          ],
          [
           "Sint Maarten (Dutch part)"
          ],
          [
           "Slovenia"
          ],
          [
           "Solomon Islands"
          ],
          [
           "Somalia"
          ],
          [
           "South Africa"
          ],
          [
           "South Korea"
          ],
          [
           "Spain"
          ],
          [
           "Sri Lanka"
          ],
          [
           "Sudan"
          ],
          [
           "Suriname"
          ],
          [
           "Sweden"
          ],
          [
           "Syria"
          ],
          [
           "Tanzania"
          ],
          [
           "Thailand"
          ],
          [
           "Togo"
          ],
          [
           "Tonga"
          ],
          [
           "Trinidad and Tobago"
          ],
          [
           "Tunisia"
          ],
          [
           "Turkey"
          ],
          [
           "Turks and Caicos Islands"
          ],
          [
           "Tuvalu"
          ],
          [
           "Ukraine"
          ],
          [
           "United Arab Emirates"
          ],
          [
           "United Kingdom"
          ],
          [
           "United States"
          ],
          [
           "Uruguay"
          ],
          [
           "Vanuatu"
          ],
          [
           "Venezuela"
          ],
          [
           "Vietnam"
          ],
          [
           "Yemen"
          ]
         ],
         "geo": "geo",
         "hovertemplate": "Code=%{location}<br>Country=%{customdata[0]}<br>Littered Plastic Waste=%{z}<extra></extra>",
         "locations": [
          "ALB",
          "DZA",
          "AGO",
          "ATG",
          "ARG",
          "ABW",
          "AUS",
          "BHS",
          "BHR",
          "BGD",
          "BRB",
          "BEL",
          "BLZ",
          "BEN",
          "BMU",
          "BIH",
          "BRA",
          "VGB",
          "BRN",
          "BGR",
          "KHM",
          "CMR",
          "CAN",
          "CPV",
          "CYM",
          "OWID_CIS",
          "CHL",
          "CHN",
          "COL",
          "COM",
          "COG",
          "CRI",
          "CIV",
          "HRV",
          "CUB",
          "CUW",
          "CYP",
          "COD",
          "DNK",
          "DJI",
          "DMA",
          "DOM",
          "ECU",
          "EGY",
          "SLV",
          "GNQ",
          "ERI",
          "EST",
          "FRO",
          "FJI",
          "FIN",
          "FRA",
          "PYF",
          "GAB",
          "GMB",
          "GEO",
          "DEU",
          "GHA",
          "GIB",
          "GRC",
          "GRL",
          "GRD",
          "GUM",
          "GTM",
          "GIN",
          "GNB",
          "GUY",
          "HTI",
          "HND",
          "HKG",
          "ISL",
          "IND",
          "IDN",
          "IRN",
          "IRQ",
          "IRL",
          "ISR",
          "ITA",
          "JAM",
          "JPN",
          "JOR",
          "KEN",
          "KIR",
          "KWT",
          "LVA",
          "LBN",
          "LBR",
          "LBY",
          "LTU",
          "MAC",
          "MDG",
          "MYS",
          "MDV",
          "MLT",
          "MHL",
          "MRT",
          "MUS",
          "MEX",
          "FSM",
          "MCO",
          "MNE",
          "MAR",
          "MOZ",
          "MMR",
          "NAM",
          "NRU",
          "NLD",
          "NCL",
          "NZL",
          "NIC",
          "NGA",
          "PRK",
          "MNP",
          "NOR",
          "OMN",
          "PAK",
          "PLW",
          "PSE",
          "PAN",
          "PNG",
          "PER",
          "PHL",
          "POL",
          "PRT",
          "PRI",
          "QAT",
          "ROU",
          "RUS",
          "KNA",
          "LCA",
          "VCT",
          "WSM",
          "STP",
          "SAU",
          "SEN",
          "SYC",
          "SLE",
          "SGP",
          "SXM",
          "SVN",
          "SLB",
          "SOM",
          "ZAF",
          "KOR",
          "ESP",
          "LKA",
          "SDN",
          "SUR",
          "SWE",
          "SYR",
          "TZA",
          "THA",
          "TGO",
          "TON",
          "TTO",
          "TUN",
          "TUR",
          "TCA",
          "TUV",
          "UKR",
          "ARE",
          "GBR",
          "USA",
          "URY",
          "VUT",
          "VEN",
          "VNM",
          "YEM"
         ],
         "name": "",
         "type": "choropleth",
         "z": [
          1273.12,
          17331.66,
          1719.88,
          320.835,
          21901.46,
          252.58,
          13888.98,
          967.25,
          713.5749999999998,
          17686.805,
          1146.83,
          2742.975,
          252.215,
          1013.97,
          122.64,
          612.835,
          89582.315,
          54.385,
          67.52499999999999,
          1119.455,
          667.22,
          664.3,
          7959.5549999999985,
          246.74,
          94.9,
          281.05,
          4853.04,
          231157.42,
          7849.69,
          1367.655,
          424.86,
          4664.335,
          4653.02,
          2936.06,
          7337.96,
          263.53,
          1517.67,
          351.495,
          1790.69,
          464.28,
          75.92,
          8618.015,
          6836.815,
          28170.335,
          6848.13,
          367.92,
          413.545,
          1126.025,
          92.71,
          1229.685,
          4984.805,
          24108.615,
          495.67,
          338.355,
          458.44,
          547.865,
          31238.89,
          2206.06,
          61.32,
          14228.795,
          104.39,
          227.395,
          349.67,
          4872.75,
          432.89,
          473.77,
          2186.715,
          5981.985,
          4556.66,
          21947.815,
          598.235,
          13728.015,
          77821.65,
          9525.77,
          477.42,
          11709.93,
          14416.77,
          32760.575,
          702.26,
          143120.88,
          58.035,
          535.09,
          70.445,
          11444.575,
          1286.625,
          2664.5,
          1312.54,
          4239.84,
          425.955,
          690.5799999999998,
          804.095,
          32891.61,
          920.53,
          628.53,
          81.03,
          328.5,
          2098.02,
          14248.14,
          115.705,
          62.415,
          272.655,
          9128.65,
          1070.545,
          10337.895,
          162.42499999999995,
          16.06,
          27699.85,
          472.31,
          9285.6,
          3621.53,
          20520.665,
          6792.65,
          194.545,
          8403.03,
          1586.29,
          10890.14,
          24.455,
          1396.125,
          3429.905,
          2052.03,
          14410.2,
          45534.845,
          2302.42,
          16402.37,
          7785.45,
          757.74,
          262.435,
          8772.045,
          171.54999999999995,
          619.405,
          193.085,
          125.56,
          122.275,
          4075.225,
          6068.125,
          237.615,
          848.625,
          6328.005,
          68.62,
          355.145,
          462.09,
          2340.745,
          22505.17,
          33746.805,
          45852.395,
          37695.01,
          562.1,
          477.42,
          2150.58,
          4690.98,
          1136.245,
          27262.945,
          827.8199999999998,
          165.71,
          35628.38,
          7615.7249999999985,
          52564.38,
          41.245,
          12.045,
          5088.0999999999985,
          2922.555,
          67549.09,
          275424.62,
          4458.11,
          539.835,
          29484.7,
          41716.58,
          4517.605
         ]
        }
       ],
       "layout": {
        "coloraxis": {
         "cmax": 50000,
         "cmin": 0,
         "colorbar": {
          "title": {
           "text": "Littered Plastic Waste"
          }
         },
         "colorscale": [
          [
           0,
           "rgb(247,251,255)"
          ],
          [
           0.125,
           "rgb(222,235,247)"
          ],
          [
           0.25,
           "rgb(198,219,239)"
          ],
          [
           0.375,
           "rgb(158,202,225)"
          ],
          [
           0.5,
           "rgb(107,174,214)"
          ],
          [
           0.625,
           "rgb(66,146,198)"
          ],
          [
           0.75,
           "rgb(33,113,181)"
          ],
          [
           0.875,
           "rgb(8,81,156)"
          ],
          [
           1,
           "rgb(8,48,107)"
          ]
         ]
        },
        "geo": {
         "center": {},
         "domain": {
          "x": [
           0,
           1
          ],
          "y": [
           0,
           1
          ]
         },
         "fitbounds": "locations",
         "visible": false
        },
        "legend": {
         "tracegroupgap": 0
        },
        "template": {
         "data": {
          "bar": [
           {
            "error_x": {
             "color": "#2a3f5f"
            },
            "error_y": {
             "color": "#2a3f5f"
            },
            "marker": {
             "line": {
              "color": "#E5ECF6",
              "width": 0.5
             }
            },
            "type": "bar"
           }
          ],
          "barpolar": [
           {
            "marker": {
             "line": {
              "color": "#E5ECF6",
              "width": 0.5
             }
            },
            "type": "barpolar"
           }
          ],
          "carpet": [
           {
            "aaxis": {
             "endlinecolor": "#2a3f5f",
             "gridcolor": "white",
             "linecolor": "white",
             "minorgridcolor": "white",
             "startlinecolor": "#2a3f5f"
            },
            "baxis": {
             "endlinecolor": "#2a3f5f",
             "gridcolor": "white",
             "linecolor": "white",
             "minorgridcolor": "white",
             "startlinecolor": "#2a3f5f"
            },
            "type": "carpet"
           }
          ],
          "choropleth": [
           {
            "colorbar": {
             "outlinewidth": 0,
             "ticks": ""
            },
            "type": "choropleth"
           }
          ],
          "contour": [
           {
            "colorbar": {
             "outlinewidth": 0,
             "ticks": ""
            },
            "colorscale": [
             [
              0,
              "#0d0887"
             ],
             [
              0.1111111111111111,
              "#46039f"
             ],
             [
              0.2222222222222222,
              "#7201a8"
             ],
             [
              0.3333333333333333,
              "#9c179e"
             ],
             [
              0.4444444444444444,
              "#bd3786"
             ],
             [
              0.5555555555555556,
              "#d8576b"
             ],
             [
              0.6666666666666666,
              "#ed7953"
             ],
             [
              0.7777777777777778,
              "#fb9f3a"
             ],
             [
              0.8888888888888888,
              "#fdca26"
             ],
             [
              1,
              "#f0f921"
             ]
            ],
            "type": "contour"
           }
          ],
          "contourcarpet": [
           {
            "colorbar": {
             "outlinewidth": 0,
             "ticks": ""
            },
            "type": "contourcarpet"
           }
          ],
          "heatmap": [
           {
            "colorbar": {
             "outlinewidth": 0,
             "ticks": ""
            },
            "colorscale": [
             [
              0,
              "#0d0887"
             ],
             [
              0.1111111111111111,
              "#46039f"
             ],
             [
              0.2222222222222222,
              "#7201a8"
             ],
             [
              0.3333333333333333,
              "#9c179e"
             ],
             [
              0.4444444444444444,
              "#bd3786"
             ],
             [
              0.5555555555555556,
              "#d8576b"
             ],
             [
              0.6666666666666666,
              "#ed7953"
             ],
             [
              0.7777777777777778,
              "#fb9f3a"
             ],
             [
              0.8888888888888888,
              "#fdca26"
             ],
             [
              1,
              "#f0f921"
             ]
            ],
            "type": "heatmap"
           }
          ],
          "heatmapgl": [
           {
            "colorbar": {
             "outlinewidth": 0,
             "ticks": ""
            },
            "colorscale": [
             [
              0,
              "#0d0887"
             ],
             [
              0.1111111111111111,
              "#46039f"
             ],
             [
              0.2222222222222222,
              "#7201a8"
             ],
             [
              0.3333333333333333,
              "#9c179e"
             ],
             [
              0.4444444444444444,
              "#bd3786"
             ],
             [
              0.5555555555555556,
              "#d8576b"
             ],
             [
              0.6666666666666666,
              "#ed7953"
             ],
             [
              0.7777777777777778,
              "#fb9f3a"
             ],
             [
              0.8888888888888888,
              "#fdca26"
             ],
             [
              1,
              "#f0f921"
             ]
            ],
            "type": "heatmapgl"
           }
          ],
          "histogram": [
           {
            "marker": {
             "colorbar": {
              "outlinewidth": 0,
              "ticks": ""
             }
            },
            "type": "histogram"
           }
          ],
          "histogram2d": [
           {
            "colorbar": {
             "outlinewidth": 0,
             "ticks": ""
            },
            "colorscale": [
             [
              0,
              "#0d0887"
             ],
             [
              0.1111111111111111,
              "#46039f"
             ],
             [
              0.2222222222222222,
              "#7201a8"
             ],
             [
              0.3333333333333333,
              "#9c179e"
             ],
             [
              0.4444444444444444,
              "#bd3786"
             ],
             [
              0.5555555555555556,
              "#d8576b"
             ],
             [
              0.6666666666666666,
              "#ed7953"
             ],
             [
              0.7777777777777778,
              "#fb9f3a"
             ],
             [
              0.8888888888888888,
              "#fdca26"
             ],
             [
              1,
              "#f0f921"
             ]
            ],
            "type": "histogram2d"
           }
          ],
          "histogram2dcontour": [
           {
            "colorbar": {
             "outlinewidth": 0,
             "ticks": ""
            },
            "colorscale": [
             [
              0,
              "#0d0887"
             ],
             [
              0.1111111111111111,
              "#46039f"
             ],
             [
              0.2222222222222222,
              "#7201a8"
             ],
             [
              0.3333333333333333,
              "#9c179e"
             ],
             [
              0.4444444444444444,
              "#bd3786"
             ],
             [
              0.5555555555555556,
              "#d8576b"
             ],
             [
              0.6666666666666666,
              "#ed7953"
             ],
             [
              0.7777777777777778,
              "#fb9f3a"
             ],
             [
              0.8888888888888888,
              "#fdca26"
             ],
             [
              1,
              "#f0f921"
             ]
            ],
            "type": "histogram2dcontour"
           }
          ],
          "mesh3d": [
           {
            "colorbar": {
             "outlinewidth": 0,
             "ticks": ""
            },
            "type": "mesh3d"
           }
          ],
          "parcoords": [
           {
            "line": {
             "colorbar": {
              "outlinewidth": 0,
              "ticks": ""
             }
            },
            "type": "parcoords"
           }
          ],
          "pie": [
           {
            "automargin": true,
            "type": "pie"
           }
          ],
          "scatter": [
           {
            "marker": {
             "colorbar": {
              "outlinewidth": 0,
              "ticks": ""
             }
            },
            "type": "scatter"
           }
          ],
          "scatter3d": [
           {
            "line": {
             "colorbar": {
              "outlinewidth": 0,
              "ticks": ""
             }
            },
            "marker": {
             "colorbar": {
              "outlinewidth": 0,
              "ticks": ""
             }
            },
            "type": "scatter3d"
           }
          ],
          "scattercarpet": [
           {
            "marker": {
             "colorbar": {
              "outlinewidth": 0,
              "ticks": ""
             }
            },
            "type": "scattercarpet"
           }
          ],
          "scattergeo": [
           {
            "marker": {
             "colorbar": {
              "outlinewidth": 0,
              "ticks": ""
             }
            },
            "type": "scattergeo"
           }
          ],
          "scattergl": [
           {
            "marker": {
             "colorbar": {
              "outlinewidth": 0,
              "ticks": ""
             }
            },
            "type": "scattergl"
           }
          ],
          "scattermapbox": [
           {
            "marker": {
             "colorbar": {
              "outlinewidth": 0,
              "ticks": ""
             }
            },
            "type": "scattermapbox"
           }
          ],
          "scatterpolar": [
           {
            "marker": {
             "colorbar": {
              "outlinewidth": 0,
              "ticks": ""
             }
            },
            "type": "scatterpolar"
           }
          ],
          "scatterpolargl": [
           {
            "marker": {
             "colorbar": {
              "outlinewidth": 0,
              "ticks": ""
             }
            },
            "type": "scatterpolargl"
           }
          ],
          "scatterternary": [
           {
            "marker": {
             "colorbar": {
              "outlinewidth": 0,
              "ticks": ""
             }
            },
            "type": "scatterternary"
           }
          ],
          "surface": [
           {
            "colorbar": {
             "outlinewidth": 0,
             "ticks": ""
            },
            "colorscale": [
             [
              0,
              "#0d0887"
             ],
             [
              0.1111111111111111,
              "#46039f"
             ],
             [
              0.2222222222222222,
              "#7201a8"
             ],
             [
              0.3333333333333333,
              "#9c179e"
             ],
             [
              0.4444444444444444,
              "#bd3786"
             ],
             [
              0.5555555555555556,
              "#d8576b"
             ],
             [
              0.6666666666666666,
              "#ed7953"
             ],
             [
              0.7777777777777778,
              "#fb9f3a"
             ],
             [
              0.8888888888888888,
              "#fdca26"
             ],
             [
              1,
              "#f0f921"
             ]
            ],
            "type": "surface"
           }
          ],
          "table": [
           {
            "cells": {
             "fill": {
              "color": "#EBF0F8"
             },
             "line": {
              "color": "white"
             }
            },
            "header": {
             "fill": {
              "color": "#C8D4E3"
             },
             "line": {
              "color": "white"
             }
            },
            "type": "table"
           }
          ]
         },
         "layout": {
          "annotationdefaults": {
           "arrowcolor": "#2a3f5f",
           "arrowhead": 0,
           "arrowwidth": 1
          },
          "autotypenumbers": "strict",
          "coloraxis": {
           "colorbar": {
            "outlinewidth": 0,
            "ticks": ""
           }
          },
          "colorscale": {
           "diverging": [
            [
             0,
             "#8e0152"
            ],
            [
             0.1,
             "#c51b7d"
            ],
            [
             0.2,
             "#de77ae"
            ],
            [
             0.3,
             "#f1b6da"
            ],
            [
             0.4,
             "#fde0ef"
            ],
            [
             0.5,
             "#f7f7f7"
            ],
            [
             0.6,
             "#e6f5d0"
            ],
            [
             0.7,
             "#b8e186"
            ],
            [
             0.8,
             "#7fbc41"
            ],
            [
             0.9,
             "#4d9221"
            ],
            [
             1,
             "#276419"
            ]
           ],
           "sequential": [
            [
             0,
             "#0d0887"
            ],
            [
             0.1111111111111111,
             "#46039f"
            ],
            [
             0.2222222222222222,
             "#7201a8"
            ],
            [
             0.3333333333333333,
             "#9c179e"
            ],
            [
             0.4444444444444444,
             "#bd3786"
            ],
            [
             0.5555555555555556,
             "#d8576b"
            ],
            [
             0.6666666666666666,
             "#ed7953"
            ],
            [
             0.7777777777777778,
             "#fb9f3a"
            ],
            [
             0.8888888888888888,
             "#fdca26"
            ],
            [
             1,
             "#f0f921"
            ]
           ],
           "sequentialminus": [
            [
             0,
             "#0d0887"
            ],
            [
             0.1111111111111111,
             "#46039f"
            ],
            [
             0.2222222222222222,
             "#7201a8"
            ],
            [
             0.3333333333333333,
             "#9c179e"
            ],
            [
             0.4444444444444444,
             "#bd3786"
            ],
            [
             0.5555555555555556,
             "#d8576b"
            ],
            [
             0.6666666666666666,
             "#ed7953"
            ],
            [
             0.7777777777777778,
             "#fb9f3a"
            ],
            [
             0.8888888888888888,
             "#fdca26"
            ],
            [
             1,
             "#f0f921"
            ]
           ]
          },
          "colorway": [
           "#636efa",
           "#EF553B",
           "#00cc96",
           "#ab63fa",
           "#FFA15A",
           "#19d3f3",
           "#FF6692",
           "#B6E880",
           "#FF97FF",
           "#FECB52"
          ],
          "font": {
           "color": "#2a3f5f"
          },
          "geo": {
           "bgcolor": "white",
           "lakecolor": "white",
           "landcolor": "#E5ECF6",
           "showlakes": true,
           "showland": true,
           "subunitcolor": "white"
          },
          "hoverlabel": {
           "align": "left"
          },
          "hovermode": "closest",
          "mapbox": {
           "style": "light"
          },
          "paper_bgcolor": "white",
          "plot_bgcolor": "#E5ECF6",
          "polar": {
           "angularaxis": {
            "gridcolor": "white",
            "linecolor": "white",
            "ticks": ""
           },
           "bgcolor": "#E5ECF6",
           "radialaxis": {
            "gridcolor": "white",
            "linecolor": "white",
            "ticks": ""
           }
          },
          "scene": {
           "xaxis": {
            "backgroundcolor": "#E5ECF6",
            "gridcolor": "white",
            "gridwidth": 2,
            "linecolor": "white",
            "showbackground": true,
            "ticks": "",
            "zerolinecolor": "white"
           },
           "yaxis": {
            "backgroundcolor": "#E5ECF6",
            "gridcolor": "white",
            "gridwidth": 2,
            "linecolor": "white",
            "showbackground": true,
            "ticks": "",
            "zerolinecolor": "white"
           },
           "zaxis": {
            "backgroundcolor": "#E5ECF6",
            "gridcolor": "white",
            "gridwidth": 2,
            "linecolor": "white",
            "showbackground": true,
            "ticks": "",
            "zerolinecolor": "white"
           }
          },
          "shapedefaults": {
           "line": {
            "color": "#2a3f5f"
           }
          },
          "ternary": {
           "aaxis": {
            "gridcolor": "white",
            "linecolor": "white",
            "ticks": ""
           },
           "baxis": {
            "gridcolor": "white",
            "linecolor": "white",
            "ticks": ""
           },
           "bgcolor": "#E5ECF6",
           "caxis": {
            "gridcolor": "white",
            "linecolor": "white",
            "ticks": ""
           }
          },
          "title": {
           "x": 0.05
          },
          "xaxis": {
           "automargin": true,
           "gridcolor": "white",
           "linecolor": "white",
           "ticks": "",
           "title": {
            "standoff": 15
           },
           "zerolinecolor": "white",
           "zerolinewidth": 2
          },
          "yaxis": {
           "automargin": true,
           "gridcolor": "white",
           "linecolor": "white",
           "ticks": "",
           "title": {
            "standoff": 15
           },
           "zerolinecolor": "white",
           "zerolinewidth": 2
          }
         }
        },
        "title": {
         "text": "MAP 3: Plastic wastes Littered"
        }
       }
      },
      "text/html": [
       "<div>                            <div id=\"9e2be26d-519f-4279-9868-f2bfb7584c57\" class=\"plotly-graph-div\" style=\"height:525px; width:100%;\"></div>            <script type=\"text/javascript\">                require([\"plotly\"], function(Plotly) {                    window.PLOTLYENV=window.PLOTLYENV || {};                                    if (document.getElementById(\"9e2be26d-519f-4279-9868-f2bfb7584c57\")) {                    Plotly.newPlot(                        \"9e2be26d-519f-4279-9868-f2bfb7584c57\",                        [{\"coloraxis\": \"coloraxis\", \"customdata\": [[\"Albania\"], [\"Algeria\"], [\"Angola\"], [\"Antigua and Barbuda\"], [\"Argentina\"], [\"Aruba\"], [\"Australia\"], [\"Bahamas\"], [\"Bahrain\"], [\"Bangladesh\"], [\"Barbados\"], [\"Belgium\"], [\"Belize\"], [\"Benin\"], [\"Bermuda\"], [\"Bosnia and Herzegovina\"], [\"Brazil\"], [\"British Virgin Islands\"], [\"Brunei\"], [\"Bulgaria\"], [\"Cambodia\"], [\"Cameroon\"], [\"Canada\"], [\"Cape Verde\"], [\"Cayman Islands\"], [\"Channel Islands\"], [\"Chile\"], [\"China\"], [\"Colombia\"], [\"Comoros\"], [\"Congo\"], [\"Costa Rica\"], [\"Cote d'Ivoire\"], [\"Croatia\"], [\"Cuba\"], [\"Curacao\"], [\"Cyprus\"], [\"Democratic Republic of Congo\"], [\"Denmark\"], [\"Djibouti\"], [\"Dominica\"], [\"Dominican Republic\"], [\"Ecuador\"], [\"Egypt\"], [\"El Salvador\"], [\"Equatorial Guinea\"], [\"Eritrea\"], [\"Estonia\"], [\"Faeroe Islands\"], [\"Fiji\"], [\"Finland\"], [\"France\"], [\"French Polynesia\"], [\"Gabon\"], [\"Gambia\"], [\"Georgia\"], [\"Germany\"], [\"Ghana\"], [\"Gibraltar\"], [\"Greece\"], [\"Greenland\"], [\"Grenada\"], [\"Guam\"], [\"Guatemala\"], [\"Guinea\"], [\"Guinea-Bissau\"], [\"Guyana\"], [\"Haiti\"], [\"Honduras\"], [\"Hong Kong\"], [\"Iceland\"], [\"India\"], [\"Indonesia\"], [\"Iran\"], [\"Iraq\"], [\"Ireland\"], [\"Israel\"], [\"Italy\"], [\"Jamaica\"], [\"Japan\"], [\"Jordan\"], [\"Kenya\"], [\"Kiribati\"], [\"Kuwait\"], [\"Latvia\"], [\"Lebanon\"], [\"Liberia\"], [\"Libya\"], [\"Lithuania\"], [\"Macao\"], [\"Madagascar\"], [\"Malaysia\"], [\"Maldives\"], [\"Malta\"], [\"Marshall Islands\"], [\"Mauritania\"], [\"Mauritius\"], [\"Mexico\"], [\"Micronesia (country)\"], [\"Monaco\"], [\"Montenegro\"], [\"Morocco\"], [\"Mozambique\"], [\"Myanmar\"], [\"Namibia\"], [\"Nauru\"], [\"Netherlands\"], [\"New Caledonia\"], [\"New Zealand\"], [\"Nicaragua\"], [\"Nigeria\"], [\"North Korea\"], [\"Northern Mariana Islands\"], [\"Norway\"], [\"Oman\"], [\"Pakistan\"], [\"Palau\"], [\"Palestine\"], [\"Panama\"], [\"Papua New Guinea\"], [\"Peru\"], [\"Philippines\"], [\"Poland\"], [\"Portugal\"], [\"Puerto Rico\"], [\"Qatar\"], [\"Romania\"], [\"Russia\"], [\"Saint Kitts and Nevis\"], [\"Saint Lucia\"], [\"Saint Vincent and the Grenadines\"], [\"Samoa\"], [\"Sao Tome and Principe\"], [\"Saudi Arabia\"], [\"Senegal\"], [\"Seychelles\"], [\"Sierra Leone\"], [\"Singapore\"], [\"Sint Maarten (Dutch part)\"], [\"Slovenia\"], [\"Solomon Islands\"], [\"Somalia\"], [\"South Africa\"], [\"South Korea\"], [\"Spain\"], [\"Sri Lanka\"], [\"Sudan\"], [\"Suriname\"], [\"Sweden\"], [\"Syria\"], [\"Tanzania\"], [\"Thailand\"], [\"Togo\"], [\"Tonga\"], [\"Trinidad and Tobago\"], [\"Tunisia\"], [\"Turkey\"], [\"Turks and Caicos Islands\"], [\"Tuvalu\"], [\"Ukraine\"], [\"United Arab Emirates\"], [\"United Kingdom\"], [\"United States\"], [\"Uruguay\"], [\"Vanuatu\"], [\"Venezuela\"], [\"Vietnam\"], [\"Yemen\"]], \"geo\": \"geo\", \"hovertemplate\": \"Code=%{location}<br>Country=%{customdata[0]}<br>Littered Plastic Waste=%{z}<extra></extra>\", \"locations\": [\"ALB\", \"DZA\", \"AGO\", \"ATG\", \"ARG\", \"ABW\", \"AUS\", \"BHS\", \"BHR\", \"BGD\", \"BRB\", \"BEL\", \"BLZ\", \"BEN\", \"BMU\", \"BIH\", \"BRA\", \"VGB\", \"BRN\", \"BGR\", \"KHM\", \"CMR\", \"CAN\", \"CPV\", \"CYM\", \"OWID_CIS\", \"CHL\", \"CHN\", \"COL\", \"COM\", \"COG\", \"CRI\", \"CIV\", \"HRV\", \"CUB\", \"CUW\", \"CYP\", \"COD\", \"DNK\", \"DJI\", \"DMA\", \"DOM\", \"ECU\", \"EGY\", \"SLV\", \"GNQ\", \"ERI\", \"EST\", \"FRO\", \"FJI\", \"FIN\", \"FRA\", \"PYF\", \"GAB\", \"GMB\", \"GEO\", \"DEU\", \"GHA\", \"GIB\", \"GRC\", \"GRL\", \"GRD\", \"GUM\", \"GTM\", \"GIN\", \"GNB\", \"GUY\", \"HTI\", \"HND\", \"HKG\", \"ISL\", \"IND\", \"IDN\", \"IRN\", \"IRQ\", \"IRL\", \"ISR\", \"ITA\", \"JAM\", \"JPN\", \"JOR\", \"KEN\", \"KIR\", \"KWT\", \"LVA\", \"LBN\", \"LBR\", \"LBY\", \"LTU\", \"MAC\", \"MDG\", \"MYS\", \"MDV\", \"MLT\", \"MHL\", \"MRT\", \"MUS\", \"MEX\", \"FSM\", \"MCO\", \"MNE\", \"MAR\", \"MOZ\", \"MMR\", \"NAM\", \"NRU\", \"NLD\", \"NCL\", \"NZL\", \"NIC\", \"NGA\", \"PRK\", \"MNP\", \"NOR\", \"OMN\", \"PAK\", \"PLW\", \"PSE\", \"PAN\", \"PNG\", \"PER\", \"PHL\", \"POL\", \"PRT\", \"PRI\", \"QAT\", \"ROU\", \"RUS\", \"KNA\", \"LCA\", \"VCT\", \"WSM\", \"STP\", \"SAU\", \"SEN\", \"SYC\", \"SLE\", \"SGP\", \"SXM\", \"SVN\", \"SLB\", \"SOM\", \"ZAF\", \"KOR\", \"ESP\", \"LKA\", \"SDN\", \"SUR\", \"SWE\", \"SYR\", \"TZA\", \"THA\", \"TGO\", \"TON\", \"TTO\", \"TUN\", \"TUR\", \"TCA\", \"TUV\", \"UKR\", \"ARE\", \"GBR\", \"USA\", \"URY\", \"VUT\", \"VEN\", \"VNM\", \"YEM\"], \"name\": \"\", \"type\": \"choropleth\", \"z\": [1273.12, 17331.66, 1719.88, 320.835, 21901.46, 252.58, 13888.98, 967.25, 713.5749999999998, 17686.805, 1146.83, 2742.975, 252.215, 1013.97, 122.64, 612.835, 89582.315, 54.385, 67.52499999999999, 1119.455, 667.22, 664.3, 7959.5549999999985, 246.74, 94.9, 281.05, 4853.04, 231157.42, 7849.69, 1367.655, 424.86, 4664.335, 4653.02, 2936.06, 7337.96, 263.53, 1517.67, 351.495, 1790.69, 464.28, 75.92, 8618.015, 6836.815, 28170.335, 6848.13, 367.92, 413.545, 1126.025, 92.71, 1229.685, 4984.805, 24108.615, 495.67, 338.355, 458.44, 547.865, 31238.89, 2206.06, 61.32, 14228.795, 104.39, 227.395, 349.67, 4872.75, 432.89, 473.77, 2186.715, 5981.985, 4556.66, 21947.815, 598.235, 13728.015, 77821.65, 9525.77, 477.42, 11709.93, 14416.77, 32760.575, 702.26, 143120.88, 58.035, 535.09, 70.445, 11444.575, 1286.625, 2664.5, 1312.54, 4239.84, 425.955, 690.5799999999998, 804.095, 32891.61, 920.53, 628.53, 81.03, 328.5, 2098.02, 14248.14, 115.705, 62.415, 272.655, 9128.65, 1070.545, 10337.895, 162.42499999999995, 16.06, 27699.85, 472.31, 9285.6, 3621.53, 20520.665, 6792.65, 194.545, 8403.03, 1586.29, 10890.14, 24.455, 1396.125, 3429.905, 2052.03, 14410.2, 45534.845, 2302.42, 16402.37, 7785.45, 757.74, 262.435, 8772.045, 171.54999999999995, 619.405, 193.085, 125.56, 122.275, 4075.225, 6068.125, 237.615, 848.625, 6328.005, 68.62, 355.145, 462.09, 2340.745, 22505.17, 33746.805, 45852.395, 37695.01, 562.1, 477.42, 2150.58, 4690.98, 1136.245, 27262.945, 827.8199999999998, 165.71, 35628.38, 7615.7249999999985, 52564.38, 41.245, 12.045, 5088.0999999999985, 2922.555, 67549.09, 275424.62, 4458.11, 539.835, 29484.7, 41716.58, 4517.605]}],                        {\"coloraxis\": {\"cmax\": 50000, \"cmin\": 0, \"colorbar\": {\"title\": {\"text\": \"Littered Plastic Waste\"}}, \"colorscale\": [[0.0, \"rgb(247,251,255)\"], [0.125, \"rgb(222,235,247)\"], [0.25, \"rgb(198,219,239)\"], [0.375, \"rgb(158,202,225)\"], [0.5, \"rgb(107,174,214)\"], [0.625, \"rgb(66,146,198)\"], [0.75, \"rgb(33,113,181)\"], [0.875, \"rgb(8,81,156)\"], [1.0, \"rgb(8,48,107)\"]]}, \"geo\": {\"center\": {}, \"domain\": {\"x\": [0.0, 1.0], \"y\": [0.0, 1.0]}, \"fitbounds\": \"locations\", \"visible\": false}, \"legend\": {\"tracegroupgap\": 0}, \"template\": {\"data\": {\"bar\": [{\"error_x\": {\"color\": \"#2a3f5f\"}, \"error_y\": {\"color\": \"#2a3f5f\"}, \"marker\": {\"line\": {\"color\": \"#E5ECF6\", \"width\": 0.5}}, \"type\": \"bar\"}], \"barpolar\": [{\"marker\": {\"line\": {\"color\": \"#E5ECF6\", \"width\": 0.5}}, \"type\": \"barpolar\"}], \"carpet\": [{\"aaxis\": {\"endlinecolor\": \"#2a3f5f\", \"gridcolor\": \"white\", \"linecolor\": \"white\", \"minorgridcolor\": \"white\", \"startlinecolor\": \"#2a3f5f\"}, \"baxis\": {\"endlinecolor\": \"#2a3f5f\", \"gridcolor\": \"white\", \"linecolor\": \"white\", \"minorgridcolor\": \"white\", \"startlinecolor\": \"#2a3f5f\"}, \"type\": \"carpet\"}], \"choropleth\": [{\"colorbar\": {\"outlinewidth\": 0, \"ticks\": \"\"}, \"type\": \"choropleth\"}], \"contour\": [{\"colorbar\": {\"outlinewidth\": 0, \"ticks\": \"\"}, \"colorscale\": [[0.0, \"#0d0887\"], [0.1111111111111111, \"#46039f\"], [0.2222222222222222, \"#7201a8\"], [0.3333333333333333, \"#9c179e\"], [0.4444444444444444, \"#bd3786\"], [0.5555555555555556, \"#d8576b\"], [0.6666666666666666, \"#ed7953\"], [0.7777777777777778, \"#fb9f3a\"], [0.8888888888888888, \"#fdca26\"], [1.0, \"#f0f921\"]], \"type\": \"contour\"}], \"contourcarpet\": [{\"colorbar\": {\"outlinewidth\": 0, \"ticks\": \"\"}, \"type\": \"contourcarpet\"}], \"heatmap\": [{\"colorbar\": {\"outlinewidth\": 0, \"ticks\": \"\"}, \"colorscale\": [[0.0, \"#0d0887\"], [0.1111111111111111, \"#46039f\"], [0.2222222222222222, \"#7201a8\"], [0.3333333333333333, \"#9c179e\"], [0.4444444444444444, \"#bd3786\"], [0.5555555555555556, \"#d8576b\"], [0.6666666666666666, \"#ed7953\"], [0.7777777777777778, \"#fb9f3a\"], [0.8888888888888888, \"#fdca26\"], [1.0, \"#f0f921\"]], \"type\": \"heatmap\"}], \"heatmapgl\": [{\"colorbar\": {\"outlinewidth\": 0, \"ticks\": \"\"}, \"colorscale\": [[0.0, \"#0d0887\"], [0.1111111111111111, \"#46039f\"], [0.2222222222222222, \"#7201a8\"], [0.3333333333333333, \"#9c179e\"], [0.4444444444444444, \"#bd3786\"], [0.5555555555555556, \"#d8576b\"], [0.6666666666666666, \"#ed7953\"], [0.7777777777777778, \"#fb9f3a\"], [0.8888888888888888, \"#fdca26\"], [1.0, \"#f0f921\"]], \"type\": \"heatmapgl\"}], \"histogram\": [{\"marker\": {\"colorbar\": {\"outlinewidth\": 0, \"ticks\": \"\"}}, \"type\": \"histogram\"}], \"histogram2d\": [{\"colorbar\": {\"outlinewidth\": 0, \"ticks\": \"\"}, \"colorscale\": [[0.0, \"#0d0887\"], [0.1111111111111111, \"#46039f\"], [0.2222222222222222, \"#7201a8\"], [0.3333333333333333, \"#9c179e\"], [0.4444444444444444, \"#bd3786\"], [0.5555555555555556, \"#d8576b\"], [0.6666666666666666, \"#ed7953\"], [0.7777777777777778, \"#fb9f3a\"], [0.8888888888888888, \"#fdca26\"], [1.0, \"#f0f921\"]], \"type\": \"histogram2d\"}], \"histogram2dcontour\": [{\"colorbar\": {\"outlinewidth\": 0, \"ticks\": \"\"}, \"colorscale\": [[0.0, \"#0d0887\"], [0.1111111111111111, \"#46039f\"], [0.2222222222222222, \"#7201a8\"], [0.3333333333333333, \"#9c179e\"], [0.4444444444444444, \"#bd3786\"], [0.5555555555555556, \"#d8576b\"], [0.6666666666666666, \"#ed7953\"], [0.7777777777777778, \"#fb9f3a\"], [0.8888888888888888, \"#fdca26\"], [1.0, \"#f0f921\"]], \"type\": \"histogram2dcontour\"}], \"mesh3d\": [{\"colorbar\": {\"outlinewidth\": 0, \"ticks\": \"\"}, \"type\": \"mesh3d\"}], \"parcoords\": [{\"line\": {\"colorbar\": {\"outlinewidth\": 0, \"ticks\": \"\"}}, \"type\": \"parcoords\"}], \"pie\": [{\"automargin\": true, \"type\": \"pie\"}], \"scatter\": [{\"marker\": {\"colorbar\": {\"outlinewidth\": 0, \"ticks\": \"\"}}, \"type\": \"scatter\"}], \"scatter3d\": [{\"line\": {\"colorbar\": {\"outlinewidth\": 0, \"ticks\": \"\"}}, \"marker\": {\"colorbar\": {\"outlinewidth\": 0, \"ticks\": \"\"}}, \"type\": \"scatter3d\"}], \"scattercarpet\": [{\"marker\": {\"colorbar\": {\"outlinewidth\": 0, \"ticks\": \"\"}}, \"type\": \"scattercarpet\"}], \"scattergeo\": [{\"marker\": {\"colorbar\": {\"outlinewidth\": 0, \"ticks\": \"\"}}, \"type\": \"scattergeo\"}], \"scattergl\": [{\"marker\": {\"colorbar\": {\"outlinewidth\": 0, \"ticks\": \"\"}}, \"type\": \"scattergl\"}], \"scattermapbox\": [{\"marker\": {\"colorbar\": {\"outlinewidth\": 0, \"ticks\": \"\"}}, \"type\": \"scattermapbox\"}], \"scatterpolar\": [{\"marker\": {\"colorbar\": {\"outlinewidth\": 0, \"ticks\": \"\"}}, \"type\": \"scatterpolar\"}], \"scatterpolargl\": [{\"marker\": {\"colorbar\": {\"outlinewidth\": 0, \"ticks\": \"\"}}, \"type\": \"scatterpolargl\"}], \"scatterternary\": [{\"marker\": {\"colorbar\": {\"outlinewidth\": 0, \"ticks\": \"\"}}, \"type\": \"scatterternary\"}], \"surface\": [{\"colorbar\": {\"outlinewidth\": 0, \"ticks\": \"\"}, \"colorscale\": [[0.0, \"#0d0887\"], [0.1111111111111111, \"#46039f\"], [0.2222222222222222, \"#7201a8\"], [0.3333333333333333, \"#9c179e\"], [0.4444444444444444, \"#bd3786\"], [0.5555555555555556, \"#d8576b\"], [0.6666666666666666, \"#ed7953\"], [0.7777777777777778, \"#fb9f3a\"], [0.8888888888888888, \"#fdca26\"], [1.0, \"#f0f921\"]], \"type\": \"surface\"}], \"table\": [{\"cells\": {\"fill\": {\"color\": \"#EBF0F8\"}, \"line\": {\"color\": \"white\"}}, \"header\": {\"fill\": {\"color\": \"#C8D4E3\"}, \"line\": {\"color\": \"white\"}}, \"type\": \"table\"}]}, \"layout\": {\"annotationdefaults\": {\"arrowcolor\": \"#2a3f5f\", \"arrowhead\": 0, \"arrowwidth\": 1}, \"autotypenumbers\": \"strict\", \"coloraxis\": {\"colorbar\": {\"outlinewidth\": 0, \"ticks\": \"\"}}, \"colorscale\": {\"diverging\": [[0, \"#8e0152\"], [0.1, \"#c51b7d\"], [0.2, \"#de77ae\"], [0.3, \"#f1b6da\"], [0.4, \"#fde0ef\"], [0.5, \"#f7f7f7\"], [0.6, \"#e6f5d0\"], [0.7, \"#b8e186\"], [0.8, \"#7fbc41\"], [0.9, \"#4d9221\"], [1, \"#276419\"]], \"sequential\": [[0.0, \"#0d0887\"], [0.1111111111111111, \"#46039f\"], [0.2222222222222222, \"#7201a8\"], [0.3333333333333333, \"#9c179e\"], [0.4444444444444444, \"#bd3786\"], [0.5555555555555556, \"#d8576b\"], [0.6666666666666666, \"#ed7953\"], [0.7777777777777778, \"#fb9f3a\"], [0.8888888888888888, \"#fdca26\"], [1.0, \"#f0f921\"]], \"sequentialminus\": [[0.0, \"#0d0887\"], [0.1111111111111111, \"#46039f\"], [0.2222222222222222, \"#7201a8\"], [0.3333333333333333, \"#9c179e\"], [0.4444444444444444, \"#bd3786\"], [0.5555555555555556, \"#d8576b\"], [0.6666666666666666, \"#ed7953\"], [0.7777777777777778, \"#fb9f3a\"], [0.8888888888888888, \"#fdca26\"], [1.0, \"#f0f921\"]]}, \"colorway\": [\"#636efa\", \"#EF553B\", \"#00cc96\", \"#ab63fa\", \"#FFA15A\", \"#19d3f3\", \"#FF6692\", \"#B6E880\", \"#FF97FF\", \"#FECB52\"], \"font\": {\"color\": \"#2a3f5f\"}, \"geo\": {\"bgcolor\": \"white\", \"lakecolor\": \"white\", \"landcolor\": \"#E5ECF6\", \"showlakes\": true, \"showland\": true, \"subunitcolor\": \"white\"}, \"hoverlabel\": {\"align\": \"left\"}, \"hovermode\": \"closest\", \"mapbox\": {\"style\": \"light\"}, \"paper_bgcolor\": \"white\", \"plot_bgcolor\": \"#E5ECF6\", \"polar\": {\"angularaxis\": {\"gridcolor\": \"white\", \"linecolor\": \"white\", \"ticks\": \"\"}, \"bgcolor\": \"#E5ECF6\", \"radialaxis\": {\"gridcolor\": \"white\", \"linecolor\": \"white\", \"ticks\": \"\"}}, \"scene\": {\"xaxis\": {\"backgroundcolor\": \"#E5ECF6\", \"gridcolor\": \"white\", \"gridwidth\": 2, \"linecolor\": \"white\", \"showbackground\": true, \"ticks\": \"\", \"zerolinecolor\": \"white\"}, \"yaxis\": {\"backgroundcolor\": \"#E5ECF6\", \"gridcolor\": \"white\", \"gridwidth\": 2, \"linecolor\": \"white\", \"showbackground\": true, \"ticks\": \"\", \"zerolinecolor\": \"white\"}, \"zaxis\": {\"backgroundcolor\": \"#E5ECF6\", \"gridcolor\": \"white\", \"gridwidth\": 2, \"linecolor\": \"white\", \"showbackground\": true, \"ticks\": \"\", \"zerolinecolor\": \"white\"}}, \"shapedefaults\": {\"line\": {\"color\": \"#2a3f5f\"}}, \"ternary\": {\"aaxis\": {\"gridcolor\": \"white\", \"linecolor\": \"white\", \"ticks\": \"\"}, \"baxis\": {\"gridcolor\": \"white\", \"linecolor\": \"white\", \"ticks\": \"\"}, \"bgcolor\": \"#E5ECF6\", \"caxis\": {\"gridcolor\": \"white\", \"linecolor\": \"white\", \"ticks\": \"\"}}, \"title\": {\"x\": 0.05}, \"xaxis\": {\"automargin\": true, \"gridcolor\": \"white\", \"linecolor\": \"white\", \"ticks\": \"\", \"title\": {\"standoff\": 15}, \"zerolinecolor\": \"white\", \"zerolinewidth\": 2}, \"yaxis\": {\"automargin\": true, \"gridcolor\": \"white\", \"linecolor\": \"white\", \"ticks\": \"\", \"title\": {\"standoff\": 15}, \"zerolinecolor\": \"white\", \"zerolinewidth\": 2}}}, \"title\": {\"text\": \"MAP 3: Plastic wastes Littered\"}},                        {\"responsive\": true}                    ).then(function(){\n",
       "                            \n",
       "var gd = document.getElementById('9e2be26d-519f-4279-9868-f2bfb7584c57');\n",
       "var x = new MutationObserver(function (mutations, observer) {{\n",
       "        var display = window.getComputedStyle(gd).display;\n",
       "        if (!display || display === 'none') {{\n",
       "            console.log([gd, 'removed!']);\n",
       "            Plotly.purge(gd);\n",
       "            observer.disconnect();\n",
       "        }}\n",
       "}});\n",
       "\n",
       "// Listen for the removal of the full notebook cells\n",
       "var notebookContainer = gd.closest('#notebook-container');\n",
       "if (notebookContainer) {{\n",
       "    x.observe(notebookContainer, {childList: true});\n",
       "}}\n",
       "\n",
       "// Listen for the clearing of the current output cell\n",
       "var outputEl = gd.closest('.output');\n",
       "if (outputEl) {{\n",
       "    x.observe(outputEl, {childList: true});\n",
       "}}\n",
       "\n",
       "                        })                };                });            </script>        </div>"
      ]
     },
     "metadata": {},
     "output_type": "display_data"
    }
   ],
   "source": [
    "fig = px.choropleth(littered_plastic_waste, \n",
    "                    locations='Code',\n",
    "                    color='Littered Plastic Waste',\n",
    "                    color_continuous_scale=\"blues\",\n",
    "                    range_color=(0,50000),\n",
    "                    title='MAP 3: Plastic wastes Littered',\n",
    "                    hover_data=['Country']\n",
    "                   )\n",
    "#fig.update_layout(margin={\"r\":0,\"t\":0,\"l\":0,\"b\":0})\n",
    "fig.update_geos(fitbounds=\"locations\", visible=False)\n",
    "fig.show()"
   ]
  },
  {
   "cell_type": "code",
   "execution_count": 44,
   "metadata": {},
   "outputs": [
    {
     "data": {
      "application/vnd.plotly.v1+json": {
       "config": {
        "plotlyServerURL": "https://plot.ly"
       },
       "data": [
        {
         "coloraxis": "coloraxis",
         "customdata": [
          [
           "Albania"
          ],
          [
           "Algeria"
          ],
          [
           "Angola"
          ],
          [
           "Antigua and Barbuda"
          ],
          [
           "Argentina"
          ],
          [
           "Aruba"
          ],
          [
           "Australia"
          ],
          [
           "Bahamas"
          ],
          [
           "Bahrain"
          ],
          [
           "Bangladesh"
          ],
          [
           "Barbados"
          ],
          [
           "Belgium"
          ],
          [
           "Belize"
          ],
          [
           "Benin"
          ],
          [
           "Bermuda"
          ],
          [
           "Bosnia and Herzegovina"
          ],
          [
           "Brazil"
          ],
          [
           "British Virgin Islands"
          ],
          [
           "Brunei"
          ],
          [
           "Bulgaria"
          ],
          [
           "Cambodia"
          ],
          [
           "Cameroon"
          ],
          [
           "Canada"
          ],
          [
           "Cape Verde"
          ],
          [
           "Cayman Islands"
          ],
          [
           "Channel Islands"
          ],
          [
           "Chile"
          ],
          [
           "China"
          ],
          [
           "Colombia"
          ],
          [
           "Comoros"
          ],
          [
           "Congo"
          ],
          [
           "Costa Rica"
          ],
          [
           "Cote d'Ivoire"
          ],
          [
           "Croatia"
          ],
          [
           "Cuba"
          ],
          [
           "Curacao"
          ],
          [
           "Cyprus"
          ],
          [
           "Democratic Republic of Congo"
          ],
          [
           "Denmark"
          ],
          [
           "Djibouti"
          ],
          [
           "Dominica"
          ],
          [
           "Dominican Republic"
          ],
          [
           "Ecuador"
          ],
          [
           "Egypt"
          ],
          [
           "El Salvador"
          ],
          [
           "Equatorial Guinea"
          ],
          [
           "Eritrea"
          ],
          [
           "Estonia"
          ],
          [
           "Faeroe Islands"
          ],
          [
           "Fiji"
          ],
          [
           "Finland"
          ],
          [
           "France"
          ],
          [
           "French Polynesia"
          ],
          [
           "Gabon"
          ],
          [
           "Gambia"
          ],
          [
           "Georgia"
          ],
          [
           "Germany"
          ],
          [
           "Ghana"
          ],
          [
           "Gibraltar"
          ],
          [
           "Greece"
          ],
          [
           "Greenland"
          ],
          [
           "Grenada"
          ],
          [
           "Guam"
          ],
          [
           "Guatemala"
          ],
          [
           "Guinea"
          ],
          [
           "Guinea-Bissau"
          ],
          [
           "Guyana"
          ],
          [
           "Haiti"
          ],
          [
           "Honduras"
          ],
          [
           "Hong Kong"
          ],
          [
           "Iceland"
          ],
          [
           "India"
          ],
          [
           "Indonesia"
          ],
          [
           "Iran"
          ],
          [
           "Iraq"
          ],
          [
           "Ireland"
          ],
          [
           "Israel"
          ],
          [
           "Italy"
          ],
          [
           "Jamaica"
          ],
          [
           "Japan"
          ],
          [
           "Jordan"
          ],
          [
           "Kenya"
          ],
          [
           "Kiribati"
          ],
          [
           "Kuwait"
          ],
          [
           "Latvia"
          ],
          [
           "Lebanon"
          ],
          [
           "Liberia"
          ],
          [
           "Libya"
          ],
          [
           "Lithuania"
          ],
          [
           "Macao"
          ],
          [
           "Madagascar"
          ],
          [
           "Malaysia"
          ],
          [
           "Maldives"
          ],
          [
           "Malta"
          ],
          [
           "Marshall Islands"
          ],
          [
           "Mauritania"
          ],
          [
           "Mauritius"
          ],
          [
           "Mexico"
          ],
          [
           "Micronesia (country)"
          ],
          [
           "Monaco"
          ],
          [
           "Montenegro"
          ],
          [
           "Morocco"
          ],
          [
           "Mozambique"
          ],
          [
           "Myanmar"
          ],
          [
           "Namibia"
          ],
          [
           "Nauru"
          ],
          [
           "Netherlands"
          ],
          [
           "New Caledonia"
          ],
          [
           "New Zealand"
          ],
          [
           "Nicaragua"
          ],
          [
           "Nigeria"
          ],
          [
           "North Korea"
          ],
          [
           "Northern Mariana Islands"
          ],
          [
           "Norway"
          ],
          [
           "Oman"
          ],
          [
           "Pakistan"
          ],
          [
           "Palau"
          ],
          [
           "Palestine"
          ],
          [
           "Panama"
          ],
          [
           "Papua New Guinea"
          ],
          [
           "Peru"
          ],
          [
           "Philippines"
          ],
          [
           "Poland"
          ],
          [
           "Portugal"
          ],
          [
           "Puerto Rico"
          ],
          [
           "Qatar"
          ],
          [
           "Romania"
          ],
          [
           "Russia"
          ],
          [
           "Saint Kitts and Nevis"
          ],
          [
           "Saint Lucia"
          ],
          [
           "Saint Vincent and the Grenadines"
          ],
          [
           "Samoa"
          ],
          [
           "Sao Tome and Principe"
          ],
          [
           "Saudi Arabia"
          ],
          [
           "Senegal"
          ],
          [
           "Seychelles"
          ],
          [
           "Sierra Leone"
          ],
          [
           "Singapore"
          ],
          [
           "Sint Maarten (Dutch part)"
          ],
          [
           "Slovenia"
          ],
          [
           "Solomon Islands"
          ],
          [
           "Somalia"
          ],
          [
           "South Africa"
          ],
          [
           "South Korea"
          ],
          [
           "Spain"
          ],
          [
           "Sri Lanka"
          ],
          [
           "Sudan"
          ],
          [
           "Suriname"
          ],
          [
           "Sweden"
          ],
          [
           "Syria"
          ],
          [
           "Tanzania"
          ],
          [
           "Thailand"
          ],
          [
           "Togo"
          ],
          [
           "Tonga"
          ],
          [
           "Trinidad and Tobago"
          ],
          [
           "Tunisia"
          ],
          [
           "Turkey"
          ],
          [
           "Turks and Caicos Islands"
          ],
          [
           "Tuvalu"
          ],
          [
           "Ukraine"
          ],
          [
           "United Arab Emirates"
          ],
          [
           "United Kingdom"
          ],
          [
           "United States"
          ],
          [
           "Uruguay"
          ],
          [
           "Vanuatu"
          ],
          [
           "Venezuela"
          ],
          [
           "Vietnam"
          ],
          [
           "Yemen"
          ]
         ],
         "geo": "geo",
         "hovertemplate": "Code=%{location}<br>Country=%{customdata[0]}<br>Littered waste(%)=%{z}<extra></extra>",
         "locations": [
          "ALB",
          "DZA",
          "AGO",
          "ATG",
          "ARG",
          "ABW",
          "AUS",
          "BHS",
          "BHR",
          "BGD",
          "BRB",
          "BEL",
          "BLZ",
          "BEN",
          "BMU",
          "BIH",
          "BRA",
          "VGB",
          "BRN",
          "BGR",
          "KHM",
          "CMR",
          "CAN",
          "CPV",
          "CYM",
          "OWID_CIS",
          "CHL",
          "CHN",
          "COL",
          "COM",
          "COG",
          "CRI",
          "CIV",
          "HRV",
          "CUB",
          "CUW",
          "CYP",
          "COD",
          "DNK",
          "DJI",
          "DMA",
          "DOM",
          "ECU",
          "EGY",
          "SLV",
          "GNQ",
          "ERI",
          "EST",
          "FRO",
          "FJI",
          "FIN",
          "FRA",
          "PYF",
          "GAB",
          "GMB",
          "GEO",
          "DEU",
          "GHA",
          "GIB",
          "GRC",
          "GRL",
          "GRD",
          "GUM",
          "GTM",
          "GIN",
          "GNB",
          "GUY",
          "HTI",
          "HND",
          "HKG",
          "ISL",
          "IND",
          "IDN",
          "IRN",
          "IRQ",
          "IRL",
          "ISR",
          "ITA",
          "JAM",
          "JPN",
          "JOR",
          "KEN",
          "KIR",
          "KWT",
          "LVA",
          "LBN",
          "LBR",
          "LBY",
          "LTU",
          "MAC",
          "MDG",
          "MYS",
          "MDV",
          "MLT",
          "MHL",
          "MRT",
          "MUS",
          "MEX",
          "FSM",
          "MCO",
          "MNE",
          "MAR",
          "MOZ",
          "MMR",
          "NAM",
          "NRU",
          "NLD",
          "NCL",
          "NZL",
          "NIC",
          "NGA",
          "PRK",
          "MNP",
          "NOR",
          "OMN",
          "PAK",
          "PLW",
          "PSE",
          "PAN",
          "PNG",
          "PER",
          "PHL",
          "POL",
          "PRT",
          "PRI",
          "QAT",
          "ROU",
          "RUS",
          "KNA",
          "LCA",
          "VCT",
          "WSM",
          "STP",
          "SAU",
          "SEN",
          "SYC",
          "SLE",
          "SGP",
          "SXM",
          "SVN",
          "SLB",
          "SOM",
          "ZAF",
          "KOR",
          "ESP",
          "LKA",
          "SDN",
          "SUR",
          "SWE",
          "SYR",
          "TZA",
          "THA",
          "TGO",
          "TON",
          "TTO",
          "TUN",
          "TUR",
          "TCA",
          "TUV",
          "UKR",
          "ARE",
          "GBR",
          "USA",
          "URY",
          "VUT",
          "VEN",
          "VNM",
          "YEM"
         ],
         "name": "",
         "type": "choropleth",
         "z": [
          1.735347036693746,
          0.9129888539636936,
          0.3252156121949236,
          1.4069242238203823,
          0.7953899511539649,
          2.7008126603934985,
          1.5420925589957564,
          1.88312826103886,
          1.1935686208915277,
          0.9367167680876193,
          1.9717179011072141,
          0.8621613636292201,
          1.249145658956961,
          0.7022828330401296,
          2.0474123539232054,
          0.3132574770105248,
          0.7558378272797418,
          2.1719249201277955,
          1.8309381778741862,
          0.2692894274092089,
          0.1935665423065988,
          0.19811813125363475,
          0.6895514979091386,
          2.070140112425539,
          1.8585977281629456,
          1.914770404687287,
          0.6574990584008259,
          0.3912634281859834,
          0.3252470006691652,
          2.70292891163857,
          0.3845617719204555,
          1.0897240607528929,
          0.606661381925141,
          0.7225499388453711,
          1.9931767684175643,
          1.9266705658722032,
          1.506925620327068,
          0.03316631990149038,
          1.8815500520116422,
          1.4509203412606644,
          1.9541827541827541,
          1.6565523856388806,
          0.853193039992712,
          0.5155180620411381,
          2.07040388435224,
          0.7359871974394879,
          0.573412368275097,
          1.3164647976243367,
          2.0759068517689205,
          2.0728288719573866,
          1.0881857912522594,
          0.5290308940192157,
          2.0121376958675,
          1.04659902873581,
          1.5463806247048506,
          0.5622415155526821,
          0.21578944059987729,
          0.6164296671761527,
          2.008516213560432,
          1.7526211480332767,
          1.9944593045471914,
          1.8313199645647096,
          2.3842220100913676,
          0.32588653644358156,
          0.36624758875088836,
          1.544935759473032,
          1.369427170421027,
          1.8210720667788984,
          0.8060362593023029,
          2.150890429887711,
          1.8339515634580013,
          0.30553684777480034,
          1.542331769101459,
          0.24304972255023133,
          0.041280595992819864,
          1.6361140452358198,
          1.7444508709688349,
          1.1299641149563096,
          2.0086379497740405,
          1.7904682173203716,
          0.01537326559048068,
          0.1313084960712235,
          1.8254729204457112,
          1.5245407558379624,
          1.3552693948491072,
          1.7905743681412836,
          1.084295745559686,
          1.3075836545875097,
          0.28544097247817085,
          0.9574633280647753,
          0.6509520262940596,
          1.6189405293661634,
          2.1341169379144063,
          1.9412854804336412,
          2.2054980947196516,
          0.5540843692546427,
          1.998666298310962,
          0.3824528655901293,
          2.9706033376123235,
          1.8292790152403282,
          0.8374696685812574,
          1.0571011690048695,
          0.8072761137755256,
          0.7529322266714639,
          0.14220115214231932,
          3.0474383301707775,
          1.0772291959471074,
          2.0539682539682538,
          1.7665658352833742,
          1.209272739414986,
          0.3442053927118715,
          1.401413245306375,
          3.8862365161805834,
          1.6816755456470318,
          1.7010970391738427,
          0.1698344252605576,
          2.2727695167286246,
          1.5930953033000137,
          1.7788302959267288,
          0.767877590426368,
          0.9333762555226154,
          1.7747076311713539,
          0.17094152891258108,
          1.603856718064151,
          2.2744123678813692,
          0.7290658404933947,
          0.08455144417417079,
          0.1502143523152362,
          1.3969869706840388,
          1.8837205766072624,
          2.1896688591517353,
          1.7937142857142858,
          1.8608278800791356,
          0.2609617076647426,
          1.2496499075344016,
          2.025703324808184,
          0.8779938958150122,
          1.760307163342912,
          2.1029727244866687,
          0.32756108134033074,
          2.328847898397339,
          0.9852905892603833,
          0.5039450955909783,
          1.6658738002104876,
          0.9736858422855725,
          1.4378594647708314,
          0.04348128780729304,
          1.5253035143769968,
          1.3088950427558503,
          0.34351205409514096,
          0.2936048765109897,
          0.7717758977719714,
          0.6118674885804247,
          1.9550495516753186,
          2.0415970679430617,
          1.3618112242617144,
          0.9392103178736878,
          1.4466853735531393,
          2.1741877256317688,
          0.2950463001352848,
          0.48649168277177685,
          1.371390838457931,
          0.7281443891760992,
          1.4363439536824332,
          2.1217427190189837,
          1.1042967073383576,
          1.2764284732976015,
          0.5090276361497559
         ]
        }
       ],
       "layout": {
        "coloraxis": {
         "cmax": 1,
         "cmin": 0,
         "colorbar": {
          "title": {
           "text": "Littered waste(%)"
          }
         },
         "colorscale": [
          [
           0,
           "rgb(209, 238, 234)"
          ],
          [
           0.16666666666666666,
           "rgb(168, 219, 217)"
          ],
          [
           0.3333333333333333,
           "rgb(133, 196, 201)"
          ],
          [
           0.5,
           "rgb(104, 171, 184)"
          ],
          [
           0.6666666666666666,
           "rgb(79, 144, 166)"
          ],
          [
           0.8333333333333334,
           "rgb(59, 115, 143)"
          ],
          [
           1,
           "rgb(42, 86, 116)"
          ]
         ]
        },
        "geo": {
         "center": {},
         "domain": {
          "x": [
           0,
           1
          ],
          "y": [
           0,
           1
          ]
         },
         "fitbounds": "locations",
         "visible": false
        },
        "legend": {
         "tracegroupgap": 0
        },
        "template": {
         "data": {
          "bar": [
           {
            "error_x": {
             "color": "#2a3f5f"
            },
            "error_y": {
             "color": "#2a3f5f"
            },
            "marker": {
             "line": {
              "color": "#E5ECF6",
              "width": 0.5
             }
            },
            "type": "bar"
           }
          ],
          "barpolar": [
           {
            "marker": {
             "line": {
              "color": "#E5ECF6",
              "width": 0.5
             }
            },
            "type": "barpolar"
           }
          ],
          "carpet": [
           {
            "aaxis": {
             "endlinecolor": "#2a3f5f",
             "gridcolor": "white",
             "linecolor": "white",
             "minorgridcolor": "white",
             "startlinecolor": "#2a3f5f"
            },
            "baxis": {
             "endlinecolor": "#2a3f5f",
             "gridcolor": "white",
             "linecolor": "white",
             "minorgridcolor": "white",
             "startlinecolor": "#2a3f5f"
            },
            "type": "carpet"
           }
          ],
          "choropleth": [
           {
            "colorbar": {
             "outlinewidth": 0,
             "ticks": ""
            },
            "type": "choropleth"
           }
          ],
          "contour": [
           {
            "colorbar": {
             "outlinewidth": 0,
             "ticks": ""
            },
            "colorscale": [
             [
              0,
              "#0d0887"
             ],
             [
              0.1111111111111111,
              "#46039f"
             ],
             [
              0.2222222222222222,
              "#7201a8"
             ],
             [
              0.3333333333333333,
              "#9c179e"
             ],
             [
              0.4444444444444444,
              "#bd3786"
             ],
             [
              0.5555555555555556,
              "#d8576b"
             ],
             [
              0.6666666666666666,
              "#ed7953"
             ],
             [
              0.7777777777777778,
              "#fb9f3a"
             ],
             [
              0.8888888888888888,
              "#fdca26"
             ],
             [
              1,
              "#f0f921"
             ]
            ],
            "type": "contour"
           }
          ],
          "contourcarpet": [
           {
            "colorbar": {
             "outlinewidth": 0,
             "ticks": ""
            },
            "type": "contourcarpet"
           }
          ],
          "heatmap": [
           {
            "colorbar": {
             "outlinewidth": 0,
             "ticks": ""
            },
            "colorscale": [
             [
              0,
              "#0d0887"
             ],
             [
              0.1111111111111111,
              "#46039f"
             ],
             [
              0.2222222222222222,
              "#7201a8"
             ],
             [
              0.3333333333333333,
              "#9c179e"
             ],
             [
              0.4444444444444444,
              "#bd3786"
             ],
             [
              0.5555555555555556,
              "#d8576b"
             ],
             [
              0.6666666666666666,
              "#ed7953"
             ],
             [
              0.7777777777777778,
              "#fb9f3a"
             ],
             [
              0.8888888888888888,
              "#fdca26"
             ],
             [
              1,
              "#f0f921"
             ]
            ],
            "type": "heatmap"
           }
          ],
          "heatmapgl": [
           {
            "colorbar": {
             "outlinewidth": 0,
             "ticks": ""
            },
            "colorscale": [
             [
              0,
              "#0d0887"
             ],
             [
              0.1111111111111111,
              "#46039f"
             ],
             [
              0.2222222222222222,
              "#7201a8"
             ],
             [
              0.3333333333333333,
              "#9c179e"
             ],
             [
              0.4444444444444444,
              "#bd3786"
             ],
             [
              0.5555555555555556,
              "#d8576b"
             ],
             [
              0.6666666666666666,
              "#ed7953"
             ],
             [
              0.7777777777777778,
              "#fb9f3a"
             ],
             [
              0.8888888888888888,
              "#fdca26"
             ],
             [
              1,
              "#f0f921"
             ]
            ],
            "type": "heatmapgl"
           }
          ],
          "histogram": [
           {
            "marker": {
             "colorbar": {
              "outlinewidth": 0,
              "ticks": ""
             }
            },
            "type": "histogram"
           }
          ],
          "histogram2d": [
           {
            "colorbar": {
             "outlinewidth": 0,
             "ticks": ""
            },
            "colorscale": [
             [
              0,
              "#0d0887"
             ],
             [
              0.1111111111111111,
              "#46039f"
             ],
             [
              0.2222222222222222,
              "#7201a8"
             ],
             [
              0.3333333333333333,
              "#9c179e"
             ],
             [
              0.4444444444444444,
              "#bd3786"
             ],
             [
              0.5555555555555556,
              "#d8576b"
             ],
             [
              0.6666666666666666,
              "#ed7953"
             ],
             [
              0.7777777777777778,
              "#fb9f3a"
             ],
             [
              0.8888888888888888,
              "#fdca26"
             ],
             [
              1,
              "#f0f921"
             ]
            ],
            "type": "histogram2d"
           }
          ],
          "histogram2dcontour": [
           {
            "colorbar": {
             "outlinewidth": 0,
             "ticks": ""
            },
            "colorscale": [
             [
              0,
              "#0d0887"
             ],
             [
              0.1111111111111111,
              "#46039f"
             ],
             [
              0.2222222222222222,
              "#7201a8"
             ],
             [
              0.3333333333333333,
              "#9c179e"
             ],
             [
              0.4444444444444444,
              "#bd3786"
             ],
             [
              0.5555555555555556,
              "#d8576b"
             ],
             [
              0.6666666666666666,
              "#ed7953"
             ],
             [
              0.7777777777777778,
              "#fb9f3a"
             ],
             [
              0.8888888888888888,
              "#fdca26"
             ],
             [
              1,
              "#f0f921"
             ]
            ],
            "type": "histogram2dcontour"
           }
          ],
          "mesh3d": [
           {
            "colorbar": {
             "outlinewidth": 0,
             "ticks": ""
            },
            "type": "mesh3d"
           }
          ],
          "parcoords": [
           {
            "line": {
             "colorbar": {
              "outlinewidth": 0,
              "ticks": ""
             }
            },
            "type": "parcoords"
           }
          ],
          "pie": [
           {
            "automargin": true,
            "type": "pie"
           }
          ],
          "scatter": [
           {
            "marker": {
             "colorbar": {
              "outlinewidth": 0,
              "ticks": ""
             }
            },
            "type": "scatter"
           }
          ],
          "scatter3d": [
           {
            "line": {
             "colorbar": {
              "outlinewidth": 0,
              "ticks": ""
             }
            },
            "marker": {
             "colorbar": {
              "outlinewidth": 0,
              "ticks": ""
             }
            },
            "type": "scatter3d"
           }
          ],
          "scattercarpet": [
           {
            "marker": {
             "colorbar": {
              "outlinewidth": 0,
              "ticks": ""
             }
            },
            "type": "scattercarpet"
           }
          ],
          "scattergeo": [
           {
            "marker": {
             "colorbar": {
              "outlinewidth": 0,
              "ticks": ""
             }
            },
            "type": "scattergeo"
           }
          ],
          "scattergl": [
           {
            "marker": {
             "colorbar": {
              "outlinewidth": 0,
              "ticks": ""
             }
            },
            "type": "scattergl"
           }
          ],
          "scattermapbox": [
           {
            "marker": {
             "colorbar": {
              "outlinewidth": 0,
              "ticks": ""
             }
            },
            "type": "scattermapbox"
           }
          ],
          "scatterpolar": [
           {
            "marker": {
             "colorbar": {
              "outlinewidth": 0,
              "ticks": ""
             }
            },
            "type": "scatterpolar"
           }
          ],
          "scatterpolargl": [
           {
            "marker": {
             "colorbar": {
              "outlinewidth": 0,
              "ticks": ""
             }
            },
            "type": "scatterpolargl"
           }
          ],
          "scatterternary": [
           {
            "marker": {
             "colorbar": {
              "outlinewidth": 0,
              "ticks": ""
             }
            },
            "type": "scatterternary"
           }
          ],
          "surface": [
           {
            "colorbar": {
             "outlinewidth": 0,
             "ticks": ""
            },
            "colorscale": [
             [
              0,
              "#0d0887"
             ],
             [
              0.1111111111111111,
              "#46039f"
             ],
             [
              0.2222222222222222,
              "#7201a8"
             ],
             [
              0.3333333333333333,
              "#9c179e"
             ],
             [
              0.4444444444444444,
              "#bd3786"
             ],
             [
              0.5555555555555556,
              "#d8576b"
             ],
             [
              0.6666666666666666,
              "#ed7953"
             ],
             [
              0.7777777777777778,
              "#fb9f3a"
             ],
             [
              0.8888888888888888,
              "#fdca26"
             ],
             [
              1,
              "#f0f921"
             ]
            ],
            "type": "surface"
           }
          ],
          "table": [
           {
            "cells": {
             "fill": {
              "color": "#EBF0F8"
             },
             "line": {
              "color": "white"
             }
            },
            "header": {
             "fill": {
              "color": "#C8D4E3"
             },
             "line": {
              "color": "white"
             }
            },
            "type": "table"
           }
          ]
         },
         "layout": {
          "annotationdefaults": {
           "arrowcolor": "#2a3f5f",
           "arrowhead": 0,
           "arrowwidth": 1
          },
          "autotypenumbers": "strict",
          "coloraxis": {
           "colorbar": {
            "outlinewidth": 0,
            "ticks": ""
           }
          },
          "colorscale": {
           "diverging": [
            [
             0,
             "#8e0152"
            ],
            [
             0.1,
             "#c51b7d"
            ],
            [
             0.2,
             "#de77ae"
            ],
            [
             0.3,
             "#f1b6da"
            ],
            [
             0.4,
             "#fde0ef"
            ],
            [
             0.5,
             "#f7f7f7"
            ],
            [
             0.6,
             "#e6f5d0"
            ],
            [
             0.7,
             "#b8e186"
            ],
            [
             0.8,
             "#7fbc41"
            ],
            [
             0.9,
             "#4d9221"
            ],
            [
             1,
             "#276419"
            ]
           ],
           "sequential": [
            [
             0,
             "#0d0887"
            ],
            [
             0.1111111111111111,
             "#46039f"
            ],
            [
             0.2222222222222222,
             "#7201a8"
            ],
            [
             0.3333333333333333,
             "#9c179e"
            ],
            [
             0.4444444444444444,
             "#bd3786"
            ],
            [
             0.5555555555555556,
             "#d8576b"
            ],
            [
             0.6666666666666666,
             "#ed7953"
            ],
            [
             0.7777777777777778,
             "#fb9f3a"
            ],
            [
             0.8888888888888888,
             "#fdca26"
            ],
            [
             1,
             "#f0f921"
            ]
           ],
           "sequentialminus": [
            [
             0,
             "#0d0887"
            ],
            [
             0.1111111111111111,
             "#46039f"
            ],
            [
             0.2222222222222222,
             "#7201a8"
            ],
            [
             0.3333333333333333,
             "#9c179e"
            ],
            [
             0.4444444444444444,
             "#bd3786"
            ],
            [
             0.5555555555555556,
             "#d8576b"
            ],
            [
             0.6666666666666666,
             "#ed7953"
            ],
            [
             0.7777777777777778,
             "#fb9f3a"
            ],
            [
             0.8888888888888888,
             "#fdca26"
            ],
            [
             1,
             "#f0f921"
            ]
           ]
          },
          "colorway": [
           "#636efa",
           "#EF553B",
           "#00cc96",
           "#ab63fa",
           "#FFA15A",
           "#19d3f3",
           "#FF6692",
           "#B6E880",
           "#FF97FF",
           "#FECB52"
          ],
          "font": {
           "color": "#2a3f5f"
          },
          "geo": {
           "bgcolor": "white",
           "lakecolor": "white",
           "landcolor": "#E5ECF6",
           "showlakes": true,
           "showland": true,
           "subunitcolor": "white"
          },
          "hoverlabel": {
           "align": "left"
          },
          "hovermode": "closest",
          "mapbox": {
           "style": "light"
          },
          "paper_bgcolor": "white",
          "plot_bgcolor": "#E5ECF6",
          "polar": {
           "angularaxis": {
            "gridcolor": "white",
            "linecolor": "white",
            "ticks": ""
           },
           "bgcolor": "#E5ECF6",
           "radialaxis": {
            "gridcolor": "white",
            "linecolor": "white",
            "ticks": ""
           }
          },
          "scene": {
           "xaxis": {
            "backgroundcolor": "#E5ECF6",
            "gridcolor": "white",
            "gridwidth": 2,
            "linecolor": "white",
            "showbackground": true,
            "ticks": "",
            "zerolinecolor": "white"
           },
           "yaxis": {
            "backgroundcolor": "#E5ECF6",
            "gridcolor": "white",
            "gridwidth": 2,
            "linecolor": "white",
            "showbackground": true,
            "ticks": "",
            "zerolinecolor": "white"
           },
           "zaxis": {
            "backgroundcolor": "#E5ECF6",
            "gridcolor": "white",
            "gridwidth": 2,
            "linecolor": "white",
            "showbackground": true,
            "ticks": "",
            "zerolinecolor": "white"
           }
          },
          "shapedefaults": {
           "line": {
            "color": "#2a3f5f"
           }
          },
          "ternary": {
           "aaxis": {
            "gridcolor": "white",
            "linecolor": "white",
            "ticks": ""
           },
           "baxis": {
            "gridcolor": "white",
            "linecolor": "white",
            "ticks": ""
           },
           "bgcolor": "#E5ECF6",
           "caxis": {
            "gridcolor": "white",
            "linecolor": "white",
            "ticks": ""
           }
          },
          "title": {
           "x": 0.05
          },
          "xaxis": {
           "automargin": true,
           "gridcolor": "white",
           "linecolor": "white",
           "ticks": "",
           "title": {
            "standoff": 15
           },
           "zerolinecolor": "white",
           "zerolinewidth": 2
          },
          "yaxis": {
           "automargin": true,
           "gridcolor": "white",
           "linecolor": "white",
           "ticks": "",
           "title": {
            "standoff": 15
           },
           "zerolinecolor": "white",
           "zerolinewidth": 2
          }
         }
        },
        "title": {
         "text": "MAP 4: Percentage of how much a country litteres its waste from its own total waste."
        }
       }
      },
      "text/html": [
       "<div>                            <div id=\"8bb595ae-de97-47f1-90a0-a9f4b2ea69ba\" class=\"plotly-graph-div\" style=\"height:525px; width:100%;\"></div>            <script type=\"text/javascript\">                require([\"plotly\"], function(Plotly) {                    window.PLOTLYENV=window.PLOTLYENV || {};                                    if (document.getElementById(\"8bb595ae-de97-47f1-90a0-a9f4b2ea69ba\")) {                    Plotly.newPlot(                        \"8bb595ae-de97-47f1-90a0-a9f4b2ea69ba\",                        [{\"coloraxis\": \"coloraxis\", \"customdata\": [[\"Albania\"], [\"Algeria\"], [\"Angola\"], [\"Antigua and Barbuda\"], [\"Argentina\"], [\"Aruba\"], [\"Australia\"], [\"Bahamas\"], [\"Bahrain\"], [\"Bangladesh\"], [\"Barbados\"], [\"Belgium\"], [\"Belize\"], [\"Benin\"], [\"Bermuda\"], [\"Bosnia and Herzegovina\"], [\"Brazil\"], [\"British Virgin Islands\"], [\"Brunei\"], [\"Bulgaria\"], [\"Cambodia\"], [\"Cameroon\"], [\"Canada\"], [\"Cape Verde\"], [\"Cayman Islands\"], [\"Channel Islands\"], [\"Chile\"], [\"China\"], [\"Colombia\"], [\"Comoros\"], [\"Congo\"], [\"Costa Rica\"], [\"Cote d'Ivoire\"], [\"Croatia\"], [\"Cuba\"], [\"Curacao\"], [\"Cyprus\"], [\"Democratic Republic of Congo\"], [\"Denmark\"], [\"Djibouti\"], [\"Dominica\"], [\"Dominican Republic\"], [\"Ecuador\"], [\"Egypt\"], [\"El Salvador\"], [\"Equatorial Guinea\"], [\"Eritrea\"], [\"Estonia\"], [\"Faeroe Islands\"], [\"Fiji\"], [\"Finland\"], [\"France\"], [\"French Polynesia\"], [\"Gabon\"], [\"Gambia\"], [\"Georgia\"], [\"Germany\"], [\"Ghana\"], [\"Gibraltar\"], [\"Greece\"], [\"Greenland\"], [\"Grenada\"], [\"Guam\"], [\"Guatemala\"], [\"Guinea\"], [\"Guinea-Bissau\"], [\"Guyana\"], [\"Haiti\"], [\"Honduras\"], [\"Hong Kong\"], [\"Iceland\"], [\"India\"], [\"Indonesia\"], [\"Iran\"], [\"Iraq\"], [\"Ireland\"], [\"Israel\"], [\"Italy\"], [\"Jamaica\"], [\"Japan\"], [\"Jordan\"], [\"Kenya\"], [\"Kiribati\"], [\"Kuwait\"], [\"Latvia\"], [\"Lebanon\"], [\"Liberia\"], [\"Libya\"], [\"Lithuania\"], [\"Macao\"], [\"Madagascar\"], [\"Malaysia\"], [\"Maldives\"], [\"Malta\"], [\"Marshall Islands\"], [\"Mauritania\"], [\"Mauritius\"], [\"Mexico\"], [\"Micronesia (country)\"], [\"Monaco\"], [\"Montenegro\"], [\"Morocco\"], [\"Mozambique\"], [\"Myanmar\"], [\"Namibia\"], [\"Nauru\"], [\"Netherlands\"], [\"New Caledonia\"], [\"New Zealand\"], [\"Nicaragua\"], [\"Nigeria\"], [\"North Korea\"], [\"Northern Mariana Islands\"], [\"Norway\"], [\"Oman\"], [\"Pakistan\"], [\"Palau\"], [\"Palestine\"], [\"Panama\"], [\"Papua New Guinea\"], [\"Peru\"], [\"Philippines\"], [\"Poland\"], [\"Portugal\"], [\"Puerto Rico\"], [\"Qatar\"], [\"Romania\"], [\"Russia\"], [\"Saint Kitts and Nevis\"], [\"Saint Lucia\"], [\"Saint Vincent and the Grenadines\"], [\"Samoa\"], [\"Sao Tome and Principe\"], [\"Saudi Arabia\"], [\"Senegal\"], [\"Seychelles\"], [\"Sierra Leone\"], [\"Singapore\"], [\"Sint Maarten (Dutch part)\"], [\"Slovenia\"], [\"Solomon Islands\"], [\"Somalia\"], [\"South Africa\"], [\"South Korea\"], [\"Spain\"], [\"Sri Lanka\"], [\"Sudan\"], [\"Suriname\"], [\"Sweden\"], [\"Syria\"], [\"Tanzania\"], [\"Thailand\"], [\"Togo\"], [\"Tonga\"], [\"Trinidad and Tobago\"], [\"Tunisia\"], [\"Turkey\"], [\"Turks and Caicos Islands\"], [\"Tuvalu\"], [\"Ukraine\"], [\"United Arab Emirates\"], [\"United Kingdom\"], [\"United States\"], [\"Uruguay\"], [\"Vanuatu\"], [\"Venezuela\"], [\"Vietnam\"], [\"Yemen\"]], \"geo\": \"geo\", \"hovertemplate\": \"Code=%{location}<br>Country=%{customdata[0]}<br>Littered waste(%)=%{z}<extra></extra>\", \"locations\": [\"ALB\", \"DZA\", \"AGO\", \"ATG\", \"ARG\", \"ABW\", \"AUS\", \"BHS\", \"BHR\", \"BGD\", \"BRB\", \"BEL\", \"BLZ\", \"BEN\", \"BMU\", \"BIH\", \"BRA\", \"VGB\", \"BRN\", \"BGR\", \"KHM\", \"CMR\", \"CAN\", \"CPV\", \"CYM\", \"OWID_CIS\", \"CHL\", \"CHN\", \"COL\", \"COM\", \"COG\", \"CRI\", \"CIV\", \"HRV\", \"CUB\", \"CUW\", \"CYP\", \"COD\", \"DNK\", \"DJI\", \"DMA\", \"DOM\", \"ECU\", \"EGY\", \"SLV\", \"GNQ\", \"ERI\", \"EST\", \"FRO\", \"FJI\", \"FIN\", \"FRA\", \"PYF\", \"GAB\", \"GMB\", \"GEO\", \"DEU\", \"GHA\", \"GIB\", \"GRC\", \"GRL\", \"GRD\", \"GUM\", \"GTM\", \"GIN\", \"GNB\", \"GUY\", \"HTI\", \"HND\", \"HKG\", \"ISL\", \"IND\", \"IDN\", \"IRN\", \"IRQ\", \"IRL\", \"ISR\", \"ITA\", \"JAM\", \"JPN\", \"JOR\", \"KEN\", \"KIR\", \"KWT\", \"LVA\", \"LBN\", \"LBR\", \"LBY\", \"LTU\", \"MAC\", \"MDG\", \"MYS\", \"MDV\", \"MLT\", \"MHL\", \"MRT\", \"MUS\", \"MEX\", \"FSM\", \"MCO\", \"MNE\", \"MAR\", \"MOZ\", \"MMR\", \"NAM\", \"NRU\", \"NLD\", \"NCL\", \"NZL\", \"NIC\", \"NGA\", \"PRK\", \"MNP\", \"NOR\", \"OMN\", \"PAK\", \"PLW\", \"PSE\", \"PAN\", \"PNG\", \"PER\", \"PHL\", \"POL\", \"PRT\", \"PRI\", \"QAT\", \"ROU\", \"RUS\", \"KNA\", \"LCA\", \"VCT\", \"WSM\", \"STP\", \"SAU\", \"SEN\", \"SYC\", \"SLE\", \"SGP\", \"SXM\", \"SVN\", \"SLB\", \"SOM\", \"ZAF\", \"KOR\", \"ESP\", \"LKA\", \"SDN\", \"SUR\", \"SWE\", \"SYR\", \"TZA\", \"THA\", \"TGO\", \"TON\", \"TTO\", \"TUN\", \"TUR\", \"TCA\", \"TUV\", \"UKR\", \"ARE\", \"GBR\", \"USA\", \"URY\", \"VUT\", \"VEN\", \"VNM\", \"YEM\"], \"name\": \"\", \"type\": \"choropleth\", \"z\": [1.735347036693746, 0.9129888539636936, 0.3252156121949236, 1.4069242238203823, 0.7953899511539649, 2.7008126603934985, 1.5420925589957564, 1.88312826103886, 1.1935686208915277, 0.9367167680876193, 1.9717179011072141, 0.8621613636292201, 1.249145658956961, 0.7022828330401296, 2.0474123539232054, 0.3132574770105248, 0.7558378272797418, 2.1719249201277955, 1.8309381778741862, 0.2692894274092089, 0.1935665423065988, 0.19811813125363475, 0.6895514979091386, 2.070140112425539, 1.8585977281629456, 1.914770404687287, 0.6574990584008259, 0.3912634281859834, 0.3252470006691652, 2.70292891163857, 0.3845617719204555, 1.0897240607528929, 0.606661381925141, 0.7225499388453711, 1.9931767684175643, 1.9266705658722032, 1.506925620327068, 0.03316631990149038, 1.8815500520116422, 1.4509203412606644, 1.9541827541827541, 1.6565523856388806, 0.853193039992712, 0.5155180620411381, 2.07040388435224, 0.7359871974394879, 0.573412368275097, 1.3164647976243367, 2.0759068517689205, 2.0728288719573866, 1.0881857912522594, 0.5290308940192157, 2.0121376958675, 1.04659902873581, 1.5463806247048506, 0.5622415155526821, 0.21578944059987729, 0.6164296671761527, 2.008516213560432, 1.7526211480332767, 1.9944593045471914, 1.8313199645647096, 2.3842220100913676, 0.32588653644358156, 0.36624758875088836, 1.544935759473032, 1.369427170421027, 1.8210720667788984, 0.8060362593023029, 2.150890429887711, 1.8339515634580013, 0.30553684777480034, 1.542331769101459, 0.24304972255023133, 0.041280595992819864, 1.6361140452358198, 1.7444508709688349, 1.1299641149563096, 2.0086379497740405, 1.7904682173203716, 0.01537326559048068, 0.1313084960712235, 1.8254729204457112, 1.5245407558379624, 1.3552693948491072, 1.7905743681412836, 1.084295745559686, 1.3075836545875097, 0.28544097247817085, 0.9574633280647753, 0.6509520262940596, 1.6189405293661634, 2.1341169379144063, 1.9412854804336412, 2.2054980947196516, 0.5540843692546427, 1.998666298310962, 0.3824528655901293, 2.9706033376123235, 1.8292790152403282, 0.8374696685812574, 1.0571011690048695, 0.8072761137755256, 0.7529322266714639, 0.14220115214231932, 3.0474383301707775, 1.0772291959471074, 2.0539682539682538, 1.7665658352833742, 1.209272739414986, 0.3442053927118715, 1.401413245306375, 3.8862365161805834, 1.6816755456470318, 1.7010970391738427, 0.1698344252605576, 2.2727695167286246, 1.5930953033000137, 1.7788302959267288, 0.767877590426368, 0.9333762555226154, 1.7747076311713539, 0.17094152891258108, 1.603856718064151, 2.2744123678813692, 0.7290658404933947, 0.08455144417417079, 0.1502143523152362, 1.3969869706840388, 1.8837205766072624, 2.1896688591517353, 1.7937142857142858, 1.8608278800791356, 0.2609617076647426, 1.2496499075344016, 2.025703324808184, 0.8779938958150122, 1.760307163342912, 2.1029727244866687, 0.32756108134033074, 2.328847898397339, 0.9852905892603833, 0.5039450955909783, 1.6658738002104876, 0.9736858422855725, 1.4378594647708314, 0.04348128780729304, 1.5253035143769968, 1.3088950427558503, 0.34351205409514096, 0.2936048765109897, 0.7717758977719714, 0.6118674885804247, 1.9550495516753186, 2.0415970679430617, 1.3618112242617144, 0.9392103178736878, 1.4466853735531393, 2.1741877256317688, 0.2950463001352848, 0.48649168277177685, 1.371390838457931, 0.7281443891760992, 1.4363439536824332, 2.1217427190189837, 1.1042967073383576, 1.2764284732976015, 0.5090276361497559]}],                        {\"coloraxis\": {\"cmax\": 1, \"cmin\": 0, \"colorbar\": {\"title\": {\"text\": \"Littered waste(%)\"}}, \"colorscale\": [[0.0, \"rgb(209, 238, 234)\"], [0.16666666666666666, \"rgb(168, 219, 217)\"], [0.3333333333333333, \"rgb(133, 196, 201)\"], [0.5, \"rgb(104, 171, 184)\"], [0.6666666666666666, \"rgb(79, 144, 166)\"], [0.8333333333333334, \"rgb(59, 115, 143)\"], [1.0, \"rgb(42, 86, 116)\"]]}, \"geo\": {\"center\": {}, \"domain\": {\"x\": [0.0, 1.0], \"y\": [0.0, 1.0]}, \"fitbounds\": \"locations\", \"visible\": false}, \"legend\": {\"tracegroupgap\": 0}, \"template\": {\"data\": {\"bar\": [{\"error_x\": {\"color\": \"#2a3f5f\"}, \"error_y\": {\"color\": \"#2a3f5f\"}, \"marker\": {\"line\": {\"color\": \"#E5ECF6\", \"width\": 0.5}}, \"type\": \"bar\"}], \"barpolar\": [{\"marker\": {\"line\": {\"color\": \"#E5ECF6\", \"width\": 0.5}}, \"type\": \"barpolar\"}], \"carpet\": [{\"aaxis\": {\"endlinecolor\": \"#2a3f5f\", \"gridcolor\": \"white\", \"linecolor\": \"white\", \"minorgridcolor\": \"white\", \"startlinecolor\": \"#2a3f5f\"}, \"baxis\": {\"endlinecolor\": \"#2a3f5f\", \"gridcolor\": \"white\", \"linecolor\": \"white\", \"minorgridcolor\": \"white\", \"startlinecolor\": \"#2a3f5f\"}, \"type\": \"carpet\"}], \"choropleth\": [{\"colorbar\": {\"outlinewidth\": 0, \"ticks\": \"\"}, \"type\": \"choropleth\"}], \"contour\": [{\"colorbar\": {\"outlinewidth\": 0, \"ticks\": \"\"}, \"colorscale\": [[0.0, \"#0d0887\"], [0.1111111111111111, \"#46039f\"], [0.2222222222222222, \"#7201a8\"], [0.3333333333333333, \"#9c179e\"], [0.4444444444444444, \"#bd3786\"], [0.5555555555555556, \"#d8576b\"], [0.6666666666666666, \"#ed7953\"], [0.7777777777777778, \"#fb9f3a\"], [0.8888888888888888, \"#fdca26\"], [1.0, \"#f0f921\"]], \"type\": \"contour\"}], \"contourcarpet\": [{\"colorbar\": {\"outlinewidth\": 0, \"ticks\": \"\"}, \"type\": \"contourcarpet\"}], \"heatmap\": [{\"colorbar\": {\"outlinewidth\": 0, \"ticks\": \"\"}, \"colorscale\": [[0.0, \"#0d0887\"], [0.1111111111111111, \"#46039f\"], [0.2222222222222222, \"#7201a8\"], [0.3333333333333333, \"#9c179e\"], [0.4444444444444444, \"#bd3786\"], [0.5555555555555556, \"#d8576b\"], [0.6666666666666666, \"#ed7953\"], [0.7777777777777778, \"#fb9f3a\"], [0.8888888888888888, \"#fdca26\"], [1.0, \"#f0f921\"]], \"type\": \"heatmap\"}], \"heatmapgl\": [{\"colorbar\": {\"outlinewidth\": 0, \"ticks\": \"\"}, \"colorscale\": [[0.0, \"#0d0887\"], [0.1111111111111111, \"#46039f\"], [0.2222222222222222, \"#7201a8\"], [0.3333333333333333, \"#9c179e\"], [0.4444444444444444, \"#bd3786\"], [0.5555555555555556, \"#d8576b\"], [0.6666666666666666, \"#ed7953\"], [0.7777777777777778, \"#fb9f3a\"], [0.8888888888888888, \"#fdca26\"], [1.0, \"#f0f921\"]], \"type\": \"heatmapgl\"}], \"histogram\": [{\"marker\": {\"colorbar\": {\"outlinewidth\": 0, \"ticks\": \"\"}}, \"type\": \"histogram\"}], \"histogram2d\": [{\"colorbar\": {\"outlinewidth\": 0, \"ticks\": \"\"}, \"colorscale\": [[0.0, \"#0d0887\"], [0.1111111111111111, \"#46039f\"], [0.2222222222222222, \"#7201a8\"], [0.3333333333333333, \"#9c179e\"], [0.4444444444444444, \"#bd3786\"], [0.5555555555555556, \"#d8576b\"], [0.6666666666666666, \"#ed7953\"], [0.7777777777777778, \"#fb9f3a\"], [0.8888888888888888, \"#fdca26\"], [1.0, \"#f0f921\"]], \"type\": \"histogram2d\"}], \"histogram2dcontour\": [{\"colorbar\": {\"outlinewidth\": 0, \"ticks\": \"\"}, \"colorscale\": [[0.0, \"#0d0887\"], [0.1111111111111111, \"#46039f\"], [0.2222222222222222, \"#7201a8\"], [0.3333333333333333, \"#9c179e\"], [0.4444444444444444, \"#bd3786\"], [0.5555555555555556, \"#d8576b\"], [0.6666666666666666, \"#ed7953\"], [0.7777777777777778, \"#fb9f3a\"], [0.8888888888888888, \"#fdca26\"], [1.0, \"#f0f921\"]], \"type\": \"histogram2dcontour\"}], \"mesh3d\": [{\"colorbar\": {\"outlinewidth\": 0, \"ticks\": \"\"}, \"type\": \"mesh3d\"}], \"parcoords\": [{\"line\": {\"colorbar\": {\"outlinewidth\": 0, \"ticks\": \"\"}}, \"type\": \"parcoords\"}], \"pie\": [{\"automargin\": true, \"type\": \"pie\"}], \"scatter\": [{\"marker\": {\"colorbar\": {\"outlinewidth\": 0, \"ticks\": \"\"}}, \"type\": \"scatter\"}], \"scatter3d\": [{\"line\": {\"colorbar\": {\"outlinewidth\": 0, \"ticks\": \"\"}}, \"marker\": {\"colorbar\": {\"outlinewidth\": 0, \"ticks\": \"\"}}, \"type\": \"scatter3d\"}], \"scattercarpet\": [{\"marker\": {\"colorbar\": {\"outlinewidth\": 0, \"ticks\": \"\"}}, \"type\": \"scattercarpet\"}], \"scattergeo\": [{\"marker\": {\"colorbar\": {\"outlinewidth\": 0, \"ticks\": \"\"}}, \"type\": \"scattergeo\"}], \"scattergl\": [{\"marker\": {\"colorbar\": {\"outlinewidth\": 0, \"ticks\": \"\"}}, \"type\": \"scattergl\"}], \"scattermapbox\": [{\"marker\": {\"colorbar\": {\"outlinewidth\": 0, \"ticks\": \"\"}}, \"type\": \"scattermapbox\"}], \"scatterpolar\": [{\"marker\": {\"colorbar\": {\"outlinewidth\": 0, \"ticks\": \"\"}}, \"type\": \"scatterpolar\"}], \"scatterpolargl\": [{\"marker\": {\"colorbar\": {\"outlinewidth\": 0, \"ticks\": \"\"}}, \"type\": \"scatterpolargl\"}], \"scatterternary\": [{\"marker\": {\"colorbar\": {\"outlinewidth\": 0, \"ticks\": \"\"}}, \"type\": \"scatterternary\"}], \"surface\": [{\"colorbar\": {\"outlinewidth\": 0, \"ticks\": \"\"}, \"colorscale\": [[0.0, \"#0d0887\"], [0.1111111111111111, \"#46039f\"], [0.2222222222222222, \"#7201a8\"], [0.3333333333333333, \"#9c179e\"], [0.4444444444444444, \"#bd3786\"], [0.5555555555555556, \"#d8576b\"], [0.6666666666666666, \"#ed7953\"], [0.7777777777777778, \"#fb9f3a\"], [0.8888888888888888, \"#fdca26\"], [1.0, \"#f0f921\"]], \"type\": \"surface\"}], \"table\": [{\"cells\": {\"fill\": {\"color\": \"#EBF0F8\"}, \"line\": {\"color\": \"white\"}}, \"header\": {\"fill\": {\"color\": \"#C8D4E3\"}, \"line\": {\"color\": \"white\"}}, \"type\": \"table\"}]}, \"layout\": {\"annotationdefaults\": {\"arrowcolor\": \"#2a3f5f\", \"arrowhead\": 0, \"arrowwidth\": 1}, \"autotypenumbers\": \"strict\", \"coloraxis\": {\"colorbar\": {\"outlinewidth\": 0, \"ticks\": \"\"}}, \"colorscale\": {\"diverging\": [[0, \"#8e0152\"], [0.1, \"#c51b7d\"], [0.2, \"#de77ae\"], [0.3, \"#f1b6da\"], [0.4, \"#fde0ef\"], [0.5, \"#f7f7f7\"], [0.6, \"#e6f5d0\"], [0.7, \"#b8e186\"], [0.8, \"#7fbc41\"], [0.9, \"#4d9221\"], [1, \"#276419\"]], \"sequential\": [[0.0, \"#0d0887\"], [0.1111111111111111, \"#46039f\"], [0.2222222222222222, \"#7201a8\"], [0.3333333333333333, \"#9c179e\"], [0.4444444444444444, \"#bd3786\"], [0.5555555555555556, \"#d8576b\"], [0.6666666666666666, \"#ed7953\"], [0.7777777777777778, \"#fb9f3a\"], [0.8888888888888888, \"#fdca26\"], [1.0, \"#f0f921\"]], \"sequentialminus\": [[0.0, \"#0d0887\"], [0.1111111111111111, \"#46039f\"], [0.2222222222222222, \"#7201a8\"], [0.3333333333333333, \"#9c179e\"], [0.4444444444444444, \"#bd3786\"], [0.5555555555555556, \"#d8576b\"], [0.6666666666666666, \"#ed7953\"], [0.7777777777777778, \"#fb9f3a\"], [0.8888888888888888, \"#fdca26\"], [1.0, \"#f0f921\"]]}, \"colorway\": [\"#636efa\", \"#EF553B\", \"#00cc96\", \"#ab63fa\", \"#FFA15A\", \"#19d3f3\", \"#FF6692\", \"#B6E880\", \"#FF97FF\", \"#FECB52\"], \"font\": {\"color\": \"#2a3f5f\"}, \"geo\": {\"bgcolor\": \"white\", \"lakecolor\": \"white\", \"landcolor\": \"#E5ECF6\", \"showlakes\": true, \"showland\": true, \"subunitcolor\": \"white\"}, \"hoverlabel\": {\"align\": \"left\"}, \"hovermode\": \"closest\", \"mapbox\": {\"style\": \"light\"}, \"paper_bgcolor\": \"white\", \"plot_bgcolor\": \"#E5ECF6\", \"polar\": {\"angularaxis\": {\"gridcolor\": \"white\", \"linecolor\": \"white\", \"ticks\": \"\"}, \"bgcolor\": \"#E5ECF6\", \"radialaxis\": {\"gridcolor\": \"white\", \"linecolor\": \"white\", \"ticks\": \"\"}}, \"scene\": {\"xaxis\": {\"backgroundcolor\": \"#E5ECF6\", \"gridcolor\": \"white\", \"gridwidth\": 2, \"linecolor\": \"white\", \"showbackground\": true, \"ticks\": \"\", \"zerolinecolor\": \"white\"}, \"yaxis\": {\"backgroundcolor\": \"#E5ECF6\", \"gridcolor\": \"white\", \"gridwidth\": 2, \"linecolor\": \"white\", \"showbackground\": true, \"ticks\": \"\", \"zerolinecolor\": \"white\"}, \"zaxis\": {\"backgroundcolor\": \"#E5ECF6\", \"gridcolor\": \"white\", \"gridwidth\": 2, \"linecolor\": \"white\", \"showbackground\": true, \"ticks\": \"\", \"zerolinecolor\": \"white\"}}, \"shapedefaults\": {\"line\": {\"color\": \"#2a3f5f\"}}, \"ternary\": {\"aaxis\": {\"gridcolor\": \"white\", \"linecolor\": \"white\", \"ticks\": \"\"}, \"baxis\": {\"gridcolor\": \"white\", \"linecolor\": \"white\", \"ticks\": \"\"}, \"bgcolor\": \"#E5ECF6\", \"caxis\": {\"gridcolor\": \"white\", \"linecolor\": \"white\", \"ticks\": \"\"}}, \"title\": {\"x\": 0.05}, \"xaxis\": {\"automargin\": true, \"gridcolor\": \"white\", \"linecolor\": \"white\", \"ticks\": \"\", \"title\": {\"standoff\": 15}, \"zerolinecolor\": \"white\", \"zerolinewidth\": 2}, \"yaxis\": {\"automargin\": true, \"gridcolor\": \"white\", \"linecolor\": \"white\", \"ticks\": \"\", \"title\": {\"standoff\": 15}, \"zerolinecolor\": \"white\", \"zerolinewidth\": 2}}}, \"title\": {\"text\": \"MAP 4: Percentage of how much a country litteres its waste from its own total waste.\"}},                        {\"responsive\": true}                    ).then(function(){\n",
       "                            \n",
       "var gd = document.getElementById('8bb595ae-de97-47f1-90a0-a9f4b2ea69ba');\n",
       "var x = new MutationObserver(function (mutations, observer) {{\n",
       "        var display = window.getComputedStyle(gd).display;\n",
       "        if (!display || display === 'none') {{\n",
       "            console.log([gd, 'removed!']);\n",
       "            Plotly.purge(gd);\n",
       "            observer.disconnect();\n",
       "        }}\n",
       "}});\n",
       "\n",
       "// Listen for the removal of the full notebook cells\n",
       "var notebookContainer = gd.closest('#notebook-container');\n",
       "if (notebookContainer) {{\n",
       "    x.observe(notebookContainer, {childList: true});\n",
       "}}\n",
       "\n",
       "// Listen for the clearing of the current output cell\n",
       "var outputEl = gd.closest('.output');\n",
       "if (outputEl) {{\n",
       "    x.observe(outputEl, {childList: true});\n",
       "}}\n",
       "\n",
       "                        })                };                });            </script>        </div>"
      ]
     },
     "metadata": {},
     "output_type": "display_data"
    }
   ],
   "source": [
    "fig = px.choropleth(littered_plastic_waste, locations='Code', \n",
    "                    color='Littered waste(%)',\n",
    "                    color_continuous_scale=\"teal\",\n",
    "                    range_color=(0,1),\n",
    "                    title='MAP 4: Percentage of how much a country litteres its waste from its own total waste.',\n",
    "                    hover_data=['Country']\n",
    "                   )\n",
    "#fig.update_layout(margin={\"r\":0,\"t\":0,\"l\":0,\"b\":0})\n",
    "fig.update_geos(fitbounds=\"locations\", visible=False)\n",
    "fig.show()"
   ]
  },
  {
   "cell_type": "markdown",
   "metadata": {},
   "source": [
    "### Costal Population VS Littered plastic waste "
   ]
  },
  {
   "cell_type": "markdown",
   "metadata": {},
   "source": [
    "Countries with high costal population can also lead to more mismanaged littered Plastic wastes. So, lets see if that's the case."
   ]
  },
  {
   "cell_type": "code",
   "execution_count": 45,
   "metadata": {},
   "outputs": [
    {
     "data": {
      "text/html": [
       "<div>\n",
       "<style scoped>\n",
       "    .dataframe tbody tr th:only-of-type {\n",
       "        vertical-align: middle;\n",
       "    }\n",
       "\n",
       "    .dataframe tbody tr th {\n",
       "        vertical-align: top;\n",
       "    }\n",
       "\n",
       "    .dataframe thead th {\n",
       "        text-align: right;\n",
       "    }\n",
       "</style>\n",
       "<table border=\"1\" class=\"dataframe\">\n",
       "  <thead>\n",
       "    <tr style=\"text-align: right;\">\n",
       "      <th></th>\n",
       "      <th>Code</th>\n",
       "      <th>Coastal population</th>\n",
       "      <th>Continent</th>\n",
       "      <th>Country</th>\n",
       "      <th>Littered Plastic Waste</th>\n",
       "      <th>Plastic waste generation (tonnes, total)</th>\n",
       "      <th>Littered waste(%)</th>\n",
       "    </tr>\n",
       "  </thead>\n",
       "  <tbody>\n",
       "    <tr>\n",
       "      <th>0</th>\n",
       "      <td>ALB</td>\n",
       "      <td>2530533.0</td>\n",
       "      <td>Europe</td>\n",
       "      <td>Albania</td>\n",
       "      <td>1273.120</td>\n",
       "      <td>73364.0</td>\n",
       "      <td>1.735347</td>\n",
       "    </tr>\n",
       "    <tr>\n",
       "      <th>1</th>\n",
       "      <td>DZA</td>\n",
       "      <td>16556580.0</td>\n",
       "      <td>Africa</td>\n",
       "      <td>Algeria</td>\n",
       "      <td>17331.660</td>\n",
       "      <td>1898343.0</td>\n",
       "      <td>0.912989</td>\n",
       "    </tr>\n",
       "    <tr>\n",
       "      <th>2</th>\n",
       "      <td>AGO</td>\n",
       "      <td>3790041.0</td>\n",
       "      <td>Africa</td>\n",
       "      <td>Angola</td>\n",
       "      <td>1719.880</td>\n",
       "      <td>528843.0</td>\n",
       "      <td>0.325216</td>\n",
       "    </tr>\n",
       "    <tr>\n",
       "      <th>4</th>\n",
       "      <td>ATG</td>\n",
       "      <td>66843.0</td>\n",
       "      <td>Americas</td>\n",
       "      <td>Antigua and Barbuda</td>\n",
       "      <td>320.835</td>\n",
       "      <td>22804.0</td>\n",
       "      <td>1.406924</td>\n",
       "    </tr>\n",
       "    <tr>\n",
       "      <th>5</th>\n",
       "      <td>ARG</td>\n",
       "      <td>16449245.0</td>\n",
       "      <td>Americas</td>\n",
       "      <td>Argentina</td>\n",
       "      <td>21901.460</td>\n",
       "      <td>2753550.0</td>\n",
       "      <td>0.795390</td>\n",
       "    </tr>\n",
       "    <tr>\n",
       "      <th>...</th>\n",
       "      <td>...</td>\n",
       "      <td>...</td>\n",
       "      <td>...</td>\n",
       "      <td>...</td>\n",
       "      <td>...</td>\n",
       "      <td>...</td>\n",
       "      <td>...</td>\n",
       "    </tr>\n",
       "    <tr>\n",
       "      <th>177</th>\n",
       "      <td>URY</td>\n",
       "      <td>2433597.0</td>\n",
       "      <td>Americas</td>\n",
       "      <td>Uruguay</td>\n",
       "      <td>4458.110</td>\n",
       "      <td>310379.0</td>\n",
       "      <td>1.436344</td>\n",
       "    </tr>\n",
       "    <tr>\n",
       "      <th>178</th>\n",
       "      <td>VUT</td>\n",
       "      <td>251851.0</td>\n",
       "      <td>Oceania</td>\n",
       "      <td>Vanuatu</td>\n",
       "      <td>539.835</td>\n",
       "      <td>25443.0</td>\n",
       "      <td>2.121743</td>\n",
       "    </tr>\n",
       "    <tr>\n",
       "      <th>179</th>\n",
       "      <td>VEN</td>\n",
       "      <td>16094897.0</td>\n",
       "      <td>Americas</td>\n",
       "      <td>Venezuela</td>\n",
       "      <td>29484.700</td>\n",
       "      <td>2669998.0</td>\n",
       "      <td>1.104297</td>\n",
       "    </tr>\n",
       "    <tr>\n",
       "      <th>180</th>\n",
       "      <td>VNM</td>\n",
       "      <td>55858245.0</td>\n",
       "      <td>Asia</td>\n",
       "      <td>Vietnam</td>\n",
       "      <td>41716.580</td>\n",
       "      <td>3268227.0</td>\n",
       "      <td>1.276428</td>\n",
       "    </tr>\n",
       "    <tr>\n",
       "      <th>181</th>\n",
       "      <td>YEM</td>\n",
       "      <td>6048920.0</td>\n",
       "      <td>Asia</td>\n",
       "      <td>Yemen</td>\n",
       "      <td>4517.605</td>\n",
       "      <td>887497.0</td>\n",
       "      <td>0.509028</td>\n",
       "    </tr>\n",
       "  </tbody>\n",
       "</table>\n",
       "<p>167 rows × 7 columns</p>\n",
       "</div>"
      ],
      "text/plain": [
       "    Code  Coastal population Continent              Country  \\\n",
       "0    ALB           2530533.0    Europe              Albania   \n",
       "1    DZA          16556580.0    Africa              Algeria   \n",
       "2    AGO           3790041.0    Africa               Angola   \n",
       "4    ATG             66843.0  Americas  Antigua and Barbuda   \n",
       "5    ARG          16449245.0  Americas            Argentina   \n",
       "..   ...                 ...       ...                  ...   \n",
       "177  URY           2433597.0  Americas              Uruguay   \n",
       "178  VUT            251851.0   Oceania              Vanuatu   \n",
       "179  VEN          16094897.0  Americas            Venezuela   \n",
       "180  VNM          55858245.0      Asia              Vietnam   \n",
       "181  YEM           6048920.0      Asia                Yemen   \n",
       "\n",
       "     Littered Plastic Waste  Plastic waste generation (tonnes, total)  \\\n",
       "0                  1273.120                                   73364.0   \n",
       "1                 17331.660                                 1898343.0   \n",
       "2                  1719.880                                  528843.0   \n",
       "4                   320.835                                   22804.0   \n",
       "5                 21901.460                                 2753550.0   \n",
       "..                      ...                                       ...   \n",
       "177                4458.110                                  310379.0   \n",
       "178                 539.835                                   25443.0   \n",
       "179               29484.700                                 2669998.0   \n",
       "180               41716.580                                 3268227.0   \n",
       "181                4517.605                                  887497.0   \n",
       "\n",
       "     Littered waste(%)  \n",
       "0             1.735347  \n",
       "1             0.912989  \n",
       "2             0.325216  \n",
       "4             1.406924  \n",
       "5             0.795390  \n",
       "..                 ...  \n",
       "177           1.436344  \n",
       "178           2.121743  \n",
       "179           1.104297  \n",
       "180           1.276428  \n",
       "181           0.509028  \n",
       "\n",
       "[167 rows x 7 columns]"
      ]
     },
     "execution_count": 45,
     "metadata": {},
     "output_type": "execute_result"
    }
   ],
   "source": [
    "costal_pop = pd.read_csv(\"../datasets/raw-datasets/coastal-population-vs-mismanaged-plastic.csv\",usecols=['Entity','Code','Coastal population'])\n",
    "costal_pop=costal_pop.dropna()\n",
    "costal_pop=pd.merge(costal_pop,continent_country,how='left',left_on=['Code'], right_on = ['Code'])\n",
    "costal_pop.drop('Country',axis=1,inplace=True)\n",
    "costal_pop=costal_pop.dropna()\n",
    "costal_pop=pd.merge(costal_pop,littered_plastic_waste,how='left',left_on=['Code'], right_on = ['Code'])\n",
    "costal_pop=costal_pop.dropna()\n",
    "costal_pop.drop('Entity',axis=1,inplace=True)\n",
    "costal_pop.to_csv('../datasets/cleaned-datasets/cleaned_coastal-population-vs-mismanaged-plastic.csv')\n",
    "costal_pop"
   ]
  },
  {
   "cell_type": "code",
   "execution_count": 46,
   "metadata": {},
   "outputs": [
    {
     "data": {
      "application/vnd.plotly.v1+json": {
       "config": {
        "plotlyServerURL": "https://plot.ly"
       },
       "data": [
        {
         "customdata": [
          [
           "Albania"
          ],
          [
           "Belgium"
          ],
          [
           "Bosnia and Herzegovina"
          ],
          [
           "Bulgaria"
          ],
          [
           "Croatia"
          ],
          [
           "Denmark"
          ],
          [
           "Estonia"
          ],
          [
           "Faeroe Islands"
          ],
          [
           "Finland"
          ],
          [
           "France"
          ],
          [
           "Germany"
          ],
          [
           "Gibraltar"
          ],
          [
           "Greece"
          ],
          [
           "Iceland"
          ],
          [
           "Ireland"
          ],
          [
           "Italy"
          ],
          [
           "Latvia"
          ],
          [
           "Lithuania"
          ],
          [
           "Malta"
          ],
          [
           "Monaco"
          ],
          [
           "Montenegro"
          ],
          [
           "Netherlands"
          ],
          [
           "Norway"
          ],
          [
           "Poland"
          ],
          [
           "Portugal"
          ],
          [
           "Romania"
          ],
          [
           "Russia"
          ],
          [
           "Slovenia"
          ],
          [
           "Spain"
          ],
          [
           "Sweden"
          ],
          [
           "Ukraine"
          ],
          [
           "United Kingdom"
          ]
         ],
         "hovertemplate": "Continent=Europe<br>Coastal population=%{x}<br>Littered Plastic Waste=%{y}<br>Littered waste(%)=%{marker.size}<br>Country=%{customdata[0]}<extra></extra>",
         "legendgroup": "Europe",
         "marker": {
          "color": "#636efa",
          "size": [
           1.735347036693746,
           0.8621613636292201,
           0.3132574770105248,
           0.2692894274092089,
           0.7225499388453711,
           1.8815500520116422,
           1.3164647976243367,
           2.0759068517689205,
           1.0881857912522594,
           0.5290308940192157,
           0.21578944059987729,
           2.008516213560432,
           1.7526211480332767,
           1.8339515634580013,
           1.6361140452358198,
           1.1299641149563096,
           1.3552693948491072,
           0.28544097247817085,
           1.9412854804336412,
           1.8292790152403282,
           0.8374696685812574,
           1.0772291959471074,
           1.6816755456470318,
           0.17094152891258108,
           1.603856718064151,
           0.08455144417417079,
           0.1502143523152362,
           0.32756108134033074,
           0.9736858422855725,
           1.3088950427558503,
           0.2950463001352848,
           1.371390838457931
          ],
          "sizemode": "area",
          "sizeref": 0.009715591290451459,
          "symbol": "circle"
         },
         "mode": "markers",
         "name": "Europe",
         "orientation": "v",
         "showlegend": true,
         "type": "scatter",
         "x": [
          2530533,
          4747957,
          585582,
          1002695,
          1602782,
          5376386,
          878021,
          50554,
          2927674,
          17287280,
          8837035,
          33483,
          9794702,
          292708,
          3749576,
          33822532,
          1432078,
          443894,
          404707,
          34050,
          260336,
          8971770,
          4131679,
          3272933,
          8507951,
          875170,
          10812537,
          336594,
          22771488,
          6202234,
          6812799,
          43258889
         ],
         "xaxis": "x",
         "y": [
          1273.12,
          2742.975,
          612.835,
          1119.455,
          2936.06,
          1790.69,
          1126.025,
          92.71,
          4984.805,
          24108.615,
          31238.89,
          61.32,
          14228.795,
          598.235,
          11709.93,
          32760.575,
          1286.625,
          425.955,
          628.53,
          62.415,
          272.655,
          27699.85,
          8403.03,
          2302.42,
          16402.37,
          262.435,
          8772.045,
          355.145,
          45852.395,
          2150.58,
          5088.0999999999985,
          67549.09
         ],
         "yaxis": "y"
        },
        {
         "customdata": [
          [
           "Algeria"
          ],
          [
           "Angola"
          ],
          [
           "Benin"
          ],
          [
           "Cameroon"
          ],
          [
           "Cape Verde"
          ],
          [
           "Comoros"
          ],
          [
           "Congo"
          ],
          [
           "Cote d'Ivoire"
          ],
          [
           "Democratic Republic of Congo"
          ],
          [
           "Djibouti"
          ],
          [
           "Egypt"
          ],
          [
           "Equatorial Guinea"
          ],
          [
           "Eritrea"
          ],
          [
           "Gabon"
          ],
          [
           "Gambia"
          ],
          [
           "Ghana"
          ],
          [
           "Guinea"
          ],
          [
           "Guinea-Bissau"
          ],
          [
           "Kenya"
          ],
          [
           "Liberia"
          ],
          [
           "Libya"
          ],
          [
           "Madagascar"
          ],
          [
           "Mauritania"
          ],
          [
           "Mauritius"
          ],
          [
           "Morocco"
          ],
          [
           "Mozambique"
          ],
          [
           "Namibia"
          ],
          [
           "Nigeria"
          ],
          [
           "Sao Tome and Principe"
          ],
          [
           "Senegal"
          ],
          [
           "Seychelles"
          ],
          [
           "Sierra Leone"
          ],
          [
           "Somalia"
          ],
          [
           "South Africa"
          ],
          [
           "Sudan"
          ],
          [
           "Tanzania"
          ],
          [
           "Togo"
          ],
          [
           "Tunisia"
          ]
         ],
         "hovertemplate": "Continent=Africa<br>Coastal population=%{x}<br>Littered Plastic Waste=%{y}<br>Littered waste(%)=%{marker.size}<br>Country=%{customdata[0]}<extra></extra>",
         "legendgroup": "Africa",
         "marker": {
          "color": "#EF553B",
          "size": [
           0.9129888539636936,
           0.3252156121949236,
           0.7022828330401296,
           0.19811813125363475,
           2.070140112425539,
           2.70292891163857,
           0.3845617719204555,
           0.606661381925141,
           0.03316631990149038,
           1.4509203412606644,
           0.5155180620411381,
           0.7359871974394879,
           0.573412368275097,
           1.04659902873581,
           1.5463806247048506,
           0.6164296671761527,
           0.36624758875088836,
           1.544935759473032,
           0.1313084960712235,
           1.084295745559686,
           1.3075836545875097,
           0.6509520262940596,
           0.5540843692546427,
           1.998666298310962,
           1.0571011690048695,
           0.8072761137755256,
           0.14220115214231932,
           0.3442053927118715,
           1.8608278800791356,
           1.2496499075344016,
           2.025703324808184,
           0.8779938958150122,
           0.9852905892603833,
           0.5039450955909783,
           0.04348128780729304,
           0.2936048765109897,
           0.6118674885804247,
           1.3618112242617144
          ],
          "sizemode": "area",
          "sizeref": 0.009715591290451459,
          "symbol": "circle"
         },
         "mode": "markers",
         "name": "Africa",
         "orientation": "v",
         "showlegend": true,
         "type": "scatter",
         "x": [
          16556580,
          3790041,
          3235418,
          1986723,
          522245,
          938595,
          847807,
          6230583,
          1076056,
          621744,
          21750943,
          351600,
          1266222,
          862328,
          1324214,
          7727702,
          1996496,
          1208106,
          2729945,
          2148271,
          4050128,
          7062413,
          1005481,
          1255952,
          17303431,
          9566559,
          155084,
          27477112,
          163740,
          8125063,
          91361,
          2887017,
          5971169,
          12899201,
          752529,
          6688695,
          1991642,
          7274973
         ],
         "xaxis": "x",
         "y": [
          17331.66,
          1719.88,
          1013.97,
          664.3,
          246.74,
          1367.655,
          424.86,
          4653.02,
          351.495,
          464.28,
          28170.335,
          367.92,
          413.545,
          338.355,
          458.44,
          2206.06,
          432.89,
          473.77,
          535.09,
          1312.54,
          4239.84,
          804.095,
          328.5,
          2098.02,
          9128.65,
          1070.545,
          162.42499999999995,
          20520.665,
          122.275,
          6068.125,
          237.615,
          848.625,
          2340.745,
          22505.17,
          562.1,
          1136.245,
          827.8199999999998,
          7615.7249999999985
         ],
         "yaxis": "y"
        },
        {
         "customdata": [
          [
           "Antigua and Barbuda"
          ],
          [
           "Argentina"
          ],
          [
           "Aruba"
          ],
          [
           "Bahamas"
          ],
          [
           "Barbados"
          ],
          [
           "Belize"
          ],
          [
           "Bermuda"
          ],
          [
           "Brazil"
          ],
          [
           "British Virgin Islands"
          ],
          [
           "Canada"
          ],
          [
           "Cayman Islands"
          ],
          [
           "Chile"
          ],
          [
           "Colombia"
          ],
          [
           "Costa Rica"
          ],
          [
           "Cuba"
          ],
          [
           "Curacao"
          ],
          [
           "Dominica"
          ],
          [
           "Dominican Republic"
          ],
          [
           "Ecuador"
          ],
          [
           "El Salvador"
          ],
          [
           "Greenland"
          ],
          [
           "Grenada"
          ],
          [
           "Guatemala"
          ],
          [
           "Guyana"
          ],
          [
           "Haiti"
          ],
          [
           "Honduras"
          ],
          [
           "Jamaica"
          ],
          [
           "Mexico"
          ],
          [
           "Nicaragua"
          ],
          [
           "Panama"
          ],
          [
           "Peru"
          ],
          [
           "Puerto Rico"
          ],
          [
           "Saint Kitts and Nevis"
          ],
          [
           "Saint Lucia"
          ],
          [
           "Saint Vincent and the Grenadines"
          ],
          [
           "Sint Maarten (Dutch part)"
          ],
          [
           "Suriname"
          ],
          [
           "Trinidad and Tobago"
          ],
          [
           "Turks and Caicos Islands"
          ],
          [
           "United States"
          ],
          [
           "Uruguay"
          ],
          [
           "Venezuela"
          ]
         ],
         "hovertemplate": "Continent=Americas<br>Coastal population=%{x}<br>Littered Plastic Waste=%{y}<br>Littered waste(%)=%{marker.size}<br>Country=%{customdata[0]}<extra></extra>",
         "legendgroup": "Americas",
         "marker": {
          "color": "#00cc96",
          "size": [
           1.4069242238203823,
           0.7953899511539649,
           2.7008126603934985,
           1.88312826103886,
           1.9717179011072141,
           1.249145658956961,
           2.0474123539232054,
           0.7558378272797418,
           2.1719249201277955,
           0.6895514979091386,
           1.8585977281629456,
           0.6574990584008259,
           0.3252470006691652,
           1.0897240607528929,
           1.9931767684175643,
           1.9266705658722032,
           1.9541827541827541,
           1.6565523856388806,
           0.853193039992712,
           2.07040388435224,
           1.9944593045471914,
           1.8313199645647096,
           0.32588653644358156,
           1.369427170421027,
           1.8210720667788984,
           0.8060362593023029,
           2.0086379497740405,
           0.3824528655901293,
           1.209272739414986,
           1.7788302959267288,
           0.9333762555226154,
           2.2744123678813692,
           1.3969869706840388,
           1.8837205766072624,
           2.1896688591517353,
           2.1029727244866687,
           1.5253035143769968,
           2.0415970679430617,
           1.4466853735531393,
           0.7281443891760992,
           1.4363439536824332,
           1.1042967073383576
          ],
          "sizemode": "area",
          "sizeref": 0.009715591290451459,
          "symbol": "circle"
         },
         "mode": "markers",
         "name": "Americas",
         "orientation": "v",
         "showlegend": true,
         "type": "scatter",
         "x": [
          66843,
          16449245,
          137910,
          341145,
          276784,
          202429,
          66966,
          74696771,
          29674,
          11846863,
          51864,
          5621550,
          7498563,
          2479298,
          11333471,
          143784,
          70138,
          8232586,
          6400048,
          6410726,
          57068,
          96121,
          2392442,
          513235,
          9155693,
          3324144,
          2820558,
          22647771,
          3482653,
          3249531,
          13765608,
          4249848,
          36102,
          163227,
          120149,
          37429,
          402263,
          1358433,
          22570,
          112925034,
          2433597,
          16094897
         ],
         "xaxis": "x",
         "y": [
          320.835,
          21901.46,
          252.58,
          967.25,
          1146.83,
          252.215,
          122.64,
          89582.315,
          54.385,
          7959.5549999999985,
          94.9,
          4853.04,
          7849.69,
          4664.335,
          7337.96,
          263.53,
          75.92,
          8618.015,
          6836.815,
          6848.13,
          104.39,
          227.395,
          4872.75,
          2186.715,
          5981.985,
          4556.66,
          702.26,
          14248.14,
          3621.53,
          3429.905,
          14410.2,
          7785.45,
          171.54999999999995,
          619.405,
          193.085,
          68.62,
          477.42,
          35628.38,
          41.245,
          275424.62,
          4458.11,
          29484.7
         ],
         "yaxis": "y"
        },
        {
         "customdata": [
          [
           "Australia"
          ],
          [
           "Fiji"
          ],
          [
           "French Polynesia"
          ],
          [
           "Guam"
          ],
          [
           "Kiribati"
          ],
          [
           "Marshall Islands"
          ],
          [
           "Micronesia (country)"
          ],
          [
           "Nauru"
          ],
          [
           "New Caledonia"
          ],
          [
           "New Zealand"
          ],
          [
           "Northern Mariana Islands"
          ],
          [
           "Palau"
          ],
          [
           "Papua New Guinea"
          ],
          [
           "Samoa"
          ],
          [
           "Solomon Islands"
          ],
          [
           "Tonga"
          ],
          [
           "Tuvalu"
          ],
          [
           "Vanuatu"
          ]
         ],
         "hovertemplate": "Continent=Oceania<br>Coastal population=%{x}<br>Littered Plastic Waste=%{y}<br>Littered waste(%)=%{marker.size}<br>Country=%{customdata[0]}<extra></extra>",
         "legendgroup": "Oceania",
         "marker": {
          "color": "#ab63fa",
          "size": [
           1.5420925589957564,
           2.0728288719573866,
           2.0121376958675,
           2.3842220100913676,
           1.8254729204457112,
           2.2054980947196516,
           2.9706033376123235,
           3.0474383301707775,
           2.0539682539682538,
           1.7665658352833742,
           3.8862365161805834,
           2.2727695167286246,
           0.767877590426368,
           1.7937142857142858,
           2.328847898397339,
           1.9550495516753186,
           2.1741877256317688,
           2.1217427190189837
          ],
          "sizemode": "area",
          "sizeref": 0.009715591290451459,
          "symbol": "circle"
         },
         "mode": "markers",
         "name": "Oceania",
         "orientation": "v",
         "showlegend": true,
         "type": "scatter",
         "x": [
          17235954,
          896145,
          270618,
          190809,
          94487,
          58086,
          154895,
          15289,
          257904,
          3862054,
          106256,
          23446,
          2747514,
          168025,
          618678,
          102872,
          11563,
          251851
         ],
         "xaxis": "x",
         "y": [
          13888.98,
          1229.685,
          495.67,
          349.67,
          70.445,
          81.03,
          115.705,
          16.06,
          472.31,
          9285.6,
          194.545,
          24.455,
          2052.03,
          125.56,
          462.09,
          165.71,
          12.045,
          539.835
         ],
         "yaxis": "y"
        },
        {
         "customdata": [
          [
           "Bahrain"
          ],
          [
           "Bangladesh"
          ],
          [
           "Brunei"
          ],
          [
           "Cambodia"
          ],
          [
           "China"
          ],
          [
           "Cyprus"
          ],
          [
           "Georgia"
          ],
          [
           "Hong Kong"
          ],
          [
           "India"
          ],
          [
           "Indonesia"
          ],
          [
           "Iran"
          ],
          [
           "Iraq"
          ],
          [
           "Israel"
          ],
          [
           "Japan"
          ],
          [
           "Jordan"
          ],
          [
           "Kuwait"
          ],
          [
           "Lebanon"
          ],
          [
           "Macao"
          ],
          [
           "Malaysia"
          ],
          [
           "Maldives"
          ],
          [
           "Myanmar"
          ],
          [
           "North Korea"
          ],
          [
           "Oman"
          ],
          [
           "Pakistan"
          ],
          [
           "Palestine"
          ],
          [
           "Philippines"
          ],
          [
           "Qatar"
          ],
          [
           "Saudi Arabia"
          ],
          [
           "Singapore"
          ],
          [
           "South Korea"
          ],
          [
           "Sri Lanka"
          ],
          [
           "Syria"
          ],
          [
           "Thailand"
          ],
          [
           "Turkey"
          ],
          [
           "United Arab Emirates"
          ],
          [
           "Vietnam"
          ],
          [
           "Yemen"
          ]
         ],
         "hovertemplate": "Continent=Asia<br>Coastal population=%{x}<br>Littered Plastic Waste=%{y}<br>Littered waste(%)=%{marker.size}<br>Country=%{customdata[0]}<extra></extra>",
         "legendgroup": "Asia",
         "marker": {
          "color": "#FFA15A",
          "size": [
           1.1935686208915277,
           0.9367167680876193,
           1.8309381778741862,
           0.1935665423065988,
           0.3912634281859834,
           1.506925620327068,
           0.5622415155526821,
           2.150890429887711,
           0.30553684777480034,
           1.542331769101459,
           0.24304972255023133,
           0.041280595992819864,
           1.7444508709688349,
           1.7904682173203716,
           0.01537326559048068,
           1.5245407558379624,
           1.7905743681412836,
           0.9574633280647753,
           1.6189405293661634,
           2.1341169379144063,
           0.7529322266714639,
           1.401413245306375,
           1.7010970391738427,
           0.1698344252605576,
           1.5930953033000137,
           1.7747076311713539,
           0.7290658404933947,
           0.2609617076647426,
           1.760307163342912,
           1.6658738002104876,
           1.4378594647708314,
           0.34351205409514096,
           0.7717758977719714,
           0.9392103178736878,
           0.48649168277177685,
           1.2764284732976015,
           0.5090276361497559
          ],
          "sizemode": "area",
          "sizeref": 0.009715591290451459,
          "symbol": "circle"
         },
         "mode": "markers",
         "name": "Asia",
         "orientation": "v",
         "showlegend": true,
         "type": "scatter",
         "x": [
          743574,
          70874124,
          359871,
          1391254,
          262892387,
          840556,
          1124249,
          7573074,
          187493433,
          187223476,
          9099695,
          639228,
          6677810,
          115228891,
          55392,
          2293604,
          3890871,
          257911,
          22890252,
          392567,
          18988522,
          17327483,
          2597556,
          14581952,
          3045258,
          83446862,
          653007,
          3593471,
          4492494,
          41654619,
          14568174,
          3621997,
          26043442,
          34042862,
          2018302,
          55858245,
          6048920
         ],
         "xaxis": "x",
         "y": [
          713.5749999999998,
          17686.805,
          67.52499999999999,
          667.22,
          231157.42,
          1517.67,
          547.865,
          21947.815,
          13728.015,
          77821.65,
          9525.77,
          477.42,
          14416.77,
          143120.88,
          58.035,
          11444.575,
          2664.5,
          690.5799999999998,
          32891.61,
          920.53,
          10337.895,
          6792.65,
          1586.29,
          10890.14,
          1396.125,
          45534.845,
          757.74,
          4075.225,
          6328.005,
          33746.805,
          37695.01,
          4690.98,
          27262.945,
          52564.38,
          2922.555,
          41716.58,
          4517.605
         ],
         "yaxis": "y"
        }
       ],
       "layout": {
        "autosize": false,
        "height": 1000,
        "legend": {
         "itemsizing": "constant",
         "title": {
          "text": "Continent"
         },
         "tracegroupgap": 0
        },
        "margin": {
         "b": 100,
         "l": 50,
         "pad": 4,
         "r": 50,
         "t": 100
        },
        "paper_bgcolor": "snow",
        "plot_bgcolor": "papayawhip",
        "template": {
         "data": {
          "bar": [
           {
            "error_x": {
             "color": "#2a3f5f"
            },
            "error_y": {
             "color": "#2a3f5f"
            },
            "marker": {
             "line": {
              "color": "#E5ECF6",
              "width": 0.5
             }
            },
            "type": "bar"
           }
          ],
          "barpolar": [
           {
            "marker": {
             "line": {
              "color": "#E5ECF6",
              "width": 0.5
             }
            },
            "type": "barpolar"
           }
          ],
          "carpet": [
           {
            "aaxis": {
             "endlinecolor": "#2a3f5f",
             "gridcolor": "white",
             "linecolor": "white",
             "minorgridcolor": "white",
             "startlinecolor": "#2a3f5f"
            },
            "baxis": {
             "endlinecolor": "#2a3f5f",
             "gridcolor": "white",
             "linecolor": "white",
             "minorgridcolor": "white",
             "startlinecolor": "#2a3f5f"
            },
            "type": "carpet"
           }
          ],
          "choropleth": [
           {
            "colorbar": {
             "outlinewidth": 0,
             "ticks": ""
            },
            "type": "choropleth"
           }
          ],
          "contour": [
           {
            "colorbar": {
             "outlinewidth": 0,
             "ticks": ""
            },
            "colorscale": [
             [
              0,
              "#0d0887"
             ],
             [
              0.1111111111111111,
              "#46039f"
             ],
             [
              0.2222222222222222,
              "#7201a8"
             ],
             [
              0.3333333333333333,
              "#9c179e"
             ],
             [
              0.4444444444444444,
              "#bd3786"
             ],
             [
              0.5555555555555556,
              "#d8576b"
             ],
             [
              0.6666666666666666,
              "#ed7953"
             ],
             [
              0.7777777777777778,
              "#fb9f3a"
             ],
             [
              0.8888888888888888,
              "#fdca26"
             ],
             [
              1,
              "#f0f921"
             ]
            ],
            "type": "contour"
           }
          ],
          "contourcarpet": [
           {
            "colorbar": {
             "outlinewidth": 0,
             "ticks": ""
            },
            "type": "contourcarpet"
           }
          ],
          "heatmap": [
           {
            "colorbar": {
             "outlinewidth": 0,
             "ticks": ""
            },
            "colorscale": [
             [
              0,
              "#0d0887"
             ],
             [
              0.1111111111111111,
              "#46039f"
             ],
             [
              0.2222222222222222,
              "#7201a8"
             ],
             [
              0.3333333333333333,
              "#9c179e"
             ],
             [
              0.4444444444444444,
              "#bd3786"
             ],
             [
              0.5555555555555556,
              "#d8576b"
             ],
             [
              0.6666666666666666,
              "#ed7953"
             ],
             [
              0.7777777777777778,
              "#fb9f3a"
             ],
             [
              0.8888888888888888,
              "#fdca26"
             ],
             [
              1,
              "#f0f921"
             ]
            ],
            "type": "heatmap"
           }
          ],
          "heatmapgl": [
           {
            "colorbar": {
             "outlinewidth": 0,
             "ticks": ""
            },
            "colorscale": [
             [
              0,
              "#0d0887"
             ],
             [
              0.1111111111111111,
              "#46039f"
             ],
             [
              0.2222222222222222,
              "#7201a8"
             ],
             [
              0.3333333333333333,
              "#9c179e"
             ],
             [
              0.4444444444444444,
              "#bd3786"
             ],
             [
              0.5555555555555556,
              "#d8576b"
             ],
             [
              0.6666666666666666,
              "#ed7953"
             ],
             [
              0.7777777777777778,
              "#fb9f3a"
             ],
             [
              0.8888888888888888,
              "#fdca26"
             ],
             [
              1,
              "#f0f921"
             ]
            ],
            "type": "heatmapgl"
           }
          ],
          "histogram": [
           {
            "marker": {
             "colorbar": {
              "outlinewidth": 0,
              "ticks": ""
             }
            },
            "type": "histogram"
           }
          ],
          "histogram2d": [
           {
            "colorbar": {
             "outlinewidth": 0,
             "ticks": ""
            },
            "colorscale": [
             [
              0,
              "#0d0887"
             ],
             [
              0.1111111111111111,
              "#46039f"
             ],
             [
              0.2222222222222222,
              "#7201a8"
             ],
             [
              0.3333333333333333,
              "#9c179e"
             ],
             [
              0.4444444444444444,
              "#bd3786"
             ],
             [
              0.5555555555555556,
              "#d8576b"
             ],
             [
              0.6666666666666666,
              "#ed7953"
             ],
             [
              0.7777777777777778,
              "#fb9f3a"
             ],
             [
              0.8888888888888888,
              "#fdca26"
             ],
             [
              1,
              "#f0f921"
             ]
            ],
            "type": "histogram2d"
           }
          ],
          "histogram2dcontour": [
           {
            "colorbar": {
             "outlinewidth": 0,
             "ticks": ""
            },
            "colorscale": [
             [
              0,
              "#0d0887"
             ],
             [
              0.1111111111111111,
              "#46039f"
             ],
             [
              0.2222222222222222,
              "#7201a8"
             ],
             [
              0.3333333333333333,
              "#9c179e"
             ],
             [
              0.4444444444444444,
              "#bd3786"
             ],
             [
              0.5555555555555556,
              "#d8576b"
             ],
             [
              0.6666666666666666,
              "#ed7953"
             ],
             [
              0.7777777777777778,
              "#fb9f3a"
             ],
             [
              0.8888888888888888,
              "#fdca26"
             ],
             [
              1,
              "#f0f921"
             ]
            ],
            "type": "histogram2dcontour"
           }
          ],
          "mesh3d": [
           {
            "colorbar": {
             "outlinewidth": 0,
             "ticks": ""
            },
            "type": "mesh3d"
           }
          ],
          "parcoords": [
           {
            "line": {
             "colorbar": {
              "outlinewidth": 0,
              "ticks": ""
             }
            },
            "type": "parcoords"
           }
          ],
          "pie": [
           {
            "automargin": true,
            "type": "pie"
           }
          ],
          "scatter": [
           {
            "marker": {
             "colorbar": {
              "outlinewidth": 0,
              "ticks": ""
             }
            },
            "type": "scatter"
           }
          ],
          "scatter3d": [
           {
            "line": {
             "colorbar": {
              "outlinewidth": 0,
              "ticks": ""
             }
            },
            "marker": {
             "colorbar": {
              "outlinewidth": 0,
              "ticks": ""
             }
            },
            "type": "scatter3d"
           }
          ],
          "scattercarpet": [
           {
            "marker": {
             "colorbar": {
              "outlinewidth": 0,
              "ticks": ""
             }
            },
            "type": "scattercarpet"
           }
          ],
          "scattergeo": [
           {
            "marker": {
             "colorbar": {
              "outlinewidth": 0,
              "ticks": ""
             }
            },
            "type": "scattergeo"
           }
          ],
          "scattergl": [
           {
            "marker": {
             "colorbar": {
              "outlinewidth": 0,
              "ticks": ""
             }
            },
            "type": "scattergl"
           }
          ],
          "scattermapbox": [
           {
            "marker": {
             "colorbar": {
              "outlinewidth": 0,
              "ticks": ""
             }
            },
            "type": "scattermapbox"
           }
          ],
          "scatterpolar": [
           {
            "marker": {
             "colorbar": {
              "outlinewidth": 0,
              "ticks": ""
             }
            },
            "type": "scatterpolar"
           }
          ],
          "scatterpolargl": [
           {
            "marker": {
             "colorbar": {
              "outlinewidth": 0,
              "ticks": ""
             }
            },
            "type": "scatterpolargl"
           }
          ],
          "scatterternary": [
           {
            "marker": {
             "colorbar": {
              "outlinewidth": 0,
              "ticks": ""
             }
            },
            "type": "scatterternary"
           }
          ],
          "surface": [
           {
            "colorbar": {
             "outlinewidth": 0,
             "ticks": ""
            },
            "colorscale": [
             [
              0,
              "#0d0887"
             ],
             [
              0.1111111111111111,
              "#46039f"
             ],
             [
              0.2222222222222222,
              "#7201a8"
             ],
             [
              0.3333333333333333,
              "#9c179e"
             ],
             [
              0.4444444444444444,
              "#bd3786"
             ],
             [
              0.5555555555555556,
              "#d8576b"
             ],
             [
              0.6666666666666666,
              "#ed7953"
             ],
             [
              0.7777777777777778,
              "#fb9f3a"
             ],
             [
              0.8888888888888888,
              "#fdca26"
             ],
             [
              1,
              "#f0f921"
             ]
            ],
            "type": "surface"
           }
          ],
          "table": [
           {
            "cells": {
             "fill": {
              "color": "#EBF0F8"
             },
             "line": {
              "color": "white"
             }
            },
            "header": {
             "fill": {
              "color": "#C8D4E3"
             },
             "line": {
              "color": "white"
             }
            },
            "type": "table"
           }
          ]
         },
         "layout": {
          "annotationdefaults": {
           "arrowcolor": "#2a3f5f",
           "arrowhead": 0,
           "arrowwidth": 1
          },
          "autotypenumbers": "strict",
          "coloraxis": {
           "colorbar": {
            "outlinewidth": 0,
            "ticks": ""
           }
          },
          "colorscale": {
           "diverging": [
            [
             0,
             "#8e0152"
            ],
            [
             0.1,
             "#c51b7d"
            ],
            [
             0.2,
             "#de77ae"
            ],
            [
             0.3,
             "#f1b6da"
            ],
            [
             0.4,
             "#fde0ef"
            ],
            [
             0.5,
             "#f7f7f7"
            ],
            [
             0.6,
             "#e6f5d0"
            ],
            [
             0.7,
             "#b8e186"
            ],
            [
             0.8,
             "#7fbc41"
            ],
            [
             0.9,
             "#4d9221"
            ],
            [
             1,
             "#276419"
            ]
           ],
           "sequential": [
            [
             0,
             "#0d0887"
            ],
            [
             0.1111111111111111,
             "#46039f"
            ],
            [
             0.2222222222222222,
             "#7201a8"
            ],
            [
             0.3333333333333333,
             "#9c179e"
            ],
            [
             0.4444444444444444,
             "#bd3786"
            ],
            [
             0.5555555555555556,
             "#d8576b"
            ],
            [
             0.6666666666666666,
             "#ed7953"
            ],
            [
             0.7777777777777778,
             "#fb9f3a"
            ],
            [
             0.8888888888888888,
             "#fdca26"
            ],
            [
             1,
             "#f0f921"
            ]
           ],
           "sequentialminus": [
            [
             0,
             "#0d0887"
            ],
            [
             0.1111111111111111,
             "#46039f"
            ],
            [
             0.2222222222222222,
             "#7201a8"
            ],
            [
             0.3333333333333333,
             "#9c179e"
            ],
            [
             0.4444444444444444,
             "#bd3786"
            ],
            [
             0.5555555555555556,
             "#d8576b"
            ],
            [
             0.6666666666666666,
             "#ed7953"
            ],
            [
             0.7777777777777778,
             "#fb9f3a"
            ],
            [
             0.8888888888888888,
             "#fdca26"
            ],
            [
             1,
             "#f0f921"
            ]
           ]
          },
          "colorway": [
           "#636efa",
           "#EF553B",
           "#00cc96",
           "#ab63fa",
           "#FFA15A",
           "#19d3f3",
           "#FF6692",
           "#B6E880",
           "#FF97FF",
           "#FECB52"
          ],
          "font": {
           "color": "#2a3f5f"
          },
          "geo": {
           "bgcolor": "white",
           "lakecolor": "white",
           "landcolor": "#E5ECF6",
           "showlakes": true,
           "showland": true,
           "subunitcolor": "white"
          },
          "hoverlabel": {
           "align": "left"
          },
          "hovermode": "closest",
          "mapbox": {
           "style": "light"
          },
          "paper_bgcolor": "white",
          "plot_bgcolor": "#E5ECF6",
          "polar": {
           "angularaxis": {
            "gridcolor": "white",
            "linecolor": "white",
            "ticks": ""
           },
           "bgcolor": "#E5ECF6",
           "radialaxis": {
            "gridcolor": "white",
            "linecolor": "white",
            "ticks": ""
           }
          },
          "scene": {
           "xaxis": {
            "backgroundcolor": "#E5ECF6",
            "gridcolor": "white",
            "gridwidth": 2,
            "linecolor": "white",
            "showbackground": true,
            "ticks": "",
            "zerolinecolor": "white"
           },
           "yaxis": {
            "backgroundcolor": "#E5ECF6",
            "gridcolor": "white",
            "gridwidth": 2,
            "linecolor": "white",
            "showbackground": true,
            "ticks": "",
            "zerolinecolor": "white"
           },
           "zaxis": {
            "backgroundcolor": "#E5ECF6",
            "gridcolor": "white",
            "gridwidth": 2,
            "linecolor": "white",
            "showbackground": true,
            "ticks": "",
            "zerolinecolor": "white"
           }
          },
          "shapedefaults": {
           "line": {
            "color": "#2a3f5f"
           }
          },
          "ternary": {
           "aaxis": {
            "gridcolor": "white",
            "linecolor": "white",
            "ticks": ""
           },
           "baxis": {
            "gridcolor": "white",
            "linecolor": "white",
            "ticks": ""
           },
           "bgcolor": "#E5ECF6",
           "caxis": {
            "gridcolor": "white",
            "linecolor": "white",
            "ticks": ""
           }
          },
          "title": {
           "x": 0.05
          },
          "xaxis": {
           "automargin": true,
           "gridcolor": "white",
           "linecolor": "white",
           "ticks": "",
           "title": {
            "standoff": 15
           },
           "zerolinecolor": "white",
           "zerolinewidth": 2
          },
          "yaxis": {
           "automargin": true,
           "gridcolor": "white",
           "linecolor": "white",
           "ticks": "",
           "title": {
            "standoff": 15
           },
           "zerolinecolor": "white",
           "zerolinewidth": 2
          }
         }
        },
        "title": {
         "text": "PLOT 2: Littered Plastic Wastes VS Costal Population"
        },
        "width": 1000,
        "xaxis": {
         "anchor": "y",
         "domain": [
          0,
          1
         ],
         "title": {
          "text": "Coastal population"
         },
         "type": "log"
        },
        "yaxis": {
         "anchor": "x",
         "domain": [
          0,
          1
         ],
         "title": {
          "text": "Littered Plastic Waste"
         },
         "type": "log"
        }
       }
      },
      "text/html": [
       "<div>                            <div id=\"42cfa658-f5da-4df4-9d86-15d6fbeb5e8b\" class=\"plotly-graph-div\" style=\"height:1000px; width:1000px;\"></div>            <script type=\"text/javascript\">                require([\"plotly\"], function(Plotly) {                    window.PLOTLYENV=window.PLOTLYENV || {};                                    if (document.getElementById(\"42cfa658-f5da-4df4-9d86-15d6fbeb5e8b\")) {                    Plotly.newPlot(                        \"42cfa658-f5da-4df4-9d86-15d6fbeb5e8b\",                        [{\"customdata\": [[\"Albania\"], [\"Belgium\"], [\"Bosnia and Herzegovina\"], [\"Bulgaria\"], [\"Croatia\"], [\"Denmark\"], [\"Estonia\"], [\"Faeroe Islands\"], [\"Finland\"], [\"France\"], [\"Germany\"], [\"Gibraltar\"], [\"Greece\"], [\"Iceland\"], [\"Ireland\"], [\"Italy\"], [\"Latvia\"], [\"Lithuania\"], [\"Malta\"], [\"Monaco\"], [\"Montenegro\"], [\"Netherlands\"], [\"Norway\"], [\"Poland\"], [\"Portugal\"], [\"Romania\"], [\"Russia\"], [\"Slovenia\"], [\"Spain\"], [\"Sweden\"], [\"Ukraine\"], [\"United Kingdom\"]], \"hovertemplate\": \"Continent=Europe<br>Coastal population=%{x}<br>Littered Plastic Waste=%{y}<br>Littered waste(%)=%{marker.size}<br>Country=%{customdata[0]}<extra></extra>\", \"legendgroup\": \"Europe\", \"marker\": {\"color\": \"#636efa\", \"size\": [1.735347036693746, 0.8621613636292201, 0.3132574770105248, 0.2692894274092089, 0.7225499388453711, 1.8815500520116422, 1.3164647976243367, 2.0759068517689205, 1.0881857912522594, 0.5290308940192157, 0.21578944059987729, 2.008516213560432, 1.7526211480332767, 1.8339515634580013, 1.6361140452358198, 1.1299641149563096, 1.3552693948491072, 0.28544097247817085, 1.9412854804336412, 1.8292790152403282, 0.8374696685812574, 1.0772291959471074, 1.6816755456470318, 0.17094152891258108, 1.603856718064151, 0.08455144417417079, 0.1502143523152362, 0.32756108134033074, 0.9736858422855725, 1.3088950427558503, 0.2950463001352848, 1.371390838457931], \"sizemode\": \"area\", \"sizeref\": 0.009715591290451459, \"symbol\": \"circle\"}, \"mode\": \"markers\", \"name\": \"Europe\", \"orientation\": \"v\", \"showlegend\": true, \"type\": \"scatter\", \"x\": [2530533.0, 4747957.0, 585582.0, 1002695.0, 1602782.0, 5376386.0, 878021.0, 50554.0, 2927674.0, 17287280.0, 8837035.0, 33483.0, 9794702.0, 292708.0, 3749576.0, 33822532.0, 1432078.0, 443894.0, 404707.0, 34050.0, 260336.0, 8971770.0, 4131679.0, 3272933.0, 8507951.0, 875170.0, 10812537.0, 336594.0, 22771488.0, 6202234.0, 6812799.0, 43258889.0], \"xaxis\": \"x\", \"y\": [1273.12, 2742.975, 612.835, 1119.455, 2936.06, 1790.69, 1126.025, 92.71, 4984.805, 24108.615, 31238.89, 61.32, 14228.795, 598.235, 11709.93, 32760.575, 1286.625, 425.955, 628.53, 62.415, 272.655, 27699.85, 8403.03, 2302.42, 16402.37, 262.435, 8772.045, 355.145, 45852.395, 2150.58, 5088.0999999999985, 67549.09], \"yaxis\": \"y\"}, {\"customdata\": [[\"Algeria\"], [\"Angola\"], [\"Benin\"], [\"Cameroon\"], [\"Cape Verde\"], [\"Comoros\"], [\"Congo\"], [\"Cote d'Ivoire\"], [\"Democratic Republic of Congo\"], [\"Djibouti\"], [\"Egypt\"], [\"Equatorial Guinea\"], [\"Eritrea\"], [\"Gabon\"], [\"Gambia\"], [\"Ghana\"], [\"Guinea\"], [\"Guinea-Bissau\"], [\"Kenya\"], [\"Liberia\"], [\"Libya\"], [\"Madagascar\"], [\"Mauritania\"], [\"Mauritius\"], [\"Morocco\"], [\"Mozambique\"], [\"Namibia\"], [\"Nigeria\"], [\"Sao Tome and Principe\"], [\"Senegal\"], [\"Seychelles\"], [\"Sierra Leone\"], [\"Somalia\"], [\"South Africa\"], [\"Sudan\"], [\"Tanzania\"], [\"Togo\"], [\"Tunisia\"]], \"hovertemplate\": \"Continent=Africa<br>Coastal population=%{x}<br>Littered Plastic Waste=%{y}<br>Littered waste(%)=%{marker.size}<br>Country=%{customdata[0]}<extra></extra>\", \"legendgroup\": \"Africa\", \"marker\": {\"color\": \"#EF553B\", \"size\": [0.9129888539636936, 0.3252156121949236, 0.7022828330401296, 0.19811813125363475, 2.070140112425539, 2.70292891163857, 0.3845617719204555, 0.606661381925141, 0.03316631990149038, 1.4509203412606644, 0.5155180620411381, 0.7359871974394879, 0.573412368275097, 1.04659902873581, 1.5463806247048506, 0.6164296671761527, 0.36624758875088836, 1.544935759473032, 0.1313084960712235, 1.084295745559686, 1.3075836545875097, 0.6509520262940596, 0.5540843692546427, 1.998666298310962, 1.0571011690048695, 0.8072761137755256, 0.14220115214231932, 0.3442053927118715, 1.8608278800791356, 1.2496499075344016, 2.025703324808184, 0.8779938958150122, 0.9852905892603833, 0.5039450955909783, 0.04348128780729304, 0.2936048765109897, 0.6118674885804247, 1.3618112242617144], \"sizemode\": \"area\", \"sizeref\": 0.009715591290451459, \"symbol\": \"circle\"}, \"mode\": \"markers\", \"name\": \"Africa\", \"orientation\": \"v\", \"showlegend\": true, \"type\": \"scatter\", \"x\": [16556580.0, 3790041.0, 3235418.0, 1986723.0, 522245.0, 938595.0, 847807.0, 6230583.0, 1076056.0, 621744.0, 21750943.0, 351600.0, 1266222.0, 862328.0, 1324214.0, 7727702.0, 1996496.0, 1208106.0, 2729945.0, 2148271.0, 4050128.0, 7062413.0, 1005481.0, 1255952.0, 17303431.0, 9566559.0, 155084.0, 27477112.0, 163740.0, 8125063.0, 91361.0, 2887017.0, 5971169.0, 12899201.0, 752529.0, 6688695.0, 1991642.0, 7274973.0], \"xaxis\": \"x\", \"y\": [17331.66, 1719.88, 1013.97, 664.3, 246.74, 1367.655, 424.86, 4653.02, 351.495, 464.28, 28170.335, 367.92, 413.545, 338.355, 458.44, 2206.06, 432.89, 473.77, 535.09, 1312.54, 4239.84, 804.095, 328.5, 2098.02, 9128.65, 1070.545, 162.42499999999995, 20520.665, 122.275, 6068.125, 237.615, 848.625, 2340.745, 22505.17, 562.1, 1136.245, 827.8199999999998, 7615.7249999999985], \"yaxis\": \"y\"}, {\"customdata\": [[\"Antigua and Barbuda\"], [\"Argentina\"], [\"Aruba\"], [\"Bahamas\"], [\"Barbados\"], [\"Belize\"], [\"Bermuda\"], [\"Brazil\"], [\"British Virgin Islands\"], [\"Canada\"], [\"Cayman Islands\"], [\"Chile\"], [\"Colombia\"], [\"Costa Rica\"], [\"Cuba\"], [\"Curacao\"], [\"Dominica\"], [\"Dominican Republic\"], [\"Ecuador\"], [\"El Salvador\"], [\"Greenland\"], [\"Grenada\"], [\"Guatemala\"], [\"Guyana\"], [\"Haiti\"], [\"Honduras\"], [\"Jamaica\"], [\"Mexico\"], [\"Nicaragua\"], [\"Panama\"], [\"Peru\"], [\"Puerto Rico\"], [\"Saint Kitts and Nevis\"], [\"Saint Lucia\"], [\"Saint Vincent and the Grenadines\"], [\"Sint Maarten (Dutch part)\"], [\"Suriname\"], [\"Trinidad and Tobago\"], [\"Turks and Caicos Islands\"], [\"United States\"], [\"Uruguay\"], [\"Venezuela\"]], \"hovertemplate\": \"Continent=Americas<br>Coastal population=%{x}<br>Littered Plastic Waste=%{y}<br>Littered waste(%)=%{marker.size}<br>Country=%{customdata[0]}<extra></extra>\", \"legendgroup\": \"Americas\", \"marker\": {\"color\": \"#00cc96\", \"size\": [1.4069242238203823, 0.7953899511539649, 2.7008126603934985, 1.88312826103886, 1.9717179011072141, 1.249145658956961, 2.0474123539232054, 0.7558378272797418, 2.1719249201277955, 0.6895514979091386, 1.8585977281629456, 0.6574990584008259, 0.3252470006691652, 1.0897240607528929, 1.9931767684175643, 1.9266705658722032, 1.9541827541827541, 1.6565523856388806, 0.853193039992712, 2.07040388435224, 1.9944593045471914, 1.8313199645647096, 0.32588653644358156, 1.369427170421027, 1.8210720667788984, 0.8060362593023029, 2.0086379497740405, 0.3824528655901293, 1.209272739414986, 1.7788302959267288, 0.9333762555226154, 2.2744123678813692, 1.3969869706840388, 1.8837205766072624, 2.1896688591517353, 2.1029727244866687, 1.5253035143769968, 2.0415970679430617, 1.4466853735531393, 0.7281443891760992, 1.4363439536824332, 1.1042967073383576], \"sizemode\": \"area\", \"sizeref\": 0.009715591290451459, \"symbol\": \"circle\"}, \"mode\": \"markers\", \"name\": \"Americas\", \"orientation\": \"v\", \"showlegend\": true, \"type\": \"scatter\", \"x\": [66843.0, 16449245.0, 137910.0, 341145.0, 276784.0, 202429.0, 66966.0, 74696771.0, 29674.0, 11846863.0, 51864.0, 5621550.0, 7498563.0, 2479298.0, 11333471.0, 143784.0, 70138.0, 8232586.0, 6400048.0, 6410726.0, 57068.0, 96121.0, 2392442.0, 513235.0, 9155693.0, 3324144.0, 2820558.0, 22647771.0, 3482653.0, 3249531.0, 13765608.0, 4249848.0, 36102.0, 163227.0, 120149.0, 37429.0, 402263.0, 1358433.0, 22570.0, 112925034.0, 2433597.0, 16094897.0], \"xaxis\": \"x\", \"y\": [320.835, 21901.46, 252.58, 967.25, 1146.83, 252.215, 122.64, 89582.315, 54.385, 7959.5549999999985, 94.9, 4853.04, 7849.69, 4664.335, 7337.96, 263.53, 75.92, 8618.015, 6836.815, 6848.13, 104.39, 227.395, 4872.75, 2186.715, 5981.985, 4556.66, 702.26, 14248.14, 3621.53, 3429.905, 14410.2, 7785.45, 171.54999999999995, 619.405, 193.085, 68.62, 477.42, 35628.38, 41.245, 275424.62, 4458.11, 29484.7], \"yaxis\": \"y\"}, {\"customdata\": [[\"Australia\"], [\"Fiji\"], [\"French Polynesia\"], [\"Guam\"], [\"Kiribati\"], [\"Marshall Islands\"], [\"Micronesia (country)\"], [\"Nauru\"], [\"New Caledonia\"], [\"New Zealand\"], [\"Northern Mariana Islands\"], [\"Palau\"], [\"Papua New Guinea\"], [\"Samoa\"], [\"Solomon Islands\"], [\"Tonga\"], [\"Tuvalu\"], [\"Vanuatu\"]], \"hovertemplate\": \"Continent=Oceania<br>Coastal population=%{x}<br>Littered Plastic Waste=%{y}<br>Littered waste(%)=%{marker.size}<br>Country=%{customdata[0]}<extra></extra>\", \"legendgroup\": \"Oceania\", \"marker\": {\"color\": \"#ab63fa\", \"size\": [1.5420925589957564, 2.0728288719573866, 2.0121376958675, 2.3842220100913676, 1.8254729204457112, 2.2054980947196516, 2.9706033376123235, 3.0474383301707775, 2.0539682539682538, 1.7665658352833742, 3.8862365161805834, 2.2727695167286246, 0.767877590426368, 1.7937142857142858, 2.328847898397339, 1.9550495516753186, 2.1741877256317688, 2.1217427190189837], \"sizemode\": \"area\", \"sizeref\": 0.009715591290451459, \"symbol\": \"circle\"}, \"mode\": \"markers\", \"name\": \"Oceania\", \"orientation\": \"v\", \"showlegend\": true, \"type\": \"scatter\", \"x\": [17235954.0, 896145.0, 270618.0, 190809.0, 94487.0, 58086.0, 154895.0, 15289.0, 257904.0, 3862054.0, 106256.0, 23446.0, 2747514.0, 168025.0, 618678.0, 102872.0, 11563.0, 251851.0], \"xaxis\": \"x\", \"y\": [13888.98, 1229.685, 495.67, 349.67, 70.445, 81.03, 115.705, 16.06, 472.31, 9285.6, 194.545, 24.455, 2052.03, 125.56, 462.09, 165.71, 12.045, 539.835], \"yaxis\": \"y\"}, {\"customdata\": [[\"Bahrain\"], [\"Bangladesh\"], [\"Brunei\"], [\"Cambodia\"], [\"China\"], [\"Cyprus\"], [\"Georgia\"], [\"Hong Kong\"], [\"India\"], [\"Indonesia\"], [\"Iran\"], [\"Iraq\"], [\"Israel\"], [\"Japan\"], [\"Jordan\"], [\"Kuwait\"], [\"Lebanon\"], [\"Macao\"], [\"Malaysia\"], [\"Maldives\"], [\"Myanmar\"], [\"North Korea\"], [\"Oman\"], [\"Pakistan\"], [\"Palestine\"], [\"Philippines\"], [\"Qatar\"], [\"Saudi Arabia\"], [\"Singapore\"], [\"South Korea\"], [\"Sri Lanka\"], [\"Syria\"], [\"Thailand\"], [\"Turkey\"], [\"United Arab Emirates\"], [\"Vietnam\"], [\"Yemen\"]], \"hovertemplate\": \"Continent=Asia<br>Coastal population=%{x}<br>Littered Plastic Waste=%{y}<br>Littered waste(%)=%{marker.size}<br>Country=%{customdata[0]}<extra></extra>\", \"legendgroup\": \"Asia\", \"marker\": {\"color\": \"#FFA15A\", \"size\": [1.1935686208915277, 0.9367167680876193, 1.8309381778741862, 0.1935665423065988, 0.3912634281859834, 1.506925620327068, 0.5622415155526821, 2.150890429887711, 0.30553684777480034, 1.542331769101459, 0.24304972255023133, 0.041280595992819864, 1.7444508709688349, 1.7904682173203716, 0.01537326559048068, 1.5245407558379624, 1.7905743681412836, 0.9574633280647753, 1.6189405293661634, 2.1341169379144063, 0.7529322266714639, 1.401413245306375, 1.7010970391738427, 0.1698344252605576, 1.5930953033000137, 1.7747076311713539, 0.7290658404933947, 0.2609617076647426, 1.760307163342912, 1.6658738002104876, 1.4378594647708314, 0.34351205409514096, 0.7717758977719714, 0.9392103178736878, 0.48649168277177685, 1.2764284732976015, 0.5090276361497559], \"sizemode\": \"area\", \"sizeref\": 0.009715591290451459, \"symbol\": \"circle\"}, \"mode\": \"markers\", \"name\": \"Asia\", \"orientation\": \"v\", \"showlegend\": true, \"type\": \"scatter\", \"x\": [743574.0, 70874124.0, 359871.0, 1391254.0, 262892387.0, 840556.0, 1124249.0, 7573074.0, 187493433.0, 187223476.0, 9099695.0, 639228.0, 6677810.0, 115228891.0, 55392.0, 2293604.0, 3890871.0, 257911.0, 22890252.0, 392567.0, 18988522.0, 17327483.0, 2597556.0, 14581952.0, 3045258.0, 83446862.0, 653007.0, 3593471.0, 4492494.0, 41654619.0, 14568174.0, 3621997.0, 26043442.0, 34042862.0, 2018302.0, 55858245.0, 6048920.0], \"xaxis\": \"x\", \"y\": [713.5749999999998, 17686.805, 67.52499999999999, 667.22, 231157.42, 1517.67, 547.865, 21947.815, 13728.015, 77821.65, 9525.77, 477.42, 14416.77, 143120.88, 58.035, 11444.575, 2664.5, 690.5799999999998, 32891.61, 920.53, 10337.895, 6792.65, 1586.29, 10890.14, 1396.125, 45534.845, 757.74, 4075.225, 6328.005, 33746.805, 37695.01, 4690.98, 27262.945, 52564.38, 2922.555, 41716.58, 4517.605], \"yaxis\": \"y\"}],                        {\"autosize\": false, \"height\": 1000, \"legend\": {\"itemsizing\": \"constant\", \"title\": {\"text\": \"Continent\"}, \"tracegroupgap\": 0}, \"margin\": {\"b\": 100, \"l\": 50, \"pad\": 4, \"r\": 50, \"t\": 100}, \"paper_bgcolor\": \"snow\", \"plot_bgcolor\": \"papayawhip\", \"template\": {\"data\": {\"bar\": [{\"error_x\": {\"color\": \"#2a3f5f\"}, \"error_y\": {\"color\": \"#2a3f5f\"}, \"marker\": {\"line\": {\"color\": \"#E5ECF6\", \"width\": 0.5}}, \"type\": \"bar\"}], \"barpolar\": [{\"marker\": {\"line\": {\"color\": \"#E5ECF6\", \"width\": 0.5}}, \"type\": \"barpolar\"}], \"carpet\": [{\"aaxis\": {\"endlinecolor\": \"#2a3f5f\", \"gridcolor\": \"white\", \"linecolor\": \"white\", \"minorgridcolor\": \"white\", \"startlinecolor\": \"#2a3f5f\"}, \"baxis\": {\"endlinecolor\": \"#2a3f5f\", \"gridcolor\": \"white\", \"linecolor\": \"white\", \"minorgridcolor\": \"white\", \"startlinecolor\": \"#2a3f5f\"}, \"type\": \"carpet\"}], \"choropleth\": [{\"colorbar\": {\"outlinewidth\": 0, \"ticks\": \"\"}, \"type\": \"choropleth\"}], \"contour\": [{\"colorbar\": {\"outlinewidth\": 0, \"ticks\": \"\"}, \"colorscale\": [[0.0, \"#0d0887\"], [0.1111111111111111, \"#46039f\"], [0.2222222222222222, \"#7201a8\"], [0.3333333333333333, \"#9c179e\"], [0.4444444444444444, \"#bd3786\"], [0.5555555555555556, \"#d8576b\"], [0.6666666666666666, \"#ed7953\"], [0.7777777777777778, \"#fb9f3a\"], [0.8888888888888888, \"#fdca26\"], [1.0, \"#f0f921\"]], \"type\": \"contour\"}], \"contourcarpet\": [{\"colorbar\": {\"outlinewidth\": 0, \"ticks\": \"\"}, \"type\": \"contourcarpet\"}], \"heatmap\": [{\"colorbar\": {\"outlinewidth\": 0, \"ticks\": \"\"}, \"colorscale\": [[0.0, \"#0d0887\"], [0.1111111111111111, \"#46039f\"], [0.2222222222222222, \"#7201a8\"], [0.3333333333333333, \"#9c179e\"], [0.4444444444444444, \"#bd3786\"], [0.5555555555555556, \"#d8576b\"], [0.6666666666666666, \"#ed7953\"], [0.7777777777777778, \"#fb9f3a\"], [0.8888888888888888, \"#fdca26\"], [1.0, \"#f0f921\"]], \"type\": \"heatmap\"}], \"heatmapgl\": [{\"colorbar\": {\"outlinewidth\": 0, \"ticks\": \"\"}, \"colorscale\": [[0.0, \"#0d0887\"], [0.1111111111111111, \"#46039f\"], [0.2222222222222222, \"#7201a8\"], [0.3333333333333333, \"#9c179e\"], [0.4444444444444444, \"#bd3786\"], [0.5555555555555556, \"#d8576b\"], [0.6666666666666666, \"#ed7953\"], [0.7777777777777778, \"#fb9f3a\"], [0.8888888888888888, \"#fdca26\"], [1.0, \"#f0f921\"]], \"type\": \"heatmapgl\"}], \"histogram\": [{\"marker\": {\"colorbar\": {\"outlinewidth\": 0, \"ticks\": \"\"}}, \"type\": \"histogram\"}], \"histogram2d\": [{\"colorbar\": {\"outlinewidth\": 0, \"ticks\": \"\"}, \"colorscale\": [[0.0, \"#0d0887\"], [0.1111111111111111, \"#46039f\"], [0.2222222222222222, \"#7201a8\"], [0.3333333333333333, \"#9c179e\"], [0.4444444444444444, \"#bd3786\"], [0.5555555555555556, \"#d8576b\"], [0.6666666666666666, \"#ed7953\"], [0.7777777777777778, \"#fb9f3a\"], [0.8888888888888888, \"#fdca26\"], [1.0, \"#f0f921\"]], \"type\": \"histogram2d\"}], \"histogram2dcontour\": [{\"colorbar\": {\"outlinewidth\": 0, \"ticks\": \"\"}, \"colorscale\": [[0.0, \"#0d0887\"], [0.1111111111111111, \"#46039f\"], [0.2222222222222222, \"#7201a8\"], [0.3333333333333333, \"#9c179e\"], [0.4444444444444444, \"#bd3786\"], [0.5555555555555556, \"#d8576b\"], [0.6666666666666666, \"#ed7953\"], [0.7777777777777778, \"#fb9f3a\"], [0.8888888888888888, \"#fdca26\"], [1.0, \"#f0f921\"]], \"type\": \"histogram2dcontour\"}], \"mesh3d\": [{\"colorbar\": {\"outlinewidth\": 0, \"ticks\": \"\"}, \"type\": \"mesh3d\"}], \"parcoords\": [{\"line\": {\"colorbar\": {\"outlinewidth\": 0, \"ticks\": \"\"}}, \"type\": \"parcoords\"}], \"pie\": [{\"automargin\": true, \"type\": \"pie\"}], \"scatter\": [{\"marker\": {\"colorbar\": {\"outlinewidth\": 0, \"ticks\": \"\"}}, \"type\": \"scatter\"}], \"scatter3d\": [{\"line\": {\"colorbar\": {\"outlinewidth\": 0, \"ticks\": \"\"}}, \"marker\": {\"colorbar\": {\"outlinewidth\": 0, \"ticks\": \"\"}}, \"type\": \"scatter3d\"}], \"scattercarpet\": [{\"marker\": {\"colorbar\": {\"outlinewidth\": 0, \"ticks\": \"\"}}, \"type\": \"scattercarpet\"}], \"scattergeo\": [{\"marker\": {\"colorbar\": {\"outlinewidth\": 0, \"ticks\": \"\"}}, \"type\": \"scattergeo\"}], \"scattergl\": [{\"marker\": {\"colorbar\": {\"outlinewidth\": 0, \"ticks\": \"\"}}, \"type\": \"scattergl\"}], \"scattermapbox\": [{\"marker\": {\"colorbar\": {\"outlinewidth\": 0, \"ticks\": \"\"}}, \"type\": \"scattermapbox\"}], \"scatterpolar\": [{\"marker\": {\"colorbar\": {\"outlinewidth\": 0, \"ticks\": \"\"}}, \"type\": \"scatterpolar\"}], \"scatterpolargl\": [{\"marker\": {\"colorbar\": {\"outlinewidth\": 0, \"ticks\": \"\"}}, \"type\": \"scatterpolargl\"}], \"scatterternary\": [{\"marker\": {\"colorbar\": {\"outlinewidth\": 0, \"ticks\": \"\"}}, \"type\": \"scatterternary\"}], \"surface\": [{\"colorbar\": {\"outlinewidth\": 0, \"ticks\": \"\"}, \"colorscale\": [[0.0, \"#0d0887\"], [0.1111111111111111, \"#46039f\"], [0.2222222222222222, \"#7201a8\"], [0.3333333333333333, \"#9c179e\"], [0.4444444444444444, \"#bd3786\"], [0.5555555555555556, \"#d8576b\"], [0.6666666666666666, \"#ed7953\"], [0.7777777777777778, \"#fb9f3a\"], [0.8888888888888888, \"#fdca26\"], [1.0, \"#f0f921\"]], \"type\": \"surface\"}], \"table\": [{\"cells\": {\"fill\": {\"color\": \"#EBF0F8\"}, \"line\": {\"color\": \"white\"}}, \"header\": {\"fill\": {\"color\": \"#C8D4E3\"}, \"line\": {\"color\": \"white\"}}, \"type\": \"table\"}]}, \"layout\": {\"annotationdefaults\": {\"arrowcolor\": \"#2a3f5f\", \"arrowhead\": 0, \"arrowwidth\": 1}, \"autotypenumbers\": \"strict\", \"coloraxis\": {\"colorbar\": {\"outlinewidth\": 0, \"ticks\": \"\"}}, \"colorscale\": {\"diverging\": [[0, \"#8e0152\"], [0.1, \"#c51b7d\"], [0.2, \"#de77ae\"], [0.3, \"#f1b6da\"], [0.4, \"#fde0ef\"], [0.5, \"#f7f7f7\"], [0.6, \"#e6f5d0\"], [0.7, \"#b8e186\"], [0.8, \"#7fbc41\"], [0.9, \"#4d9221\"], [1, \"#276419\"]], \"sequential\": [[0.0, \"#0d0887\"], [0.1111111111111111, \"#46039f\"], [0.2222222222222222, \"#7201a8\"], [0.3333333333333333, \"#9c179e\"], [0.4444444444444444, \"#bd3786\"], [0.5555555555555556, \"#d8576b\"], [0.6666666666666666, \"#ed7953\"], [0.7777777777777778, \"#fb9f3a\"], [0.8888888888888888, \"#fdca26\"], [1.0, \"#f0f921\"]], \"sequentialminus\": [[0.0, \"#0d0887\"], [0.1111111111111111, \"#46039f\"], [0.2222222222222222, \"#7201a8\"], [0.3333333333333333, \"#9c179e\"], [0.4444444444444444, \"#bd3786\"], [0.5555555555555556, \"#d8576b\"], [0.6666666666666666, \"#ed7953\"], [0.7777777777777778, \"#fb9f3a\"], [0.8888888888888888, \"#fdca26\"], [1.0, \"#f0f921\"]]}, \"colorway\": [\"#636efa\", \"#EF553B\", \"#00cc96\", \"#ab63fa\", \"#FFA15A\", \"#19d3f3\", \"#FF6692\", \"#B6E880\", \"#FF97FF\", \"#FECB52\"], \"font\": {\"color\": \"#2a3f5f\"}, \"geo\": {\"bgcolor\": \"white\", \"lakecolor\": \"white\", \"landcolor\": \"#E5ECF6\", \"showlakes\": true, \"showland\": true, \"subunitcolor\": \"white\"}, \"hoverlabel\": {\"align\": \"left\"}, \"hovermode\": \"closest\", \"mapbox\": {\"style\": \"light\"}, \"paper_bgcolor\": \"white\", \"plot_bgcolor\": \"#E5ECF6\", \"polar\": {\"angularaxis\": {\"gridcolor\": \"white\", \"linecolor\": \"white\", \"ticks\": \"\"}, \"bgcolor\": \"#E5ECF6\", \"radialaxis\": {\"gridcolor\": \"white\", \"linecolor\": \"white\", \"ticks\": \"\"}}, \"scene\": {\"xaxis\": {\"backgroundcolor\": \"#E5ECF6\", \"gridcolor\": \"white\", \"gridwidth\": 2, \"linecolor\": \"white\", \"showbackground\": true, \"ticks\": \"\", \"zerolinecolor\": \"white\"}, \"yaxis\": {\"backgroundcolor\": \"#E5ECF6\", \"gridcolor\": \"white\", \"gridwidth\": 2, \"linecolor\": \"white\", \"showbackground\": true, \"ticks\": \"\", \"zerolinecolor\": \"white\"}, \"zaxis\": {\"backgroundcolor\": \"#E5ECF6\", \"gridcolor\": \"white\", \"gridwidth\": 2, \"linecolor\": \"white\", \"showbackground\": true, \"ticks\": \"\", \"zerolinecolor\": \"white\"}}, \"shapedefaults\": {\"line\": {\"color\": \"#2a3f5f\"}}, \"ternary\": {\"aaxis\": {\"gridcolor\": \"white\", \"linecolor\": \"white\", \"ticks\": \"\"}, \"baxis\": {\"gridcolor\": \"white\", \"linecolor\": \"white\", \"ticks\": \"\"}, \"bgcolor\": \"#E5ECF6\", \"caxis\": {\"gridcolor\": \"white\", \"linecolor\": \"white\", \"ticks\": \"\"}}, \"title\": {\"x\": 0.05}, \"xaxis\": {\"automargin\": true, \"gridcolor\": \"white\", \"linecolor\": \"white\", \"ticks\": \"\", \"title\": {\"standoff\": 15}, \"zerolinecolor\": \"white\", \"zerolinewidth\": 2}, \"yaxis\": {\"automargin\": true, \"gridcolor\": \"white\", \"linecolor\": \"white\", \"ticks\": \"\", \"title\": {\"standoff\": 15}, \"zerolinecolor\": \"white\", \"zerolinewidth\": 2}}}, \"title\": {\"text\": \"PLOT 2: Littered Plastic Wastes VS Costal Population\"}, \"width\": 1000, \"xaxis\": {\"anchor\": \"y\", \"domain\": [0.0, 1.0], \"title\": {\"text\": \"Coastal population\"}, \"type\": \"log\"}, \"yaxis\": {\"anchor\": \"x\", \"domain\": [0.0, 1.0], \"title\": {\"text\": \"Littered Plastic Waste\"}, \"type\": \"log\"}},                        {\"responsive\": true}                    ).then(function(){\n",
       "                            \n",
       "var gd = document.getElementById('42cfa658-f5da-4df4-9d86-15d6fbeb5e8b');\n",
       "var x = new MutationObserver(function (mutations, observer) {{\n",
       "        var display = window.getComputedStyle(gd).display;\n",
       "        if (!display || display === 'none') {{\n",
       "            console.log([gd, 'removed!']);\n",
       "            Plotly.purge(gd);\n",
       "            observer.disconnect();\n",
       "        }}\n",
       "}});\n",
       "\n",
       "// Listen for the removal of the full notebook cells\n",
       "var notebookContainer = gd.closest('#notebook-container');\n",
       "if (notebookContainer) {{\n",
       "    x.observe(notebookContainer, {childList: true});\n",
       "}}\n",
       "\n",
       "// Listen for the clearing of the current output cell\n",
       "var outputEl = gd.closest('.output');\n",
       "if (outputEl) {{\n",
       "    x.observe(outputEl, {childList: true});\n",
       "}}\n",
       "\n",
       "                        })                };                });            </script>        </div>"
      ]
     },
     "metadata": {},
     "output_type": "display_data"
    }
   ],
   "source": [
    "fig = px.scatter(costal_pop,\n",
    "                 x=\"Coastal population\",\n",
    "                 y=\"Littered Plastic Waste\",\n",
    "                 color=\"Continent\",\n",
    "                 size='Littered waste(%)',\n",
    "                 hover_data=['Country'],\n",
    "                 log_x=True,\n",
    "                 log_y=True,\n",
    "                 title='PLOT 2: Littered Plastic Wastes VS Costal Population')\n",
    "#fig.update_layout(yaxis_range=[0,50000])\n",
    "#fig.update_layout(xaxis_range=[0,50000000])\n",
    "fig.update_layout(\n",
    "    autosize=False,\n",
    "    width=1000,\n",
    "    height=1000,\n",
    "    margin=dict(\n",
    "        l=50,\n",
    "        r=50,\n",
    "        b=100,\n",
    "        t=100,\n",
    "        pad=4\n",
    "    ),\n",
    "    paper_bgcolor=\"snow\",\n",
    "    plot_bgcolor = 'papayawhip'\n",
    ")\n",
    "\n",
    "fig.show()"
   ]
  },
  {
   "cell_type": "code",
   "execution_count": 47,
   "metadata": {},
   "outputs": [
    {
     "data": {
      "application/vnd.plotly.v1+json": {
       "config": {
        "plotlyServerURL": "https://plot.ly"
       },
       "data": [
        {
         "coloraxis": "coloraxis",
         "customdata": [
          [
           "Albania"
          ],
          [
           "Algeria"
          ],
          [
           "Angola"
          ],
          [
           "Antigua and Barbuda"
          ],
          [
           "Argentina"
          ],
          [
           "Aruba"
          ],
          [
           "Australia"
          ],
          [
           "Bahamas"
          ],
          [
           "Bahrain"
          ],
          [
           "Bangladesh"
          ],
          [
           "Barbados"
          ],
          [
           "Belgium"
          ],
          [
           "Belize"
          ],
          [
           "Benin"
          ],
          [
           "Bermuda"
          ],
          [
           "Bosnia and Herzegovina"
          ],
          [
           "Brazil"
          ],
          [
           "British Virgin Islands"
          ],
          [
           "Brunei"
          ],
          [
           "Bulgaria"
          ],
          [
           "Cambodia"
          ],
          [
           "Cameroon"
          ],
          [
           "Canada"
          ],
          [
           "Cape Verde"
          ],
          [
           "Cayman Islands"
          ],
          [
           "Chile"
          ],
          [
           "China"
          ],
          [
           "Colombia"
          ],
          [
           "Comoros"
          ],
          [
           "Congo"
          ],
          [
           "Costa Rica"
          ],
          [
           "Cote d'Ivoire"
          ],
          [
           "Croatia"
          ],
          [
           "Cuba"
          ],
          [
           "Curacao"
          ],
          [
           "Cyprus"
          ],
          [
           "Democratic Republic of Congo"
          ],
          [
           "Denmark"
          ],
          [
           "Djibouti"
          ],
          [
           "Dominica"
          ],
          [
           "Dominican Republic"
          ],
          [
           "Ecuador"
          ],
          [
           "Egypt"
          ],
          [
           "El Salvador"
          ],
          [
           "Equatorial Guinea"
          ],
          [
           "Eritrea"
          ],
          [
           "Estonia"
          ],
          [
           "Faeroe Islands"
          ],
          [
           "Fiji"
          ],
          [
           "Finland"
          ],
          [
           "France"
          ],
          [
           "French Polynesia"
          ],
          [
           "Gabon"
          ],
          [
           "Gambia"
          ],
          [
           "Georgia"
          ],
          [
           "Germany"
          ],
          [
           "Ghana"
          ],
          [
           "Gibraltar"
          ],
          [
           "Greece"
          ],
          [
           "Greenland"
          ],
          [
           "Grenada"
          ],
          [
           "Guam"
          ],
          [
           "Guatemala"
          ],
          [
           "Guinea"
          ],
          [
           "Guinea-Bissau"
          ],
          [
           "Guyana"
          ],
          [
           "Haiti"
          ],
          [
           "Honduras"
          ],
          [
           "Hong Kong"
          ],
          [
           "Iceland"
          ],
          [
           "India"
          ],
          [
           "Indonesia"
          ],
          [
           "Iran"
          ],
          [
           "Iraq"
          ],
          [
           "Ireland"
          ],
          [
           "Israel"
          ],
          [
           "Italy"
          ],
          [
           "Jamaica"
          ],
          [
           "Japan"
          ],
          [
           "Jordan"
          ],
          [
           "Kenya"
          ],
          [
           "Kiribati"
          ],
          [
           "Kuwait"
          ],
          [
           "Latvia"
          ],
          [
           "Lebanon"
          ],
          [
           "Liberia"
          ],
          [
           "Libya"
          ],
          [
           "Lithuania"
          ],
          [
           "Macao"
          ],
          [
           "Madagascar"
          ],
          [
           "Malaysia"
          ],
          [
           "Maldives"
          ],
          [
           "Malta"
          ],
          [
           "Marshall Islands"
          ],
          [
           "Mauritania"
          ],
          [
           "Mauritius"
          ],
          [
           "Mexico"
          ],
          [
           "Micronesia (country)"
          ],
          [
           "Monaco"
          ],
          [
           "Montenegro"
          ],
          [
           "Morocco"
          ],
          [
           "Mozambique"
          ],
          [
           "Myanmar"
          ],
          [
           "Namibia"
          ],
          [
           "Nauru"
          ],
          [
           "Netherlands"
          ],
          [
           "New Caledonia"
          ],
          [
           "New Zealand"
          ],
          [
           "Nicaragua"
          ],
          [
           "Nigeria"
          ],
          [
           "North Korea"
          ],
          [
           "Northern Mariana Islands"
          ],
          [
           "Norway"
          ],
          [
           "Oman"
          ],
          [
           "Pakistan"
          ],
          [
           "Palau"
          ],
          [
           "Palestine"
          ],
          [
           "Panama"
          ],
          [
           "Papua New Guinea"
          ],
          [
           "Peru"
          ],
          [
           "Philippines"
          ],
          [
           "Poland"
          ],
          [
           "Portugal"
          ],
          [
           "Puerto Rico"
          ],
          [
           "Qatar"
          ],
          [
           "Romania"
          ],
          [
           "Russia"
          ],
          [
           "Saint Kitts and Nevis"
          ],
          [
           "Saint Lucia"
          ],
          [
           "Saint Vincent and the Grenadines"
          ],
          [
           "Samoa"
          ],
          [
           "Sao Tome and Principe"
          ],
          [
           "Saudi Arabia"
          ],
          [
           "Senegal"
          ],
          [
           "Seychelles"
          ],
          [
           "Sierra Leone"
          ],
          [
           "Singapore"
          ],
          [
           "Sint Maarten (Dutch part)"
          ],
          [
           "Slovenia"
          ],
          [
           "Solomon Islands"
          ],
          [
           "Somalia"
          ],
          [
           "South Africa"
          ],
          [
           "South Korea"
          ],
          [
           "Spain"
          ],
          [
           "Sri Lanka"
          ],
          [
           "Sudan"
          ],
          [
           "Suriname"
          ],
          [
           "Sweden"
          ],
          [
           "Syria"
          ],
          [
           "Tanzania"
          ],
          [
           "Thailand"
          ],
          [
           "Togo"
          ],
          [
           "Tonga"
          ],
          [
           "Trinidad and Tobago"
          ],
          [
           "Tunisia"
          ],
          [
           "Turkey"
          ],
          [
           "Turks and Caicos Islands"
          ],
          [
           "Tuvalu"
          ],
          [
           "Ukraine"
          ],
          [
           "United Arab Emirates"
          ],
          [
           "United Kingdom"
          ],
          [
           "United States"
          ],
          [
           "Uruguay"
          ],
          [
           "Vanuatu"
          ],
          [
           "Venezuela"
          ],
          [
           "Vietnam"
          ],
          [
           "Yemen"
          ]
         ],
         "geo": "geo",
         "hovertemplate": "Code=%{location}<br>Country=%{customdata[0]}<br>Littered Plastic Waste=%{z}<extra></extra>",
         "locations": [
          "ALB",
          "DZA",
          "AGO",
          "ATG",
          "ARG",
          "ABW",
          "AUS",
          "BHS",
          "BHR",
          "BGD",
          "BRB",
          "BEL",
          "BLZ",
          "BEN",
          "BMU",
          "BIH",
          "BRA",
          "VGB",
          "BRN",
          "BGR",
          "KHM",
          "CMR",
          "CAN",
          "CPV",
          "CYM",
          "CHL",
          "CHN",
          "COL",
          "COM",
          "COG",
          "CRI",
          "CIV",
          "HRV",
          "CUB",
          "CUW",
          "CYP",
          "COD",
          "DNK",
          "DJI",
          "DMA",
          "DOM",
          "ECU",
          "EGY",
          "SLV",
          "GNQ",
          "ERI",
          "EST",
          "FRO",
          "FJI",
          "FIN",
          "FRA",
          "PYF",
          "GAB",
          "GMB",
          "GEO",
          "DEU",
          "GHA",
          "GIB",
          "GRC",
          "GRL",
          "GRD",
          "GUM",
          "GTM",
          "GIN",
          "GNB",
          "GUY",
          "HTI",
          "HND",
          "HKG",
          "ISL",
          "IND",
          "IDN",
          "IRN",
          "IRQ",
          "IRL",
          "ISR",
          "ITA",
          "JAM",
          "JPN",
          "JOR",
          "KEN",
          "KIR",
          "KWT",
          "LVA",
          "LBN",
          "LBR",
          "LBY",
          "LTU",
          "MAC",
          "MDG",
          "MYS",
          "MDV",
          "MLT",
          "MHL",
          "MRT",
          "MUS",
          "MEX",
          "FSM",
          "MCO",
          "MNE",
          "MAR",
          "MOZ",
          "MMR",
          "NAM",
          "NRU",
          "NLD",
          "NCL",
          "NZL",
          "NIC",
          "NGA",
          "PRK",
          "MNP",
          "NOR",
          "OMN",
          "PAK",
          "PLW",
          "PSE",
          "PAN",
          "PNG",
          "PER",
          "PHL",
          "POL",
          "PRT",
          "PRI",
          "QAT",
          "ROU",
          "RUS",
          "KNA",
          "LCA",
          "VCT",
          "WSM",
          "STP",
          "SAU",
          "SEN",
          "SYC",
          "SLE",
          "SGP",
          "SXM",
          "SVN",
          "SLB",
          "SOM",
          "ZAF",
          "KOR",
          "ESP",
          "LKA",
          "SDN",
          "SUR",
          "SWE",
          "SYR",
          "TZA",
          "THA",
          "TGO",
          "TON",
          "TTO",
          "TUN",
          "TUR",
          "TCA",
          "TUV",
          "UKR",
          "ARE",
          "GBR",
          "USA",
          "URY",
          "VUT",
          "VEN",
          "VNM",
          "YEM"
         ],
         "name": "",
         "type": "choropleth",
         "z": [
          1273.12,
          17331.66,
          1719.88,
          320.835,
          21901.46,
          252.58,
          13888.98,
          967.25,
          713.5749999999998,
          17686.805,
          1146.83,
          2742.975,
          252.215,
          1013.97,
          122.64,
          612.835,
          89582.315,
          54.385,
          67.52499999999999,
          1119.455,
          667.22,
          664.3,
          7959.5549999999985,
          246.74,
          94.9,
          4853.04,
          231157.42,
          7849.69,
          1367.655,
          424.86,
          4664.335,
          4653.02,
          2936.06,
          7337.96,
          263.53,
          1517.67,
          351.495,
          1790.69,
          464.28,
          75.92,
          8618.015,
          6836.815,
          28170.335,
          6848.13,
          367.92,
          413.545,
          1126.025,
          92.71,
          1229.685,
          4984.805,
          24108.615,
          495.67,
          338.355,
          458.44,
          547.865,
          31238.89,
          2206.06,
          61.32,
          14228.795,
          104.39,
          227.395,
          349.67,
          4872.75,
          432.89,
          473.77,
          2186.715,
          5981.985,
          4556.66,
          21947.815,
          598.235,
          13728.015,
          77821.65,
          9525.77,
          477.42,
          11709.93,
          14416.77,
          32760.575,
          702.26,
          143120.88,
          58.035,
          535.09,
          70.445,
          11444.575,
          1286.625,
          2664.5,
          1312.54,
          4239.84,
          425.955,
          690.5799999999998,
          804.095,
          32891.61,
          920.53,
          628.53,
          81.03,
          328.5,
          2098.02,
          14248.14,
          115.705,
          62.415,
          272.655,
          9128.65,
          1070.545,
          10337.895,
          162.42499999999995,
          16.06,
          27699.85,
          472.31,
          9285.6,
          3621.53,
          20520.665,
          6792.65,
          194.545,
          8403.03,
          1586.29,
          10890.14,
          24.455,
          1396.125,
          3429.905,
          2052.03,
          14410.2,
          45534.845,
          2302.42,
          16402.37,
          7785.45,
          757.74,
          262.435,
          8772.045,
          171.54999999999995,
          619.405,
          193.085,
          125.56,
          122.275,
          4075.225,
          6068.125,
          237.615,
          848.625,
          6328.005,
          68.62,
          355.145,
          462.09,
          2340.745,
          22505.17,
          33746.805,
          45852.395,
          37695.01,
          562.1,
          477.42,
          2150.58,
          4690.98,
          1136.245,
          27262.945,
          827.8199999999998,
          165.71,
          35628.38,
          7615.7249999999985,
          52564.38,
          41.245,
          12.045,
          5088.0999999999985,
          2922.555,
          67549.09,
          275424.62,
          4458.11,
          539.835,
          29484.7,
          41716.58,
          4517.605
         ]
        }
       ],
       "layout": {
        "coloraxis": {
         "cmax": 30000,
         "cmin": 0,
         "colorbar": {
          "title": {
           "text": "Littered Plastic Waste"
          }
         },
         "colorscale": [
          [
           0,
           "rgb(253, 224, 197)"
          ],
          [
           0.16666666666666666,
           "rgb(250, 203, 166)"
          ],
          [
           0.3333333333333333,
           "rgb(248, 181, 139)"
          ],
          [
           0.5,
           "rgb(245, 158, 114)"
          ],
          [
           0.6666666666666666,
           "rgb(242, 133, 93)"
          ],
          [
           0.8333333333333334,
           "rgb(239, 106, 76)"
          ],
          [
           1,
           "rgb(235, 74, 64)"
          ]
         ]
        },
        "geo": {
         "center": {},
         "domain": {
          "x": [
           0,
           1
          ],
          "y": [
           0,
           1
          ]
         },
         "fitbounds": "locations",
         "visible": false
        },
        "legend": {
         "tracegroupgap": 0
        },
        "template": {
         "data": {
          "bar": [
           {
            "error_x": {
             "color": "#2a3f5f"
            },
            "error_y": {
             "color": "#2a3f5f"
            },
            "marker": {
             "line": {
              "color": "#E5ECF6",
              "width": 0.5
             }
            },
            "type": "bar"
           }
          ],
          "barpolar": [
           {
            "marker": {
             "line": {
              "color": "#E5ECF6",
              "width": 0.5
             }
            },
            "type": "barpolar"
           }
          ],
          "carpet": [
           {
            "aaxis": {
             "endlinecolor": "#2a3f5f",
             "gridcolor": "white",
             "linecolor": "white",
             "minorgridcolor": "white",
             "startlinecolor": "#2a3f5f"
            },
            "baxis": {
             "endlinecolor": "#2a3f5f",
             "gridcolor": "white",
             "linecolor": "white",
             "minorgridcolor": "white",
             "startlinecolor": "#2a3f5f"
            },
            "type": "carpet"
           }
          ],
          "choropleth": [
           {
            "colorbar": {
             "outlinewidth": 0,
             "ticks": ""
            },
            "type": "choropleth"
           }
          ],
          "contour": [
           {
            "colorbar": {
             "outlinewidth": 0,
             "ticks": ""
            },
            "colorscale": [
             [
              0,
              "#0d0887"
             ],
             [
              0.1111111111111111,
              "#46039f"
             ],
             [
              0.2222222222222222,
              "#7201a8"
             ],
             [
              0.3333333333333333,
              "#9c179e"
             ],
             [
              0.4444444444444444,
              "#bd3786"
             ],
             [
              0.5555555555555556,
              "#d8576b"
             ],
             [
              0.6666666666666666,
              "#ed7953"
             ],
             [
              0.7777777777777778,
              "#fb9f3a"
             ],
             [
              0.8888888888888888,
              "#fdca26"
             ],
             [
              1,
              "#f0f921"
             ]
            ],
            "type": "contour"
           }
          ],
          "contourcarpet": [
           {
            "colorbar": {
             "outlinewidth": 0,
             "ticks": ""
            },
            "type": "contourcarpet"
           }
          ],
          "heatmap": [
           {
            "colorbar": {
             "outlinewidth": 0,
             "ticks": ""
            },
            "colorscale": [
             [
              0,
              "#0d0887"
             ],
             [
              0.1111111111111111,
              "#46039f"
             ],
             [
              0.2222222222222222,
              "#7201a8"
             ],
             [
              0.3333333333333333,
              "#9c179e"
             ],
             [
              0.4444444444444444,
              "#bd3786"
             ],
             [
              0.5555555555555556,
              "#d8576b"
             ],
             [
              0.6666666666666666,
              "#ed7953"
             ],
             [
              0.7777777777777778,
              "#fb9f3a"
             ],
             [
              0.8888888888888888,
              "#fdca26"
             ],
             [
              1,
              "#f0f921"
             ]
            ],
            "type": "heatmap"
           }
          ],
          "heatmapgl": [
           {
            "colorbar": {
             "outlinewidth": 0,
             "ticks": ""
            },
            "colorscale": [
             [
              0,
              "#0d0887"
             ],
             [
              0.1111111111111111,
              "#46039f"
             ],
             [
              0.2222222222222222,
              "#7201a8"
             ],
             [
              0.3333333333333333,
              "#9c179e"
             ],
             [
              0.4444444444444444,
              "#bd3786"
             ],
             [
              0.5555555555555556,
              "#d8576b"
             ],
             [
              0.6666666666666666,
              "#ed7953"
             ],
             [
              0.7777777777777778,
              "#fb9f3a"
             ],
             [
              0.8888888888888888,
              "#fdca26"
             ],
             [
              1,
              "#f0f921"
             ]
            ],
            "type": "heatmapgl"
           }
          ],
          "histogram": [
           {
            "marker": {
             "colorbar": {
              "outlinewidth": 0,
              "ticks": ""
             }
            },
            "type": "histogram"
           }
          ],
          "histogram2d": [
           {
            "colorbar": {
             "outlinewidth": 0,
             "ticks": ""
            },
            "colorscale": [
             [
              0,
              "#0d0887"
             ],
             [
              0.1111111111111111,
              "#46039f"
             ],
             [
              0.2222222222222222,
              "#7201a8"
             ],
             [
              0.3333333333333333,
              "#9c179e"
             ],
             [
              0.4444444444444444,
              "#bd3786"
             ],
             [
              0.5555555555555556,
              "#d8576b"
             ],
             [
              0.6666666666666666,
              "#ed7953"
             ],
             [
              0.7777777777777778,
              "#fb9f3a"
             ],
             [
              0.8888888888888888,
              "#fdca26"
             ],
             [
              1,
              "#f0f921"
             ]
            ],
            "type": "histogram2d"
           }
          ],
          "histogram2dcontour": [
           {
            "colorbar": {
             "outlinewidth": 0,
             "ticks": ""
            },
            "colorscale": [
             [
              0,
              "#0d0887"
             ],
             [
              0.1111111111111111,
              "#46039f"
             ],
             [
              0.2222222222222222,
              "#7201a8"
             ],
             [
              0.3333333333333333,
              "#9c179e"
             ],
             [
              0.4444444444444444,
              "#bd3786"
             ],
             [
              0.5555555555555556,
              "#d8576b"
             ],
             [
              0.6666666666666666,
              "#ed7953"
             ],
             [
              0.7777777777777778,
              "#fb9f3a"
             ],
             [
              0.8888888888888888,
              "#fdca26"
             ],
             [
              1,
              "#f0f921"
             ]
            ],
            "type": "histogram2dcontour"
           }
          ],
          "mesh3d": [
           {
            "colorbar": {
             "outlinewidth": 0,
             "ticks": ""
            },
            "type": "mesh3d"
           }
          ],
          "parcoords": [
           {
            "line": {
             "colorbar": {
              "outlinewidth": 0,
              "ticks": ""
             }
            },
            "type": "parcoords"
           }
          ],
          "pie": [
           {
            "automargin": true,
            "type": "pie"
           }
          ],
          "scatter": [
           {
            "marker": {
             "colorbar": {
              "outlinewidth": 0,
              "ticks": ""
             }
            },
            "type": "scatter"
           }
          ],
          "scatter3d": [
           {
            "line": {
             "colorbar": {
              "outlinewidth": 0,
              "ticks": ""
             }
            },
            "marker": {
             "colorbar": {
              "outlinewidth": 0,
              "ticks": ""
             }
            },
            "type": "scatter3d"
           }
          ],
          "scattercarpet": [
           {
            "marker": {
             "colorbar": {
              "outlinewidth": 0,
              "ticks": ""
             }
            },
            "type": "scattercarpet"
           }
          ],
          "scattergeo": [
           {
            "marker": {
             "colorbar": {
              "outlinewidth": 0,
              "ticks": ""
             }
            },
            "type": "scattergeo"
           }
          ],
          "scattergl": [
           {
            "marker": {
             "colorbar": {
              "outlinewidth": 0,
              "ticks": ""
             }
            },
            "type": "scattergl"
           }
          ],
          "scattermapbox": [
           {
            "marker": {
             "colorbar": {
              "outlinewidth": 0,
              "ticks": ""
             }
            },
            "type": "scattermapbox"
           }
          ],
          "scatterpolar": [
           {
            "marker": {
             "colorbar": {
              "outlinewidth": 0,
              "ticks": ""
             }
            },
            "type": "scatterpolar"
           }
          ],
          "scatterpolargl": [
           {
            "marker": {
             "colorbar": {
              "outlinewidth": 0,
              "ticks": ""
             }
            },
            "type": "scatterpolargl"
           }
          ],
          "scatterternary": [
           {
            "marker": {
             "colorbar": {
              "outlinewidth": 0,
              "ticks": ""
             }
            },
            "type": "scatterternary"
           }
          ],
          "surface": [
           {
            "colorbar": {
             "outlinewidth": 0,
             "ticks": ""
            },
            "colorscale": [
             [
              0,
              "#0d0887"
             ],
             [
              0.1111111111111111,
              "#46039f"
             ],
             [
              0.2222222222222222,
              "#7201a8"
             ],
             [
              0.3333333333333333,
              "#9c179e"
             ],
             [
              0.4444444444444444,
              "#bd3786"
             ],
             [
              0.5555555555555556,
              "#d8576b"
             ],
             [
              0.6666666666666666,
              "#ed7953"
             ],
             [
              0.7777777777777778,
              "#fb9f3a"
             ],
             [
              0.8888888888888888,
              "#fdca26"
             ],
             [
              1,
              "#f0f921"
             ]
            ],
            "type": "surface"
           }
          ],
          "table": [
           {
            "cells": {
             "fill": {
              "color": "#EBF0F8"
             },
             "line": {
              "color": "white"
             }
            },
            "header": {
             "fill": {
              "color": "#C8D4E3"
             },
             "line": {
              "color": "white"
             }
            },
            "type": "table"
           }
          ]
         },
         "layout": {
          "annotationdefaults": {
           "arrowcolor": "#2a3f5f",
           "arrowhead": 0,
           "arrowwidth": 1
          },
          "autotypenumbers": "strict",
          "coloraxis": {
           "colorbar": {
            "outlinewidth": 0,
            "ticks": ""
           }
          },
          "colorscale": {
           "diverging": [
            [
             0,
             "#8e0152"
            ],
            [
             0.1,
             "#c51b7d"
            ],
            [
             0.2,
             "#de77ae"
            ],
            [
             0.3,
             "#f1b6da"
            ],
            [
             0.4,
             "#fde0ef"
            ],
            [
             0.5,
             "#f7f7f7"
            ],
            [
             0.6,
             "#e6f5d0"
            ],
            [
             0.7,
             "#b8e186"
            ],
            [
             0.8,
             "#7fbc41"
            ],
            [
             0.9,
             "#4d9221"
            ],
            [
             1,
             "#276419"
            ]
           ],
           "sequential": [
            [
             0,
             "#0d0887"
            ],
            [
             0.1111111111111111,
             "#46039f"
            ],
            [
             0.2222222222222222,
             "#7201a8"
            ],
            [
             0.3333333333333333,
             "#9c179e"
            ],
            [
             0.4444444444444444,
             "#bd3786"
            ],
            [
             0.5555555555555556,
             "#d8576b"
            ],
            [
             0.6666666666666666,
             "#ed7953"
            ],
            [
             0.7777777777777778,
             "#fb9f3a"
            ],
            [
             0.8888888888888888,
             "#fdca26"
            ],
            [
             1,
             "#f0f921"
            ]
           ],
           "sequentialminus": [
            [
             0,
             "#0d0887"
            ],
            [
             0.1111111111111111,
             "#46039f"
            ],
            [
             0.2222222222222222,
             "#7201a8"
            ],
            [
             0.3333333333333333,
             "#9c179e"
            ],
            [
             0.4444444444444444,
             "#bd3786"
            ],
            [
             0.5555555555555556,
             "#d8576b"
            ],
            [
             0.6666666666666666,
             "#ed7953"
            ],
            [
             0.7777777777777778,
             "#fb9f3a"
            ],
            [
             0.8888888888888888,
             "#fdca26"
            ],
            [
             1,
             "#f0f921"
            ]
           ]
          },
          "colorway": [
           "#636efa",
           "#EF553B",
           "#00cc96",
           "#ab63fa",
           "#FFA15A",
           "#19d3f3",
           "#FF6692",
           "#B6E880",
           "#FF97FF",
           "#FECB52"
          ],
          "font": {
           "color": "#2a3f5f"
          },
          "geo": {
           "bgcolor": "white",
           "lakecolor": "white",
           "landcolor": "#E5ECF6",
           "showlakes": true,
           "showland": true,
           "subunitcolor": "white"
          },
          "hoverlabel": {
           "align": "left"
          },
          "hovermode": "closest",
          "mapbox": {
           "style": "light"
          },
          "paper_bgcolor": "white",
          "plot_bgcolor": "#E5ECF6",
          "polar": {
           "angularaxis": {
            "gridcolor": "white",
            "linecolor": "white",
            "ticks": ""
           },
           "bgcolor": "#E5ECF6",
           "radialaxis": {
            "gridcolor": "white",
            "linecolor": "white",
            "ticks": ""
           }
          },
          "scene": {
           "xaxis": {
            "backgroundcolor": "#E5ECF6",
            "gridcolor": "white",
            "gridwidth": 2,
            "linecolor": "white",
            "showbackground": true,
            "ticks": "",
            "zerolinecolor": "white"
           },
           "yaxis": {
            "backgroundcolor": "#E5ECF6",
            "gridcolor": "white",
            "gridwidth": 2,
            "linecolor": "white",
            "showbackground": true,
            "ticks": "",
            "zerolinecolor": "white"
           },
           "zaxis": {
            "backgroundcolor": "#E5ECF6",
            "gridcolor": "white",
            "gridwidth": 2,
            "linecolor": "white",
            "showbackground": true,
            "ticks": "",
            "zerolinecolor": "white"
           }
          },
          "shapedefaults": {
           "line": {
            "color": "#2a3f5f"
           }
          },
          "ternary": {
           "aaxis": {
            "gridcolor": "white",
            "linecolor": "white",
            "ticks": ""
           },
           "baxis": {
            "gridcolor": "white",
            "linecolor": "white",
            "ticks": ""
           },
           "bgcolor": "#E5ECF6",
           "caxis": {
            "gridcolor": "white",
            "linecolor": "white",
            "ticks": ""
           }
          },
          "title": {
           "x": 0.05
          },
          "xaxis": {
           "automargin": true,
           "gridcolor": "white",
           "linecolor": "white",
           "ticks": "",
           "title": {
            "standoff": 15
           },
           "zerolinecolor": "white",
           "zerolinewidth": 2
          },
          "yaxis": {
           "automargin": true,
           "gridcolor": "white",
           "linecolor": "white",
           "ticks": "",
           "title": {
            "standoff": 15
           },
           "zerolinecolor": "white",
           "zerolinewidth": 2
          }
         }
        },
        "title": {
         "text": "MAP 5: Costal Population VS Littered plastic waste."
        }
       }
      },
      "text/html": [
       "<div>                            <div id=\"506241c5-5351-441c-8596-2349c34641c5\" class=\"plotly-graph-div\" style=\"height:525px; width:100%;\"></div>            <script type=\"text/javascript\">                require([\"plotly\"], function(Plotly) {                    window.PLOTLYENV=window.PLOTLYENV || {};                                    if (document.getElementById(\"506241c5-5351-441c-8596-2349c34641c5\")) {                    Plotly.newPlot(                        \"506241c5-5351-441c-8596-2349c34641c5\",                        [{\"coloraxis\": \"coloraxis\", \"customdata\": [[\"Albania\"], [\"Algeria\"], [\"Angola\"], [\"Antigua and Barbuda\"], [\"Argentina\"], [\"Aruba\"], [\"Australia\"], [\"Bahamas\"], [\"Bahrain\"], [\"Bangladesh\"], [\"Barbados\"], [\"Belgium\"], [\"Belize\"], [\"Benin\"], [\"Bermuda\"], [\"Bosnia and Herzegovina\"], [\"Brazil\"], [\"British Virgin Islands\"], [\"Brunei\"], [\"Bulgaria\"], [\"Cambodia\"], [\"Cameroon\"], [\"Canada\"], [\"Cape Verde\"], [\"Cayman Islands\"], [\"Chile\"], [\"China\"], [\"Colombia\"], [\"Comoros\"], [\"Congo\"], [\"Costa Rica\"], [\"Cote d'Ivoire\"], [\"Croatia\"], [\"Cuba\"], [\"Curacao\"], [\"Cyprus\"], [\"Democratic Republic of Congo\"], [\"Denmark\"], [\"Djibouti\"], [\"Dominica\"], [\"Dominican Republic\"], [\"Ecuador\"], [\"Egypt\"], [\"El Salvador\"], [\"Equatorial Guinea\"], [\"Eritrea\"], [\"Estonia\"], [\"Faeroe Islands\"], [\"Fiji\"], [\"Finland\"], [\"France\"], [\"French Polynesia\"], [\"Gabon\"], [\"Gambia\"], [\"Georgia\"], [\"Germany\"], [\"Ghana\"], [\"Gibraltar\"], [\"Greece\"], [\"Greenland\"], [\"Grenada\"], [\"Guam\"], [\"Guatemala\"], [\"Guinea\"], [\"Guinea-Bissau\"], [\"Guyana\"], [\"Haiti\"], [\"Honduras\"], [\"Hong Kong\"], [\"Iceland\"], [\"India\"], [\"Indonesia\"], [\"Iran\"], [\"Iraq\"], [\"Ireland\"], [\"Israel\"], [\"Italy\"], [\"Jamaica\"], [\"Japan\"], [\"Jordan\"], [\"Kenya\"], [\"Kiribati\"], [\"Kuwait\"], [\"Latvia\"], [\"Lebanon\"], [\"Liberia\"], [\"Libya\"], [\"Lithuania\"], [\"Macao\"], [\"Madagascar\"], [\"Malaysia\"], [\"Maldives\"], [\"Malta\"], [\"Marshall Islands\"], [\"Mauritania\"], [\"Mauritius\"], [\"Mexico\"], [\"Micronesia (country)\"], [\"Monaco\"], [\"Montenegro\"], [\"Morocco\"], [\"Mozambique\"], [\"Myanmar\"], [\"Namibia\"], [\"Nauru\"], [\"Netherlands\"], [\"New Caledonia\"], [\"New Zealand\"], [\"Nicaragua\"], [\"Nigeria\"], [\"North Korea\"], [\"Northern Mariana Islands\"], [\"Norway\"], [\"Oman\"], [\"Pakistan\"], [\"Palau\"], [\"Palestine\"], [\"Panama\"], [\"Papua New Guinea\"], [\"Peru\"], [\"Philippines\"], [\"Poland\"], [\"Portugal\"], [\"Puerto Rico\"], [\"Qatar\"], [\"Romania\"], [\"Russia\"], [\"Saint Kitts and Nevis\"], [\"Saint Lucia\"], [\"Saint Vincent and the Grenadines\"], [\"Samoa\"], [\"Sao Tome and Principe\"], [\"Saudi Arabia\"], [\"Senegal\"], [\"Seychelles\"], [\"Sierra Leone\"], [\"Singapore\"], [\"Sint Maarten (Dutch part)\"], [\"Slovenia\"], [\"Solomon Islands\"], [\"Somalia\"], [\"South Africa\"], [\"South Korea\"], [\"Spain\"], [\"Sri Lanka\"], [\"Sudan\"], [\"Suriname\"], [\"Sweden\"], [\"Syria\"], [\"Tanzania\"], [\"Thailand\"], [\"Togo\"], [\"Tonga\"], [\"Trinidad and Tobago\"], [\"Tunisia\"], [\"Turkey\"], [\"Turks and Caicos Islands\"], [\"Tuvalu\"], [\"Ukraine\"], [\"United Arab Emirates\"], [\"United Kingdom\"], [\"United States\"], [\"Uruguay\"], [\"Vanuatu\"], [\"Venezuela\"], [\"Vietnam\"], [\"Yemen\"]], \"geo\": \"geo\", \"hovertemplate\": \"Code=%{location}<br>Country=%{customdata[0]}<br>Littered Plastic Waste=%{z}<extra></extra>\", \"locations\": [\"ALB\", \"DZA\", \"AGO\", \"ATG\", \"ARG\", \"ABW\", \"AUS\", \"BHS\", \"BHR\", \"BGD\", \"BRB\", \"BEL\", \"BLZ\", \"BEN\", \"BMU\", \"BIH\", \"BRA\", \"VGB\", \"BRN\", \"BGR\", \"KHM\", \"CMR\", \"CAN\", \"CPV\", \"CYM\", \"CHL\", \"CHN\", \"COL\", \"COM\", \"COG\", \"CRI\", \"CIV\", \"HRV\", \"CUB\", \"CUW\", \"CYP\", \"COD\", \"DNK\", \"DJI\", \"DMA\", \"DOM\", \"ECU\", \"EGY\", \"SLV\", \"GNQ\", \"ERI\", \"EST\", \"FRO\", \"FJI\", \"FIN\", \"FRA\", \"PYF\", \"GAB\", \"GMB\", \"GEO\", \"DEU\", \"GHA\", \"GIB\", \"GRC\", \"GRL\", \"GRD\", \"GUM\", \"GTM\", \"GIN\", \"GNB\", \"GUY\", \"HTI\", \"HND\", \"HKG\", \"ISL\", \"IND\", \"IDN\", \"IRN\", \"IRQ\", \"IRL\", \"ISR\", \"ITA\", \"JAM\", \"JPN\", \"JOR\", \"KEN\", \"KIR\", \"KWT\", \"LVA\", \"LBN\", \"LBR\", \"LBY\", \"LTU\", \"MAC\", \"MDG\", \"MYS\", \"MDV\", \"MLT\", \"MHL\", \"MRT\", \"MUS\", \"MEX\", \"FSM\", \"MCO\", \"MNE\", \"MAR\", \"MOZ\", \"MMR\", \"NAM\", \"NRU\", \"NLD\", \"NCL\", \"NZL\", \"NIC\", \"NGA\", \"PRK\", \"MNP\", \"NOR\", \"OMN\", \"PAK\", \"PLW\", \"PSE\", \"PAN\", \"PNG\", \"PER\", \"PHL\", \"POL\", \"PRT\", \"PRI\", \"QAT\", \"ROU\", \"RUS\", \"KNA\", \"LCA\", \"VCT\", \"WSM\", \"STP\", \"SAU\", \"SEN\", \"SYC\", \"SLE\", \"SGP\", \"SXM\", \"SVN\", \"SLB\", \"SOM\", \"ZAF\", \"KOR\", \"ESP\", \"LKA\", \"SDN\", \"SUR\", \"SWE\", \"SYR\", \"TZA\", \"THA\", \"TGO\", \"TON\", \"TTO\", \"TUN\", \"TUR\", \"TCA\", \"TUV\", \"UKR\", \"ARE\", \"GBR\", \"USA\", \"URY\", \"VUT\", \"VEN\", \"VNM\", \"YEM\"], \"name\": \"\", \"type\": \"choropleth\", \"z\": [1273.12, 17331.66, 1719.88, 320.835, 21901.46, 252.58, 13888.98, 967.25, 713.5749999999998, 17686.805, 1146.83, 2742.975, 252.215, 1013.97, 122.64, 612.835, 89582.315, 54.385, 67.52499999999999, 1119.455, 667.22, 664.3, 7959.5549999999985, 246.74, 94.9, 4853.04, 231157.42, 7849.69, 1367.655, 424.86, 4664.335, 4653.02, 2936.06, 7337.96, 263.53, 1517.67, 351.495, 1790.69, 464.28, 75.92, 8618.015, 6836.815, 28170.335, 6848.13, 367.92, 413.545, 1126.025, 92.71, 1229.685, 4984.805, 24108.615, 495.67, 338.355, 458.44, 547.865, 31238.89, 2206.06, 61.32, 14228.795, 104.39, 227.395, 349.67, 4872.75, 432.89, 473.77, 2186.715, 5981.985, 4556.66, 21947.815, 598.235, 13728.015, 77821.65, 9525.77, 477.42, 11709.93, 14416.77, 32760.575, 702.26, 143120.88, 58.035, 535.09, 70.445, 11444.575, 1286.625, 2664.5, 1312.54, 4239.84, 425.955, 690.5799999999998, 804.095, 32891.61, 920.53, 628.53, 81.03, 328.5, 2098.02, 14248.14, 115.705, 62.415, 272.655, 9128.65, 1070.545, 10337.895, 162.42499999999995, 16.06, 27699.85, 472.31, 9285.6, 3621.53, 20520.665, 6792.65, 194.545, 8403.03, 1586.29, 10890.14, 24.455, 1396.125, 3429.905, 2052.03, 14410.2, 45534.845, 2302.42, 16402.37, 7785.45, 757.74, 262.435, 8772.045, 171.54999999999995, 619.405, 193.085, 125.56, 122.275, 4075.225, 6068.125, 237.615, 848.625, 6328.005, 68.62, 355.145, 462.09, 2340.745, 22505.17, 33746.805, 45852.395, 37695.01, 562.1, 477.42, 2150.58, 4690.98, 1136.245, 27262.945, 827.8199999999998, 165.71, 35628.38, 7615.7249999999985, 52564.38, 41.245, 12.045, 5088.0999999999985, 2922.555, 67549.09, 275424.62, 4458.11, 539.835, 29484.7, 41716.58, 4517.605]}],                        {\"coloraxis\": {\"cmax\": 30000, \"cmin\": 0, \"colorbar\": {\"title\": {\"text\": \"Littered Plastic Waste\"}}, \"colorscale\": [[0.0, \"rgb(253, 224, 197)\"], [0.16666666666666666, \"rgb(250, 203, 166)\"], [0.3333333333333333, \"rgb(248, 181, 139)\"], [0.5, \"rgb(245, 158, 114)\"], [0.6666666666666666, \"rgb(242, 133, 93)\"], [0.8333333333333334, \"rgb(239, 106, 76)\"], [1.0, \"rgb(235, 74, 64)\"]]}, \"geo\": {\"center\": {}, \"domain\": {\"x\": [0.0, 1.0], \"y\": [0.0, 1.0]}, \"fitbounds\": \"locations\", \"visible\": false}, \"legend\": {\"tracegroupgap\": 0}, \"template\": {\"data\": {\"bar\": [{\"error_x\": {\"color\": \"#2a3f5f\"}, \"error_y\": {\"color\": \"#2a3f5f\"}, \"marker\": {\"line\": {\"color\": \"#E5ECF6\", \"width\": 0.5}}, \"type\": \"bar\"}], \"barpolar\": [{\"marker\": {\"line\": {\"color\": \"#E5ECF6\", \"width\": 0.5}}, \"type\": \"barpolar\"}], \"carpet\": [{\"aaxis\": {\"endlinecolor\": \"#2a3f5f\", \"gridcolor\": \"white\", \"linecolor\": \"white\", \"minorgridcolor\": \"white\", \"startlinecolor\": \"#2a3f5f\"}, \"baxis\": {\"endlinecolor\": \"#2a3f5f\", \"gridcolor\": \"white\", \"linecolor\": \"white\", \"minorgridcolor\": \"white\", \"startlinecolor\": \"#2a3f5f\"}, \"type\": \"carpet\"}], \"choropleth\": [{\"colorbar\": {\"outlinewidth\": 0, \"ticks\": \"\"}, \"type\": \"choropleth\"}], \"contour\": [{\"colorbar\": {\"outlinewidth\": 0, \"ticks\": \"\"}, \"colorscale\": [[0.0, \"#0d0887\"], [0.1111111111111111, \"#46039f\"], [0.2222222222222222, \"#7201a8\"], [0.3333333333333333, \"#9c179e\"], [0.4444444444444444, \"#bd3786\"], [0.5555555555555556, \"#d8576b\"], [0.6666666666666666, \"#ed7953\"], [0.7777777777777778, \"#fb9f3a\"], [0.8888888888888888, \"#fdca26\"], [1.0, \"#f0f921\"]], \"type\": \"contour\"}], \"contourcarpet\": [{\"colorbar\": {\"outlinewidth\": 0, \"ticks\": \"\"}, \"type\": \"contourcarpet\"}], \"heatmap\": [{\"colorbar\": {\"outlinewidth\": 0, \"ticks\": \"\"}, \"colorscale\": [[0.0, \"#0d0887\"], [0.1111111111111111, \"#46039f\"], [0.2222222222222222, \"#7201a8\"], [0.3333333333333333, \"#9c179e\"], [0.4444444444444444, \"#bd3786\"], [0.5555555555555556, \"#d8576b\"], [0.6666666666666666, \"#ed7953\"], [0.7777777777777778, \"#fb9f3a\"], [0.8888888888888888, \"#fdca26\"], [1.0, \"#f0f921\"]], \"type\": \"heatmap\"}], \"heatmapgl\": [{\"colorbar\": {\"outlinewidth\": 0, \"ticks\": \"\"}, \"colorscale\": [[0.0, \"#0d0887\"], [0.1111111111111111, \"#46039f\"], [0.2222222222222222, \"#7201a8\"], [0.3333333333333333, \"#9c179e\"], [0.4444444444444444, \"#bd3786\"], [0.5555555555555556, \"#d8576b\"], [0.6666666666666666, \"#ed7953\"], [0.7777777777777778, \"#fb9f3a\"], [0.8888888888888888, \"#fdca26\"], [1.0, \"#f0f921\"]], \"type\": \"heatmapgl\"}], \"histogram\": [{\"marker\": {\"colorbar\": {\"outlinewidth\": 0, \"ticks\": \"\"}}, \"type\": \"histogram\"}], \"histogram2d\": [{\"colorbar\": {\"outlinewidth\": 0, \"ticks\": \"\"}, \"colorscale\": [[0.0, \"#0d0887\"], [0.1111111111111111, \"#46039f\"], [0.2222222222222222, \"#7201a8\"], [0.3333333333333333, \"#9c179e\"], [0.4444444444444444, \"#bd3786\"], [0.5555555555555556, \"#d8576b\"], [0.6666666666666666, \"#ed7953\"], [0.7777777777777778, \"#fb9f3a\"], [0.8888888888888888, \"#fdca26\"], [1.0, \"#f0f921\"]], \"type\": \"histogram2d\"}], \"histogram2dcontour\": [{\"colorbar\": {\"outlinewidth\": 0, \"ticks\": \"\"}, \"colorscale\": [[0.0, \"#0d0887\"], [0.1111111111111111, \"#46039f\"], [0.2222222222222222, \"#7201a8\"], [0.3333333333333333, \"#9c179e\"], [0.4444444444444444, \"#bd3786\"], [0.5555555555555556, \"#d8576b\"], [0.6666666666666666, \"#ed7953\"], [0.7777777777777778, \"#fb9f3a\"], [0.8888888888888888, \"#fdca26\"], [1.0, \"#f0f921\"]], \"type\": \"histogram2dcontour\"}], \"mesh3d\": [{\"colorbar\": {\"outlinewidth\": 0, \"ticks\": \"\"}, \"type\": \"mesh3d\"}], \"parcoords\": [{\"line\": {\"colorbar\": {\"outlinewidth\": 0, \"ticks\": \"\"}}, \"type\": \"parcoords\"}], \"pie\": [{\"automargin\": true, \"type\": \"pie\"}], \"scatter\": [{\"marker\": {\"colorbar\": {\"outlinewidth\": 0, \"ticks\": \"\"}}, \"type\": \"scatter\"}], \"scatter3d\": [{\"line\": {\"colorbar\": {\"outlinewidth\": 0, \"ticks\": \"\"}}, \"marker\": {\"colorbar\": {\"outlinewidth\": 0, \"ticks\": \"\"}}, \"type\": \"scatter3d\"}], \"scattercarpet\": [{\"marker\": {\"colorbar\": {\"outlinewidth\": 0, \"ticks\": \"\"}}, \"type\": \"scattercarpet\"}], \"scattergeo\": [{\"marker\": {\"colorbar\": {\"outlinewidth\": 0, \"ticks\": \"\"}}, \"type\": \"scattergeo\"}], \"scattergl\": [{\"marker\": {\"colorbar\": {\"outlinewidth\": 0, \"ticks\": \"\"}}, \"type\": \"scattergl\"}], \"scattermapbox\": [{\"marker\": {\"colorbar\": {\"outlinewidth\": 0, \"ticks\": \"\"}}, \"type\": \"scattermapbox\"}], \"scatterpolar\": [{\"marker\": {\"colorbar\": {\"outlinewidth\": 0, \"ticks\": \"\"}}, \"type\": \"scatterpolar\"}], \"scatterpolargl\": [{\"marker\": {\"colorbar\": {\"outlinewidth\": 0, \"ticks\": \"\"}}, \"type\": \"scatterpolargl\"}], \"scatterternary\": [{\"marker\": {\"colorbar\": {\"outlinewidth\": 0, \"ticks\": \"\"}}, \"type\": \"scatterternary\"}], \"surface\": [{\"colorbar\": {\"outlinewidth\": 0, \"ticks\": \"\"}, \"colorscale\": [[0.0, \"#0d0887\"], [0.1111111111111111, \"#46039f\"], [0.2222222222222222, \"#7201a8\"], [0.3333333333333333, \"#9c179e\"], [0.4444444444444444, \"#bd3786\"], [0.5555555555555556, \"#d8576b\"], [0.6666666666666666, \"#ed7953\"], [0.7777777777777778, \"#fb9f3a\"], [0.8888888888888888, \"#fdca26\"], [1.0, \"#f0f921\"]], \"type\": \"surface\"}], \"table\": [{\"cells\": {\"fill\": {\"color\": \"#EBF0F8\"}, \"line\": {\"color\": \"white\"}}, \"header\": {\"fill\": {\"color\": \"#C8D4E3\"}, \"line\": {\"color\": \"white\"}}, \"type\": \"table\"}]}, \"layout\": {\"annotationdefaults\": {\"arrowcolor\": \"#2a3f5f\", \"arrowhead\": 0, \"arrowwidth\": 1}, \"autotypenumbers\": \"strict\", \"coloraxis\": {\"colorbar\": {\"outlinewidth\": 0, \"ticks\": \"\"}}, \"colorscale\": {\"diverging\": [[0, \"#8e0152\"], [0.1, \"#c51b7d\"], [0.2, \"#de77ae\"], [0.3, \"#f1b6da\"], [0.4, \"#fde0ef\"], [0.5, \"#f7f7f7\"], [0.6, \"#e6f5d0\"], [0.7, \"#b8e186\"], [0.8, \"#7fbc41\"], [0.9, \"#4d9221\"], [1, \"#276419\"]], \"sequential\": [[0.0, \"#0d0887\"], [0.1111111111111111, \"#46039f\"], [0.2222222222222222, \"#7201a8\"], [0.3333333333333333, \"#9c179e\"], [0.4444444444444444, \"#bd3786\"], [0.5555555555555556, \"#d8576b\"], [0.6666666666666666, \"#ed7953\"], [0.7777777777777778, \"#fb9f3a\"], [0.8888888888888888, \"#fdca26\"], [1.0, \"#f0f921\"]], \"sequentialminus\": [[0.0, \"#0d0887\"], [0.1111111111111111, \"#46039f\"], [0.2222222222222222, \"#7201a8\"], [0.3333333333333333, \"#9c179e\"], [0.4444444444444444, \"#bd3786\"], [0.5555555555555556, \"#d8576b\"], [0.6666666666666666, \"#ed7953\"], [0.7777777777777778, \"#fb9f3a\"], [0.8888888888888888, \"#fdca26\"], [1.0, \"#f0f921\"]]}, \"colorway\": [\"#636efa\", \"#EF553B\", \"#00cc96\", \"#ab63fa\", \"#FFA15A\", \"#19d3f3\", \"#FF6692\", \"#B6E880\", \"#FF97FF\", \"#FECB52\"], \"font\": {\"color\": \"#2a3f5f\"}, \"geo\": {\"bgcolor\": \"white\", \"lakecolor\": \"white\", \"landcolor\": \"#E5ECF6\", \"showlakes\": true, \"showland\": true, \"subunitcolor\": \"white\"}, \"hoverlabel\": {\"align\": \"left\"}, \"hovermode\": \"closest\", \"mapbox\": {\"style\": \"light\"}, \"paper_bgcolor\": \"white\", \"plot_bgcolor\": \"#E5ECF6\", \"polar\": {\"angularaxis\": {\"gridcolor\": \"white\", \"linecolor\": \"white\", \"ticks\": \"\"}, \"bgcolor\": \"#E5ECF6\", \"radialaxis\": {\"gridcolor\": \"white\", \"linecolor\": \"white\", \"ticks\": \"\"}}, \"scene\": {\"xaxis\": {\"backgroundcolor\": \"#E5ECF6\", \"gridcolor\": \"white\", \"gridwidth\": 2, \"linecolor\": \"white\", \"showbackground\": true, \"ticks\": \"\", \"zerolinecolor\": \"white\"}, \"yaxis\": {\"backgroundcolor\": \"#E5ECF6\", \"gridcolor\": \"white\", \"gridwidth\": 2, \"linecolor\": \"white\", \"showbackground\": true, \"ticks\": \"\", \"zerolinecolor\": \"white\"}, \"zaxis\": {\"backgroundcolor\": \"#E5ECF6\", \"gridcolor\": \"white\", \"gridwidth\": 2, \"linecolor\": \"white\", \"showbackground\": true, \"ticks\": \"\", \"zerolinecolor\": \"white\"}}, \"shapedefaults\": {\"line\": {\"color\": \"#2a3f5f\"}}, \"ternary\": {\"aaxis\": {\"gridcolor\": \"white\", \"linecolor\": \"white\", \"ticks\": \"\"}, \"baxis\": {\"gridcolor\": \"white\", \"linecolor\": \"white\", \"ticks\": \"\"}, \"bgcolor\": \"#E5ECF6\", \"caxis\": {\"gridcolor\": \"white\", \"linecolor\": \"white\", \"ticks\": \"\"}}, \"title\": {\"x\": 0.05}, \"xaxis\": {\"automargin\": true, \"gridcolor\": \"white\", \"linecolor\": \"white\", \"ticks\": \"\", \"title\": {\"standoff\": 15}, \"zerolinecolor\": \"white\", \"zerolinewidth\": 2}, \"yaxis\": {\"automargin\": true, \"gridcolor\": \"white\", \"linecolor\": \"white\", \"ticks\": \"\", \"title\": {\"standoff\": 15}, \"zerolinecolor\": \"white\", \"zerolinewidth\": 2}}}, \"title\": {\"text\": \"MAP 5: Costal Population VS Littered plastic waste.\"}},                        {\"responsive\": true}                    ).then(function(){\n",
       "                            \n",
       "var gd = document.getElementById('506241c5-5351-441c-8596-2349c34641c5');\n",
       "var x = new MutationObserver(function (mutations, observer) {{\n",
       "        var display = window.getComputedStyle(gd).display;\n",
       "        if (!display || display === 'none') {{\n",
       "            console.log([gd, 'removed!']);\n",
       "            Plotly.purge(gd);\n",
       "            observer.disconnect();\n",
       "        }}\n",
       "}});\n",
       "\n",
       "// Listen for the removal of the full notebook cells\n",
       "var notebookContainer = gd.closest('#notebook-container');\n",
       "if (notebookContainer) {{\n",
       "    x.observe(notebookContainer, {childList: true});\n",
       "}}\n",
       "\n",
       "// Listen for the clearing of the current output cell\n",
       "var outputEl = gd.closest('.output');\n",
       "if (outputEl) {{\n",
       "    x.observe(outputEl, {childList: true});\n",
       "}}\n",
       "\n",
       "                        })                };                });            </script>        </div>"
      ]
     },
     "metadata": {},
     "output_type": "display_data"
    }
   ],
   "source": [
    "fig = px.choropleth(costal_pop, locations='Code', \n",
    "                    color='Littered Plastic Waste',\n",
    "                    color_continuous_scale=\"peach\",\n",
    "                    range_color=(0,30000),\n",
    "                    title='MAP 5: Costal Population VS Littered plastic waste.',\n",
    "                    hover_data=['Country']\n",
    "                   )\n",
    "#fig.update_layout(margin={\"r\":0,\"t\":0,\"l\":0,\"b\":0})\n",
    "fig.update_geos(fitbounds=\"locations\", visible=False)\n",
    "fig.show()"
   ]
  },
  {
   "cell_type": "markdown",
   "metadata": {},
   "source": [
    "From Plot 2, it is clearly visible that more the costal population, more the plastic waste is.<br>\n",
    "From MAP 5, we can clearly see that China and USA are main contributors of plastics in ocean."
   ]
  },
  {
   "cell_type": "markdown",
   "metadata": {},
   "source": [
    "## References"
   ]
  },
  {
   "cell_type": "markdown",
   "metadata": {},
   "source": [
    "1. https://ourworldindata.org/plastic-pollution\n",
    "2. https://www.kaggle.com/statchaitya/country-to-continent\n",
    "3. https://chinadialogueocean.net/14200-how-does-plastic-pollution-affect-the-ocean/\n",
    "4. https://plotly.github.io/plotly.py-docs/generated/plotly.express.choropleth.html"
   ]
  }
 ],
 "metadata": {
  "kernelspec": {
   "display_name": "Python 3",
   "language": "python",
   "name": "python3"
  },
  "language_info": {
   "codemirror_mode": {
    "name": "ipython",
    "version": 3
   },
   "file_extension": ".py",
   "mimetype": "text/x-python",
   "name": "python",
   "nbconvert_exporter": "python",
   "pygments_lexer": "ipython3",
   "version": "3.8.5"
  }
 },
 "nbformat": 4,
 "nbformat_minor": 4
}
